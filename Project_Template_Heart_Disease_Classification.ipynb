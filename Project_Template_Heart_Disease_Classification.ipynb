{
  "nbformat": 4,
  "nbformat_minor": 5,
  "metadata": {
    "kernelspec": {
      "display_name": "Python 3",
      "language": "python",
      "name": "python3"
    },
    "language_info": {
      "codemirror_mode": {
        "name": "ipython",
        "version": 3
      },
      "file_extension": ".py",
      "mimetype": "text/x-python",
      "name": "python",
      "nbconvert_exporter": "python",
      "pygments_lexer": "ipython3",
      "version": "3.8.8"
    },
    "colab": {
      "provenance": []
    }
  },
  "cells": [
    {
      "cell_type": "code",
      "metadata": {
        "id": "HFUngUgBWREt"
      },
      "source": [
        "import pandas as pd\n",
        "# import matplotlib\n",
        "import matplotlib.pyplot as plt\n",
        "# import seaborn\n",
        "import seaborn as sns\n",
        "%matplotlib inline"
      ],
      "id": "HFUngUgBWREt",
      "execution_count": null,
      "outputs": []
    },
    {
      "cell_type": "code",
      "metadata": {
        "colab": {
          "base_uri": "https://localhost:8080/"
        },
        "id": "tW5VVelRXqE5",
        "outputId": "b9fb2424-8975-4a65-a7b9-af428481efda"
      },
      "source": [
        "data_url = 'http://bit.ly/2cLzoxH'\n",
        "gapminder = pd.read_csv(data_url)\n",
        "print(gapminder.head(3))"
      ],
      "id": "tW5VVelRXqE5",
      "execution_count": null,
      "outputs": [
        {
          "output_type": "stream",
          "name": "stdout",
          "text": [
            "       country  year         pop continent  lifeExp   gdpPercap\n",
            "0  Afghanistan  1952   8425333.0      Asia   28.801  779.445314\n",
            "1  Afghanistan  1957   9240934.0      Asia   30.332  820.853030\n",
            "2  Afghanistan  1962  10267083.0      Asia   31.997  853.100710\n"
          ]
        }
      ]
    },
    {
      "cell_type": "code",
      "metadata": {
        "id": "KbxQjWTsXwxs"
      },
      "source": [
        "gapminder=gapminder[gapminder.year.isin([2002,1962])]"
      ],
      "id": "KbxQjWTsXwxs",
      "execution_count": null,
      "outputs": []
    },
    {
      "cell_type": "code",
      "metadata": {
        "id": "vb7PmgQgX0_5",
        "outputId": "20681b4d-4096-4d0e-a63a-b0da49505db3",
        "colab": {
          "base_uri": "https://localhost:8080/",
          "height": 423
        }
      },
      "source": [
        "gapminder"
      ],
      "id": "vb7PmgQgX0_5",
      "execution_count": null,
      "outputs": [
        {
          "output_type": "execute_result",
          "data": {
            "text/html": [
              "<div>\n",
              "<style scoped>\n",
              "    .dataframe tbody tr th:only-of-type {\n",
              "        vertical-align: middle;\n",
              "    }\n",
              "\n",
              "    .dataframe tbody tr th {\n",
              "        vertical-align: top;\n",
              "    }\n",
              "\n",
              "    .dataframe thead th {\n",
              "        text-align: right;\n",
              "    }\n",
              "</style>\n",
              "<table border=\"1\" class=\"dataframe\">\n",
              "  <thead>\n",
              "    <tr style=\"text-align: right;\">\n",
              "      <th></th>\n",
              "      <th>country</th>\n",
              "      <th>year</th>\n",
              "      <th>pop</th>\n",
              "      <th>continent</th>\n",
              "      <th>lifeExp</th>\n",
              "      <th>gdpPercap</th>\n",
              "    </tr>\n",
              "  </thead>\n",
              "  <tbody>\n",
              "    <tr>\n",
              "      <th>2</th>\n",
              "      <td>Afghanistan</td>\n",
              "      <td>1962</td>\n",
              "      <td>10267083.0</td>\n",
              "      <td>Asia</td>\n",
              "      <td>31.997</td>\n",
              "      <td>853.100710</td>\n",
              "    </tr>\n",
              "    <tr>\n",
              "      <th>10</th>\n",
              "      <td>Afghanistan</td>\n",
              "      <td>2002</td>\n",
              "      <td>25268405.0</td>\n",
              "      <td>Asia</td>\n",
              "      <td>42.129</td>\n",
              "      <td>726.734055</td>\n",
              "    </tr>\n",
              "    <tr>\n",
              "      <th>14</th>\n",
              "      <td>Albania</td>\n",
              "      <td>1962</td>\n",
              "      <td>1728137.0</td>\n",
              "      <td>Europe</td>\n",
              "      <td>64.820</td>\n",
              "      <td>2312.888958</td>\n",
              "    </tr>\n",
              "    <tr>\n",
              "      <th>22</th>\n",
              "      <td>Albania</td>\n",
              "      <td>2002</td>\n",
              "      <td>3508512.0</td>\n",
              "      <td>Europe</td>\n",
              "      <td>75.651</td>\n",
              "      <td>4604.211737</td>\n",
              "    </tr>\n",
              "    <tr>\n",
              "      <th>26</th>\n",
              "      <td>Algeria</td>\n",
              "      <td>1962</td>\n",
              "      <td>11000948.0</td>\n",
              "      <td>Africa</td>\n",
              "      <td>48.303</td>\n",
              "      <td>2550.816880</td>\n",
              "    </tr>\n",
              "    <tr>\n",
              "      <th>...</th>\n",
              "      <td>...</td>\n",
              "      <td>...</td>\n",
              "      <td>...</td>\n",
              "      <td>...</td>\n",
              "      <td>...</td>\n",
              "      <td>...</td>\n",
              "    </tr>\n",
              "    <tr>\n",
              "      <th>1678</th>\n",
              "      <td>Yemen Rep.</td>\n",
              "      <td>2002</td>\n",
              "      <td>18701257.0</td>\n",
              "      <td>Asia</td>\n",
              "      <td>60.308</td>\n",
              "      <td>2234.820827</td>\n",
              "    </tr>\n",
              "    <tr>\n",
              "      <th>1682</th>\n",
              "      <td>Zambia</td>\n",
              "      <td>1962</td>\n",
              "      <td>3421000.0</td>\n",
              "      <td>Africa</td>\n",
              "      <td>46.023</td>\n",
              "      <td>1452.725766</td>\n",
              "    </tr>\n",
              "    <tr>\n",
              "      <th>1690</th>\n",
              "      <td>Zambia</td>\n",
              "      <td>2002</td>\n",
              "      <td>10595811.0</td>\n",
              "      <td>Africa</td>\n",
              "      <td>39.193</td>\n",
              "      <td>1071.613938</td>\n",
              "    </tr>\n",
              "    <tr>\n",
              "      <th>1694</th>\n",
              "      <td>Zimbabwe</td>\n",
              "      <td>1962</td>\n",
              "      <td>4277736.0</td>\n",
              "      <td>Africa</td>\n",
              "      <td>52.358</td>\n",
              "      <td>527.272182</td>\n",
              "    </tr>\n",
              "    <tr>\n",
              "      <th>1702</th>\n",
              "      <td>Zimbabwe</td>\n",
              "      <td>2002</td>\n",
              "      <td>11926563.0</td>\n",
              "      <td>Africa</td>\n",
              "      <td>39.989</td>\n",
              "      <td>672.038623</td>\n",
              "    </tr>\n",
              "  </tbody>\n",
              "</table>\n",
              "<p>284 rows × 6 columns</p>\n",
              "</div>"
            ],
            "text/plain": [
              "          country  year         pop continent  lifeExp    gdpPercap\n",
              "2     Afghanistan  1962  10267083.0      Asia   31.997   853.100710\n",
              "10    Afghanistan  2002  25268405.0      Asia   42.129   726.734055\n",
              "14        Albania  1962   1728137.0    Europe   64.820  2312.888958\n",
              "22        Albania  2002   3508512.0    Europe   75.651  4604.211737\n",
              "26        Algeria  1962  11000948.0    Africa   48.303  2550.816880\n",
              "...           ...   ...         ...       ...      ...          ...\n",
              "1678   Yemen Rep.  2002  18701257.0      Asia   60.308  2234.820827\n",
              "1682       Zambia  1962   3421000.0    Africa   46.023  1452.725766\n",
              "1690       Zambia  2002  10595811.0    Africa   39.193  1071.613938\n",
              "1694     Zimbabwe  1962   4277736.0    Africa   52.358   527.272182\n",
              "1702     Zimbabwe  2002  11926563.0    Africa   39.989   672.038623\n",
              "\n",
              "[284 rows x 6 columns]"
            ]
          },
          "metadata": {},
          "execution_count": 5
        }
      ]
    },
    {
      "cell_type": "code",
      "metadata": {
        "id": "MTABTpxiXzTP",
        "outputId": "48b8c344-ebda-48b8-b936-39cfd0b5b2b9",
        "colab": {
          "base_uri": "https://localhost:8080/",
          "height": 283
        }
      },
      "source": [
        "g =sns.scatterplot(x=\"gdpPercap\", y=\"lifeExp\",\n",
        "              hue=\"continent\",\n",
        "              data=gapminder);\n",
        "g.set(xscale=\"log\");"
      ],
      "id": "MTABTpxiXzTP",
      "execution_count": null,
      "outputs": [
        {
          "output_type": "display_data",
          "data": {
            "image/png": "[encoded data removed]",
            "text/plain": [
              "<Figure size 432x288 with 1 Axes>"
            ]
          },
          "metadata": {
            "needs_background": "light"
          }
        }
      ]
    },
    {
      "cell_type": "markdown",
      "metadata": {
        "id": "ad7decb6"
      },
      "source": [
        "# Dự đoán Bệnh tim bằng Máy học\n",
        "\n",
        "Sổ tay này sẽ giới thiệu một số khái niệm nền tảng về máy học và khoa học dữ liệu bằng cách khám phá vấn đề bệnh tim **classification**.\n",
        "\n",
        "Nó được thiết kế để trở thành một ví dụ cuối cùng về khoa học dữ liệu và học máy **proof of concept** có thể trông như thế nào.\n",
        "\n",
        "## Phân loại là gì?\n",
        "\n",
        "Phân loại liên quan đến việc quyết định xem một mẫu là một phần của lớp này hay lớp khác (**single-class classification**). Nếu có nhiều tùy chọn lớp, nó được gọi là **multi-class classification**.\n",
        "\n",
        "\n",
        "## Kết cục của chúng ta là gì\n",
        "\n",
        "\n",
        "Cụ thể hơn, chúng ta sẽ xem xét các chủ đề sau.\n",
        "\n",
        "* **Exploratory data analysis (EDA)** - quá trình xem qua một tập dữ liệu và tìm hiểu thêm về nó.\n",
        "* **Model training** - tạo (các) mô hình để học cách dự đoán một biến mục tiêu dựa trên các biến khác.\n",
        "* **Model evaluation** - đánh giá dự đoán mô hình bằng cách sử dụng các số liệu đánh giá cụ thể về vấn đề.\n",
        "* **Model comparison** - so sánh một số mô hình khác nhau để tìm ra mô hình tốt nhất.\n",
        "* **Model fine-tuning** - khi chúng tôi đã tìm thấy một mô hình tốt, chúng tôi có thể cải thiện mô hình đó bằng cách nào?\n",
        "* **Feature importance** - vì chúng tôi đang dự đoán sự hiện diện của bệnh tim, có một số điều quan trọng hơn để dự đoán không?\n",
        "* **Cross-validation** - nếu chúng ta xây dựng một mô hình tốt, chúng ta có thể chắc chắn rằng nó sẽ hoạt động trên dữ liệu không nhìn thấy được không?\n",
        "* **Reporting what we've found** - nếu chúng tôi phải trình bày công việc của mình, chúng tôi sẽ cho ai đó xem những gì?\n",
        "\n",
        "## 1. Định nghĩa Vấn đề\n",
        "Trong một tuyên bố,\n",
        "> Với các thông số lâm sàng về một bệnh nhân, chúng ta có thể dự đoán họ có bị bệnh tim hay không\n",
        "\n",
        "## 2. Dữ liệu\n",
        "* Dữ liệu ban đầu đến từ dữ liệu Cleavland từ Kho lưu trữ Học máy UCI. https://archive.ics.uci.edu/ml/datasets/heart+Disease\n",
        "\n",
        "* Cũng có một phiên bản của nó trên Kaggle. https://www.kaggle.com/ronitf/heart-disease-uci\n",
        "\n",
        "## 3. Đánh giá\n",
        "\n",
        "> Nếu chúng tôi có thể đạt độ chính xác 95% trong việc dự đoán liệu một bệnh nhân có bị bệnh tim hay không trong quá trình chứng minh khái niệm, chúng tôi sẽ theo đuổi dự án.\n",
        "\n",
        "## 4. Tính năng\n",
        "\n",
        "- Các tính năng là các phần khác nhau của dữ liệu. Trong bước này, bạn sẽ muốn bắt đầu tìm hiểu những gì bạn có thể về dữ liệu.\n",
        "\n",
        "- Một trong những cách phổ biến nhất để làm điều này là tạo ** từ điển dữ liệu **\n",
        "\n",
        "** Tạo từ điển dữ liệu **\n",
        "\n",
        "1. tuổi - tuổi tính bằng năm\n",
        "2. giới tính - (1 = nam; 0 = nữ)\n",
        "3. cp - kiểu đau ngực\n",
        "    * 0: Đau thắt ngực điển hình: đau ngực liên quan đến giảm cung cấp máu cho tim\n",
        "    * 1: Đau thắt ngực không điển hình: đau ngực không liên quan đến tim\n",
        "    * 2: Đau không do đau thắt ngực: thường là co thắt thực quản (không liên quan đến tim)\n",
        "    * 3: Không triệu chứng: đau ngực không biểu hiện bệnh\n",
        "4. trestbps - huyết áp lúc nghỉ (tính bằng mm Hg khi nhập viện) bất kỳ điều gì trên 130-140 thường là nguyên nhân đáng lo ngại\n",
        "5. chol - cholestoral trong huyết thanh tính bằng mg / dl\n",
        "    * huyết thanh = LDL + HDL + .2 * chất béo trung tính\n",
        "    * trên 200 là lý do để lo ngại\n",
        "6. fbs - (đường huyết lúc đói> 120 mg / dl) (1 = true; 0 = false)\n",
        "    * '> 126' mg / dL báo hiệu bệnh tiểu đường\n",
        "7. restecg - kết quả điện tâm đồ lúc nghỉ\n",
        "    * 0: Không có gì cần lưu ý\n",
        "    * 1: Bất thường về sóng ST-T\n",
        "        * có thể từ các triệu chứng nhẹ đến các vấn đề nghiêm trọng\n",
        "        * báo hiệu nhịp tim không bình thường\n",
        "    * 2: Phì đại thất trái có thể hoặc xác định\n",
        "        * Mở rộng buồng bơm chính của tim\n",
        "8. thalach - nhịp tim tối đa đạt được\n",
        "9. exang - đau thắt ngực do tập thể dục (1 = có; 0 = không)\n",
        "10. oldpeak - ST trầm cảm gây ra do tập thể dục liên quan đến nghỉ ngơi nhìn căng thẳng của tim khi tập thể dục, tim không khỏe mạnh sẽ căng thẳng hơn\n",
        "11. slope  - độ dốc của đoạn ST tập luyện đỉnh cao\n",
        "    * 0: Upsloping: nhịp tim tốt hơn khi tập thể dục (không phổ biến)\n",
        "    * 1: Flatsloping: thay đổi tối thiểu (tim khỏe mạnh điển hình)\n",
        "    * 2: Downslopins: dấu hiệu của tim không khỏe\n",
        "12. ca - số lượng các mạch chính (0-3) được tô màu bởi bột màu\n",
        "    * mạch màu có nghĩa là bác sĩ có thể nhìn thấy máu đi qua\n",
        "    * máu di chuyển càng nhiều càng tốt (không có cục máu đông)\n",
        "13. thal - kết quả ứng suất thalium\n",
        "    * 1,3: bình thường\n",
        "    * 6: sửa lỗi: đã từng là lỗi nhưng bây giờ ok\n",
        "    * 7: khiếm khuyết có thể đảo ngược: không có chuyển động máu thích hợp khi tập thể dục\n",
        "14. target - có bệnh hay không (1 = có, 0 = không) (= thuộc tính dự đoán)"
      ],
      "id": "ad7decb6"
    },
    {
      "cell_type": "markdown",
      "metadata": {
        "id": "1cb55cbc"
      },
      "source": [
        "## Preparing the tools\n",
        "\n",
        "* [pandas](https://pandas.pydata.org/) for data analysis.\n",
        "* [NumPy](https://numpy.org/) for numerical operations.\n",
        "* [Matplotlib](https://matplotlib.org/)/[seaborn](https://seaborn.pydata.org/) for plotting or data visualization.\n",
        "* [Scikit-Learn](https://scikit-learn.org/stable/) for machine learning modelling and evaluation."
      ],
      "id": "1cb55cbc"
    },
    {
      "cell_type": "code",
      "metadata": {
        "id": "634070d3"
      },
      "source": [
        "# Regular EDA (Exploretory Data Analysis) and plotting libraries\n",
        "import numpy as np # np is short for numpy\n",
        "import pandas as pd # pandas is so commonly used, it's shortened to pd\n",
        "import matplotlib.pyplot as plt\n",
        "import seaborn as sns # seaborn gets shortened to sns\n",
        "\n",
        "# We want our plots to appear in the notebook\n",
        "%matplotlib inline\n",
        "\n",
        "## Models from Scikit-Learn: Search \"scikit learn model map\"\n",
        "from sklearn.linear_model import LogisticRegression\n",
        "from sklearn.neighbors import KNeighborsClassifier\n",
        "from sklearn.ensemble import RandomForestClassifier\n",
        "\n",
        "\n",
        "## Model evaluators\n",
        "from sklearn.model_selection import train_test_split, cross_val_score\n",
        "from sklearn.model_selection import RandomizedSearchCV, GridSearchCV\n",
        "from sklearn.metrics import confusion_matrix, classification_report\n",
        "from sklearn.metrics import precision_score, recall_score, f1_score #Classification Problem\n",
        "from sklearn.metrics import plot_roc_curve"
      ],
      "id": "634070d3",
      "execution_count": null,
      "outputs": []
    },
    {
      "cell_type": "code",
      "metadata": {
        "id": "8536fc1a"
      },
      "source": [
        "df = pd.read_csv('./data/heart.csv')"
      ],
      "id": "8536fc1a",
      "execution_count": null,
      "outputs": []
    },
    {
      "cell_type": "code",
      "metadata": {
        "colab": {
          "base_uri": "https://localhost:8080/"
        },
        "id": "53d389c9",
        "outputId": "719aaea2-f120-4955-ac50-70aa24c191c3"
      },
      "source": [
        "df.shape # (rows, columns)"
      ],
      "id": "53d389c9",
      "execution_count": null,
      "outputs": [
        {
          "output_type": "execute_result",
          "data": {
            "text/plain": [
              "(303, 14)"
            ]
          },
          "metadata": {},
          "execution_count": 3
        }
      ]
    },
    {
      "cell_type": "markdown",
      "metadata": {
        "id": "edd8a109"
      },
      "source": [
        "## EDA (Exploratory Data Analysis)\n",
        "\n",
        "Mục tiêu: tìm hiểu thêm về dữ liệu và trở thành chuyên gia về chủ đề trên tập dữ liệu mà bạn đang làm việc.\n",
        "\n",
        "#### Danh mục\n",
        "1. Bạn đang cố giải (hoặc chứng minh là sai) câu hỏi nào?\n",
        "2. Bạn có loại dữ liệu nào và bạn xử lý các loại khác nhau như thế nào?\n",
        "3. Dữ liệu còn thiếu điều gì và bạn xử lý như thế nào?\n",
        "4. Đâu là những ngoại lệ và tại sao bạn nên quan tâm đến chúng?\n",
        "5. Làm cách nào bạn có thể thêm, thay đổi hoặc loại bỏ các tính năng để khai thác nhiều hơn dữ liệu của mình?"
      ],
      "id": "edd8a109"
    },
    {
      "cell_type": "code",
      "metadata": {
        "colab": {
          "base_uri": "https://localhost:8080/",
          "height": 206
        },
        "id": "69f97337",
        "outputId": "8fe6f36c-3939-43e7-e580-adcde941d175"
      },
      "source": [
        "df.head()"
      ],
      "id": "69f97337",
      "execution_count": null,
      "outputs": [
        {
          "output_type": "execute_result",
          "data": {
            "text/html": [
              "<div>\n",
              "<style scoped>\n",
              "    .dataframe tbody tr th:only-of-type {\n",
              "        vertical-align: middle;\n",
              "    }\n",
              "\n",
              "    .dataframe tbody tr th {\n",
              "        vertical-align: top;\n",
              "    }\n",
              "\n",
              "    .dataframe thead th {\n",
              "        text-align: right;\n",
              "    }\n",
              "</style>\n",
              "<table border=\"1\" class=\"dataframe\">\n",
              "  <thead>\n",
              "    <tr style=\"text-align: right;\">\n",
              "      <th></th>\n",
              "      <th>age</th>\n",
              "      <th>sex</th>\n",
              "      <th>cp</th>\n",
              "      <th>trestbps</th>\n",
              "      <th>chol</th>\n",
              "      <th>fbs</th>\n",
              "      <th>restecg</th>\n",
              "      <th>thalach</th>\n",
              "      <th>exang</th>\n",
              "      <th>oldpeak</th>\n",
              "      <th>slope</th>\n",
              "      <th>ca</th>\n",
              "      <th>thal</th>\n",
              "      <th>target</th>\n",
              "    </tr>\n",
              "  </thead>\n",
              "  <tbody>\n",
              "    <tr>\n",
              "      <th>0</th>\n",
              "      <td>63</td>\n",
              "      <td>1</td>\n",
              "      <td>3</td>\n",
              "      <td>145</td>\n",
              "      <td>233</td>\n",
              "      <td>1</td>\n",
              "      <td>0</td>\n",
              "      <td>150</td>\n",
              "      <td>0</td>\n",
              "      <td>2.3</td>\n",
              "      <td>0</td>\n",
              "      <td>0</td>\n",
              "      <td>1</td>\n",
              "      <td>1</td>\n",
              "    </tr>\n",
              "    <tr>\n",
              "      <th>1</th>\n",
              "      <td>37</td>\n",
              "      <td>1</td>\n",
              "      <td>2</td>\n",
              "      <td>130</td>\n",
              "      <td>250</td>\n",
              "      <td>0</td>\n",
              "      <td>1</td>\n",
              "      <td>187</td>\n",
              "      <td>0</td>\n",
              "      <td>3.5</td>\n",
              "      <td>0</td>\n",
              "      <td>0</td>\n",
              "      <td>2</td>\n",
              "      <td>1</td>\n",
              "    </tr>\n",
              "    <tr>\n",
              "      <th>2</th>\n",
              "      <td>41</td>\n",
              "      <td>0</td>\n",
              "      <td>1</td>\n",
              "      <td>130</td>\n",
              "      <td>204</td>\n",
              "      <td>0</td>\n",
              "      <td>0</td>\n",
              "      <td>172</td>\n",
              "      <td>0</td>\n",
              "      <td>1.4</td>\n",
              "      <td>2</td>\n",
              "      <td>0</td>\n",
              "      <td>2</td>\n",
              "      <td>1</td>\n",
              "    </tr>\n",
              "    <tr>\n",
              "      <th>3</th>\n",
              "      <td>56</td>\n",
              "      <td>1</td>\n",
              "      <td>1</td>\n",
              "      <td>120</td>\n",
              "      <td>236</td>\n",
              "      <td>0</td>\n",
              "      <td>1</td>\n",
              "      <td>178</td>\n",
              "      <td>0</td>\n",
              "      <td>0.8</td>\n",
              "      <td>2</td>\n",
              "      <td>0</td>\n",
              "      <td>2</td>\n",
              "      <td>1</td>\n",
              "    </tr>\n",
              "    <tr>\n",
              "      <th>4</th>\n",
              "      <td>57</td>\n",
              "      <td>0</td>\n",
              "      <td>0</td>\n",
              "      <td>120</td>\n",
              "      <td>354</td>\n",
              "      <td>0</td>\n",
              "      <td>1</td>\n",
              "      <td>163</td>\n",
              "      <td>1</td>\n",
              "      <td>0.6</td>\n",
              "      <td>2</td>\n",
              "      <td>0</td>\n",
              "      <td>2</td>\n",
              "      <td>1</td>\n",
              "    </tr>\n",
              "  </tbody>\n",
              "</table>\n",
              "</div>"
            ],
            "text/plain": [
              "   age  sex  cp  trestbps  chol  fbs  ...  exang  oldpeak  slope  ca  thal  target\n",
              "0   63    1   3       145   233    1  ...      0      2.3      0   0     1       1\n",
              "1   37    1   2       130   250    0  ...      0      3.5      0   0     2       1\n",
              "2   41    0   1       130   204    0  ...      0      1.4      2   0     2       1\n",
              "3   56    1   1       120   236    0  ...      0      0.8      2   0     2       1\n",
              "4   57    0   0       120   354    0  ...      1      0.6      2   0     2       1\n",
              "\n",
              "[5 rows x 14 columns]"
            ]
          },
          "metadata": {},
          "execution_count": 4
        }
      ]
    },
    {
      "cell_type": "code",
      "metadata": {
        "colab": {
          "base_uri": "https://localhost:8080/",
          "height": 206
        },
        "id": "144d22bc",
        "outputId": "a1bfbc44-8462-48fa-ab5a-3ae2ef40e308"
      },
      "source": [
        "df.tail()"
      ],
      "id": "144d22bc",
      "execution_count": null,
      "outputs": [
        {
          "output_type": "execute_result",
          "data": {
            "text/html": [
              "<div>\n",
              "<style scoped>\n",
              "    .dataframe tbody tr th:only-of-type {\n",
              "        vertical-align: middle;\n",
              "    }\n",
              "\n",
              "    .dataframe tbody tr th {\n",
              "        vertical-align: top;\n",
              "    }\n",
              "\n",
              "    .dataframe thead th {\n",
              "        text-align: right;\n",
              "    }\n",
              "</style>\n",
              "<table border=\"1\" class=\"dataframe\">\n",
              "  <thead>\n",
              "    <tr style=\"text-align: right;\">\n",
              "      <th></th>\n",
              "      <th>age</th>\n",
              "      <th>sex</th>\n",
              "      <th>cp</th>\n",
              "      <th>trestbps</th>\n",
              "      <th>chol</th>\n",
              "      <th>fbs</th>\n",
              "      <th>restecg</th>\n",
              "      <th>thalach</th>\n",
              "      <th>exang</th>\n",
              "      <th>oldpeak</th>\n",
              "      <th>slope</th>\n",
              "      <th>ca</th>\n",
              "      <th>thal</th>\n",
              "      <th>target</th>\n",
              "    </tr>\n",
              "  </thead>\n",
              "  <tbody>\n",
              "    <tr>\n",
              "      <th>298</th>\n",
              "      <td>57</td>\n",
              "      <td>0</td>\n",
              "      <td>0</td>\n",
              "      <td>140</td>\n",
              "      <td>241</td>\n",
              "      <td>0</td>\n",
              "      <td>1</td>\n",
              "      <td>123</td>\n",
              "      <td>1</td>\n",
              "      <td>0.2</td>\n",
              "      <td>1</td>\n",
              "      <td>0</td>\n",
              "      <td>3</td>\n",
              "      <td>0</td>\n",
              "    </tr>\n",
              "    <tr>\n",
              "      <th>299</th>\n",
              "      <td>45</td>\n",
              "      <td>1</td>\n",
              "      <td>3</td>\n",
              "      <td>110</td>\n",
              "      <td>264</td>\n",
              "      <td>0</td>\n",
              "      <td>1</td>\n",
              "      <td>132</td>\n",
              "      <td>0</td>\n",
              "      <td>1.2</td>\n",
              "      <td>1</td>\n",
              "      <td>0</td>\n",
              "      <td>3</td>\n",
              "      <td>0</td>\n",
              "    </tr>\n",
              "    <tr>\n",
              "      <th>300</th>\n",
              "      <td>68</td>\n",
              "      <td>1</td>\n",
              "      <td>0</td>\n",
              "      <td>144</td>\n",
              "      <td>193</td>\n",
              "      <td>1</td>\n",
              "      <td>1</td>\n",
              "      <td>141</td>\n",
              "      <td>0</td>\n",
              "      <td>3.4</td>\n",
              "      <td>1</td>\n",
              "      <td>2</td>\n",
              "      <td>3</td>\n",
              "      <td>0</td>\n",
              "    </tr>\n",
              "    <tr>\n",
              "      <th>301</th>\n",
              "      <td>57</td>\n",
              "      <td>1</td>\n",
              "      <td>0</td>\n",
              "      <td>130</td>\n",
              "      <td>131</td>\n",
              "      <td>0</td>\n",
              "      <td>1</td>\n",
              "      <td>115</td>\n",
              "      <td>1</td>\n",
              "      <td>1.2</td>\n",
              "      <td>1</td>\n",
              "      <td>1</td>\n",
              "      <td>3</td>\n",
              "      <td>0</td>\n",
              "    </tr>\n",
              "    <tr>\n",
              "      <th>302</th>\n",
              "      <td>57</td>\n",
              "      <td>0</td>\n",
              "      <td>1</td>\n",
              "      <td>130</td>\n",
              "      <td>236</td>\n",
              "      <td>0</td>\n",
              "      <td>0</td>\n",
              "      <td>174</td>\n",
              "      <td>0</td>\n",
              "      <td>0.0</td>\n",
              "      <td>1</td>\n",
              "      <td>1</td>\n",
              "      <td>2</td>\n",
              "      <td>0</td>\n",
              "    </tr>\n",
              "  </tbody>\n",
              "</table>\n",
              "</div>"
            ],
            "text/plain": [
              "     age  sex  cp  trestbps  chol  fbs  ...  exang  oldpeak  slope  ca  thal  target\n",
              "298   57    0   0       140   241    0  ...      1      0.2      1   0     3       0\n",
              "299   45    1   3       110   264    0  ...      0      1.2      1   0     3       0\n",
              "300   68    1   0       144   193    1  ...      0      3.4      1   2     3       0\n",
              "301   57    1   0       130   131    0  ...      1      1.2      1   1     3       0\n",
              "302   57    0   1       130   236    0  ...      0      0.0      1   1     2       0\n",
              "\n",
              "[5 rows x 14 columns]"
            ]
          },
          "metadata": {},
          "execution_count": 5
        }
      ]
    },
    {
      "cell_type": "code",
      "metadata": {
        "colab": {
          "base_uri": "https://localhost:8080/"
        },
        "id": "1eff0bc0",
        "outputId": "82a333b3-d151-4a4f-ec31-683807d5c531"
      },
      "source": [
        "# Let's find out how many of each class ther\n",
        "df[\"target\"].value_counts()"
      ],
      "id": "1eff0bc0",
      "execution_count": null,
      "outputs": [
        {
          "output_type": "execute_result",
          "data": {
            "text/plain": [
              "1    165\n",
              "0    138\n",
              "Name: target, dtype: int64"
            ]
          },
          "metadata": {},
          "execution_count": 6
        }
      ]
    },
    {
      "cell_type": "code",
      "metadata": {
        "colab": {
          "base_uri": "https://localhost:8080/",
          "height": 262
        },
        "id": "17837816",
        "outputId": "b1c11d45-439c-4ee2-bbdb-bf858cc36146"
      },
      "source": [
        "df[\"target\"].value_counts().plot(kind=\"bar\", color=[\"salmon\", \"lightblue\"]);"
      ],
      "id": "17837816",
      "execution_count": null,
      "outputs": [
        {
          "output_type": "display_data",
          "data": {
            "image/png": "[encoded data removed]",
            "text/plain": [
              "<Figure size 432x288 with 1 Axes>"
            ]
          },
          "metadata": {
            "needs_background": "light"
          }
        }
      ]
    },
    {
      "cell_type": "markdown",
      "metadata": {
        "id": "cebeb2b2"
      },
      "source": [
        "> This is **Balance** Classification Problem as (#0 & #1 are quite similar)\n",
        "\n",
        "### Check Missing Values"
      ],
      "id": "cebeb2b2"
    },
    {
      "cell_type": "code",
      "metadata": {
        "colab": {
          "base_uri": "https://localhost:8080/"
        },
        "id": "521132b2",
        "outputId": "dba4935a-4f30-45b0-f0d0-3af6cbc62f6e"
      },
      "source": [
        "df.info()"
      ],
      "id": "521132b2",
      "execution_count": null,
      "outputs": [
        {
          "output_type": "stream",
          "name": "stdout",
          "text": [
            "<class 'pandas.core.frame.DataFrame'>\n",
            "RangeIndex: 303 entries, 0 to 302\n",
            "Data columns (total 14 columns):\n",
            " #   Column    Non-Null Count  Dtype  \n",
            "---  ------    --------------  -----  \n",
            " 0   age       303 non-null    int64  \n",
            " 1   sex       303 non-null    int64  \n",
            " 2   cp        303 non-null    int64  \n",
            " 3   trestbps  303 non-null    int64  \n",
            " 4   chol      303 non-null    int64  \n",
            " 5   fbs       303 non-null    int64  \n",
            " 6   restecg   303 non-null    int64  \n",
            " 7   thalach   303 non-null    int64  \n",
            " 8   exang     303 non-null    int64  \n",
            " 9   oldpeak   303 non-null    float64\n",
            " 10  slope     303 non-null    int64  \n",
            " 11  ca        303 non-null    int64  \n",
            " 12  thal      303 non-null    int64  \n",
            " 13  target    303 non-null    int64  \n",
            "dtypes: float64(1), int64(13)\n",
            "memory usage: 33.3 KB\n"
          ]
        }
      ]
    },
    {
      "cell_type": "code",
      "metadata": {
        "colab": {
          "base_uri": "https://localhost:8080/"
        },
        "id": "94483930",
        "outputId": "67d0acab-1328-4eac-ab30-8d64ff8a88e9"
      },
      "source": [
        "# Are there any missing values ?\n",
        "df.isna().sum()"
      ],
      "id": "94483930",
      "execution_count": null,
      "outputs": [
        {
          "output_type": "execute_result",
          "data": {
            "text/plain": [
              "age         0\n",
              "sex         0\n",
              "cp          0\n",
              "trestbps    0\n",
              "chol        0\n",
              "fbs         0\n",
              "restecg     0\n",
              "thalach     0\n",
              "exang       0\n",
              "oldpeak     0\n",
              "slope       0\n",
              "ca          0\n",
              "thal        0\n",
              "target      0\n",
              "dtype: int64"
            ]
          },
          "metadata": {},
          "execution_count": 9
        }
      ]
    },
    {
      "cell_type": "code",
      "metadata": {
        "colab": {
          "base_uri": "https://localhost:8080/",
          "height": 320
        },
        "id": "a3b157c0",
        "outputId": "7f9db697-424f-4fce-9b35-e1a4bfb0a40e"
      },
      "source": [
        "df.describe()"
      ],
      "id": "a3b157c0",
      "execution_count": null,
      "outputs": [
        {
          "output_type": "execute_result",
          "data": {
            "text/html": [
              "<div>\n",
              "<style scoped>\n",
              "    .dataframe tbody tr th:only-of-type {\n",
              "        vertical-align: middle;\n",
              "    }\n",
              "\n",
              "    .dataframe tbody tr th {\n",
              "        vertical-align: top;\n",
              "    }\n",
              "\n",
              "    .dataframe thead th {\n",
              "        text-align: right;\n",
              "    }\n",
              "</style>\n",
              "<table border=\"1\" class=\"dataframe\">\n",
              "  <thead>\n",
              "    <tr style=\"text-align: right;\">\n",
              "      <th></th>\n",
              "      <th>age</th>\n",
              "      <th>sex</th>\n",
              "      <th>cp</th>\n",
              "      <th>trestbps</th>\n",
              "      <th>chol</th>\n",
              "      <th>fbs</th>\n",
              "      <th>restecg</th>\n",
              "      <th>thalach</th>\n",
              "      <th>exang</th>\n",
              "      <th>oldpeak</th>\n",
              "      <th>slope</th>\n",
              "      <th>ca</th>\n",
              "      <th>thal</th>\n",
              "      <th>target</th>\n",
              "    </tr>\n",
              "  </thead>\n",
              "  <tbody>\n",
              "    <tr>\n",
              "      <th>count</th>\n",
              "      <td>303.000000</td>\n",
              "      <td>303.000000</td>\n",
              "      <td>303.000000</td>\n",
              "      <td>303.000000</td>\n",
              "      <td>303.000000</td>\n",
              "      <td>303.000000</td>\n",
              "      <td>303.000000</td>\n",
              "      <td>303.000000</td>\n",
              "      <td>303.000000</td>\n",
              "      <td>303.000000</td>\n",
              "      <td>303.000000</td>\n",
              "      <td>303.000000</td>\n",
              "      <td>303.000000</td>\n",
              "      <td>303.000000</td>\n",
              "    </tr>\n",
              "    <tr>\n",
              "      <th>mean</th>\n",
              "      <td>54.366337</td>\n",
              "      <td>0.683168</td>\n",
              "      <td>0.966997</td>\n",
              "      <td>131.623762</td>\n",
              "      <td>246.264026</td>\n",
              "      <td>0.148515</td>\n",
              "      <td>0.528053</td>\n",
              "      <td>149.646865</td>\n",
              "      <td>0.326733</td>\n",
              "      <td>1.039604</td>\n",
              "      <td>1.399340</td>\n",
              "      <td>0.729373</td>\n",
              "      <td>2.313531</td>\n",
              "      <td>0.544554</td>\n",
              "    </tr>\n",
              "    <tr>\n",
              "      <th>std</th>\n",
              "      <td>9.082101</td>\n",
              "      <td>0.466011</td>\n",
              "      <td>1.032052</td>\n",
              "      <td>17.538143</td>\n",
              "      <td>51.830751</td>\n",
              "      <td>0.356198</td>\n",
              "      <td>0.525860</td>\n",
              "      <td>22.905161</td>\n",
              "      <td>0.469794</td>\n",
              "      <td>1.161075</td>\n",
              "      <td>0.616226</td>\n",
              "      <td>1.022606</td>\n",
              "      <td>0.612277</td>\n",
              "      <td>0.498835</td>\n",
              "    </tr>\n",
              "    <tr>\n",
              "      <th>min</th>\n",
              "      <td>29.000000</td>\n",
              "      <td>0.000000</td>\n",
              "      <td>0.000000</td>\n",
              "      <td>94.000000</td>\n",
              "      <td>126.000000</td>\n",
              "      <td>0.000000</td>\n",
              "      <td>0.000000</td>\n",
              "      <td>71.000000</td>\n",
              "      <td>0.000000</td>\n",
              "      <td>0.000000</td>\n",
              "      <td>0.000000</td>\n",
              "      <td>0.000000</td>\n",
              "      <td>0.000000</td>\n",
              "      <td>0.000000</td>\n",
              "    </tr>\n",
              "    <tr>\n",
              "      <th>25%</th>\n",
              "      <td>47.500000</td>\n",
              "      <td>0.000000</td>\n",
              "      <td>0.000000</td>\n",
              "      <td>120.000000</td>\n",
              "      <td>211.000000</td>\n",
              "      <td>0.000000</td>\n",
              "      <td>0.000000</td>\n",
              "      <td>133.500000</td>\n",
              "      <td>0.000000</td>\n",
              "      <td>0.000000</td>\n",
              "      <td>1.000000</td>\n",
              "      <td>0.000000</td>\n",
              "      <td>2.000000</td>\n",
              "      <td>0.000000</td>\n",
              "    </tr>\n",
              "    <tr>\n",
              "      <th>50%</th>\n",
              "      <td>55.000000</td>\n",
              "      <td>1.000000</td>\n",
              "      <td>1.000000</td>\n",
              "      <td>130.000000</td>\n",
              "      <td>240.000000</td>\n",
              "      <td>0.000000</td>\n",
              "      <td>1.000000</td>\n",
              "      <td>153.000000</td>\n",
              "      <td>0.000000</td>\n",
              "      <td>0.800000</td>\n",
              "      <td>1.000000</td>\n",
              "      <td>0.000000</td>\n",
              "      <td>2.000000</td>\n",
              "      <td>1.000000</td>\n",
              "    </tr>\n",
              "    <tr>\n",
              "      <th>75%</th>\n",
              "      <td>61.000000</td>\n",
              "      <td>1.000000</td>\n",
              "      <td>2.000000</td>\n",
              "      <td>140.000000</td>\n",
              "      <td>274.500000</td>\n",
              "      <td>0.000000</td>\n",
              "      <td>1.000000</td>\n",
              "      <td>166.000000</td>\n",
              "      <td>1.000000</td>\n",
              "      <td>1.600000</td>\n",
              "      <td>2.000000</td>\n",
              "      <td>1.000000</td>\n",
              "      <td>3.000000</td>\n",
              "      <td>1.000000</td>\n",
              "    </tr>\n",
              "    <tr>\n",
              "      <th>max</th>\n",
              "      <td>77.000000</td>\n",
              "      <td>1.000000</td>\n",
              "      <td>3.000000</td>\n",
              "      <td>200.000000</td>\n",
              "      <td>564.000000</td>\n",
              "      <td>1.000000</td>\n",
              "      <td>2.000000</td>\n",
              "      <td>202.000000</td>\n",
              "      <td>1.000000</td>\n",
              "      <td>6.200000</td>\n",
              "      <td>2.000000</td>\n",
              "      <td>4.000000</td>\n",
              "      <td>3.000000</td>\n",
              "      <td>1.000000</td>\n",
              "    </tr>\n",
              "  </tbody>\n",
              "</table>\n",
              "</div>"
            ],
            "text/plain": [
              "              age         sex          cp  ...          ca        thal      target\n",
              "count  303.000000  303.000000  303.000000  ...  303.000000  303.000000  303.000000\n",
              "mean    54.366337    0.683168    0.966997  ...    0.729373    2.313531    0.544554\n",
              "std      9.082101    0.466011    1.032052  ...    1.022606    0.612277    0.498835\n",
              "min     29.000000    0.000000    0.000000  ...    0.000000    0.000000    0.000000\n",
              "25%     47.500000    0.000000    0.000000  ...    0.000000    2.000000    0.000000\n",
              "50%     55.000000    1.000000    1.000000  ...    0.000000    2.000000    1.000000\n",
              "75%     61.000000    1.000000    2.000000  ...    1.000000    3.000000    1.000000\n",
              "max     77.000000    1.000000    3.000000  ...    4.000000    3.000000    1.000000\n",
              "\n",
              "[8 rows x 14 columns]"
            ]
          },
          "metadata": {},
          "execution_count": 10
        }
      ]
    },
    {
      "cell_type": "markdown",
      "metadata": {
        "id": "f3181c4b"
      },
      "source": [
        "`description ()` hiển thị một loạt các chỉ số khác nhau về các cột số của bạn, chẳng hạn như trung bình, tối đa và độ lệch chuẩn.\n",
        "### Tần suất bệnh tim theo giới tính"
      ],
      "id": "f3181c4b"
    },
    {
      "cell_type": "code",
      "metadata": {
        "colab": {
          "base_uri": "https://localhost:8080/"
        },
        "id": "43e03a17",
        "outputId": "69465868-18d6-4c79-845e-9970f619ee82"
      },
      "source": [
        "df.sex.value_counts()"
      ],
      "id": "43e03a17",
      "execution_count": null,
      "outputs": [
        {
          "output_type": "execute_result",
          "data": {
            "text/plain": [
              "1    207\n",
              "0     96\n",
              "Name: sex, dtype: int64"
            ]
          },
          "metadata": {},
          "execution_count": 11
        }
      ]
    },
    {
      "cell_type": "code",
      "metadata": {
        "colab": {
          "base_uri": "https://localhost:8080/",
          "height": 143
        },
        "id": "2ae58eb8",
        "outputId": "c3438fbb-a0ed-4676-e7a3-065c0a8110a6"
      },
      "source": [
        "pd.crosstab(df.target, df.sex)"
      ],
      "id": "2ae58eb8",
      "execution_count": null,
      "outputs": [
        {
          "output_type": "execute_result",
          "data": {
            "text/html": [
              "<div>\n",
              "<style scoped>\n",
              "    .dataframe tbody tr th:only-of-type {\n",
              "        vertical-align: middle;\n",
              "    }\n",
              "\n",
              "    .dataframe tbody tr th {\n",
              "        vertical-align: top;\n",
              "    }\n",
              "\n",
              "    .dataframe thead th {\n",
              "        text-align: right;\n",
              "    }\n",
              "</style>\n",
              "<table border=\"1\" class=\"dataframe\">\n",
              "  <thead>\n",
              "    <tr style=\"text-align: right;\">\n",
              "      <th>sex</th>\n",
              "      <th>0</th>\n",
              "      <th>1</th>\n",
              "    </tr>\n",
              "    <tr>\n",
              "      <th>target</th>\n",
              "      <th></th>\n",
              "      <th></th>\n",
              "    </tr>\n",
              "  </thead>\n",
              "  <tbody>\n",
              "    <tr>\n",
              "      <th>0</th>\n",
              "      <td>24</td>\n",
              "      <td>114</td>\n",
              "    </tr>\n",
              "    <tr>\n",
              "      <th>1</th>\n",
              "      <td>72</td>\n",
              "      <td>93</td>\n",
              "    </tr>\n",
              "  </tbody>\n",
              "</table>\n",
              "</div>"
            ],
            "text/plain": [
              "sex      0    1\n",
              "target         \n",
              "0       24  114\n",
              "1       72   93"
            ]
          },
          "metadata": {},
          "execution_count": 12
        }
      ]
    },
    {
      "cell_type": "code",
      "metadata": {
        "colab": {
          "base_uri": "https://localhost:8080/",
          "height": 295
        },
        "id": "0268df56",
        "outputId": "c08f9b00-fa69-4c89-837b-3ddec0b66484"
      },
      "source": [
        "sns.countplot(data=df, x=\"target\", hue=\"sex\", palette=\"Paired\")\n",
        "# Add some attributes to it\n",
        "plt.title(\"Heart Disease Frequency for Sex\")\n",
        "plt.xlabel(\"0 = No Disease, 1 = Disease\")\n",
        "plt.ylabel(\"Count\")\n",
        "plt.legend([\"Female\", \"Male\"])\n",
        "plt.xticks(rotation=0); # keep the labels on the x-axis vertical"
      ],
      "id": "0268df56",
      "execution_count": null,
      "outputs": [
        {
          "output_type": "display_data",
          "data": {
            "image/png": "[encoded data removed]",
            "text/plain": [
              "<Figure size 432x288 with 1 Axes>"
            ]
          },
          "metadata": {
            "needs_background": "light"
          }
        }
      ]
    },
    {
      "cell_type": "markdown",
      "metadata": {
        "id": "f49b41e1"
      },
      "source": [
        "### Tuổi so với Nhịp tim tối đa đối với Bệnh tim\n",
        "\n",
        "- kết hợp một số biến độc lập, chẳng hạn như `tuổi` và` thalach` (nhịp tim tối đa) và sau đó so sánh chúng với biến mục tiêu của chúng tôi là `bệnh tim`.\n",
        "\n",
        "Vì có rất nhiều giá trị khác nhau cho `age` và` thalach`, chúng tôi sẽ sử dụng biểu đồ phân tán."
      ],
      "id": "f49b41e1"
    },
    {
      "cell_type": "code",
      "metadata": {
        "colab": {
          "base_uri": "https://localhost:8080/",
          "height": 404
        },
        "id": "753f4668",
        "outputId": "e86adf7c-6641-4dbd-d9df-6a9d5459f470"
      },
      "source": [
        "#Create another figure\n",
        "plt.figure(figsize=(10,6))\n",
        "\n",
        "#Scatter with positive examples\n",
        "plt.scatter(df.age[df.target==1],\n",
        "            df.thalach[df.target==1],\n",
        "            c=\"salmon\");\n",
        "\n",
        "#Scatter with negative examples\n",
        "plt.scatter(df.age[df.target==0],\n",
        "            df.thalach[df.target==0],\n",
        "            c=\"lightblue\", alpha=0.8);\n",
        "\n",
        "# Add some helpful info\n",
        "plt.title(\"Heart Disease in function of Age and Max Heart Rate\")\n",
        "plt.xlabel(\"Age\")\n",
        "plt.legend([\"Disease\", \"No Disease\"])\n",
        "plt.ylabel(\"Max Heart Rate\");"
      ],
      "id": "753f4668",
      "execution_count": null,
      "outputs": [
        {
          "output_type": "display_data",
          "data": {
            "image/png": "[encoded data removed]",
            "text/plain": [
              "<Figure size 720x432 with 1 Axes>"
            ]
          },
          "metadata": {
            "needs_background": "light"
          }
        }
      ]
    },
    {
      "cell_type": "markdown",
      "metadata": {
        "id": "b9b957d5"
      },
      "source": [
        "Chúng ta có thể suy ra điều gì từ điều này?\n",
        "\n",
        "- ai đó càng trẻ, nhịp tim tối đa của họ càng cao\n",
        "\n",
        "Tất nhiên, cả hai điều này đều là quan sát, nhưng đây là những gì chúng tôi đang cố gắng làm, xây dựng sự hiểu biết về dữ liệu.\n",
        "\n",
        "Hãy kiểm tra độ tuổi **phân phối**."
      ],
      "id": "b9b957d5"
    },
    {
      "cell_type": "code",
      "metadata": {
        "colab": {
          "base_uri": "https://localhost:8080/",
          "height": 279
        },
        "id": "9b9aac44",
        "outputId": "479d7b25-eac1-4783-b4a3-b3623ea1e058"
      },
      "source": [
        "sns.histplot(data=df, x=\"age\", hue=\"target\", palette='Set2')\n",
        "\n",
        "plt.legend([\"No Disease\", \"Disease\"]);"
      ],
      "id": "9b9aac44",
      "execution_count": null,
      "outputs": [
        {
          "output_type": "display_data",
          "data": {
            "image/png": "[encoded data removed]",
            "text/plain": [
              "<Figure size 432x288 with 1 Axes>"
            ]
          },
          "metadata": {
            "needs_background": "light"
          }
        }
      ]
    },
    {
      "cell_type": "markdown",
      "metadata": {
        "id": "49bbc13d"
      },
      "source": [
        "### Tần suất bệnh tim trên mỗi loại đau ngực\n",
        "\n",
        "3. cp - kiểu đau ngực\n",
        "     * 0: Đau thắt ngực điển hình: đau ngực liên quan đến giảm cung cấp máu cho tim\n",
        "     * 1: Đau thắt ngực không điển hình: đau ngực không liên quan đến tim\n",
        "     * 2: Đau không do đau thắt ngực: thường là co thắt thực quản (không liên quan đến tim)\n",
        "     * 3: Không triệu chứng: đau ngực không biểu hiện bệnh"
      ],
      "id": "49bbc13d"
    },
    {
      "cell_type": "code",
      "metadata": {
        "colab": {
          "base_uri": "https://localhost:8080/",
          "height": 206
        },
        "id": "d9e8eeef",
        "outputId": "29300e49-419d-4001-a305-2c28ba50d54c"
      },
      "source": [
        "pd.crosstab(df.cp, df.target)"
      ],
      "id": "d9e8eeef",
      "execution_count": null,
      "outputs": [
        {
          "output_type": "execute_result",
          "data": {
            "text/html": [
              "<div>\n",
              "<style scoped>\n",
              "    .dataframe tbody tr th:only-of-type {\n",
              "        vertical-align: middle;\n",
              "    }\n",
              "\n",
              "    .dataframe tbody tr th {\n",
              "        vertical-align: top;\n",
              "    }\n",
              "\n",
              "    .dataframe thead th {\n",
              "        text-align: right;\n",
              "    }\n",
              "</style>\n",
              "<table border=\"1\" class=\"dataframe\">\n",
              "  <thead>\n",
              "    <tr style=\"text-align: right;\">\n",
              "      <th>target</th>\n",
              "      <th>0</th>\n",
              "      <th>1</th>\n",
              "    </tr>\n",
              "    <tr>\n",
              "      <th>cp</th>\n",
              "      <th></th>\n",
              "      <th></th>\n",
              "    </tr>\n",
              "  </thead>\n",
              "  <tbody>\n",
              "    <tr>\n",
              "      <th>0</th>\n",
              "      <td>104</td>\n",
              "      <td>39</td>\n",
              "    </tr>\n",
              "    <tr>\n",
              "      <th>1</th>\n",
              "      <td>9</td>\n",
              "      <td>41</td>\n",
              "    </tr>\n",
              "    <tr>\n",
              "      <th>2</th>\n",
              "      <td>18</td>\n",
              "      <td>69</td>\n",
              "    </tr>\n",
              "    <tr>\n",
              "      <th>3</th>\n",
              "      <td>7</td>\n",
              "      <td>16</td>\n",
              "    </tr>\n",
              "  </tbody>\n",
              "</table>\n",
              "</div>"
            ],
            "text/plain": [
              "target    0   1\n",
              "cp             \n",
              "0       104  39\n",
              "1         9  41\n",
              "2        18  69\n",
              "3         7  16"
            ]
          },
          "metadata": {},
          "execution_count": 17
        }
      ]
    },
    {
      "cell_type": "code",
      "metadata": {
        "colab": {
          "base_uri": "https://localhost:8080/",
          "height": 404
        },
        "id": "6a7cfa61",
        "outputId": "f90c49b9-fc6f-4490-9445-a61e37a69ad7"
      },
      "source": [
        "# Create a new crosstab and base plot\n",
        "pd.crosstab(df.cp, df.target).plot(kind=\"bar\",\n",
        "                                   figsize=(10,6),\n",
        "                                   color=[\"lightblue\", \"salmon\"])\n",
        "\n",
        "# Add attributes to the plot to make it more readable\n",
        "plt.title(\"Heart Disease Frequency Per Chest Pain Type\")\n",
        "plt.xlabel(\"Chest Pain Type\")\n",
        "plt.ylabel(\"Frequency\")\n",
        "plt.legend([\"No Disease\", \"Disease\"])\n",
        "plt.xticks(rotation = 0);"
      ],
      "id": "6a7cfa61",
      "execution_count": null,
      "outputs": [
        {
          "output_type": "display_data",
          "data": {
            "image/png": "[encoded data removed]",
            "text/plain": [
              "<Figure size 720x432 with 1 Axes>"
            ]
          },
          "metadata": {
            "needs_background": "light"
          }
        }
      ]
    },
    {
      "cell_type": "markdown",
      "metadata": {
        "id": "8e8b08dd"
      },
      "source": [
        "Thật thú vị khi chứng đau thắt ngực không điển hình (giá trị 1) nói rằng nó không liên quan đến tim nhưng dường như có tỷ lệ người tham gia bị bệnh tim cao hơn không.\n",
        "\n",
        "Agina không điển hình thậm chí có nghĩa là gì?\n",
        "\n",
        "Tại thời điểm này, điều quan trọng cần nhớ là, nếu từ điển dữ liệu của bạn không cung cấp đủ thông tin cho bạn, bạn có thể muốn nghiên cứu thêm về các giá trị của mình. Nghiên cứu này có thể dưới hình thức hỏi một ** chuyên gia về chủ đề ** (chẳng hạn như bác sĩ tim mạch hoặc người đã cung cấp cho bạn dữ liệu) hoặc Google để tìm hiểu thêm.\n",
        "\n",
        "Theo PubMed, có vẻ như [ngay cả một số chuyên gia y tế cũng bị nhầm lẫn bởi thuật ngữ này] (https://www.ncbi.nlm.nih.gov/pmc/articles/PMC2763472/).\n",
        "\n",
        "> Ngày nay, 23 năm sau, “đau ngực không điển hình” vẫn còn phổ biến trong giới y khoa. Tuy nhiên, ý nghĩa của nó vẫn chưa rõ ràng. Một số bài báo có thuật ngữ trong tiêu đề của họ, nhưng không định nghĩa hoặc thảo luận về nó trong văn bản của họ. Trong các bài báo khác, thuật ngữ này đề cập đến các nguyên nhân không do tim gây ra đau ngực.\n",
        "\n",
        "Mặc dù không phải là kết luận, nhưng biểu đồ trên là một gợi ý về sự nhầm lẫn của độ lệch được biểu diễn trong dữ liệu.\n",
        "\n",
        "\n",
        "### Tương quan giữa các biến độc lập\n",
        "\n",
        "- so sánh tất cả các biến độc lập trong một lần truy cập.\n",
        "\n",
        "Tại sao?\n",
        "\n",
        "- Bởi vì điều này có thể đưa ra ý tưởng về những biến độc lập nào có thể có hoặc có thể không có tác động đến biến mục tiêu của chúng ta.\n",
        "\n",
        "Chúng tôi có thể thực hiện việc này bằng cách sử dụng `df.corr ()` sẽ tạo ra [** ma trận tương quan **] (https://www.st Statisticshowto.datasciencecentral.com/correlation-matrix/) cho chúng tôi, nói cách khác, a bảng số lớn cho chúng ta biết mức độ liên quan của mỗi biến với nhau."
      ],
      "id": "8e8b08dd"
    },
    {
      "cell_type": "code",
      "metadata": {
        "colab": {
          "base_uri": "https://localhost:8080/",
          "height": 508
        },
        "id": "fc9555dc",
        "outputId": "96304760-8f83-498b-ae96-3d0af534d476"
      },
      "source": [
        "# Make a correlation matrix\n",
        "corr_matrix = df.corr()\n",
        "corr_matrix"
      ],
      "id": "fc9555dc",
      "execution_count": null,
      "outputs": [
        {
          "output_type": "execute_result",
          "data": {
            "text/html": [
              "<div>\n",
              "<style scoped>\n",
              "    .dataframe tbody tr th:only-of-type {\n",
              "        vertical-align: middle;\n",
              "    }\n",
              "\n",
              "    .dataframe tbody tr th {\n",
              "        vertical-align: top;\n",
              "    }\n",
              "\n",
              "    .dataframe thead th {\n",
              "        text-align: right;\n",
              "    }\n",
              "</style>\n",
              "<table border=\"1\" class=\"dataframe\">\n",
              "  <thead>\n",
              "    <tr style=\"text-align: right;\">\n",
              "      <th></th>\n",
              "      <th>age</th>\n",
              "      <th>sex</th>\n",
              "      <th>cp</th>\n",
              "      <th>trestbps</th>\n",
              "      <th>chol</th>\n",
              "      <th>fbs</th>\n",
              "      <th>restecg</th>\n",
              "      <th>thalach</th>\n",
              "      <th>exang</th>\n",
              "      <th>oldpeak</th>\n",
              "      <th>slope</th>\n",
              "      <th>ca</th>\n",
              "      <th>thal</th>\n",
              "      <th>target</th>\n",
              "    </tr>\n",
              "  </thead>\n",
              "  <tbody>\n",
              "    <tr>\n",
              "      <th>age</th>\n",
              "      <td>1.000000</td>\n",
              "      <td>-0.098447</td>\n",
              "      <td>-0.068653</td>\n",
              "      <td>0.279351</td>\n",
              "      <td>0.213678</td>\n",
              "      <td>0.121308</td>\n",
              "      <td>-0.116211</td>\n",
              "      <td>-0.398522</td>\n",
              "      <td>0.096801</td>\n",
              "      <td>0.210013</td>\n",
              "      <td>-0.168814</td>\n",
              "      <td>0.276326</td>\n",
              "      <td>0.068001</td>\n",
              "      <td>-0.225439</td>\n",
              "    </tr>\n",
              "    <tr>\n",
              "      <th>sex</th>\n",
              "      <td>-0.098447</td>\n",
              "      <td>1.000000</td>\n",
              "      <td>-0.049353</td>\n",
              "      <td>-0.056769</td>\n",
              "      <td>-0.197912</td>\n",
              "      <td>0.045032</td>\n",
              "      <td>-0.058196</td>\n",
              "      <td>-0.044020</td>\n",
              "      <td>0.141664</td>\n",
              "      <td>0.096093</td>\n",
              "      <td>-0.030711</td>\n",
              "      <td>0.118261</td>\n",
              "      <td>0.210041</td>\n",
              "      <td>-0.280937</td>\n",
              "    </tr>\n",
              "    <tr>\n",
              "      <th>cp</th>\n",
              "      <td>-0.068653</td>\n",
              "      <td>-0.049353</td>\n",
              "      <td>1.000000</td>\n",
              "      <td>0.047608</td>\n",
              "      <td>-0.076904</td>\n",
              "      <td>0.094444</td>\n",
              "      <td>0.044421</td>\n",
              "      <td>0.295762</td>\n",
              "      <td>-0.394280</td>\n",
              "      <td>-0.149230</td>\n",
              "      <td>0.119717</td>\n",
              "      <td>-0.181053</td>\n",
              "      <td>-0.161736</td>\n",
              "      <td>0.433798</td>\n",
              "    </tr>\n",
              "    <tr>\n",
              "      <th>trestbps</th>\n",
              "      <td>0.279351</td>\n",
              "      <td>-0.056769</td>\n",
              "      <td>0.047608</td>\n",
              "      <td>1.000000</td>\n",
              "      <td>0.123174</td>\n",
              "      <td>0.177531</td>\n",
              "      <td>-0.114103</td>\n",
              "      <td>-0.046698</td>\n",
              "      <td>0.067616</td>\n",
              "      <td>0.193216</td>\n",
              "      <td>-0.121475</td>\n",
              "      <td>0.101389</td>\n",
              "      <td>0.062210</td>\n",
              "      <td>-0.144931</td>\n",
              "    </tr>\n",
              "    <tr>\n",
              "      <th>chol</th>\n",
              "      <td>0.213678</td>\n",
              "      <td>-0.197912</td>\n",
              "      <td>-0.076904</td>\n",
              "      <td>0.123174</td>\n",
              "      <td>1.000000</td>\n",
              "      <td>0.013294</td>\n",
              "      <td>-0.151040</td>\n",
              "      <td>-0.009940</td>\n",
              "      <td>0.067023</td>\n",
              "      <td>0.053952</td>\n",
              "      <td>-0.004038</td>\n",
              "      <td>0.070511</td>\n",
              "      <td>0.098803</td>\n",
              "      <td>-0.085239</td>\n",
              "    </tr>\n",
              "    <tr>\n",
              "      <th>fbs</th>\n",
              "      <td>0.121308</td>\n",
              "      <td>0.045032</td>\n",
              "      <td>0.094444</td>\n",
              "      <td>0.177531</td>\n",
              "      <td>0.013294</td>\n",
              "      <td>1.000000</td>\n",
              "      <td>-0.084189</td>\n",
              "      <td>-0.008567</td>\n",
              "      <td>0.025665</td>\n",
              "      <td>0.005747</td>\n",
              "      <td>-0.059894</td>\n",
              "      <td>0.137979</td>\n",
              "      <td>-0.032019</td>\n",
              "      <td>-0.028046</td>\n",
              "    </tr>\n",
              "    <tr>\n",
              "      <th>restecg</th>\n",
              "      <td>-0.116211</td>\n",
              "      <td>-0.058196</td>\n",
              "      <td>0.044421</td>\n",
              "      <td>-0.114103</td>\n",
              "      <td>-0.151040</td>\n",
              "      <td>-0.084189</td>\n",
              "      <td>1.000000</td>\n",
              "      <td>0.044123</td>\n",
              "      <td>-0.070733</td>\n",
              "      <td>-0.058770</td>\n",
              "      <td>0.093045</td>\n",
              "      <td>-0.072042</td>\n",
              "      <td>-0.011981</td>\n",
              "      <td>0.137230</td>\n",
              "    </tr>\n",
              "    <tr>\n",
              "      <th>thalach</th>\n",
              "      <td>-0.398522</td>\n",
              "      <td>-0.044020</td>\n",
              "      <td>0.295762</td>\n",
              "      <td>-0.046698</td>\n",
              "      <td>-0.009940</td>\n",
              "      <td>-0.008567</td>\n",
              "      <td>0.044123</td>\n",
              "      <td>1.000000</td>\n",
              "      <td>-0.378812</td>\n",
              "      <td>-0.344187</td>\n",
              "      <td>0.386784</td>\n",
              "      <td>-0.213177</td>\n",
              "      <td>-0.096439</td>\n",
              "      <td>0.421741</td>\n",
              "    </tr>\n",
              "    <tr>\n",
              "      <th>exang</th>\n",
              "      <td>0.096801</td>\n",
              "      <td>0.141664</td>\n",
              "      <td>-0.394280</td>\n",
              "      <td>0.067616</td>\n",
              "      <td>0.067023</td>\n",
              "      <td>0.025665</td>\n",
              "      <td>-0.070733</td>\n",
              "      <td>-0.378812</td>\n",
              "      <td>1.000000</td>\n",
              "      <td>0.288223</td>\n",
              "      <td>-0.257748</td>\n",
              "      <td>0.115739</td>\n",
              "      <td>0.206754</td>\n",
              "      <td>-0.436757</td>\n",
              "    </tr>\n",
              "    <tr>\n",
              "      <th>oldpeak</th>\n",
              "      <td>0.210013</td>\n",
              "      <td>0.096093</td>\n",
              "      <td>-0.149230</td>\n",
              "      <td>0.193216</td>\n",
              "      <td>0.053952</td>\n",
              "      <td>0.005747</td>\n",
              "      <td>-0.058770</td>\n",
              "      <td>-0.344187</td>\n",
              "      <td>0.288223</td>\n",
              "      <td>1.000000</td>\n",
              "      <td>-0.577537</td>\n",
              "      <td>0.222682</td>\n",
              "      <td>0.210244</td>\n",
              "      <td>-0.430696</td>\n",
              "    </tr>\n",
              "    <tr>\n",
              "      <th>slope</th>\n",
              "      <td>-0.168814</td>\n",
              "      <td>-0.030711</td>\n",
              "      <td>0.119717</td>\n",
              "      <td>-0.121475</td>\n",
              "      <td>-0.004038</td>\n",
              "      <td>-0.059894</td>\n",
              "      <td>0.093045</td>\n",
              "      <td>0.386784</td>\n",
              "      <td>-0.257748</td>\n",
              "      <td>-0.577537</td>\n",
              "      <td>1.000000</td>\n",
              "      <td>-0.080155</td>\n",
              "      <td>-0.104764</td>\n",
              "      <td>0.345877</td>\n",
              "    </tr>\n",
              "    <tr>\n",
              "      <th>ca</th>\n",
              "      <td>0.276326</td>\n",
              "      <td>0.118261</td>\n",
              "      <td>-0.181053</td>\n",
              "      <td>0.101389</td>\n",
              "      <td>0.070511</td>\n",
              "      <td>0.137979</td>\n",
              "      <td>-0.072042</td>\n",
              "      <td>-0.213177</td>\n",
              "      <td>0.115739</td>\n",
              "      <td>0.222682</td>\n",
              "      <td>-0.080155</td>\n",
              "      <td>1.000000</td>\n",
              "      <td>0.151832</td>\n",
              "      <td>-0.391724</td>\n",
              "    </tr>\n",
              "    <tr>\n",
              "      <th>thal</th>\n",
              "      <td>0.068001</td>\n",
              "      <td>0.210041</td>\n",
              "      <td>-0.161736</td>\n",
              "      <td>0.062210</td>\n",
              "      <td>0.098803</td>\n",
              "      <td>-0.032019</td>\n",
              "      <td>-0.011981</td>\n",
              "      <td>-0.096439</td>\n",
              "      <td>0.206754</td>\n",
              "      <td>0.210244</td>\n",
              "      <td>-0.104764</td>\n",
              "      <td>0.151832</td>\n",
              "      <td>1.000000</td>\n",
              "      <td>-0.344029</td>\n",
              "    </tr>\n",
              "    <tr>\n",
              "      <th>target</th>\n",
              "      <td>-0.225439</td>\n",
              "      <td>-0.280937</td>\n",
              "      <td>0.433798</td>\n",
              "      <td>-0.144931</td>\n",
              "      <td>-0.085239</td>\n",
              "      <td>-0.028046</td>\n",
              "      <td>0.137230</td>\n",
              "      <td>0.421741</td>\n",
              "      <td>-0.436757</td>\n",
              "      <td>-0.430696</td>\n",
              "      <td>0.345877</td>\n",
              "      <td>-0.391724</td>\n",
              "      <td>-0.344029</td>\n",
              "      <td>1.000000</td>\n",
              "    </tr>\n",
              "  </tbody>\n",
              "</table>\n",
              "</div>"
            ],
            "text/plain": [
              "               age       sex        cp  ...        ca      thal    target\n",
              "age       1.000000 -0.098447 -0.068653  ...  0.276326  0.068001 -0.225439\n",
              "sex      -0.098447  1.000000 -0.049353  ...  0.118261  0.210041 -0.280937\n",
              "cp       -0.068653 -0.049353  1.000000  ... -0.181053 -0.161736  0.433798\n",
              "trestbps  0.279351 -0.056769  0.047608  ...  0.101389  0.062210 -0.144931\n",
              "chol      0.213678 -0.197912 -0.076904  ...  0.070511  0.098803 -0.085239\n",
              "fbs       0.121308  0.045032  0.094444  ...  0.137979 -0.032019 -0.028046\n",
              "restecg  -0.116211 -0.058196  0.044421  ... -0.072042 -0.011981  0.137230\n",
              "thalach  -0.398522 -0.044020  0.295762  ... -0.213177 -0.096439  0.421741\n",
              "exang     0.096801  0.141664 -0.394280  ...  0.115739  0.206754 -0.436757\n",
              "oldpeak   0.210013  0.096093 -0.149230  ...  0.222682  0.210244 -0.430696\n",
              "slope    -0.168814 -0.030711  0.119717  ... -0.080155 -0.104764  0.345877\n",
              "ca        0.276326  0.118261 -0.181053  ...  1.000000  0.151832 -0.391724\n",
              "thal      0.068001  0.210041 -0.161736  ...  0.151832  1.000000 -0.344029\n",
              "target   -0.225439 -0.280937  0.433798  ... -0.391724 -0.344029  1.000000\n",
              "\n",
              "[14 rows x 14 columns]"
            ]
          },
          "metadata": {},
          "execution_count": 19
        }
      ]
    },
    {
      "cell_type": "code",
      "metadata": {
        "colab": {
          "base_uri": "https://localhost:8080/",
          "height": 592
        },
        "id": "e04878ba",
        "outputId": "e897bcc9-8edc-4e4a-9a42-23fa8a7cee56"
      },
      "source": [
        "fig, ax = plt.subplots(figsize=(15,10))\n",
        "\n",
        "\n",
        "ax = sns.heatmap(corr_matrix,\n",
        "                annot=True,\n",
        "                linewidths=0.5,\n",
        "                fmt=\".2f\",\n",
        "                cmap = \"Blues\",\n",
        "                vmin=-0.5,vmax=0.5);"
      ],
      "id": "e04878ba",
      "execution_count": null,
      "outputs": [
        {
          "output_type": "display_data",
          "data": {
            "image/png": "[encoded data removed]",
            "text/plain": [
              "<Figure size 1080x720 with 2 Axes>"
            ]
          },
          "metadata": {
            "needs_background": "light"
          }
        }
      ]
    },
    {
      "cell_type": "markdown",
      "metadata": {
        "id": "c17bdef0"
      },
      "source": [
        "#### Quan sát\n",
        "- `(cp, target) = 0,43` => Tương quan vị trí: Khi Cp tăng lên, target cũng tăng\n",
        "- `(exang, target) = -0,44 '=> Tương quan tiêu cực: Thật kỳ lạ, nếu ai đó bị đau ngực khi tập thể dục (exang = 1), khả năng mắc bệnh tim của họ sẽ giảm xuống (target = 0)\n",
        "    - exang là \"tập thể dục gây đau ngực\"\n",
        "    \n",
        "Vì vậy, những gì chúng tôi sẽ làm tiếp theo là **EDA điều khiển theo mô hình**, nghĩa là, chúng tôi sẽ sử dụng các mô hình học máy để thúc đẩy các câu hỏi tiếp theo của chúng tôi.\n",
        "\n",
        "    * Phân phối (`df.column.hist ()`)\n",
        "    * Thiếu giá trị (`df.info ()`)\n",
        "    * Ngoại lệ\n",
        "\n",
        "\n",
        "\n",
        "## 5. Mô hình đào tạo máy học\n",
        "Hãy xây dựng một số mô hình học máy:\n",
        "1. Hồi quy hậu cần - [`LogisticRegression ()`] (https://scikit-learn.org/stable/modules/generated/sklearn.linear_model.LogisticRegression.html)\n",
        "2. K-Nearest Neighbors - [`KNeighboursClassifier ()`] (https://scikit-learn.org/stable/modules/generated/sklearn.neighbors.KNeighborsClassifier.html)\n",
        "3. RandomForest - [`RandomForestClassifier ()`] (https://scikit-learn.org/stable/modules/generated/sklearn.ensemble.RandomForestClassifier.html)"
      ],
      "id": "c17bdef0"
    },
    {
      "cell_type": "code",
      "metadata": {
        "id": "78794ccb"
      },
      "source": [
        "# Split data into X and y\n",
        "\n",
        "X = df.drop(\"target\", axis=1)\n",
        "y = df[\"target\"]"
      ],
      "id": "78794ccb",
      "execution_count": null,
      "outputs": []
    },
    {
      "cell_type": "code",
      "metadata": {
        "id": "88187e2b"
      },
      "source": [
        "# Split data into train and test sets\n",
        "np.random.seed(42)\n",
        "\n",
        "#Split into train and test set\n",
        "X_train, X_test, y_train, y_test = train_test_split(X, y, test_size=0.2)"
      ],
      "id": "88187e2b",
      "execution_count": null,
      "outputs": []
    },
    {
      "cell_type": "code",
      "metadata": {
        "id": "a14f6542"
      },
      "source": [
        "# Put models in a dictionary\n",
        "models = {\"Logistic Regression\": LogisticRegression(max_iter=10000),\n",
        "          \"KNN\": KNeighborsClassifier(),\n",
        "          \"Random Forest\": RandomForestClassifier()}\n",
        "\n",
        "# Creat a funciton to fit and score models\n",
        "def fit_and_score(models, X_train, X_test, y_train, y_test):\n",
        "    \"\"\"\n",
        "    Fits and evaluates given machine learning models.\n",
        "    models : a dict of different Scikit-Learn machine learning models\n",
        "    X_train : training data\n",
        "    X_test : testing data\n",
        "    y_train : labels assosciated with training data\n",
        "    y_test : labels assosciated with test data\n",
        "    \"\"\"\n",
        "    # Set random seed\n",
        "    np.random.seed(42)\n",
        "    # Make a dictionary to keep model scores\n",
        "    model_scores = {}\n",
        "    # Loop throuhg models\n",
        "    for name, model in models.items():\n",
        "        #Fit the model to the data\n",
        "        model.fit(X_train, y_train)\n",
        "        #Evaluate the model and append its score to model_scores\n",
        "        model_scores[name]= model.score(X_test, y_test)\n",
        "    return model_scores\n",
        ""
      ],
      "id": "a14f6542",
      "execution_count": null,
      "outputs": []
    },
    {
      "cell_type": "code",
      "metadata": {
        "colab": {
          "base_uri": "https://localhost:8080/"
        },
        "id": "c7e85acc",
        "outputId": "3a8af492-3f29-4225-a606-a05da71d9e00"
      },
      "source": [
        "model_score = fit_and_score(models=models,\n",
        "                            X_train=X_train,\n",
        "                            X_test=X_test,\n",
        "                            y_train=y_train,\n",
        "                            y_test=y_test)\n",
        "model_score"
      ],
      "id": "c7e85acc",
      "execution_count": null,
      "outputs": [
        {
          "output_type": "execute_result",
          "data": {
            "text/plain": [
              "{'KNN': 0.6885245901639344,\n",
              " 'Logistic Regression': 0.8852459016393442,\n",
              " 'Random Forest': 0.8360655737704918}"
            ]
          },
          "metadata": {},
          "execution_count": 29
        }
      ]
    },
    {
      "cell_type": "markdown",
      "metadata": {
        "id": "fa6a9daf"
      },
      "source": [
        "### Model Comparison"
      ],
      "id": "fa6a9daf"
    },
    {
      "cell_type": "code",
      "metadata": {
        "colab": {
          "base_uri": "https://localhost:8080/",
          "height": 81
        },
        "id": "6af65cc6",
        "outputId": "52128a10-25ca-487f-9fd3-39fbb9491fe1"
      },
      "source": [
        "model_compare = pd.DataFrame(model_score, index=[\"accuracy\"])\n",
        "model_compare"
      ],
      "id": "6af65cc6",
      "execution_count": null,
      "outputs": [
        {
          "output_type": "execute_result",
          "data": {
            "text/html": [
              "<div>\n",
              "<style scoped>\n",
              "    .dataframe tbody tr th:only-of-type {\n",
              "        vertical-align: middle;\n",
              "    }\n",
              "\n",
              "    .dataframe tbody tr th {\n",
              "        vertical-align: top;\n",
              "    }\n",
              "\n",
              "    .dataframe thead th {\n",
              "        text-align: right;\n",
              "    }\n",
              "</style>\n",
              "<table border=\"1\" class=\"dataframe\">\n",
              "  <thead>\n",
              "    <tr style=\"text-align: right;\">\n",
              "      <th></th>\n",
              "      <th>Logistic Regression</th>\n",
              "      <th>KNN</th>\n",
              "      <th>Random Forest</th>\n",
              "    </tr>\n",
              "  </thead>\n",
              "  <tbody>\n",
              "    <tr>\n",
              "      <th>accuracy</th>\n",
              "      <td>0.885246</td>\n",
              "      <td>0.688525</td>\n",
              "      <td>0.836066</td>\n",
              "    </tr>\n",
              "  </tbody>\n",
              "</table>\n",
              "</div>"
            ],
            "text/plain": [
              "          Logistic Regression       KNN  Random Forest\n",
              "accuracy             0.885246  0.688525       0.836066"
            ]
          },
          "metadata": {},
          "execution_count": 30
        }
      ]
    },
    {
      "cell_type": "code",
      "metadata": {
        "colab": {
          "base_uri": "https://localhost:8080/",
          "height": 351
        },
        "id": "a8d8d7ed",
        "outputId": "60674999-a4cb-4273-8e56-0d748e4e33fb"
      },
      "source": [
        "model_compare.T.plot.bar();"
      ],
      "id": "a8d8d7ed",
      "execution_count": null,
      "outputs": [
        {
          "output_type": "display_data",
          "data": {
            "image/png": "[encoded data removed]",
            "text/plain": [
              "<Figure size 432x288 with 1 Axes>"
            ]
          },
          "metadata": {
            "needs_background": "light"
          }
        }
      ]
    },
    {
      "cell_type": "markdown",
      "metadata": {
        "id": "a7020ff4"
      },
      "source": [
        "Bây giờ chúng tôi đã có một mô hình cơ sở ... và chúng tôi biết những dự đoán đầu tiên của một mô hình không phải lúc nào cũng là những gì chúng tôi nên dựa trên các bước tiếp theo của mình. Chúng ta nên làm gì?\n",
        "Let's look at the following:\n",
        "* Hypyterparameter tuning\n",
        "* Feature importance\n",
        "* Confusion matrix\n",
        "* Cross-validation\n",
        "* Precision\n",
        "* Recall\n",
        "* F1 score\n",
        "* Classification report\n",
        "* ROC curve\n",
        "* Area under the curve (AUC)\n",
        "\n",
        "### Hyperparameter tuning (by hand)"
      ],
      "id": "a7020ff4"
    },
    {
      "cell_type": "code",
      "metadata": {
        "id": "13b56510"
      },
      "source": [
        "# Let's tune KNN\n",
        "train_scores = []\n",
        "test_scores = []\n",
        "\n",
        "#Create a list of different values for n_neighbors\n",
        "neighbors = range(1,21)\n",
        "\n",
        "#Setup KNN instance\n",
        "knn = KNeighborsClassifier()\n",
        "\n",
        "#Loop through diff n_neighbors\n",
        "for i in neighbors:\n",
        "    knn.set_params(n_neighbors=i)\n",
        "\n",
        "    #fit the algo\n",
        "    knn.fit(X_train, y_train)\n",
        "\n",
        "    #Update training score list\n",
        "    train_scores.append(knn.score(X_train, y_train))\n",
        "    #Update test score list\n",
        "    test_scores.append(knn.score(X_test, y_test))"
      ],
      "id": "13b56510",
      "execution_count": null,
      "outputs": []
    },
    {
      "cell_type": "code",
      "metadata": {
        "colab": {
          "base_uri": "https://localhost:8080/",
          "height": 296
        },
        "id": "2bb294fd",
        "outputId": "421d45f3-b5eb-47d8-e65a-6759948dd1b9"
      },
      "source": [
        "plt.plot(neighbors, train_scores, label=\"Train Score\")\n",
        "plt.plot(neighbors, test_scores, label=\"Test Score\")\n",
        "plt.xlabel(\"Number of neighbors\")\n",
        "plt.xticks(np.arange(1,21,1))\n",
        "plt.ylabel(\"Model Score\")\n",
        "plt.legend();\n",
        "\n",
        "print(f\"Maximum KNN score on the test data: {max(test_scores)*100:.2f}%\")"
      ],
      "id": "2bb294fd",
      "execution_count": null,
      "outputs": [
        {
          "output_type": "stream",
          "name": "stdout",
          "text": [
            "Maximum KNN score on the test data: 75.41%\n"
          ]
        },
        {
          "output_type": "display_data",
          "data": {
            "image/png": "[encoded data removed]",
            "text/plain": [
              "<Figure size 432x288 with 1 Axes>"
            ]
          },
          "metadata": {
            "needs_background": "light"
          }
        }
      ]
    },
    {
      "cell_type": "markdown",
      "metadata": {
        "id": "fb93ec0d"
      },
      "source": [
        "## Hyperparameter tuning with RandomizedSearchCV\n",
        "\n",
        "We're going to tune below models using `RandomizedSearchCV`\n",
        "* LogisticRegression()\n",
        "* RandomForestClassifier()\n"
      ],
      "id": "fb93ec0d"
    },
    {
      "cell_type": "code",
      "metadata": {
        "id": "e98a21f8"
      },
      "source": [
        "# Create a hyper-parameter grid for LogisticRegression()\n",
        "\n",
        "log_reg_grid = {\"C\": np.logspace(-4,4,20), #most valuable for Log Reg model\n",
        "                \"solver\": [\"liblinear\"]}\n",
        "\n",
        "# Create a hyper-parameter grid for RandomForestClassifier()\n",
        "rf_grid = {\"n_estimators\": np.arange(10,1000,50),\n",
        "           \"max_depth\": [None, 3,5,10],\n",
        "           \"min_samples_split\": np.arange(2,20,2),\n",
        "           \"min_samples_leaf\": np.arange(1,20,2)}\n"
      ],
      "id": "e98a21f8",
      "execution_count": null,
      "outputs": []
    },
    {
      "cell_type": "markdown",
      "metadata": {
        "id": "3b541ea2"
      },
      "source": [
        "Now we've got hyperparameter grids setup for each of our models, let's tune them using `RandomizedSearchCV`"
      ],
      "id": "3b541ea2"
    },
    {
      "cell_type": "code",
      "metadata": {
        "colab": {
          "base_uri": "https://localhost:8080/"
        },
        "id": "b15b01a6",
        "outputId": "ef4dda88-77a9-43b3-f82e-3741380e1270"
      },
      "source": [
        "# Tune Logistic Regression\n",
        "\n",
        "np.random.seed(42)\n",
        "\n",
        "#Setup random hyper-parameter search for Logistic Regression\n",
        "rs_log_reg = RandomizedSearchCV(LogisticRegression(),\n",
        "                                param_distributions=log_reg_grid,\n",
        "                                cv=5,\n",
        "                                n_iter=20, #Try diff combo of the hyper-grid\n",
        "                                verbose=True)\n",
        "#Fit ranerror_score=dom hyper-parameter search model for Logistic Regression\n",
        "rs_log_reg.fit(X_train, y_train)"
      ],
      "id": "b15b01a6",
      "execution_count": null,
      "outputs": [
        {
          "output_type": "stream",
          "name": "stdout",
          "text": [
            "Fitting 5 folds for each of 20 candidates, totalling 100 fits\n"
          ]
        },
        {
          "output_type": "execute_result",
          "data": {
            "text/plain": [
              "RandomizedSearchCV(cv=5, estimator=LogisticRegression(), n_iter=20,\n",
              "                   param_distributions={'C': array([1.00000000e-04, 2.63665090e-04, 6.95192796e-04, 1.83298071e-03,\n",
              "       4.83293024e-03, 1.27427499e-02, 3.35981829e-02, 8.85866790e-02,\n",
              "       2.33572147e-01, 6.15848211e-01, 1.62377674e+00, 4.28133240e+00,\n",
              "       1.12883789e+01, 2.97635144e+01, 7.84759970e+01, 2.06913808e+02,\n",
              "       5.45559478e+02, 1.43844989e+03, 3.79269019e+03, 1.00000000e+04]),\n",
              "                                        'solver': ['liblinear']},\n",
              "                   verbose=True)"
            ]
          },
          "metadata": {},
          "execution_count": 36
        }
      ]
    },
    {
      "cell_type": "code",
      "metadata": {
        "colab": {
          "base_uri": "https://localhost:8080/"
        },
        "id": "e42b9270",
        "outputId": "63e27c25-be26-4dd8-b95f-fabae0d6ed48"
      },
      "source": [
        "rs_log_reg.best_params_"
      ],
      "id": "e42b9270",
      "execution_count": null,
      "outputs": [
        {
          "output_type": "execute_result",
          "data": {
            "text/plain": [
              "{'C': 0.23357214690901212, 'solver': 'liblinear'}"
            ]
          },
          "metadata": {},
          "execution_count": 37
        }
      ]
    },
    {
      "cell_type": "code",
      "metadata": {
        "colab": {
          "base_uri": "https://localhost:8080/"
        },
        "id": "a9def0f1",
        "outputId": "f9d092c1-320b-4aa2-a2cd-5d9fcd7c8284"
      },
      "source": [
        "rs_log_reg.score(X_test, y_test)"
      ],
      "id": "a9def0f1",
      "execution_count": null,
      "outputs": [
        {
          "output_type": "execute_result",
          "data": {
            "text/plain": [
              "0.8852459016393442"
            ]
          },
          "metadata": {},
          "execution_count": 38
        }
      ]
    },
    {
      "cell_type": "markdown",
      "metadata": {
        "id": "7243d7f4"
      },
      "source": [
        "Now we've tuned `LogisticRegression()`, let's do the same for `RandomForestClassifier()`..."
      ],
      "id": "7243d7f4"
    },
    {
      "cell_type": "code",
      "metadata": {
        "colab": {
          "base_uri": "https://localhost:8080/"
        },
        "id": "52ca74b7",
        "outputId": "5d8a47b6-f990-42b9-8e98-d2dc2cfb2f47"
      },
      "source": [
        "# Setup random seed\n",
        "np.random.seed(42)\n",
        "\n",
        "# Setup random hyperparameter search for RandomForestClassifier\n",
        "rs_rf = RandomizedSearchCV(RandomForestClassifier(),\n",
        "                           param_distributions=rf_grid,\n",
        "                           cv=5,\n",
        "                           n_iter=20,\n",
        "                           verbose=True)\n",
        "\n",
        "# Fit random hyperparameter search model for RandomForestClassifier()\n",
        "rs_rf.fit(X_train, y_train)"
      ],
      "id": "52ca74b7",
      "execution_count": null,
      "outputs": [
        {
          "output_type": "stream",
          "name": "stdout",
          "text": [
            "Fitting 5 folds for each of 20 candidates, totalling 100 fits\n"
          ]
        },
        {
          "output_type": "execute_result",
          "data": {
            "text/plain": [
              "RandomizedSearchCV(cv=5, estimator=RandomForestClassifier(), n_iter=20,\n",
              "                   param_distributions={'max_depth': [None, 3, 5, 10],\n",
              "                                        'min_samples_leaf': array([ 1,  3,  5,  7,  9, 11, 13, 15, 17, 19]),\n",
              "                                        'min_samples_split': array([ 2,  4,  6,  8, 10, 12, 14, 16, 18]),\n",
              "                                        'n_estimators': array([ 10,  60, 110, 160, 210, 260, 310, 360, 410, 460, 510, 560, 610,\n",
              "       660, 710, 760, 810, 860, 910, 960])},\n",
              "                   verbose=True)"
            ]
          },
          "metadata": {},
          "execution_count": 39
        }
      ]
    },
    {
      "cell_type": "code",
      "metadata": {
        "colab": {
          "base_uri": "https://localhost:8080/"
        },
        "id": "a9154b4c",
        "outputId": "73186fee-ef02-4262-cbb1-10e050114f8d"
      },
      "source": [
        "rs_rf.best_params_"
      ],
      "id": "a9154b4c",
      "execution_count": null,
      "outputs": [
        {
          "output_type": "execute_result",
          "data": {
            "text/plain": [
              "{'max_depth': 3,\n",
              " 'min_samples_leaf': 19,\n",
              " 'min_samples_split': 4,\n",
              " 'n_estimators': 210}"
            ]
          },
          "metadata": {},
          "execution_count": 40
        }
      ]
    },
    {
      "cell_type": "code",
      "metadata": {
        "colab": {
          "base_uri": "https://localhost:8080/"
        },
        "id": "66dd0ee8",
        "outputId": "4f73a42a-3af3-41c8-94f0-ecd4b07e4e08"
      },
      "source": [
        "rs_rf.score(X_test,y_test)"
      ],
      "id": "66dd0ee8",
      "execution_count": null,
      "outputs": [
        {
          "output_type": "execute_result",
          "data": {
            "text/plain": [
              "0.8688524590163934"
            ]
          },
          "metadata": {},
          "execution_count": 41
        }
      ]
    },
    {
      "cell_type": "markdown",
      "metadata": {
        "id": "60102d53"
      },
      "source": [
        "## Hyperparamter Tuning with GridSearchCV\n",
        "\n",
        "Since our LogisticRegression model provides the best scores so far, we'll try and improve them again using GridSearchCV..."
      ],
      "id": "60102d53"
    },
    {
      "cell_type": "code",
      "metadata": {
        "colab": {
          "base_uri": "https://localhost:8080/"
        },
        "id": "dc5275b1",
        "outputId": "58e8ec79-e3a7-4e04-ba70-ea5ac833cadf"
      },
      "source": [
        "# Different hyperparameters for our LogisticRegression model\n",
        "log_reg_grid = {\"C\": np.logspace(-4, 4, 30),\n",
        "                \"solver\": [\"liblinear\"]}\n",
        "\n",
        "# Setup grid hyperparameter search for LogisticRegression\n",
        "gs_log_reg = GridSearchCV(LogisticRegression(),\n",
        "                          param_grid=log_reg_grid,\n",
        "                          cv=5,\n",
        "                          verbose=True)\n",
        "\n",
        "# Fit grid hyperparameter search model\n",
        "gs_log_reg.fit(X_train, y_train);"
      ],
      "id": "dc5275b1",
      "execution_count": null,
      "outputs": [
        {
          "output_type": "stream",
          "name": "stdout",
          "text": [
            "Fitting 5 folds for each of 30 candidates, totalling 150 fits\n"
          ]
        }
      ]
    },
    {
      "cell_type": "code",
      "metadata": {
        "colab": {
          "base_uri": "https://localhost:8080/"
        },
        "id": "896330e9",
        "outputId": "38433174-7b95-4353-ef2f-19a67243f2c9"
      },
      "source": [
        "gs_log_reg.best_params_"
      ],
      "id": "896330e9",
      "execution_count": null,
      "outputs": [
        {
          "output_type": "execute_result",
          "data": {
            "text/plain": [
              "{'C': 0.20433597178569418, 'solver': 'liblinear'}"
            ]
          },
          "metadata": {},
          "execution_count": 43
        }
      ]
    },
    {
      "cell_type": "code",
      "metadata": {
        "colab": {
          "base_uri": "https://localhost:8080/"
        },
        "id": "1cf5bc04",
        "outputId": "b4fb56a4-2b51-4fa6-9ad0-66b83586463e"
      },
      "source": [
        "# Evaluate the grid search LogisticRegression model\n",
        "gs_log_reg.score(X_test, y_test)"
      ],
      "id": "1cf5bc04",
      "execution_count": null,
      "outputs": [
        {
          "output_type": "execute_result",
          "data": {
            "text/plain": [
              "0.8852459016393442"
            ]
          },
          "metadata": {},
          "execution_count": 44
        }
      ]
    },
    {
      "cell_type": "markdown",
      "metadata": {
        "id": "a8d98ffb"
      },
      "source": [
        "## Đánh giá một mô hình phân loại, ngoài độ chính xác\n",
        "\n",
        "Bây giờ chúng ta đã có một mô hình được điều chỉnh, hãy xem một số chỉ số mà chúng ta đã thảo luận trước đây.\n",
        "We want:\n",
        "* ROC curve and AUC score - [`plot_roc_curve()`](https://scikit-learn.org/stable/modules/generated/sklearn.metrics.plot_roc_curve.html#sklearn.metrics.plot_roc_curve)\n",
        "* Confusion matrix - [`confusion_matrix()`](https://scikit-learn.org/stable/modules/generated/sklearn.metrics.confusion_matrix.html)\n",
        "* Classification report - [`classification_report()`](https://scikit-learn.org/stable/modules/generated/sklearn.metrics.classification_report.html)\n",
        "* Precision - [`precision_score()`](https://scikit-learn.org/stable/modules/generated/sklearn.metrics.precision_score.html)\n",
        "* Recall - [`recall_score()`](https://scikit-learn.org/stable/modules/generated/sklearn.metrics.recall_score.html)\n",
        "* F1-score - [`f1_score()`](https://scikit-learn.org/stable/modules/generated/sklearn.metrics.f1_score.html)\n",
        "\n",
        "May mắn thay, Scikit-Learn có tất cả những thứ này được tích hợp sẵn.\n",
        "\n",
        "Để truy cập chúng, chúng tôi sẽ phải sử dụng mô hình của mình để đưa ra dự đoán trên tập thử nghiệm. Bạn có thể đưa ra các dự đoán bằng cách gọi 'dự đoán ()' trên một mô hình được đào tạo và chuyển cho nó dữ liệu bạn muốn dự đoán.\n",
        "\n",
        "Chúng tôi sẽ đưa ra dự đoán về data.ions thử nghiệm."
      ],
      "id": "a8d98ffb"
    },
    {
      "cell_type": "code",
      "metadata": {
        "id": "2e0cae2e"
      },
      "source": [
        "# Make Prediabsctions with Tuned Model\n",
        "y_preds = gs_log_reg.predict(X_test)"
      ],
      "id": "2e0cae2e",
      "execution_count": null,
      "outputs": []
    },
    {
      "cell_type": "markdown",
      "metadata": {
        "id": "3a95b4d3"
      },
      "source": [
        "\n",
        "Let's start with the ROC curve and AUC scores.\n",
        "\n",
        "### ROC Curve and AUC Scores\n",
        "\n",
        "Đường cong ROC là gì?\n",
        "\n",
        "Đó là một cách để hiểu mô hình của bạn đang hoạt động như thế nào bằng cách so sánh tỷ lệ dương tính thực sự với tỷ lệ dương tính giả.\n",
        "\n",
        "Trong trường hợp của chúng ta...\n",
        "\n",
        "> Để lấy một ví dụ thích hợp trong một vấn đề trong thế giới thực, hãy xem xét một xét nghiệm chẩn đoán nhằm xác định xem một người có mắc một bệnh nào đó hay không. Dương tính giả trong trường hợp này xảy ra khi người đó có kết quả xét nghiệm dương tính, nhưng không thực sự mắc bệnh. Mặt khác, âm tính giả xảy ra khi người đó có kết quả xét nghiệm âm tính, cho thấy họ khỏe mạnh, trong khi họ thực sự mắc bệnh.\n",
        "\n",
        "Scikit-Learn triển khai một hàm `plot_roc_curve` có thể giúp chúng tôi tạo đường cong ROC cũng như tính diện tích dưới chỉ số đường cong (AUC).\n",
        "\n",
        "Đọc tài liệu về hàm [`plot_roc_curve`] (https://scikit-learn.org/stable/modules/generated/sklearn.metrics.plot_roc_curve.html), chúng ta có thể thấy nó sử dụng` (ước lượng, X, y) ' làm đầu vào. Trong đó `estiamator` là một mô hình học máy phù hợp và` X` và `y` là dữ liệu bạn muốn kiểm tra.\n",
        "\n",
        "Trong trường hợp của chúng tôi, chúng tôi sẽ sử dụng phiên bản GridSearchCV của công cụ ước tính `LogisticRegression` của chúng tôi,` gs_log_reg` cũng như dữ liệu thử nghiệm, `X_test` và` y_test`."
      ],
      "id": "3a95b4d3"
    },
    {
      "cell_type": "code",
      "metadata": {
        "colab": {
          "base_uri": "https://localhost:8080/",
          "height": 351
        },
        "id": "d625a871",
        "outputId": "f724b429-8d68-435a-d8e2-bae3729dbc23"
      },
      "source": [
        "# Plot ROC curve and calculate AUC metric\n",
        "plot_roc_curve(gs_log_reg, X_test, y_test)"
      ],
      "id": "d625a871",
      "execution_count": null,
      "outputs": [
        {
          "output_type": "stream",
          "name": "stderr",
          "text": [
            "/usr/local/lib/python3.7/dist-packages/sklearn/utils/deprecation.py:87: FutureWarning: Function plot_roc_curve is deprecated; Function `plot_roc_curve` is deprecated in 1.0 and will be removed in 1.2. Use one of the class methods: RocCurveDisplay.from_predictions or RocCurveDisplay.from_estimator.\n",
            "  warnings.warn(msg, category=FutureWarning)\n"
          ]
        },
        {
          "output_type": "execute_result",
          "data": {
            "text/plain": [
              "<sklearn.metrics._plot.roc_curve.RocCurveDisplay at 0x7ff543b63a50>"
            ]
          },
          "metadata": {},
          "execution_count": 46
        },
        {
          "output_type": "display_data",
          "data": {
            "image/png": "[encoded data removed]",
            "text/plain": [
              "<Figure size 432x288 with 1 Axes>"
            ]
          },
          "metadata": {
            "needs_background": "light"
          }
        }
      ]
    },
    {
      "cell_type": "markdown",
      "metadata": {
        "id": "e27634ac"
      },
      "source": [
        "Điều này thật tuyệt, mô hình của chúng tôi làm tốt hơn nhiều so với việc đoán đó sẽ là một đường đi từ góc dưới bên trái đến góc trên cùng bên phải, AUC = 0,5. Nhưng một mô hình hoàn hảo sẽ đạt được điểm AUC là 1,0, vì vậy vẫn còn chỗ để cải thiện.\n",
        "\n",
        "Hãy chuyển sang yêu cầu đánh giá tiếp theo, một ma trận nhầm lẫn.\n",
        "\n",
        "### Ma trận hỗn loạn\n",
        "\n",
        "Ma trận nhầm lẫn là một cách trực quan để hiển thị nơi mô hình của bạn đưa ra dự đoán đúng và nơi nó đưa ra dự đoán sai (hay nói cách khác, bị nhầm lẫn).\n",
        "\n",
        "Scikit-Learn cho phép chúng tôi tạo một ma trận nhầm lẫn bằng cách sử dụng [`crazy_matrix ()`] (https://scikit-learn.org/stable/modules/generated/sklearn.metrics.confusion_matrix.html) và chuyển cho nó các nhãn thực và các nhãn dự đoán."
      ],
      "id": "e27634ac"
    },
    {
      "cell_type": "code",
      "metadata": {
        "colab": {
          "base_uri": "https://localhost:8080/"
        },
        "id": "2885f9f6",
        "outputId": "43f427ff-3999-43c4-b8c7-ab416661f76a"
      },
      "source": [
        "# Display confusion matrix\n",
        "print(confusion_matrix(y_test, y_preds))"
      ],
      "id": "2885f9f6",
      "execution_count": null,
      "outputs": [
        {
          "output_type": "stream",
          "name": "stdout",
          "text": [
            "[[25  4]\n",
            " [ 3 29]]\n"
          ]
        }
      ]
    },
    {
      "cell_type": "code",
      "metadata": {
        "colab": {
          "base_uri": "https://localhost:8080/"
        },
        "id": "1b7e4758",
        "outputId": "6512beac-4d6f-4f3d-8360-0b06e8bb903b"
      },
      "source": [
        "# outcome values order in sklearn\n",
        "tn, fp, fn, tp = confusion_matrix(y_test,y_preds).ravel() #To flatten the matrix\n",
        "print('Outcome values : \\n', tp, fn, fp, tn)"
      ],
      "id": "1b7e4758",
      "execution_count": null,
      "outputs": [
        {
          "output_type": "stream",
          "name": "stdout",
          "text": [
            "Outcome values : \n",
            " 29 3 4 25\n"
          ]
        }
      ]
    },
    {
      "cell_type": "markdown",
      "metadata": {
        "id": "dd195f24"
      },
      "source": [
        "Như bạn có thể thấy, ma trận nhầm lẫn được tích hợp sẵn trong Scikit-Learn hơi nhạt nhẽo. Đối với một bản trình bày, bạn có thể muốn làm cho nó trở nên trực quan.\n",
        "\n",
        "Hãy tạo một hàm sử dụng [`heatmap ()`] (https://seaborn.pydata.org/generated/seaborn.heatmap.html) của Seaborn để làm như vậy."
      ],
      "id": "dd195f24"
    },
    {
      "cell_type": "code",
      "metadata": {
        "colab": {
          "base_uri": "https://localhost:8080/",
          "height": 243
        },
        "id": "93506349",
        "outputId": "ace10be7-81c4-4ae6-8b19-4e9f6056b043"
      },
      "source": [
        "sns.set(font_scale=1.5) # Increase font size\n",
        "\n",
        "def plot_conf_mat(y_test, y_preds):\n",
        "    \"\"\"\n",
        "    Plots a confusion matrix using Seaborn's heatmap().\n",
        "    \"\"\"\n",
        "    fig, ax = plt.subplots(figsize=(3, 3))\n",
        "    ax = sns.heatmap(confusion_matrix(y_test, y_preds),\n",
        "                     annot=True, # Annotate the boxes\n",
        "                     cbar=False,\n",
        "                     cmap=\"Blues\")\n",
        "    plt.xlabel(\"Predicted label\") # predictions go on the x-axis\n",
        "    plt.ylabel(\"True label\") # true labels go on the y-axis\n",
        "\n",
        "plot_conf_mat(y_test, y_preds)"
      ],
      "id": "93506349",
      "execution_count": null,
      "outputs": [
        {
          "output_type": "display_data",
          "data": {
            "image/png": "[encoded data removed]",
            "text/plain": [
              "<Figure size 216x216 with 1 Axes>"
            ]
          },
          "metadata": {}
        }
      ]
    },
    {
      "cell_type": "markdown",
      "metadata": {
        "id": "8209d98f"
      },
      "source": [
        "Tài liệu: https://scikit-learn.org/stable/auto_examples/model_selection/plot_confusion_matrix.html\n",
        "- Bạn có thể thấy mô hình bị nhầm lẫn (dự đoán sai nhãn) tương đối giống nhau trên cả hai lớp.\n",
        "- 4 lần trong đó mô hình dự đoán 1 khi nó đáng lẽ bằng 0 (`dương tính giả`)\n",
        "- 3 trường hợp mô hình dự đoán 0 thay vì 1 (`sai âm`)."
      ],
      "id": "8209d98f"
    },
    {
      "cell_type": "markdown",
      "metadata": {
        "id": "55bee2a6"
      },
      "source": [
        "### Báo cáo phân loại\n",
        "\n",
        "Chúng tôi có thể tạo báo cáo phân loại bằng cách sử dụng [`phân loại_report ()`] (https://scikit-learn.org/stable/modules/generated/sklearn.metrics.classification_report.html) và chuyển cho nó các nhãn thực cũng như các mô hình của chúng tôi các nhãn dự đoán.\n",
        "\n",
        "Báo cáo phân loại cũng sẽ cung cấp cho chúng tôi thông tin về độ chính xác và thu hồi mô hình của chúng tôi cho từng loại."
      ],
      "id": "55bee2a6"
    },
    {
      "cell_type": "code",
      "metadata": {
        "colab": {
          "base_uri": "https://localhost:8080/"
        },
        "id": "e073f281",
        "outputId": "ba15bfcc-ee95-4e97-86cc-2f8d61378786"
      },
      "source": [
        "print(classification_report(y_test, y_preds)) #Based on only 1 test set"
      ],
      "id": "e073f281",
      "execution_count": null,
      "outputs": [
        {
          "output_type": "stream",
          "name": "stdout",
          "text": [
            "              precision    recall  f1-score   support\n",
            "\n",
            "           0       0.89      0.86      0.88        29\n",
            "           1       0.88      0.91      0.89        32\n",
            "\n",
            "    accuracy                           0.89        61\n",
            "   macro avg       0.89      0.88      0.88        61\n",
            "weighted avg       0.89      0.89      0.89        61\n",
            "\n"
          ]
        }
      ]
    },
    {
      "cell_type": "markdown",
      "metadata": {
        "id": "0421f6e6"
      },
      "source": [
        "\n",
        "* **Precision** - Cho biết tỷ lệ nhận dạng tích cực (mô hình dự đoán loại 1) thực sự đúng. Mô hình không tạo ra kết quả dương tính giả có độ chính xác là 1,0.\n",
        "* **Recall** - Cho biết tỷ lệ dương tính thực tế đã được phân loại chính xác. Mô hình không tạo ra âm tính giả có mức thu hồi là 1,0.\n",
        "* **F1 score** - Sự kết hợp giữa độ chính xác và khả năng thu hồi. Một mô hình hoàn hảo đạt được điểm F1 là 1,0.\n",
        "* **Support** - Số lượng mẫu mỗi chỉ số đã được tính toán.\n",
        "* **Accuracy** - Độ chính xác của mô hình ở dạng thập phân. Độ chính xác hoàn hảo bằng 1,0.\n",
        "* **Macro avg** - Viết tắt của macro trung bình, độ chính xác trung bình, thu hồi và điểm F1 giữa các lớp. Mức trung bình vĩ mô không làm mất cân bằng lớp thành nỗ lực, vì vậy nếu bạn có sự mất cân bằng lớp, hãy chú ý đến số liệu này.\n",
        "* **Weighted avg** - Viết tắt của trung bình có trọng số, độ chính xác, thu hồi và điểm F1 trung bình có trọng số giữa các lớp. Có trọng số nghĩa là mỗi số liệu được tính toán theo số lượng mẫu có trong mỗi loại. Số liệu này sẽ ưu tiên cho lớp đa số (ví dụ: sẽ cho giá trị cao khi một lớp ra thực hiện một lớp khác do có nhiều mẫu hơn).\n",
        "\n",
        "### Tính toán các chỉ số đánh giá bằng cách sử dụng xác thực chéo\n",
        "\n",
        "Chúng tôi sẽ tính toán độ chính xác, độ chính xác, thu hồi và điểm số f1 của mô hình của chúng tôi bằng cách sử dụng xác thực chéo và để làm như vậy, chúng tôi sẽ sử dụng `cross_val_score () '."
      ],
      "id": "0421f6e6"
    },
    {
      "cell_type": "code",
      "metadata": {
        "colab": {
          "base_uri": "https://localhost:8080/"
        },
        "id": "7ed71eee",
        "outputId": "58bce219-9de9-4806-b6f7-709b2e9a9454"
      },
      "source": [
        "#Check best Hyperparameters\n",
        "gs_log_reg.best_params_"
      ],
      "id": "7ed71eee",
      "execution_count": null,
      "outputs": [
        {
          "output_type": "execute_result",
          "data": {
            "text/plain": [
              "{'C': 0.20433597178569418, 'solver': 'liblinear'}"
            ]
          },
          "metadata": {},
          "execution_count": 52
        }
      ]
    },
    {
      "cell_type": "code",
      "metadata": {
        "id": "83153d9f"
      },
      "source": [
        "# Create a new classifier with best parameters\n",
        "\n",
        "clf = LogisticRegression(C=0.20433597178569418, solver='liblinear')"
      ],
      "id": "83153d9f",
      "execution_count": null,
      "outputs": []
    },
    {
      "cell_type": "code",
      "metadata": {
        "colab": {
          "base_uri": "https://localhost:8080/"
        },
        "id": "7f9e1028",
        "outputId": "2e538dec-6c2b-4667-f4cc-88259301325f"
      },
      "source": [
        "# Cross-validated accuracy\n",
        "cv_acc = cross_val_score(clf, X, y, cv=5, scoring=\"accuracy\")\n",
        "cv_acc = np.mean(cv_acc)\n",
        "cv_acc"
      ],
      "id": "7f9e1028",
      "execution_count": null,
      "outputs": [
        {
          "output_type": "execute_result",
          "data": {
            "text/plain": [
              "0.8446994535519124"
            ]
          },
          "metadata": {},
          "execution_count": 54
        }
      ]
    },
    {
      "cell_type": "code",
      "metadata": {
        "colab": {
          "base_uri": "https://localhost:8080/"
        },
        "id": "df6d949f",
        "outputId": "900a0bf3-61a7-4308-e63a-eef2e6b3c5c7"
      },
      "source": [
        "# Cross-validated precision\n",
        "cv_precision = cross_val_score(clf, X, y, cv=5, scoring=\"precision\")\n",
        "cv_precision = np.mean(cv_precision)\n",
        "cv_precision"
      ],
      "id": "df6d949f",
      "execution_count": null,
      "outputs": [
        {
          "output_type": "execute_result",
          "data": {
            "text/plain": [
              "0.8207936507936507"
            ]
          },
          "metadata": {},
          "execution_count": 55
        }
      ]
    },
    {
      "cell_type": "code",
      "metadata": {
        "colab": {
          "base_uri": "https://localhost:8080/"
        },
        "id": "9ce174a9",
        "outputId": "bfae42ad-37b8-4440-be6c-d6cb39dacc9b"
      },
      "source": [
        "# Cross-validated recall\n",
        "cv_recall = cross_val_score(clf, X, y, cv=5, scoring=\"recall\")\n",
        "cv_recall = np.mean(cv_recall)\n",
        "cv_recall"
      ],
      "id": "9ce174a9",
      "execution_count": null,
      "outputs": [
        {
          "output_type": "execute_result",
          "data": {
            "text/plain": [
              "0.9212121212121213"
            ]
          },
          "metadata": {},
          "execution_count": 56
        }
      ]
    },
    {
      "cell_type": "code",
      "metadata": {
        "colab": {
          "base_uri": "https://localhost:8080/"
        },
        "id": "c72127ea",
        "outputId": "01c5ec23-0a97-43df-b144-7dacd565254c"
      },
      "source": [
        "# Cross-validated f1-score\n",
        "cv_f1 = cross_val_score(clf, X, y, cv=5, scoring=\"f1\")\n",
        "cv_f1 = np.mean(cv_f1)\n",
        "cv_f1"
      ],
      "id": "c72127ea",
      "execution_count": null,
      "outputs": [
        {
          "output_type": "execute_result",
          "data": {
            "text/plain": [
              "0.8673007976269721"
            ]
          },
          "metadata": {},
          "execution_count": 57
        }
      ]
    },
    {
      "cell_type": "code",
      "metadata": {
        "colab": {
          "base_uri": "https://localhost:8080/",
          "height": 81
        },
        "id": "be0501b3",
        "outputId": "3383f9ce-9583-493e-c36e-ad69a2df6049"
      },
      "source": [
        "# Visualiza cross-validated metrics\n",
        "cv_metrics = pd.DataFrame({\"Accuracy\": cv_acc,\n",
        "                           \"Precision\": cv_precision,\n",
        "                           \"Recall\": cv_recall,\n",
        "                           \"F1\": cv_f1}, index=[0])\n",
        "cv_metrics"
      ],
      "id": "be0501b3",
      "execution_count": null,
      "outputs": [
        {
          "output_type": "execute_result",
          "data": {
            "text/html": [
              "<div>\n",
              "<style scoped>\n",
              "    .dataframe tbody tr th:only-of-type {\n",
              "        vertical-align: middle;\n",
              "    }\n",
              "\n",
              "    .dataframe tbody tr th {\n",
              "        vertical-align: top;\n",
              "    }\n",
              "\n",
              "    .dataframe thead th {\n",
              "        text-align: right;\n",
              "    }\n",
              "</style>\n",
              "<table border=\"1\" class=\"dataframe\">\n",
              "  <thead>\n",
              "    <tr style=\"text-align: right;\">\n",
              "      <th></th>\n",
              "      <th>Accuracy</th>\n",
              "      <th>Precision</th>\n",
              "      <th>Recall</th>\n",
              "      <th>F1</th>\n",
              "    </tr>\n",
              "  </thead>\n",
              "  <tbody>\n",
              "    <tr>\n",
              "      <th>0</th>\n",
              "      <td>0.844699</td>\n",
              "      <td>0.820794</td>\n",
              "      <td>0.921212</td>\n",
              "      <td>0.867301</td>\n",
              "    </tr>\n",
              "  </tbody>\n",
              "</table>\n",
              "</div>"
            ],
            "text/plain": [
              "   Accuracy  Precision    Recall        F1\n",
              "0  0.844699   0.820794  0.921212  0.867301"
            ]
          },
          "metadata": {},
          "execution_count": 58
        }
      ]
    },
    {
      "cell_type": "code",
      "metadata": {
        "colab": {
          "base_uri": "https://localhost:8080/",
          "height": 353
        },
        "id": "b325b94d",
        "outputId": "71a94e74-cba4-4c6b-c5b5-f908684a531d"
      },
      "source": [
        "cv_metrics.T.plot.bar(title=\"Cross-validated classification metrics\", legend=False);"
      ],
      "id": "b325b94d",
      "execution_count": null,
      "outputs": [
        {
          "output_type": "display_data",
          "data": {
            "image/png": "[encoded data removed]",
            "text/plain": [
              "<Figure size 432x288 with 1 Axes>"
            ]
          },
          "metadata": {}
        }
      ]
    },
    {
      "cell_type": "markdown",
      "metadata": {
        "id": "286894bd"
      },
      "source": [
        "## Tầm quan trọng của Tính năng\n",
        "\n",
        "- Tầm quan trọng của tính năng là một câu hỏi khác khi hỏi \"Tính năng nào đóng góp nhiều nhất vào kết quả của mô hình và chúng đã đóng góp như thế nào?\"\n",
        "- Việc tìm kiếm tầm quan trọng của tính năng là khác nhau đối với mỗi mô hình học máy. Một cách để tìm mức độ quan trọng của đối tượng địa lý là tìm kiếm \"(Tên kiểu máy) tầm quan trọng của đối tượng địa lý\""
      ],
      "id": "286894bd"
    },
    {
      "cell_type": "code",
      "metadata": {
        "id": "c4d8e621"
      },
      "source": [
        "clf.fit(X_train, y_train);"
      ],
      "id": "c4d8e621",
      "execution_count": null,
      "outputs": []
    },
    {
      "cell_type": "code",
      "metadata": {
        "colab": {
          "base_uri": "https://localhost:8080/"
        },
        "id": "7c8e7950",
        "outputId": "984617b8-5c5f-4f46-a795-38606a101ded"
      },
      "source": [
        "# Check coef_\n",
        "clf.coef_"
      ],
      "id": "7c8e7950",
      "execution_count": null,
      "outputs": [
        {
          "output_type": "execute_result",
          "data": {
            "text/plain": [
              "array([[ 0.00320769, -0.86062049,  0.66001432, -0.01155971, -0.00166496,\n",
              "         0.04017236,  0.31603405,  0.02458922, -0.60470171, -0.56795456,\n",
              "         0.45085392, -0.63733328, -0.67555094]])"
            ]
          },
          "metadata": {},
          "execution_count": 61
        }
      ]
    },
    {
      "cell_type": "code",
      "metadata": {
        "colab": {
          "base_uri": "https://localhost:8080/"
        },
        "id": "7f4e83d5",
        "outputId": "0a7eeedf-ca0a-439b-c4de-acb6cb7ee2d4"
      },
      "source": [
        "# Match coef;s of features to columns\n",
        "feature_dict = dict(zip(df.columns, list(clf.coef_[0])))\n",
        "feature_dict"
      ],
      "id": "7f4e83d5",
      "execution_count": null,
      "outputs": [
        {
          "output_type": "execute_result",
          "data": {
            "text/plain": [
              "{'age': 0.0032076883508599633,\n",
              " 'ca': -0.6373332766360461,\n",
              " 'chol': -0.0016649614843449207,\n",
              " 'cp': 0.660014324982524,\n",
              " 'exang': -0.604701713592625,\n",
              " 'fbs': 0.040172360271308105,\n",
              " 'oldpeak': -0.5679545646616215,\n",
              " 'restecg': 0.31603405294617176,\n",
              " 'sex': -0.8606204883695241,\n",
              " 'slope': 0.4508539209693025,\n",
              " 'thal': -0.6755509369619848,\n",
              " 'thalach': 0.02458922341328129,\n",
              " 'trestbps': -0.01155970600550047}"
            ]
          },
          "metadata": {},
          "execution_count": 62
        }
      ]
    },
    {
      "cell_type": "code",
      "metadata": {
        "colab": {
          "base_uri": "https://localhost:8080/",
          "height": 346
        },
        "id": "16b00d88",
        "outputId": "674b0422-ccb0-4813-cb31-a8b8868f20ee"
      },
      "source": [
        "# Visualiza Feature importance\n",
        "feature_df = pd.DataFrame(feature_dict, index=[0])\n",
        "feature_df.T.plot.bar(title=\"Feature Importance\", legend=False);"
      ],
      "id": "16b00d88",
      "execution_count": null,
      "outputs": [
        {
          "output_type": "display_data",
          "data": {
            "image/png": "[encoded data removed]",
            "text/plain": [
              "<Figure size 432x288 with 1 Axes>"
            ]
          },
          "metadata": {}
        }
      ]
    },
    {
      "cell_type": "markdown",
      "metadata": {
        "id": "597ee75a"
      },
      "source": [
        "- Giá trị càng lớn (thanh càng lớn) thì tính năng càng đóng góp nhiều vào quyết định kiểu máy.\n",
        "- Nếu giá trị là âm, có nghĩa là có mối tương quan âm. Và ngược lại đối với các giá trị dương.\n",
        "Ví dụ: thuộc tính `sex` có giá trị âm là -0,904, có nghĩa là khi giá trị cho` sex` tăng lên, thì giá trị `target` sẽ giảm xuống.\n",
        "\n",
        "Chúng ta có thể thấy điều này bằng cách so sánh cột `giới tính` với cột` mục tiêu`."
      ],
      "id": "597ee75a"
    },
    {
      "cell_type": "code",
      "metadata": {
        "scrolled": true,
        "colab": {
          "base_uri": "https://localhost:8080/",
          "height": 143
        },
        "id": "cf5f428d",
        "outputId": "8d43a220-d448-4469-cda3-9d3f34769c8e"
      },
      "source": [
        "pd.crosstab(df[\"sex\"], df[\"target\"])"
      ],
      "id": "cf5f428d",
      "execution_count": null,
      "outputs": [
        {
          "output_type": "execute_result",
          "data": {
            "text/html": [
              "<div>\n",
              "<style scoped>\n",
              "    .dataframe tbody tr th:only-of-type {\n",
              "        vertical-align: middle;\n",
              "    }\n",
              "\n",
              "    .dataframe tbody tr th {\n",
              "        vertical-align: top;\n",
              "    }\n",
              "\n",
              "    .dataframe thead th {\n",
              "        text-align: right;\n",
              "    }\n",
              "</style>\n",
              "<table border=\"1\" class=\"dataframe\">\n",
              "  <thead>\n",
              "    <tr style=\"text-align: right;\">\n",
              "      <th>target</th>\n",
              "      <th>0</th>\n",
              "      <th>1</th>\n",
              "    </tr>\n",
              "    <tr>\n",
              "      <th>sex</th>\n",
              "      <th></th>\n",
              "      <th></th>\n",
              "    </tr>\n",
              "  </thead>\n",
              "  <tbody>\n",
              "    <tr>\n",
              "      <th>0</th>\n",
              "      <td>24</td>\n",
              "      <td>72</td>\n",
              "    </tr>\n",
              "    <tr>\n",
              "      <th>1</th>\n",
              "      <td>114</td>\n",
              "      <td>93</td>\n",
              "    </tr>\n",
              "  </tbody>\n",
              "</table>\n",
              "</div>"
            ],
            "text/plain": [
              "target    0   1\n",
              "sex            \n",
              "0        24  72\n",
              "1       114  93"
            ]
          },
          "metadata": {},
          "execution_count": 64
        }
      ]
    },
    {
      "cell_type": "markdown",
      "metadata": {
        "id": "da46c009"
      },
      "source": [
        "Nhìn lại từ điển dữ liệu, chúng ta thấy `độ dốc` là\" độ dốc của đoạn ST bài tập đỉnh \"trong đó:\n",
        "* 0: Upsloping: nhịp tim tốt hơn khi tập thể dục (không phổ biến)\n",
        "* 1: Flatsloping: thay đổi tối thiểu (tim khỏe mạnh điển hình)\n",
        "* 2: Downslopins: dấu hiệu của tim không khỏe"
      ],
      "id": "da46c009"
    },
    {
      "cell_type": "code",
      "metadata": {
        "colab": {
          "base_uri": "https://localhost:8080/",
          "height": 174
        },
        "id": "9c9a5c56",
        "outputId": "0350d59d-8e45-4210-ff9f-ab33e4a7688d"
      },
      "source": [
        "pd.crosstab(df[\"slope\"], df[\"target\"])"
      ],
      "id": "9c9a5c56",
      "execution_count": null,
      "outputs": [
        {
          "output_type": "execute_result",
          "data": {
            "text/html": [
              "<div>\n",
              "<style scoped>\n",
              "    .dataframe tbody tr th:only-of-type {\n",
              "        vertical-align: middle;\n",
              "    }\n",
              "\n",
              "    .dataframe tbody tr th {\n",
              "        vertical-align: top;\n",
              "    }\n",
              "\n",
              "    .dataframe thead th {\n",
              "        text-align: right;\n",
              "    }\n",
              "</style>\n",
              "<table border=\"1\" class=\"dataframe\">\n",
              "  <thead>\n",
              "    <tr style=\"text-align: right;\">\n",
              "      <th>target</th>\n",
              "      <th>0</th>\n",
              "      <th>1</th>\n",
              "    </tr>\n",
              "    <tr>\n",
              "      <th>slope</th>\n",
              "      <th></th>\n",
              "      <th></th>\n",
              "    </tr>\n",
              "  </thead>\n",
              "  <tbody>\n",
              "    <tr>\n",
              "      <th>0</th>\n",
              "      <td>12</td>\n",
              "      <td>9</td>\n",
              "    </tr>\n",
              "    <tr>\n",
              "      <th>1</th>\n",
              "      <td>91</td>\n",
              "      <td>49</td>\n",
              "    </tr>\n",
              "    <tr>\n",
              "      <th>2</th>\n",
              "      <td>35</td>\n",
              "      <td>107</td>\n",
              "    </tr>\n",
              "  </tbody>\n",
              "</table>\n",
              "</div>"
            ],
            "text/plain": [
              "target   0    1\n",
              "slope          \n",
              "0       12    9\n",
              "1       91   49\n",
              "2       35  107"
            ]
          },
          "metadata": {},
          "execution_count": 65
        }
      ]
    },
    {
      "cell_type": "markdown",
      "metadata": {
        "id": "5f7f3427"
      },
      "source": [
        "## 6. Thử nghiệm\n",
        "\n",
        "Nếu bạn chưa đạt được chỉ số đánh giá của mình .. hãy tự hỏi bản thân ...\n",
        "* Bạn có thể thu thập thêm dữ liệu?\n",
        "* Bạn có thể thử một mô hình tốt hơn? Thích CatBoost hay XGBoost?\n",
        "* Bạn có thể cải thiện các mô hình hiện tại? (Ngoài những gì chúng tôi đã làm cho đến nay)\n",
        "* Nếu mô hình của bạn đủ tốt (bạn đã đạt được chỉ số đánh giá của mình, bạn sẽ xuất nó và chia sẻ với những người khác như thế nào?)"
      ],
      "id": "5f7f3427"
    },
    {
      "cell_type": "code",
      "metadata": {
        "id": "42a2f8c0"
      },
      "source": [],
      "id": "42a2f8c0",
      "execution_count": null,
      "outputs": []
    }
  ]
}