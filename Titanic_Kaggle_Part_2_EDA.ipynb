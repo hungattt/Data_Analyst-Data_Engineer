{
  "cells": [
    {
      "cell_type": "markdown",
      "id": "8414985c",
      "metadata": {
        "id": "8414985c"
      },
      "source": [
        "# Titanic Machine Learning from Disaster\n",
        "\n",
        "\n",
        "\n",
        "# Table of Contents\n",
        "\n",
        "* [1. Introduction](#introduction)\n",
        "* [2. Loading the Data](#loading-data)\n",
        "* [3. Exploratory Data Analysis (EDA)](#eda)\n",
        "* [4. Feature Engineering & Data Wrangling](#fe-dw)\n",
        "\n",
        "#  1. Introduction <a class=\"anchor\" id=\"introduction\"></a>\n",
        "The sinking of the RMS Titanic is one of the most infamous shipwrecks in history. On April 15, 1912, during her maiden voyage, the Titanic sank after colliding with an iceberg, killing 1502 out of 2224 passengers and crew. This sensational tragedy shocked the international community and led to better safety regulations for ships.\n",
        "\n",
        "One of the reasons that the shipwreck led to such loss of life was that there were not enough lifeboats for the passengers and crew. Although there was some element of luck involved in surviving the sinking, some groups of people were more likely to survive than others, such as women, children, and the upper-class.\n",
        "\n",
        "In this challenge, we ask you to complete the analysis of what sorts of people were likely to survive. In particular, we ask you to apply the tools of machine learning to predict which passengers survived the tragedy.\n",
        "\n",
        "# 2. Loading the Data <a class=\"anchor\" id=\"loading-data\"></a>"
      ]
    },
    {
      "cell_type": "code",
      "execution_count": null,
      "id": "cb8d2981",
      "metadata": {
        "id": "cb8d2981"
      },
      "outputs": [],
      "source": [
        "# import Lib\n",
        "import pandas as pd\n",
        "import numpy as np\n",
        "import matplotlib.pyplot as plt\n",
        "import seaborn as sns"
      ]
    },
    {
      "cell_type": "code",
      "execution_count": null,
      "id": "8153148e",
      "metadata": {
        "id": "8153148e"
      },
      "outputs": [],
      "source": [
        "train_df = pd.read_csv(\"./data/train.csv\")\n",
        "test_df = pd.read_csv(\"./data/test.csv\")"
      ]
    },
    {
      "cell_type": "code",
      "execution_count": null,
      "id": "05d65a9e",
      "metadata": {
        "id": "05d65a9e"
      },
      "outputs": [],
      "source": [
        "train_df.columns"
      ]
    },
    {
      "cell_type": "code",
      "execution_count": null,
      "id": "7194aa60",
      "metadata": {
        "id": "7194aa60"
      },
      "outputs": [],
      "source": [
        "test_df.columns"
      ]
    },
    {
      "cell_type": "markdown",
      "id": "de555725",
      "metadata": {
        "id": "de555725"
      },
      "source": [
        "#### Notes:\n",
        "* `SibSp`: # of siblings / spouses aboard the Titanic\n",
        "* `Parch`: # of parents / children aboard the Titanic\n",
        "\n",
        "* `Ticket`: Ticket number\n",
        "* `Cabin`: Cabin number"
      ]
    },
    {
      "cell_type": "code",
      "execution_count": null,
      "id": "31368344",
      "metadata": {
        "id": "31368344"
      },
      "outputs": [],
      "source": [
        "#preview data\n",
        "train_df.head()"
      ]
    },
    {
      "cell_type": "markdown",
      "id": "aa38fe38",
      "metadata": {
        "id": "aa38fe38"
      },
      "source": [
        "###### PassengerId\n",
        "The first column is the passenger ID. The ID for a passenger is just a number to identify this passenger in this dataset. So this column is not really a part of the information we should care about.\n",
        "We can drop this column or make it the index for this dataset. Let's make it the index for the dataset just to demonstrate the use of df.set_index method."
      ]
    },
    {
      "cell_type": "code",
      "execution_count": null,
      "id": "2ef44b69",
      "metadata": {
        "id": "2ef44b69"
      },
      "outputs": [],
      "source": [
        "train_df = pd.read_csv('./data/train.csv', index_col=\"PassengerId\")\n",
        "test_df = pd.read_csv('./data/test.csv', index_col=\"PassengerId\")"
      ]
    },
    {
      "cell_type": "code",
      "execution_count": null,
      "id": "008a35e5",
      "metadata": {
        "id": "008a35e5"
      },
      "outputs": [],
      "source": [
        "train_df.set_index(train_df.PassengerId, inplace=True)"
      ]
    },
    {
      "cell_type": "code",
      "execution_count": null,
      "id": "af3e7bf6",
      "metadata": {
        "id": "af3e7bf6"
      },
      "outputs": [],
      "source": [
        "train_df.head()"
      ]
    },
    {
      "cell_type": "code",
      "execution_count": null,
      "id": "bcc9406f",
      "metadata": {
        "id": "bcc9406f"
      },
      "outputs": [],
      "source": [
        "train_df.drop('PassengerId', axis = 1, inplace=True)"
      ]
    },
    {
      "cell_type": "code",
      "execution_count": null,
      "id": "bd4741ee",
      "metadata": {
        "id": "bd4741ee"
      },
      "outputs": [],
      "source": [
        "train_df"
      ]
    },
    {
      "cell_type": "code",
      "execution_count": null,
      "id": "f32b543c",
      "metadata": {
        "id": "f32b543c"
      },
      "outputs": [],
      "source": [
        "train_df.head()"
      ]
    },
    {
      "cell_type": "markdown",
      "id": "182f2233",
      "metadata": {
        "id": "182f2233"
      },
      "source": [
        "## 1.1. Feature Classification: Categorical vs Numerical\n",
        "\n",
        "* This helps us select the appropriate plots for visualization.\n",
        "\n",
        "#### Which features are categorical?\n",
        "\n",
        "* Categorical Features: `nominal`, `ordinal`, `ratio`, `interval`\n",
        "* To classify the samples into sets of similar samples\n",
        "\n",
        "#### Which features are numerical?\n",
        "* Numerical features: `discrete`, `continuous`, or `timeseries`\n",
        "* These values change from sample to sample"
      ]
    },
    {
      "cell_type": "code",
      "execution_count": null,
      "id": "450a7be5",
      "metadata": {
        "id": "450a7be5"
      },
      "outputs": [],
      "source": [
        "train_df.info()"
      ]
    },
    {
      "cell_type": "code",
      "execution_count": null,
      "id": "870f154d",
      "metadata": {
        "id": "870f154d"
      },
      "outputs": [],
      "source": [
        "test_df.info()"
      ]
    },
    {
      "cell_type": "markdown",
      "id": "55448ff5",
      "metadata": {
        "id": "55448ff5"
      },
      "source": [
        "  - Categorical: `Survived`, `Sex`, `Embarked`, `Pclass` (ordinal),  `SibSp` , `Parch`\n",
        "      - `Embarked`: Port of Embarkation -\tC = Cherbourg, Q = Queenstown, S = Southampton\n",
        "  - Numerical: (continuous) `Age`, `Fare`, (discrete)\n",
        "  \n",
        "  - Mix types of data: `Ticket`, `Cabin`\n",
        "  - Contain Error/Typo: `Name`\n",
        "  - Blank or Null: `Cabin` > `Age` > `Embarked`\n",
        "  - Various Data Type: String, Int, Float\n",
        "  \n",
        "According to the data dictionary, we know that if a passernger is marked as 1, he or she survived. Clearly the number 1 or 0 is a flag for the person's survivorship. Yet the data type of the column is int64, which is a numerical type. We can change that with the following command."
      ]
    },
    {
      "cell_type": "code",
      "execution_count": null,
      "id": "fe70677e",
      "metadata": {
        "id": "fe70677e"
      },
      "outputs": [],
      "source": [
        "train_df[\"Survived\"] = train_df[\"Survived\"].astype(\"category\")"
      ]
    },
    {
      "cell_type": "code",
      "execution_count": null,
      "id": "bedaf3a0",
      "metadata": {
        "id": "bedaf3a0"
      },
      "outputs": [],
      "source": [
        "train_df[\"Survived\"].dtype"
      ]
    },
    {
      "cell_type": "code",
      "execution_count": null,
      "id": "30a87ba4",
      "metadata": {
        "id": "30a87ba4"
      },
      "outputs": [],
      "source": [
        "train_df.info()"
      ]
    },
    {
      "cell_type": "code",
      "execution_count": null,
      "id": "8cc0d728",
      "metadata": {
        "id": "8cc0d728"
      },
      "outputs": [],
      "source": [
        "features = [\"Pclass\", \"Sex\", \"SibSp\", \"Parch\", \"Embarked\"]\n",
        "def convert_cat(df, features):\n",
        "    for feature in features:\n",
        "        df[feature] = df[feature].astype(\"category\") #df.Pclass, df.\"Pclass\" => df[\"Pclass\"]\n",
        "convert_cat(train_df, features)\n",
        "convert_cat(test_df, features)"
      ]
    },
    {
      "cell_type": "code",
      "execution_count": null,
      "id": "a3df754e",
      "metadata": {
        "id": "a3df754e"
      },
      "outputs": [],
      "source": [
        "train_df.info()"
      ]
    },
    {
      "cell_type": "markdown",
      "id": "508cce75",
      "metadata": {
        "id": "508cce75"
      },
      "source": [
        "### 1.1.1. Distribution of Numerical feature values across the samples"
      ]
    },
    {
      "cell_type": "code",
      "execution_count": null,
      "id": "c1a3c8c4",
      "metadata": {
        "id": "c1a3c8c4"
      },
      "outputs": [],
      "source": [
        "train_df.describe()"
      ]
    },
    {
      "cell_type": "markdown",
      "id": "103a4206",
      "metadata": {
        "id": "103a4206"
      },
      "source": [
        "### 1.1.2. Distribution of Categorical features"
      ]
    },
    {
      "cell_type": "code",
      "execution_count": null,
      "id": "3a2271ba",
      "metadata": {
        "id": "3a2271ba"
      },
      "outputs": [],
      "source": [
        "train_df.describe(include=['category'])"
      ]
    },
    {
      "cell_type": "markdown",
      "id": "f738d861",
      "metadata": {
        "id": "f738d861"
      },
      "source": [
        "# 3. Exploratory Data Analysis (EDA)<a class=\"anchor\" id=\"eda\"></a>\n",
        "\n",
        "## 3.1. Correlating categorical features\n",
        "- Categorical: `Survived`, `Sex`, `Embarked`, `Pclass` (ordinal),  `SibSp` , `Parch`\n",
        "\n",
        "### Target Variable: `Survived`"
      ]
    },
    {
      "cell_type": "code",
      "execution_count": null,
      "id": "487ee72b",
      "metadata": {
        "id": "487ee72b"
      },
      "outputs": [],
      "source": [
        "train_df[\"Survived\"].value_counts().to_frame()"
      ]
    },
    {
      "cell_type": "code",
      "execution_count": null,
      "id": "fffdd0c9",
      "metadata": {
        "id": "fffdd0c9"
      },
      "outputs": [],
      "source": [
        "train_df[\"Survived\"].value_counts(normalize=True).to_frame()"
      ]
    },
    {
      "cell_type": "markdown",
      "id": "4bc3778d",
      "metadata": {
        "id": "4bc3778d"
      },
      "source": [
        "Only 38% survived the disaster. So the training data suffers from data imbalance but it is not severe which is why I will not consider techniques like sampling to tackle the imbalance.\n",
        "\n",
        "### `Sex`"
      ]
    },
    {
      "cell_type": "code",
      "execution_count": null,
      "id": "34cb874d",
      "metadata": {
        "id": "34cb874d"
      },
      "outputs": [],
      "source": [
        "train_df['Sex'].value_counts().to_frame()"
      ]
    },
    {
      "cell_type": "code",
      "execution_count": null,
      "id": "443b10c2",
      "metadata": {
        "id": "443b10c2"
      },
      "outputs": [],
      "source": [
        "sns.countplot(data=train_df, x='Sex', hue='Survived', palette='Blues');"
      ]
    },
    {
      "cell_type": "markdown",
      "id": "a28a5af3",
      "metadata": {
        "id": "a28a5af3"
      },
      "source": [
        "- Remaining Categorical Feature Columns"
      ]
    },
    {
      "cell_type": "code",
      "execution_count": null,
      "id": "55f2b24d",
      "metadata": {
        "id": "55f2b24d"
      },
      "outputs": [],
      "source": [
        "cols = ['Sex', 'Embarked', 'Pclass', 'SibSp', 'Parch']\n",
        "\n",
        "n_rows = 2\n",
        "n_cols = 3\n",
        "\n",
        "fig, ax = plt.subplots(n_rows, n_cols, figsize=(n_cols*3.5, n_rows*3.5))\n",
        "\n",
        "for r in range(0, n_rows):\n",
        "    for c in range(0, n_cols):\n",
        "        i = r*n_cols + c #index to loop through list \"cols\"\n",
        "        if i < len(cols):\n",
        "            ax_i = ax[r,c]\n",
        "            sns.countplot(data=train_df, x=cols[i], hue=\"Survived\", palette=\"Blues\", ax=ax_i)\n",
        "            ax_i.set_title(f\"Figure {i+1}: Survival Rate vs {cols[i]}\")\n",
        "            ax_i.legend(title='', loc='upper right', labels=['Not Survived', 'Survived'])\n",
        "ax.flat[-1].set_visible(False) #Remove the last subplot\n",
        "plt.tight_layout()\n",
        "plt.show()"
      ]
    },
    {
      "cell_type": "markdown",
      "id": "9a4ee22b",
      "metadata": {
        "id": "9a4ee22b"
      },
      "source": [
        "### Observation:\n",
        "\n",
        "* **Survival Rate**:\n",
        "    - Fig 1: Female survival rate > male\n",
        "    - Fig 2: Most People embarked on Southampton, and also had the highest people not survived\n",
        "    - Fig 3: 1st class higher survival rate  \n",
        "    - Fig 4: People going with 0 `SibSp` are mostly not survived. the number of passenger with 1-2 family members has a better chance of survival\n",
        "    - Fig 5: People going with 0 `Parch` are mostly not survived\n",
        "    \n",
        "## 3.2. EDA for Numerical Features\n",
        "- Numerical Features: (continuous) `Age`, `Fare`\n",
        "\n",
        "### Age"
      ]
    },
    {
      "cell_type": "code",
      "execution_count": null,
      "id": "394953ea",
      "metadata": {
        "id": "394953ea"
      },
      "outputs": [],
      "source": [
        "sns.histplot(data=train_df, x='Age', hue='Survived' ,bins = 40, kde=True);"
      ]
    },
    {
      "cell_type": "markdown",
      "id": "ad530b55",
      "metadata": {
        "id": "ad530b55"
      },
      "source": [
        "- Majority passengers were from 18-40 ages\n",
        "- Chilren had more chance to survive than other ages\n",
        "\n",
        "### Fare"
      ]
    },
    {
      "cell_type": "code",
      "execution_count": null,
      "id": "cc7f11fb",
      "metadata": {
        "id": "cc7f11fb"
      },
      "outputs": [],
      "source": [
        "train_df[\"Fare\"].describe()"
      ]
    },
    {
      "cell_type": "code",
      "execution_count": null,
      "id": "b459444f",
      "metadata": {
        "id": "b459444f"
      },
      "outputs": [],
      "source": [
        "sns.histplot(data=train_df, x='Fare', hue='Survived', bins = 40, palette='Blues');"
      ]
    },
    {
      "cell_type": "code",
      "execution_count": null,
      "id": "7ca4a2f2",
      "metadata": {
        "id": "7ca4a2f2"
      },
      "outputs": [],
      "source": [
        "#To name for 0-25% quartile, 25-50, 50-75, 75-100\n",
        "\n",
        "fare_categories = ['Economic', 'Standard', 'Expensive', 'Luxury']\n",
        "quartile_data = pd.qcut(train_df['Fare'], 4, labels=fare_categories)\n",
        "\n",
        "sns.countplot(x=quartile_data, hue=train_df['Survived'], palette='Blues');"
      ]
    },
    {
      "cell_type": "code",
      "execution_count": null,
      "id": "20aee49b",
      "metadata": {
        "id": "20aee49b"
      },
      "outputs": [],
      "source": [
        "train_df['Fare']"
      ]
    },
    {
      "cell_type": "markdown",
      "id": "c5c9394a",
      "metadata": {
        "id": "c5c9394a"
      },
      "source": [
        "- Distribution of Fare\n",
        "    - Fare does not follow a normal distribution and has a huge spike at the price range `[0–100$]`.\n",
        "    - The distribution is skewed to the left with `75%` of the fare paid under `$31` and a max paid fare of `$512`.\n",
        "- Quartile plot:\n",
        "    - Passenger with Luxury & Expensive Fare will have more chance to survive\n",
        "\n",
        "# 4.  Feature Engineering & Data Wrangling <a class=\"anchor\" id=\"fe-dw\"></a>"
      ]
    },
    {
      "cell_type": "code",
      "execution_count": null,
      "id": "69c48b60",
      "metadata": {
        "id": "69c48b60"
      },
      "outputs": [],
      "source": []
    }
  ],
  "metadata": {
    "kernelspec": {
      "display_name": "Python 3 (ipykernel)",
      "language": "python",
      "name": "python3"
    },
    "language_info": {
      "codemirror_mode": {
        "name": "ipython",
        "version": 3
      },
      "file_extension": ".py",
      "mimetype": "text/x-python",
      "name": "python",
      "nbconvert_exporter": "python",
      "pygments_lexer": "ipython3",
      "version": "3.8.8"
    },
    "colab": {
      "provenance": []
    }
  },
  "nbformat": 4,
  "nbformat_minor": 5
}