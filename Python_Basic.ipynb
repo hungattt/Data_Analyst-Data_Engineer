{
  "nbformat": 4,
  "nbformat_minor": 0,
  "metadata": {
    "colab": {
      "provenance": []
    },
    "kernelspec": {
      "name": "python3",
      "display_name": "Python 3"
    },
    "language_info": {
      "name": "python"
    }
  },
  "cells": [
    {
      "cell_type": "code",
      "source": [
        "from xlrd import open_workbook"
      ],
      "metadata": {
        "id": "j0NWlzDfTtaI"
      },
      "execution_count": null,
      "outputs": []
    },
    {
      "cell_type": "code",
      "source": [
        "data_test = open_workbook('/content/Test.xlsx')"
      ],
      "metadata": {
        "id": "hhy4PeWuT2op"
      },
      "execution_count": null,
      "outputs": []
    },
    {
      "cell_type": "code",
      "source": [
        "data_test.sheets()"
      ],
      "metadata": {
        "colab": {
          "base_uri": "https://localhost:8080/"
        },
        "id": "0k1lC6-KT8sM",
        "outputId": "a75fd6fe-9dc2-4b39-9eed-fdfaadaa4fa6"
      },
      "execution_count": null,
      "outputs": [
        {
          "output_type": "execute_result",
          "data": {
            "text/plain": [
              "[<xlrd.sheet.Sheet at 0x7f19d7f1cf90>]"
            ]
          },
          "metadata": {},
          "execution_count": 3
        }
      ]
    },
    {
      "cell_type": "code",
      "source": [
        "values = []\n",
        "for s in data_test.sheets():\n",
        "    # print 'Sheet:',s.name\n",
        "    for row in range(1, s.nrows):\n",
        "        col_names = s.row(0)\n",
        "        col_value = []\n",
        "        for name, col in zip(col_names, range(s.ncols)):\n",
        "            print(name)\n",
        "            value = (s.cell(row, col).value)\n",
        "            try:\n",
        "                value = str(int(value))\n",
        "                print(value)\n",
        "\n",
        "            except:\n",
        "                pass\n",
        "            col_value.append(value)\n",
        "        values.append(col_value)\n"
      ],
      "metadata": {
        "colab": {
          "base_uri": "https://localhost:8080/"
        },
        "id": "ESm5qkkdUOXc",
        "outputId": "d15686ce-3f13-47e5-cf24-45294c72ed95"
      },
      "execution_count": null,
      "outputs": [
        {
          "output_type": "stream",
          "name": "stdout",
          "text": [
            "text:'No'\n",
            "1\n",
            "text:'Username'\n",
            "text:'Password'\n",
            "text:'Desired Result'\n",
            "text:'Message '\n",
            "text:'No'\n",
            "2\n",
            "text:'Username'\n",
            "text:'Password'\n",
            "text:'Desired Result'\n",
            "text:'Message '\n",
            "text:'No'\n",
            "3\n",
            "text:'Username'\n",
            "text:'Password'\n",
            "text:'Desired Result'\n",
            "text:'Message '\n",
            "text:'No'\n",
            "4\n",
            "text:'Username'\n",
            "text:'Password'\n",
            "text:'Desired Result'\n",
            "text:'Message '\n"
          ]
        }
      ]
    },
    {
      "cell_type": "code",
      "source": [
        "values"
      ],
      "metadata": {
        "id": "ubu8FwOnYemo",
        "outputId": "e0a87956-7c16-485b-dae4-9e176548d191",
        "colab": {
          "base_uri": "https://localhost:8080/"
        }
      },
      "execution_count": null,
      "outputs": [
        {
          "output_type": "execute_result",
          "data": {
            "text/plain": [
              "[['1',\n",
              "  'tomsmith',\n",
              "  'SuperSecretPassword!',\n",
              "  'Pass',\n",
              "  'You logged into a secure area!'],\n",
              " ['2', '', 'SuperSecretPassword!', 'Pass', 'Your username is invalid!'],\n",
              " ['3', 'tomsmith', '', 'Pass', 'Your password is invalid!'],\n",
              " ['4',\n",
              "  'tomsmithda',\n",
              "  'SuperSecretPassword',\n",
              "  'Fail',\n",
              "  'Your username and password is invalid!']]"
            ]
          },
          "metadata": {},
          "execution_count": 5
        }
      ]
    },
    {
      "cell_type": "code",
      "source": [],
      "metadata": {
        "id": "7L0fzD4DUWKf"
      },
      "execution_count": null,
      "outputs": []
    },
    {
      "cell_type": "markdown",
      "metadata": {
        "id": "f-nOa0IR_jkO"
      },
      "source": [
        "# **Replace()**\n",
        "string.replace (cũ, mới, số lượng)\n"
      ]
    },
    {
      "cell_type": "code",
      "metadata": {
        "id": "aIrhLKuK_8R2"
      },
      "source": [
        "string = \"geeks for geeks geeks geeks geeks\"\n",
        "\n",
        "# Prints the string by replacing\n",
        "# e by a\n",
        "print(string.replace(\"e\", \"a\"))\n",
        "\n",
        "# Prints the string by replacing only\n",
        "# 3 occurrence of ek by a\n",
        "print(string.replace(\"ek\", \"a\", 3))"
      ],
      "execution_count": null,
      "outputs": []
    },
    {
      "cell_type": "markdown",
      "metadata": {
        "id": "fEwIzvZVVnl6"
      },
      "source": [
        "# **\"is\" and \"==\"**"
      ]
    },
    {
      "cell_type": "code",
      "metadata": {
        "id": "uNowfuxFy0Gj",
        "colab": {
          "base_uri": "https://localhost:8080/"
        },
        "outputId": "431500a6-f6d1-4b79-d3e0-441092f55cd0"
      },
      "source": [
        "b=\"Hello \"\n",
        "b+=\"World\"\n",
        "a=\"Hello World\"\n",
        "\n",
        "print(a==b)\n",
        "print(a is b)"
      ],
      "execution_count": null,
      "outputs": [
        {
          "output_type": "stream",
          "name": "stdout",
          "text": [
            "True\n",
            "False\n"
          ]
        }
      ]
    },
    {
      "cell_type": "code",
      "metadata": {
        "colab": {
          "base_uri": "https://localhost:8080/"
        },
        "id": "cruPtV7CWgt1",
        "outputId": "7a8cc4ea-3fe4-4374-f5dc-2a61179a803e"
      },
      "source": [
        "a=1000\n",
        "b=1000\n",
        "\n",
        "print(a==b)\n",
        "print(a is b)"
      ],
      "execution_count": null,
      "outputs": [
        {
          "output_type": "stream",
          "name": "stdout",
          "text": [
            "True\n",
            "False\n"
          ]
        }
      ]
    },
    {
      "cell_type": "code",
      "metadata": {
        "colab": {
          "base_uri": "https://localhost:8080/"
        },
        "id": "Dv2CpXUlWqld",
        "outputId": "273a5f28-f92a-4056-cc7e-cccd43bc002f"
      },
      "source": [
        "a=10\n",
        "b=10\n",
        "\n",
        "print(a==b)\n",
        "print(a is b)"
      ],
      "execution_count": null,
      "outputs": [
        {
          "output_type": "stream",
          "name": "stdout",
          "text": [
            "True\n",
            "True\n"
          ]
        }
      ]
    },
    {
      "cell_type": "code",
      "metadata": {
        "colab": {
          "base_uri": "https://localhost:8080/"
        },
        "id": "50trpdvOy3-z",
        "outputId": "22f6cfb4-87e4-4f82-d22e-77092bd612c2"
      },
      "source": [
        "from google.colab import drive\n",
        "drive.mount('/content/drive')"
      ],
      "execution_count": null,
      "outputs": [
        {
          "output_type": "stream",
          "name": "stdout",
          "text": [
            "Mounted at /content/drive\n"
          ]
        }
      ]
    },
    {
      "cell_type": "code",
      "metadata": {
        "colab": {
          "base_uri": "https://localhost:8080/"
        },
        "id": "gfpBFnu1Qwri",
        "outputId": "cf5286e6-a656-4431-cafe-9cc9a1153a40"
      },
      "source": [
        "n=int(input(\"Moi nhap so :\"))\n",
        "s=0\n",
        "if n%2==0:\n",
        "    for x in range(2,n+1,2):\n",
        "        s=s+x\n",
        "elif n%2!=0:\n",
        "    for x in range(1,n+1,2):\n",
        "        s=s+x\n",
        "\n",
        "print(\"Tong s= \",s)"
      ],
      "execution_count": null,
      "outputs": [
        {
          "output_type": "stream",
          "text": [
            "Moi nhap so :6\n",
            "Tong s=  12\n"
          ],
          "name": "stdout"
        }
      ]
    },
    {
      "cell_type": "markdown",
      "metadata": {
        "id": "IFbTeXV3RQZv"
      },
      "source": [
        "# **ham clock**"
      ]
    },
    {
      "cell_type": "code",
      "metadata": {
        "colab": {
          "base_uri": "https://localhost:8080/"
        },
        "id": "Il4Ljxj_ROyJ",
        "outputId": "20ad5a2a-e760-447d-8f75-25f29a092eca"
      },
      "source": [
        "from time import clock\n",
        "start=clock()\n",
        "n=int(input(\"Moi nhap so :\"))\n",
        "s=0\n",
        "if n%2==0:\n",
        "    for x in range(2,n+1,2):\n",
        "        s=s+x\n",
        "elif n%2!=0:\n",
        "    for x in range(1,n+1,2):\n",
        "        s=s+x\n",
        "\n",
        "print(\"Tong s= \",s)\n",
        "end=clock()\n",
        "duration=end-start\n",
        "print(\"duration can tinh la :\", duration)"
      ],
      "execution_count": null,
      "outputs": [
        {
          "output_type": "stream",
          "text": [
            "/usr/local/lib/python3.7/dist-packages/ipykernel_launcher.py:2: DeprecationWarning: time.clock has been deprecated in Python 3.3 and will be removed from Python 3.8: use time.perf_counter or time.process_time instead\n",
            "  \n"
          ],
          "name": "stderr"
        },
        {
          "output_type": "stream",
          "text": [
            "Moi nhap so :6\n",
            "Tong s=  12\n",
            "duration can tinh la : 0.05615000000000059\n"
          ],
          "name": "stdout"
        },
        {
          "output_type": "stream",
          "text": [
            "/usr/local/lib/python3.7/dist-packages/ipykernel_launcher.py:13: DeprecationWarning: time.clock has been deprecated in Python 3.3 and will be removed from Python 3.8: use time.perf_counter or time.process_time instead\n",
            "  del sys.path[0]\n"
          ],
          "name": "stderr"
        }
      ]
    },
    {
      "cell_type": "code",
      "metadata": {
        "colab": {
          "base_uri": "https://localhost:8080/"
        },
        "id": "FRRv1bnWRnOe",
        "outputId": "ef944797-24a9-4957-9668-2bf00407f368"
      },
      "source": [
        "from time import clock\n",
        "\n",
        "start=clock()\n",
        "print(\"Moi ban nhap gia \")\n",
        "x=input()\n",
        "print(\"ban vua nhap x :\", x)\n",
        "end=clock()\n",
        "duration=end-start\n",
        "print(\"duration la : \", duration)"
      ],
      "execution_count": null,
      "outputs": [
        {
          "output_type": "stream",
          "text": [
            "/usr/local/lib/python3.7/dist-packages/ipykernel_launcher.py:3: DeprecationWarning: time.clock has been deprecated in Python 3.3 and will be removed from Python 3.8: use time.perf_counter or time.process_time instead\n",
            "  This is separate from the ipykernel package so we can avoid doing imports until\n"
          ],
          "name": "stderr"
        },
        {
          "output_type": "stream",
          "text": [
            "Moi ban nhap gia \n"
          ],
          "name": "stdout"
        }
      ]
    },
    {
      "cell_type": "markdown",
      "metadata": {
        "id": "MjQgQ6x1Rtie"
      },
      "source": [
        "# **Ham Eval**"
      ]
    },
    {
      "cell_type": "code",
      "metadata": {
        "id": "e5BGxmwhRwMR"
      },
      "source": [
        "from math import *\n",
        "s=\"5*6-(7/2)+8+sin(0.5)+pow(2,3)\"\n",
        "x=eval(s)\n",
        "print(x)\n",
        "\n",
        "x1,x2=eval(input(\"nhap x1,x2 :\"))\n",
        "print(\"x1=\",x1,\"x2=\",x2 )"
      ],
      "execution_count": null,
      "outputs": []
    },
    {
      "cell_type": "markdown",
      "metadata": {
        "id": "vid5ovUhSwp5"
      },
      "source": [
        "# **Kiem tra nam nhuan**"
      ]
    },
    {
      "cell_type": "code",
      "metadata": {
        "id": "UG42nOoLSmuD"
      },
      "source": [
        "print(\"chuong trinh kiem tra nam nhuan\")\n",
        "year=int (input(\"Moi thim nhap vao mot nam :\"))\n",
        "if (year %4==0 and year %100 !=0) or year %400==0 :\n",
        "    print(\"Nam\",year,\"Nam do la nam nhuan\")\n",
        "else:\n",
        "    print(\"Nam\",year,\"Nam do khong phai nam nhuan\")"
      ],
      "execution_count": null,
      "outputs": []
    },
    {
      "cell_type": "markdown",
      "metadata": {
        "id": "ziULo1k9TKVZ"
      },
      "source": [
        "# **Tinh so ngay trong mot thang**"
      ]
    },
    {
      "cell_type": "code",
      "metadata": {
        "id": "jyXbc7B9TMNa"
      },
      "source": [
        "print(\"Chung trinh tinh so ngay trong mot thang\")\n",
        "month=int(input(\"Nhap thang can tinh :\"))\n",
        "if month in (1,3,5,7,8,10,12) :\n",
        "    print(\"Thang\",month,\"Co 31 ngay \")\n",
        "elif month in (4,6,9,11):\n",
        "    print(\"Thang\",month,\" Co 3o ngay\")\n",
        "elif month==2 :\n",
        "    year=int (input(\"moi ban nhap nam :\"))\n",
        "    if (year %4==0 and year %100 !=0) or year %400==0 :\n",
        "        print(\"Thang \", month,\"Co 29 ngay\")\n",
        "    else:\n",
        "        print(\"Thang\",month,\"Co 28 ngay\")\n",
        "else:\n",
        "    print(\"Thang\",month,\"Khong hop le\")"
      ],
      "execution_count": null,
      "outputs": []
    },
    {
      "cell_type": "markdown",
      "metadata": {
        "id": "xW0T3hJgTVHX"
      },
      "source": [
        "# *Phuong trinh bac 2*"
      ]
    },
    {
      "cell_type": "code",
      "metadata": {
        "id": "OcakwA5-TY38"
      },
      "source": [
        "#ax^2+bx+c=0\n",
        "from math import sqrt\n",
        "\n",
        "print(\"Chuong trinh giai phuong trinh bac 2\")\n",
        "a=float(input(\"Nhap a :\"))\n",
        "b=float(input(\"nhap b :\"))\n",
        "c=float(input(\"Nhap c :\"))\n",
        "if a==0:\n",
        "    #bx+c=0\n",
        "    if b==0 and c==0:\n",
        "        print(\"phuong trinh vo so nghiem\")\n",
        "    elif b==0 and c!=0 :\n",
        "        print(\"Phuong trinh vo nghiem\")\n",
        "    elif b!=0 and c!=0 :\n",
        "        print(\"P/t co nghiem x= \",-c/b)\n",
        "else:\n",
        "    delta=b**2-4*a*c\n",
        "    if delta <0:\n",
        "        print(\"p/t vo nghiem\")\n",
        "    elif delta==0 :\n",
        "        x=-b/(2*a)\n",
        "        print(\"p/t co nghiem kep x=\",x)\n",
        "    elif delta >0 :\n",
        "        x1=(-b-sqrt(delta))/(2*a)\n",
        "        x2=(-b+sqrt(delta))/(2*a)\n",
        "        print(\"p/t co 2 nghiem :\",\"x1=\",x1 ,\"vs\", \"x2=\",x2)"
      ],
      "execution_count": null,
      "outputs": []
    },
    {
      "cell_type": "markdown",
      "metadata": {
        "id": "alc939foT8tG"
      },
      "source": [
        "# **Kiem tra so nguyen to**"
      ]
    },
    {
      "cell_type": "code",
      "metadata": {
        "id": "mjruyKh_T95b",
        "colab": {
          "base_uri": "https://localhost:8080/"
        },
        "outputId": "0e8af5ca-76b2-46cb-81fa-49164157079d"
      },
      "source": [
        "while True :\n",
        "    n=int(input(\"Nhap mot so nguyen duong :\"))\n",
        "    dem=0\n",
        "    for i in range(1,n+1):\n",
        "        if n%i==0 :\n",
        "            dem=dem+1\n",
        "    if dem==2 :\n",
        "        print(n,\"La so nguyen to!!\")\n",
        "    else:\n",
        "        print(n, \"k La so nguyen to!!\")\n",
        "    hoi=input(\"tiep tuc thuc hien k ? (c/k):\")\n",
        "    if hoi == \"k\" :\n",
        "        break\n",
        "      if"
      ],
      "execution_count": null,
      "outputs": [
        {
          "output_type": "stream",
          "text": [
            "Nhap mot so nguyen duong :6\n",
            "6 k La so nguyen to!!\n",
            "tiep tuc thuc hien k ? (c/k):c\n",
            "Nhap mot so nguyen duong :7\n",
            "7 La so nguyen to!!\n",
            "tiep tuc thuc hien k ? (c/k):k\n"
          ],
          "name": "stdout"
        }
      ]
    },
    {
      "cell_type": "markdown",
      "metadata": {
        "id": "_bLWjUaYUFX-"
      },
      "source": [
        "# **Xuat bang cuu chuong tu 2-9**"
      ]
    },
    {
      "cell_type": "code",
      "metadata": {
        "id": "rqnI7iRCUHr5"
      },
      "source": [
        "for i in range(1,11):\n",
        "    for j in range(2,10):\n",
        "        line=\"{0}*{1:>2}={2:>2}\".format(j,i,i*j)\n",
        "        print(line,end='\\t')\n",
        "    print()"
      ],
      "execution_count": null,
      "outputs": []
    },
    {
      "cell_type": "markdown",
      "metadata": {
        "id": "TFhJ5f-BUhYO"
      },
      "source": [
        "# **Game doan so**"
      ]
    },
    {
      "cell_type": "code",
      "metadata": {
        "id": "_lFGU6z0UjDk"
      },
      "source": [
        "from random import randrange\n",
        "while True:\n",
        "    somay=randrange(1,101)\n",
        "    solandoan=0\n",
        "    win=False\n",
        "    while solandoan<7:\n",
        "        solandoan+=1\n",
        "        songuoi=int(input(\"May doan [1->100] , moi ban doan :\"))\n",
        "        print(\"ban doan lan thu \",solandoan)\n",
        "        if(somay==songuoi):\n",
        "            print(\"chuc mung ban da Win ,so may =\",somay)\n",
        "            win=True\n",
        "            break\n",
        "        if somay>songuoi:\n",
        "            print(\"ban doan sai , so may > so ban\")\n",
        "        elif somay<songuoi:\n",
        "            print(\"ban doan sai , so may < so ban\")\n",
        "    if win==False :\n",
        "        print(\"GAME OVER !! ,so may =\",somay)\n",
        "    hoi=input(\"Tiep k? \")\n",
        "    if hoi==\"k\":\n",
        "        break"
      ],
      "execution_count": null,
      "outputs": []
    },
    {
      "cell_type": "markdown",
      "metadata": {
        "id": "-4pU31IpVTH1"
      },
      "source": [
        "# **Ham Upper vs lower**"
      ]
    },
    {
      "cell_type": "code",
      "metadata": {
        "id": "C0PN8-mNVWED"
      },
      "source": [
        "print(\"Moi ban nhap ten : \")\n",
        "name=input()\n",
        "print(\"Ten ban nhap : \",name)\n",
        "print(\"Ten viet hoa : \",name.upper())\n",
        "print(\"Ten viet thuong : \",name.lower())"
      ],
      "execution_count": null,
      "outputs": []
    },
    {
      "cell_type": "markdown",
      "metadata": {
        "id": "qN0gFuJqVjOM"
      },
      "source": [
        "# **Ham can le Rjust,Ljust,Center**"
      ]
    },
    {
      "cell_type": "code",
      "metadata": {
        "id": "OF6vvmvtVlNf",
        "colab": {
          "base_uri": "https://localhost:8080/"
        },
        "outputId": "2b85af3b-86b2-4d81-cb4a-32b0e2d4f5bd"
      },
      "source": [
        "s=\"hung bui xuan\"\n",
        "print(s)\n",
        "print(len(s))\n",
        "print(s.rjust(20,\"+\"))\n",
        "print(s.ljust(20,\">\"))\n",
        "print(s.center(20,\"-\"))"
      ],
      "execution_count": null,
      "outputs": [
        {
          "output_type": "stream",
          "name": "stdout",
          "text": [
            "hung bui xuan\n",
            "13\n",
            "+++++++hung bui xuan\n",
            "hung bui xuan>>>>>>>\n",
            "---hung bui xuan----\n"
          ]
        }
      ]
    },
    {
      "cell_type": "markdown",
      "metadata": {
        "id": "XcxGNJw7Vy_O"
      },
      "source": [
        "# **Ham xoa khoang trang du thua Trip**"
      ]
    },
    {
      "cell_type": "code",
      "metadata": {
        "id": "hG1U5jIoV2ac",
        "colab": {
          "base_uri": "https://localhost:8080/"
        },
        "outputId": "a2214f65-0dcd-4011-8522-ce604986dabc"
      },
      "source": [
        "s1=\"          linh peo    \"\n",
        "print(s1,len(s1))\n",
        "s2=s1.strip()\n",
        "print(s2,len(s2))\n",
        "\n",
        "s3=\"====hung+===-==\"\n",
        "s3=s3.strip(\"=\\+\\-\")\n",
        "print(s3)"
      ],
      "execution_count": null,
      "outputs": [
        {
          "output_type": "stream",
          "name": "stdout",
          "text": [
            "          linh peo     22\n",
            "linh peo 8\n",
            "hung\n"
          ]
        }
      ]
    },
    {
      "cell_type": "code",
      "source": [
        "s = 'DJI_DVC_105A18.json'\n",
        "s = s.strip('DJI_DVC_')\n",
        "s"
      ],
      "metadata": {
        "colab": {
          "base_uri": "https://localhost:8080/",
          "height": 36
        },
        "id": "JC8Y2seQVwHq",
        "outputId": "71ed7e90-3a2e-46ea-b3c6-39fec7046037"
      },
      "execution_count": null,
      "outputs": [
        {
          "output_type": "execute_result",
          "data": {
            "text/plain": [
              "'105A18.json'"
            ],
            "application/vnd.google.colaboratory.intrinsic+json": {
              "type": "string"
            }
          },
          "metadata": {},
          "execution_count": 3
        }
      ]
    },
    {
      "cell_type": "code",
      "source": [
        "arr=s.split(\"A\")\n",
        "int(arr[0])/2"
      ],
      "metadata": {
        "colab": {
          "base_uri": "https://localhost:8080/"
        },
        "id": "QOAKO9d_XDt2",
        "outputId": "2da6cebf-c2a5-4d74-a9de-a8a390f61917"
      },
      "execution_count": null,
      "outputs": [
        {
          "output_type": "execute_result",
          "data": {
            "text/plain": [
              "52.5"
            ]
          },
          "metadata": {},
          "execution_count": 8
        }
      ]
    },
    {
      "cell_type": "markdown",
      "metadata": {
        "id": "O5RXUW56WCl_"
      },
      "source": [
        "# **startWith vs endWith**"
      ]
    },
    {
      "cell_type": "code",
      "metadata": {
        "id": "qlz0j1l1WFln",
        "colab": {
          "base_uri": "https://localhost:8080/"
        },
        "outputId": "cb03f9ca-b8b7-429b-ad0a-5c44eb5103d0"
      },
      "source": [
        "s=\"C:/chungtacuahientai.mp3\"\n",
        "if s.endswith(\".mp3\"):\n",
        "    print(\"file dinh danh mp3\")\n",
        "else:\n",
        "    print(\"file k phai dinh danh mp3\")"
      ],
      "execution_count": null,
      "outputs": [
        {
          "output_type": "stream",
          "name": "stdout",
          "text": [
            "file dinh danh mp3\n"
          ]
        }
      ]
    },
    {
      "cell_type": "code",
      "metadata": {
        "id": "rVu2UpqeWdO9",
        "colab": {
          "base_uri": "https://localhost:8080/"
        },
        "outputId": "c8b8efa5-0855-4e2b-dbc7-451011f41728"
      },
      "source": [
        "s2=\"+++hung---\"\n",
        "print(s2.startswith(\"*\"))\n",
        "print(s2.startswith(\"+\"))"
      ],
      "execution_count": null,
      "outputs": [
        {
          "output_type": "stream",
          "name": "stdout",
          "text": [
            "False\n",
            "True\n"
          ]
        }
      ]
    },
    {
      "cell_type": "code",
      "metadata": {
        "id": "VjRn1WLRWkbg"
      },
      "source": [
        "def LocSoDienThoai(dauso):\n",
        "    dsArr=[\"0981234567\",\"0981234765\",\"0901234567\",\"0961234567\",\"0921234567\"]\n",
        "    for phone in dsArr:\n",
        "        if phone.startswith(dauso):\n",
        "            print(phone)\n",
        "        else:\n",
        "            return \"<empty>\"\n",
        "print(\"Moi ban nhap dau so : \")\n",
        "dauso=input()\n",
        "phone=LocSoDienThoai(dauso)\n",
        "print(phone)"
      ],
      "execution_count": null,
      "outputs": []
    },
    {
      "cell_type": "code",
      "metadata": {
        "id": "v7aPDlfQWxxJ"
      },
      "source": [
        "def LocToanBoDauPhone(dauso):\n",
        "    dsArr = [\"0981234567\", \"0981234765\", \"0901234567\", \"0961234567\", \"0921234567\"]\n",
        "    dsLoc=[]\n",
        "    for phone in dsArr:\n",
        "        if phone.startswith(dauso):\n",
        "            dsLoc.append(phone)\n",
        "    return dsLoc\n",
        "dauso=input(\"Nhap dau so : \")\n",
        "dsLocSo=LocToanBoDauPhone(dauso)\n",
        "print(dsLocSo)"
      ],
      "execution_count": null,
      "outputs": []
    },
    {
      "cell_type": "markdown",
      "metadata": {
        "id": "eNPvQFx7W9F0"
      },
      "source": [
        "# **Ham find vs count**"
      ]
    },
    {
      "cell_type": "code",
      "metadata": {
        "id": "IztOXR3YZJLD",
        "colab": {
          "base_uri": "https://localhost:8080/"
        },
        "outputId": "6fd6a254-1dfb-436f-fdb0-3d88614296c5"
      },
      "source": [
        "s=\"hung-bui-xuan\"\n",
        "p1=s.find(\"-\")\n",
        "p2=s.rfind(\"-\")\n",
        "print(\"p1 = \",p1)\n",
        "print(\"p2 = \",p2)\n",
        "c=s.count(\"u\")\n",
        "print(\"c= \",c)"
      ],
      "execution_count": null,
      "outputs": [
        {
          "output_type": "stream",
          "name": "stdout",
          "text": [
            "p1 =  4\n",
            "p2 =  8\n",
            "c=  3\n"
          ]
        }
      ]
    },
    {
      "cell_type": "code",
      "metadata": {
        "id": "97n21p1FZfHl"
      },
      "source": [
        "s=\"d:/tailieu/python/lamchupython.pdf\"\n",
        "p=s.rfind('/')\n",
        "print(s[p+1:])\n",
        "p2=s.rfind('.')\n",
        "print(s[p+1:p2])"
      ],
      "execution_count": null,
      "outputs": []
    },
    {
      "cell_type": "markdown",
      "metadata": {
        "id": "g5UcByF3Z5tv"
      },
      "source": [
        "# **Ham Tach chuoi**"
      ]
    },
    {
      "cell_type": "code",
      "metadata": {
        "id": "WlIWnDNpZ9ij",
        "colab": {
          "base_uri": "https://localhost:8080/"
        },
        "outputId": "54f7898b-0a45-49a2-aaf3-69ed1d20954a"
      },
      "source": [
        "s=\"sv007;bui xuan hung ;1998\"\n",
        "arr=s.split(\";\")\n",
        "for x in arr:\n",
        "    print(x)"
      ],
      "execution_count": null,
      "outputs": [
        {
          "output_type": "stream",
          "name": "stdout",
          "text": [
            "sv007\n",
            "bui xuan hung \n",
            "1998\n"
          ]
        }
      ]
    },
    {
      "cell_type": "code",
      "metadata": {
        "id": "gJUyNP4taTwR",
        "colab": {
          "base_uri": "https://localhost:8080/"
        },
        "outputId": "2d3078ce-301f-46c8-dd98-2cc847f2939c"
      },
      "source": [
        "# # tach chuoi theo dong\n",
        "s=\"\"\"Obama ass\n",
        "hahaha\n",
        "ali333\n",
        "\"\"\"\n",
        "arr=s.splitlines()\n",
        "for line in arr:\n",
        "    print(line,\"a->\",line.count(\"a\"))"
      ],
      "execution_count": null,
      "outputs": [
        {
          "output_type": "stream",
          "name": "stdout",
          "text": [
            "Obama ass a-> 3\n",
            "hahaha a-> 3\n",
            "ali333 a-> 1\n"
          ]
        }
      ]
    },
    {
      "cell_type": "markdown",
      "metadata": {
        "id": "4nYCmblbaoFs"
      },
      "source": [
        "# **Ham Join Loi chuoi**"
      ]
    },
    {
      "cell_type": "code",
      "metadata": {
        "id": "yljUQqCIasnP"
      },
      "source": [
        "s=\"sv007;bui xuan hung;1998\"\n",
        "arr=s.split(\";\")\n",
        "for x in arr:\n",
        "    print(x)\n",
        "s2=\",\"\n",
        "s2=s2.join(arr)\n",
        "print(s2)"
      ],
      "execution_count": null,
      "outputs": []
    },
    {
      "cell_type": "markdown",
      "metadata": {
        "id": "2GPl3LGda3Mo"
      },
      "source": [
        "# **Kiem tra chuoi doi xung**"
      ]
    },
    {
      "cell_type": "code",
      "metadata": {
        "id": "_TZJ-1-BblB_"
      },
      "source": [
        "def checkDoiXung(s):\n",
        "    flag=True\n",
        "    for i in range(len(s)):\n",
        "        if s[i] != s[len(s)-i-1]:\n",
        "            flag=False\n",
        "            break\n",
        "    return flag\n",
        "def main():\n",
        "    print(\"Nhap 1 chuoi :\")\n",
        "    s=input()\n",
        "    if(checkDoiXung(s)):\n",
        "        print(\"chuoi doi xung \")\n",
        "    else:\n",
        "        print(\"Chuoi k doi xung \")\n",
        "\n",
        "while True:\n",
        "    main()\n",
        "    x = input(\"Ban co muon thoat Y/N ?\")\n",
        "    if x == \"y\":\n",
        "        break"
      ],
      "execution_count": null,
      "outputs": []
    },
    {
      "cell_type": "markdown",
      "metadata": {
        "id": "mdYjlwSdcw9c"
      },
      "source": [
        "# **Toi uu Chuoi**"
      ]
    },
    {
      "cell_type": "code",
      "metadata": {
        "id": "UUPn1MI5cyVW"
      },
      "source": [
        "def ToiUuChuoi(s):\n",
        "    s2=s\n",
        "    s2=s2.strip()\n",
        "    arr=s2.split(' ')\n",
        "    s2=\"\"\n",
        "    for x in arr:\n",
        "        word=x\n",
        "        if len(word.strip())!=0:\n",
        "            s2=s2+word+\" \"\n",
        "    return s2.strip()\n",
        "\n",
        "s=\"         bui   xuan        hung\"\n",
        "print(s,\"=>\",len(s))\n",
        "t=ToiUuChuoi(s)\n",
        "print(t,\"=>\",len(t))"
      ],
      "execution_count": null,
      "outputs": []
    },
    {
      "cell_type": "markdown",
      "metadata": {
        "id": "nOSFHPxdc-zW"
      },
      "source": [
        "# **Xu ly chuoi**"
      ]
    },
    {
      "cell_type": "code",
      "metadata": {
        "id": "zZ0EzciqdA63"
      },
      "source": [
        "def CheckPrime(x):\n",
        "    dem=0\n",
        "    for i in range(1,x+1):\n",
        "        if x % i ==0:\n",
        "            dem+=1\n",
        "    if dem==2:\n",
        "        return True\n",
        "    else:\n",
        "        return False\n",
        "s=\"5;7;8;-2;8;11;13;9;10\"\n",
        "arr=s.split(';')\n",
        "sochan=0\n",
        "soam=0\n",
        "sont=0\n",
        "for x in arr:\n",
        "    print(x)\n",
        "    number=int(x)\n",
        "    if number %2 ==0 :\n",
        "        sochan+=1\n",
        "    if number<0 :\n",
        "        soam+=1\n",
        "    if CheckPrime(number):\n",
        "        sont+=1\n",
        "print(\"So chan = \",sochan)\n",
        "print(\"so am = \", soam)\n",
        "print(\"so nguyen to  = \", sont)"
      ],
      "execution_count": null,
      "outputs": []
    },
    {
      "cell_type": "markdown",
      "metadata": {
        "id": "bwzAqoJ0deUM"
      },
      "source": [
        "# **Duyet List**"
      ]
    },
    {
      "cell_type": "code",
      "metadata": {
        "id": "DLuX9cTNdgRW"
      },
      "source": [
        "from builtins import print\n",
        "from random import randrange\n",
        "print(\"Moi ban nhap so phan tu : \")\n",
        "n=int(input())\n",
        "lst=[0]*n\n",
        "print(lst)\n",
        "for i in range(n):\n",
        "    lst[i]=randrange(-100,100)\n",
        "print(lst)\n",
        "print(\"Duyet theo collection : \")\n",
        "for x in lst :\n",
        "    print(x,end='\\t')\n",
        "print(\"\\n Duyet theo Index : \")\n",
        "for i in range(len(lst)):\n",
        "    print(\"vi tri \",i,\"co gia tri la : \",lst[i])\n",
        "print(\"\\n Duyet nguoc list :\")\n",
        "for i in range(len(lst)-1,-1,-1):\n",
        "    print(\"vi tri \", i, \"co gia tri la : \", lst[i])"
      ],
      "execution_count": null,
      "outputs": []
    },
    {
      "cell_type": "code",
      "metadata": {
        "id": "HtNiefRaMTW5"
      },
      "source": [],
      "execution_count": null,
      "outputs": []
    },
    {
      "cell_type": "code",
      "metadata": {
        "colab": {
          "base_uri": "https://localhost:8080/"
        },
        "id": "CXWViGB3MTR4",
        "outputId": "ffeef5e6-9848-4d2d-ae8a-1860d435a4f7"
      },
      "source": [
        "listTen='Dv_dieunho_01.jpg'\n",
        "print(type(listTen))\n",
        "print(listTen)"
      ],
      "execution_count": null,
      "outputs": [
        {
          "output_type": "stream",
          "name": "stdout",
          "text": [
            "<class 'str'>\n",
            "Dv_dieunho_01.jpg\n"
          ]
        }
      ]
    },
    {
      "cell_type": "code",
      "metadata": {
        "colab": {
          "base_uri": "https://localhost:8080/"
        },
        "id": "2INgXfyaMTNr",
        "outputId": "b0731a65-e46e-4277-de08-c7173c95f3dd"
      },
      "source": [
        "arr=listTen.split(\"_\")\n",
        "print(type(arr))\n",
        "print(arr[1])\n",
        "for x in arr:\n",
        "    print(x)"
      ],
      "execution_count": null,
      "outputs": [
        {
          "output_type": "stream",
          "name": "stdout",
          "text": [
            "<class 'list'>\n",
            "dieunho\n",
            "Dv\n",
            "dieunho\n",
            "01.jpg\n"
          ]
        }
      ]
    },
    {
      "cell_type": "markdown",
      "metadata": {
        "id": "wDOzTBQ_e9GG"
      },
      "source": [
        "# **Ham insert , append , remove ,del trong list**"
      ]
    },
    {
      "cell_type": "code",
      "metadata": {
        "id": "2xWgyB_8e_UV",
        "outputId": "7e790f0f-0e24-4340-fe6a-279d9814e9ce",
        "colab": {
          "base_uri": "https://localhost:8080/"
        }
      },
      "source": [
        "lst=[1,2,3]\n",
        "print(lst)\n",
        "lst.insert(0,999)\n",
        "print(lst)\n",
        "lst.insert(4,888)\n",
        "print(lst)\n",
        "lst.insert(2,777)\n",
        "print(lst)"
      ],
      "execution_count": null,
      "outputs": [
        {
          "output_type": "stream",
          "name": "stdout",
          "text": [
            "[1, 2, 3]\n",
            "[999, 1, 2, 3]\n",
            "[999, 1, 2, 3, 888]\n",
            "[999, 1, 777, 2, 3, 888]\n"
          ]
        }
      ]
    },
    {
      "cell_type": "code",
      "metadata": {
        "id": "2jyVpAimfIhb",
        "outputId": "94b7661b-1a33-4209-cea8-c8bd6877c5e2",
        "colab": {
          "base_uri": "https://localhost:8080/"
        }
      },
      "source": [
        "lst.append(666)\n",
        "print(lst)\n",
        "lst.append([333,555])\n",
        "lst.append([5.1,3.5,1.4,0.2])\n",
        "print(lst)"
      ],
      "execution_count": null,
      "outputs": [
        {
          "output_type": "stream",
          "name": "stdout",
          "text": [
            "[999, 1, 777, 2, 3, 888, 666]\n",
            "[999, 1, 777, 2, 3, 888, 666, [333, 555], [5.1, 3.5, 1.4, 0.2]]\n"
          ]
        }
      ]
    },
    {
      "cell_type": "code",
      "metadata": {
        "id": "zKCKUm4hfPkH"
      },
      "source": [
        "lst.remove(2)\n",
        "print(lst)\n",
        "lst.remove([333,555])\n",
        "print(lst)"
      ],
      "execution_count": null,
      "outputs": []
    },
    {
      "cell_type": "code",
      "metadata": {
        "id": "RYj53GUAfWnA"
      },
      "source": [
        "del lst[0]\n",
        "print(lst)\n",
        "del lst[1:4]\n",
        "print(lst)"
      ],
      "execution_count": null,
      "outputs": []
    },
    {
      "cell_type": "markdown",
      "metadata": {
        "id": "g5VhbPU4fqva"
      },
      "source": [
        "# **Ham Reverse dao chuoi**"
      ]
    },
    {
      "cell_type": "code",
      "metadata": {
        "id": "8V15X4oxfs1R",
        "colab": {
          "base_uri": "https://localhost:8080/"
        },
        "outputId": "5cd326dc-ab07-49df-d1ff-81a05af8b801"
      },
      "source": [
        "lst=[12,0,25,26]\n",
        "print(lst)\n",
        "lst.reverse()  # thay doi ban chat ben trong cua list\n",
        "print(lst)"
      ],
      "execution_count": null,
      "outputs": [
        {
          "output_type": "stream",
          "name": "stdout",
          "text": [
            "[12, 0, 25, 26]\n",
            "[26, 25, 0, 12]\n"
          ]
        }
      ]
    },
    {
      "cell_type": "code",
      "metadata": {
        "id": "pVnAixadf3O6",
        "colab": {
          "base_uri": "https://localhost:8080/"
        },
        "outputId": "e7fa996c-4bf4-42cf-8d8e-792b1f6c309a"
      },
      "source": [
        "for i in range(len(lst)-1,-1,-1): # thay doi trinh tu hien thi ra man hinh\n",
        "    print(lst[i],end='\\t')\n",
        "\n",
        "print(\"\\n\")"
      ],
      "execution_count": null,
      "outputs": [
        {
          "output_type": "stream",
          "name": "stdout",
          "text": [
            "12\t0\t25\t26\t\n",
            "\n"
          ]
        }
      ]
    },
    {
      "cell_type": "code",
      "metadata": {
        "id": "e1_WPwhwgD7F"
      },
      "source": [
        "lst1=[120,0,245,-26]\n",
        "print(lst1)\n",
        "lst2=reversed(lst1)\n",
        "for item in lst2:\n",
        "    print(item)"
      ],
      "execution_count": null,
      "outputs": []
    },
    {
      "cell_type": "markdown",
      "metadata": {
        "id": "WeTmqGqXgMHY"
      },
      "source": [
        "# **Ham Sort vs Sorted**"
      ]
    },
    {
      "cell_type": "code",
      "metadata": {
        "id": "IwVrDCiOgNsH"
      },
      "source": [
        "from random import randrange\n",
        "lst=[0]*10\n",
        "print (lst)\n",
        "for i in range(len(lst)):\n",
        "    lst[i]=randrange(100)\n",
        "print(lst)\n",
        "lst.sort()\n",
        "print(lst)"
      ],
      "execution_count": null,
      "outputs": []
    },
    {
      "cell_type": "code",
      "metadata": {
        "id": "OcW1J92OgtpJ"
      },
      "source": [
        "print(\"*\"*20)\n",
        "lst=[3,6,4,0,14]\n",
        "print(lst)\n",
        "lst2=sorted(lst)\n",
        "print(lst2)"
      ],
      "execution_count": null,
      "outputs": []
    },
    {
      "cell_type": "code",
      "metadata": {
        "id": "jYljNIEbg5ng"
      },
      "source": [
        "print(\"*\"*20)# sap xep giam dan\n",
        "lst=[3,6,4,0,14]\n",
        "print(lst)\n",
        "lst.sort(reverse=True)\n",
        "print(lst)"
      ],
      "execution_count": null,
      "outputs": []
    },
    {
      "cell_type": "markdown",
      "metadata": {
        "id": "TZsd_3NAg_Td"
      },
      "source": [
        "# **LIST Da Chieu**"
      ]
    },
    {
      "cell_type": "code",
      "metadata": {
        "id": "mEcpuS_9hEvv"
      },
      "source": [
        "from random import randrange\n",
        "\n",
        "lst=[\n",
        "    [4,2,10],\n",
        "    [7,10,5],\n",
        "    [-7,9,2]\n",
        "]\n",
        "print(lst)\n",
        "for row in lst:\n",
        "    for column in row:\n",
        "        print(column,end='\\t')\n",
        "    print()"
      ],
      "execution_count": null,
      "outputs": []
    },
    {
      "cell_type": "code",
      "metadata": {
        "id": "BhHeSMcCh-om"
      },
      "source": [
        "for i in range(len(lst)):\n",
        "    for j in range(len(lst[i])):\n",
        "        print(lst[i][j],end='\\t')\n",
        "    print()"
      ],
      "execution_count": null,
      "outputs": []
    },
    {
      "cell_type": "code",
      "metadata": {
        "id": "Tg3Trn68iRcI"
      },
      "source": [
        "arr2D=[]\n",
        "rowsize=int(input(\"Nhap so dong : \"))\n",
        "columnsize=int(input(\"Nhap so cot : \"))\n",
        "for i in range(rowsize):\n",
        "    onerow=[]\n",
        "    for j in range(columnsize):\n",
        "        onerow.append(randrange(-100,100))\n",
        "    arr2D.append(onerow)\n",
        "print(\"ma tran may nhap la : \")\n",
        "for i in range(len(arr2D)):\n",
        "    for j in range(len(arr2D[i])):\n",
        "        print(arr2D[i][j],end='\\t')\n",
        "    print()"
      ],
      "execution_count": null,
      "outputs": []
    },
    {
      "cell_type": "markdown",
      "metadata": {
        "id": "LzwglgM9ixAX"
      },
      "source": [
        "# **Cach ghi Tap Tin**"
      ]
    },
    {
      "cell_type": "code",
      "metadata": {
        "id": "RIAeJFPLiz_n"
      },
      "source": [
        "def LuuFile(path):\n",
        "    file=open(path,'w',encoding='utf-8')\n",
        "    file.writelines(\"sv01;bui xuan hung ;1998\\n\")\n",
        "    file.writelines(\"sv02;nguyen hau linh ;1998\\n\")\n",
        "    file.writelines(\"sv03;truong hai linh ;1998\\n\")\n",
        "    file.close()\n",
        "LuuFile(\"E:\\csdlSinhVien.txt\")"
      ],
      "execution_count": null,
      "outputs": []
    },
    {
      "cell_type": "markdown",
      "metadata": {
        "id": "0zFnCdK7jDk4"
      },
      "source": [
        "# **Cach Doc Tap Tin**"
      ]
    },
    {
      "cell_type": "code",
      "metadata": {
        "id": "j67rnvDHjFk6"
      },
      "source": [
        "def DocFile(path):\n",
        "    file=open(path,'r',encoding='utf-8')\n",
        "    for line in file:\n",
        "        data=line.strip()\n",
        "        print(data)\n",
        "    file.close()\n",
        "DocFile(\"E:\\csdlSinhVien.txt\")"
      ],
      "execution_count": null,
      "outputs": []
    },
    {
      "cell_type": "markdown",
      "metadata": {
        "id": "ZffAjevjjcMD"
      },
      "source": [
        "# **Class trong python**"
      ]
    },
    {
      "cell_type": "code",
      "metadata": {
        "id": "rZQ5p4_Ejd0O"
      },
      "source": [
        "class sinhVien:\n",
        "    def __init__(sv,ma,ten):\n",
        "        sv.masv=ma\n",
        "        sv.name=ten\n",
        "    def inthongtin(sv):\n",
        "        print(\"Ma sinh vien : \"+sv.masv )\n",
        "        print(\"Ten sinh vien : \"+sv.name)\n",
        "\n",
        "sinhviena=sinhVien('1881','hung dep trai')\n",
        "sinhviena.inthongtin()"
      ],
      "execution_count": null,
      "outputs": []
    },
    {
      "cell_type": "markdown",
      "metadata": {
        "id": "tw_KjL9pkHVS"
      },
      "source": [
        "# **Ham Lambda (an danh )**"
      ]
    },
    {
      "cell_type": "code",
      "metadata": {
        "id": "4LNmuobHkKL0",
        "colab": {
          "base_uri": "https://localhost:8080/"
        },
        "outputId": "f571b050-775d-4d73-ad02-63e7ab5cc26b"
      },
      "source": [
        "hung=lambda so : so +69\n",
        "print(hung(1))\n",
        "linh=lambda x,y,z : x+y+z\n",
        "print(linh(1,1,1))\n",
        "print(200*\"-\")\n",
        "tool=[(6,9),(6,20),(9,6),(-1,3),(2,10)]\n",
        "print(sorted(tool))\n",
        "print(sorted(tool,key=lambda point:point[1]))"
      ],
      "execution_count": null,
      "outputs": [
        {
          "output_type": "stream",
          "name": "stdout",
          "text": [
            "70\n",
            "3\n",
            "--------------------------------------------------------------------------------------------------------------------------------------------------------------------------------------------------------\n",
            "[(-1, 3), (2, 10), (6, 9), (6, 20), (9, 6)]\n",
            "[(-1, 3), (9, 6), (6, 9), (2, 10), (6, 20)]\n"
          ]
        }
      ]
    },
    {
      "cell_type": "code",
      "metadata": {
        "id": "B00otNWVkS-W",
        "colab": {
          "base_uri": "https://localhost:8080/"
        },
        "outputId": "5e661ecd-b082-4080-d679-eb98a0f48a1c"
      },
      "source": [
        "number_list=[-5,3,-2,4,1,-1,-3,-4,5]\n",
        "print(sorted(number_list))\n",
        "print(sorted(number_list,key=lambda x: abs(x)))\n",
        "print(200*\"-\")\n",
        "list_keyword=[\"hung\",\"bui\",\"xuan\"]\n",
        "print(list(map(lambda  x:x.title(),list_keyword)))"
      ],
      "execution_count": null,
      "outputs": [
        {
          "output_type": "stream",
          "name": "stdout",
          "text": [
            "[-5, -4, -3, -2, -1, 1, 3, 4, 5]\n",
            "[1, -1, -2, 3, -3, 4, -4, -5, 5]\n",
            "--------------------------------------------------------------------------------------------------------------------------------------------------------------------------------------------------------\n",
            "['Hung', 'Bui', 'Xuan']\n"
          ]
        }
      ]
    },
    {
      "cell_type": "markdown",
      "metadata": {
        "id": "g2KCaLg2kcPG"
      },
      "source": [
        "# **LIst Comprehensions**"
      ]
    },
    {
      "cell_type": "code",
      "metadata": {
        "id": "9mJsIQfskf5D",
        "colab": {
          "base_uri": "https://localhost:8080/"
        },
        "outputId": "029c9987-0852-46fc-e812-14db8493764c"
      },
      "source": [
        "word=\"hung dep trai\"\n",
        "print([char for char in word])"
      ],
      "execution_count": null,
      "outputs": [
        {
          "output_type": "stream",
          "name": "stdout",
          "text": [
            "['h', 'u', 'n', 'g', ' ', 'd', 'e', 'p', ' ', 't', 'r', 'a', 'i']\n"
          ]
        }
      ]
    },
    {
      "cell_type": "code",
      "metadata": {
        "id": "ohONiE1Jkncj",
        "colab": {
          "base_uri": "https://localhost:8080/"
        },
        "outputId": "64936e35-f4ed-45f3-9e7b-502d182eff7b"
      },
      "source": [
        "even_number=[i for i in range(0,10) if i%2==0]\n",
        "print(even_number)\n",
        "k=0\n",
        "even_number=[k+1 for i in range(1,11) if i%5==0]\n",
        "print(even_number)"
      ],
      "execution_count": null,
      "outputs": [
        {
          "output_type": "stream",
          "name": "stdout",
          "text": [
            "[0, 2, 4, 6, 8]\n",
            "[1, 1]\n"
          ]
        }
      ]
    },
    {
      "cell_type": "code",
      "metadata": {
        "id": "izD8e5GLkz81"
      },
      "source": [
        "transactions=[100,200,300,150,80]\n",
        "TAX_RATE=0.08\n",
        "SERVICE_CHARGE=0.07\n",
        "\n",
        "def get_price_tax_service(bill):\n",
        "    return  bill*(1+TAX_RATE+SERVICE_CHARGE)\n",
        "\n",
        "final_prices=[get_price_tax_service(bill) for bill in transactions]\n",
        "print(final_prices)"
      ],
      "execution_count": null,
      "outputs": []
    },
    {
      "cell_type": "markdown",
      "metadata": {
        "id": "FxTL0N0qlGRS"
      },
      "source": [
        "# **zip(): cho phep lap 2 list cung mot luc**"
      ]
    },
    {
      "cell_type": "code",
      "metadata": {
        "id": "6UAH_bDplNvi"
      },
      "source": [
        "wizards=['Harry Potter','Ron','Hermione']\n",
        "pets=['Hedwig','Scabber','Crookshank']\n",
        "\n",
        "for wiz,pet in zip(wizards,pets):\n",
        "    print(f'{wiz} has {pet}')\n",
        "\n",
        "for index,(wiz,pet) in enumerate(zip(wizards,pets)):\n",
        "    print(f'{index}. {wiz} has {pet}')\n",
        "#\n",
        "# #ban chat cua Zip()\n",
        "# # [['Harry Potter','Hedwig']\n",
        "# # ['Ron','Scabber']\n",
        "# # ['Hermione','Crookshank']]"
      ],
      "execution_count": null,
      "outputs": []
    },
    {
      "cell_type": "markdown",
      "metadata": {
        "id": "DRs7_TiWl1yV"
      },
      "source": [
        "# **sorted()**"
      ]
    },
    {
      "cell_type": "code",
      "metadata": {
        "id": "AfDO_eUHl3jt"
      },
      "source": [
        "sorted_by_second=sorted(['hi','hello','you','hung'] ,key=lambda el:el[1])\n",
        "print(sorted_by_second)# sap xep theo ki tu thu 2\n",
        "\n",
        "sorted_by_key=sorted([\n",
        "    {'nmae':'Andy','age':18},\n",
        "    {'nmae':'hung','age':55},\n",
        "    {'nmae':'linh','age':30}\n",
        "],key=lambda el:el['age'])\n",
        "print(sorted_by_key)"
      ],
      "execution_count": null,
      "outputs": []
    },
    {
      "cell_type": "markdown",
      "metadata": {
        "id": "1ztBzWMimMKt"
      },
      "source": [
        "# **Array List**"
      ]
    },
    {
      "cell_type": "code",
      "metadata": {
        "id": "ELlq7N0rm0-1"
      },
      "source": [
        "matrix=[[1,2,3],\n",
        "        [4,5,6],\n",
        "        [7,8,9,]]\n",
        "print(matrix[1][2])# row thu 1 va colum thu 2\n",
        "for row in range(len(matrix)):\n",
        "    for col in range(len(matrix)):\n",
        "        print(matrix[row][col])\n",
        "Transform Matrix in List :\n",
        "list_converted=[matrix[row][col] for row in range(len(matrix))\n",
        "                                for col in range(len(matrix))]\n",
        "print(list_converted)# converted ve mang 1 chieu\n",
        "Combine columns with zip and * :\n",
        "print([x for x in zip(*matrix)])"
      ],
      "execution_count": null,
      "outputs": []
    },
    {
      "cell_type": "markdown",
      "metadata": {
        "id": "C_72taPgm3i5"
      },
      "source": [
        "# **Kiểu Dữ Liệu Dictionary trong Python**"
      ]
    },
    {
      "cell_type": "code",
      "metadata": {
        "id": "50MW-Flrm-by"
      },
      "source": [
        "import math\n",
        "\n",
        "my_dict={\"name\":\"hung dep trai\",\"content\":\"300 cach tan hung\",\"city\":\"thai binh\"}\n",
        "print(my_dict)\n",
        "\n",
        "my_dict_2=dict(name=\"hung dep trai\",content=\"300 cach tan hung\",city=\"thai binh\")\n",
        "print(my_dict_2)"
      ],
      "execution_count": null,
      "outputs": []
    },
    {
      "cell_type": "code",
      "metadata": {
        "id": "3yLc-wXPnTDp"
      },
      "source": [
        "#Access items\n",
        "content_in_dict=my_dict[\"content\"]\n",
        "print(content_in_dict)"
      ],
      "execution_count": null,
      "outputs": []
    },
    {
      "cell_type": "code",
      "metadata": {
        "id": "y7T5rRsMnhjn"
      },
      "source": [
        "# add a new key\n",
        "my_dict[\"email\"]=\"hungthor1998@gmail.com\"\n",
        "print(my_dict)"
      ],
      "execution_count": null,
      "outputs": []
    },
    {
      "cell_type": "code",
      "metadata": {
        "id": "a5-EjjI4nka3"
      },
      "source": [
        "#update key\n",
        "my_dict[\"email\"]=\"hungthor@gmail.com\"\n",
        "print(my_dict)"
      ],
      "execution_count": null,
      "outputs": []
    },
    {
      "cell_type": "code",
      "metadata": {
        "id": "crLLWeJ5nrEy"
      },
      "source": [
        "#xoa key\n",
        "del my_dict[\"city\"]\n",
        "print(my_dict)\n"
      ],
      "execution_count": null,
      "outputs": []
    },
    {
      "cell_type": "code",
      "metadata": {
        "id": "eBzh9QKhn6jI"
      },
      "source": [
        "print(\"Popped value:\"+ my_dict.pop(\"city\")) # tra ve gia tri bi xoa\n",
        "print(my_dict)"
      ],
      "execution_count": null,
      "outputs": []
    },
    {
      "cell_type": "code",
      "metadata": {
        "id": "qFM8qXatnwCB"
      },
      "source": [
        "#loop over keys and values\n",
        "for value in my_dict.values():\n",
        "    print(value)"
      ],
      "execution_count": null,
      "outputs": []
    },
    {
      "cell_type": "code",
      "metadata": {
        "id": "oeetoPZpqPUV"
      },
      "source": [
        "for key,values in my_dict.items():\n",
        "    print(key,value)"
      ],
      "execution_count": null,
      "outputs": []
    },
    {
      "cell_type": "markdown",
      "metadata": {
        "id": "SwSpRLhHqZB5"
      },
      "source": [
        "# Arguments* vs Argument**"
      ]
    },
    {
      "cell_type": "markdown",
      "source": [
        "* Sử dụng  * args, **kwargsnhư một quy ước chuẩn để bắt các đối số vị trí và từ khóa\n",
        "* Bạn không thể đặ t **kwargstrước *args, nếu không bạn sẽ gặp lỗi\n",
        "*Cẩn thận với các xung đột giữa các tham số từ khóa và **kwargs nơi giá trị được truyền dưới dạng  **kwarg nhưng vô tình là tên của một tham số từ khóa\n",
        "* Bạn cũng có thể sử dụng toán tử biểu tượng trong các cuộc gọi hàm"
      ],
      "metadata": {
        "id": "z6vEqt19qHYK"
      }
    },
    {
      "cell_type": "markdown",
      "source": [
        "1.) * Args (Đối số Không phải Từ khoá)\n",
        "\n",
        "2.) ** kwargs (Đối số từ khóa)"
      ],
      "metadata": {
        "id": "YU3beq-HrHXp"
      }
    },
    {
      "cell_type": "code",
      "metadata": {
        "id": "tYClduwXqbJE"
      },
      "source": [
        "def Arguments(a,b,*args,**kwargs):\n",
        "    print(a,b)\n",
        "    for arg in args:\n",
        "        print(arg)\n",
        "    for key,value in kwargs.items():\n",
        "        print(key,value)\n",
        "Arguments(1,2,\"linh\",23,6,size=\"Up Size\",age=\"23\")"
      ],
      "execution_count": null,
      "outputs": []
    },
    {
      "cell_type": "code",
      "source": [
        "a = [1,2,3]\n",
        "b = [*a,4,5,6]\n",
        "\n",
        "print(b) # [1,2,3,4,5,6]"
      ],
      "metadata": {
        "colab": {
          "base_uri": "https://localhost:8080/"
        },
        "id": "IGKlaBNIl29r",
        "outputId": "81570cee-0f16-423e-91e1-b46d0e5c6a83"
      },
      "execution_count": null,
      "outputs": [
        {
          "output_type": "stream",
          "name": "stdout",
          "text": [
            "[1, 2, 3, 4, 5, 6]\n"
          ]
        }
      ]
    },
    {
      "cell_type": "code",
      "source": [
        "def printScores(student, *scores):\n",
        "   print(f\"Student Name: {student}\")\n",
        "   for score in scores:\n",
        "      print(score)\n",
        "\n",
        "printScores(\"Jonathan\",100, 95, 88, 92, 99)"
      ],
      "metadata": {
        "colab": {
          "base_uri": "https://localhost:8080/"
        },
        "id": "IgYpWbsEmXuW",
        "outputId": "bf1d7cf5-60bb-49c8-ba2e-54979447b06b"
      },
      "execution_count": null,
      "outputs": [
        {
          "output_type": "stream",
          "name": "stdout",
          "text": [
            "Student Name: Jonathan\n",
            "100\n",
            "95\n",
            "88\n",
            "92\n",
            "99\n"
          ]
        }
      ]
    },
    {
      "cell_type": "code",
      "source": [
        "def printPetNames(owner, **pets):\n",
        "   print(f\"Owner Name: {owner}\")\n",
        "   for pet,name in pets.items():\n",
        "      print(f\"{pet}: {name}\")\n",
        "\n",
        "printPetNames(\"Jonathan\", dog=\"Brock\", fish=[\"Larry\", \"Curly\", \"Moe\"], turtle=\"Shelldon\")"
      ],
      "metadata": {
        "colab": {
          "base_uri": "https://localhost:8080/"
        },
        "id": "yuoPQLjipHJn",
        "outputId": "a7f0f4fa-5316-4f05-f8c9-3f1a29e0a79b"
      },
      "execution_count": null,
      "outputs": [
        {
          "output_type": "stream",
          "name": "stdout",
          "text": [
            "Owner Name: Jonathan\n",
            "dog: Brock\n",
            "fish: ['Larry', 'Curly', 'Moe']\n",
            "turtle: Shelldon\n"
          ]
        }
      ]
    },
    {
      "cell_type": "markdown",
      "source": [
        " **1.)** * args"
      ],
      "metadata": {
        "id": "4m1ZLlGFr0lk"
      }
    },
    {
      "cell_type": "code",
      "source": [
        "def myFun(*argv):\n",
        "    for arg in argv:\n",
        "        print (arg)\n",
        "\n",
        "myFun('Hello', 'Welcome', 'to', 'GeeksforGeeks')"
      ],
      "metadata": {
        "colab": {
          "base_uri": "https://localhost:8080/"
        },
        "id": "9SC_o9Xvr-6b",
        "outputId": "07f6ffea-e166-442c-e7e5-45be2f570a7d"
      },
      "execution_count": null,
      "outputs": [
        {
          "output_type": "stream",
          "name": "stdout",
          "text": [
            "Hello\n",
            "Welcome\n",
            "to\n",
            "GeeksforGeeks\n"
          ]
        }
      ]
    },
    {
      "cell_type": "code",
      "source": [
        "def myFun(arg1, *argv):\n",
        "    print (\"First argument :\", arg1)\n",
        "    for arg in argv:\n",
        "        print(\"Next argument through *argv :\", arg)\n",
        "\n",
        "myFun('Hello', 'Welcome', 'to', 'GeeksforGeeks')"
      ],
      "metadata": {
        "colab": {
          "base_uri": "https://localhost:8080/"
        },
        "id": "STuFfYRAsEWW",
        "outputId": "91266598-c35c-4ab7-d4bf-58807111d3ae"
      },
      "execution_count": null,
      "outputs": [
        {
          "output_type": "stream",
          "name": "stdout",
          "text": [
            "First argument : Hello\n",
            "Next argument through *argv : Welcome\n",
            "Next argument through *argv : to\n",
            "Next argument through *argv : GeeksforGeeks\n"
          ]
        }
      ]
    },
    {
      "cell_type": "code",
      "source": [
        "A = [1,2,3,4,5]\n",
        "B = [6,7,8,9,10]\n",
        "C = *A, *B\n",
        "print(C)"
      ],
      "metadata": {
        "colab": {
          "base_uri": "https://localhost:8080/"
        },
        "id": "J1gJ4ut8wD1d",
        "outputId": "8403b0b1-93ec-4d22-80ac-6c62efde7bb1"
      },
      "execution_count": null,
      "outputs": [
        {
          "output_type": "stream",
          "name": "stdout",
          "text": [
            "(1, 2, 3, 4, 5, 6, 7, 8, 9, 10)\n"
          ]
        }
      ]
    },
    {
      "cell_type": "markdown",
      "source": [
        "**2.)** ** kwargs"
      ],
      "metadata": {
        "id": "fAJSrKqGsU_p"
      }
    },
    {
      "cell_type": "code",
      "source": [
        "def myFun(**kwargs):\n",
        "    for key, value in kwargs.items():\n",
        "        print (\"%s == %s\" %(key, value))\n",
        "\n",
        "# Driver code\n",
        "myFun(first ='Geeks', mid ='for', last='Geeks')"
      ],
      "metadata": {
        "colab": {
          "base_uri": "https://localhost:8080/"
        },
        "id": "kKtQy0GXsSlf",
        "outputId": "f6ec7f11-2bd1-4f8c-8bfa-b9687124d6d8"
      },
      "execution_count": null,
      "outputs": [
        {
          "output_type": "stream",
          "name": "stdout",
          "text": [
            "first == Geeks\n",
            "mid == for\n",
            "last == Geeks\n"
          ]
        }
      ]
    },
    {
      "cell_type": "code",
      "source": [
        "def myFun(arg1, **kwargs):\n",
        "    for key, value in kwargs.items():\n",
        "        print (\"%s == %s\" %(key, value))\n",
        "\n",
        "# Driver code\n",
        "myFun(\"Hi\", first ='Geeks', mid ='for', last='Geeks')"
      ],
      "metadata": {
        "colab": {
          "base_uri": "https://localhost:8080/"
        },
        "id": "HMuDaVXotLJZ",
        "outputId": "13d62be1-be74-47e4-b963-a00f36bf288c"
      },
      "execution_count": null,
      "outputs": [
        {
          "output_type": "stream",
          "name": "stdout",
          "text": [
            "first == Geeks\n",
            "mid == for\n",
            "last == Geeks\n"
          ]
        }
      ]
    },
    {
      "cell_type": "code",
      "source": [
        "def myFun(arg1, arg2, arg3):\n",
        "    print(\"arg1:\", arg1)\n",
        "    print(\"arg2:\", arg2)\n",
        "    print(\"arg3:\", arg3)\n",
        "\n",
        "# Now we can use *args or **kwargs to\n",
        "# pass arguments to this function :\n",
        "args = (\"Geeks\", \"for\", \"Geeks\")\n",
        "myFun(*args)\n",
        "\n",
        "print(200*'-')\n",
        "\n",
        "kwargs = {\"arg1\" : \"Geeks\", \"arg2\" : \"for\", \"arg3\" : \"Geeks\"}\n",
        "myFun(**kwargs)"
      ],
      "metadata": {
        "colab": {
          "base_uri": "https://localhost:8080/"
        },
        "id": "agGdJdgstkEU",
        "outputId": "ec3c7632-c89b-4a24-d29d-f46d94b66691"
      },
      "execution_count": null,
      "outputs": [
        {
          "output_type": "stream",
          "name": "stdout",
          "text": [
            "arg1: Geeks\n",
            "arg2: for\n",
            "arg3: Geeks\n",
            "--------------------------------------------------------------------------------------------------------------------------------------------------------------------------------------------------------\n",
            "arg1: Geeks\n",
            "arg2: for\n",
            "arg3: Geeks\n"
          ]
        }
      ]
    },
    {
      "cell_type": "code",
      "source": [
        "\n",
        "def myFun(*args,**kwargs):\n",
        "    print(\"args: \", args)\n",
        "    print(\"kwargs: \", kwargs)\n",
        "\n",
        "\n",
        "# Now we can use both *args ,**kwargs\n",
        "# to pass arguments to this function :\n",
        "myFun('geeks','for','geeks',first=\"Geeks\",mid=\"for\",last=\"Geeks\")"
      ],
      "metadata": {
        "colab": {
          "base_uri": "https://localhost:8080/"
        },
        "id": "IP8YfHsrt6I0",
        "outputId": "856d16c3-7f7b-4b02-c08e-897ba3177bf2"
      },
      "execution_count": null,
      "outputs": [
        {
          "output_type": "stream",
          "name": "stdout",
          "text": [
            "args:  ('geeks', 'for', 'geeks')\n",
            "kwargs:  {'first': 'Geeks', 'mid': 'for', 'last': 'Geeks'}\n"
          ]
        }
      ]
    },
    {
      "cell_type": "markdown",
      "metadata": {
        "id": "1fudaGgKqqDd"
      },
      "source": [
        "***Ham lamda tiep***"
      ]
    },
    {
      "cell_type": "code",
      "metadata": {
        "id": "93OsbLH6qsao"
      },
      "source": [
        "coordinate2D=[(6,9),(9,6),(-1,3),(2,10)]\n",
        "print(sorted(coordinate2D))\n",
        "print(sorted(coordinate2D,key=lambda point:point[1]))"
      ],
      "execution_count": null,
      "outputs": []
    },
    {
      "cell_type": "code",
      "metadata": {
        "id": "BxBcitwbq5sz"
      },
      "source": [
        "number_list=[5,3,-2,4,1,-1,-3,4,5]\n",
        "print(sorted(number_list))\n",
        "print(sorted(number_list,key=lambda x:abs(x)))"
      ],
      "execution_count": null,
      "outputs": []
    },
    {
      "cell_type": "code",
      "metadata": {
        "id": "BBv3zInrq_vb"
      },
      "source": [
        "list_keyword=[\"hung\",\"dep\",\"trai\"]\n",
        "print(list(map(lambda x:x.title(),list_keyword)))"
      ],
      "execution_count": null,
      "outputs": []
    },
    {
      "cell_type": "code",
      "metadata": {
        "id": "vyuXHV-TrC1I",
        "outputId": "b12c98e3-5af9-4a68-8d98-bb30e42758c3",
        "colab": {
          "base_uri": "https://localhost:8080/"
        }
      },
      "source": [
        "list_number=[1,2,3,4,5,6,7,8,9,10]\n",
        "print(list(filter(lambda x:x%2!=0, list_number)))"
      ],
      "execution_count": null,
      "outputs": [
        {
          "output_type": "stream",
          "name": "stdout",
          "text": [
            "[1, 3, 5, 7, 9]\n"
          ]
        }
      ]
    },
    {
      "cell_type": "code",
      "metadata": {
        "id": "fuiCgcubrFv5"
      },
      "source": [
        "new_list=[x for x in list_number if x%2!=0]\n",
        "print(new_list)"
      ],
      "execution_count": null,
      "outputs": []
    },
    {
      "cell_type": "markdown",
      "metadata": {
        "id": "j0UrZettrMRl"
      },
      "source": [
        "# **reduce---Se tra ve gia tri bieu thuc trong ngoac**"
      ]
    },
    {
      "cell_type": "code",
      "metadata": {
        "id": "8l00aeuKrVp4"
      },
      "source": [
        "from functools import reduce\n",
        "sequence=[1,2,3,4,5,6,7,8]\n",
        "# print(reduce(lambda a,b : a+b,sequence))\n",
        "print(reduce(lambda a,b:a if a>b else b,sequence))"
      ],
      "execution_count": null,
      "outputs": []
    },
    {
      "cell_type": "markdown",
      "metadata": {
        "id": "5sF_9Yf2rkda"
      },
      "source": [
        "# **Test List vs Array**"
      ]
    },
    {
      "cell_type": "code",
      "metadata": {
        "id": "v0BWIF-Frnmy"
      },
      "source": [
        "import numpy as np\n",
        "a= ['5.0 ','4.0 ','3.0' ,'2.0'] # kieu List\n",
        "c=np.array(a) # Kieu array 1 chieu\n",
        "b= ['5.1', '3.5' ,'1.4' ,'0.2' ]\n",
        "d=np.array(b)\n",
        "print(a)\n",
        "def calcDistancs(pointA, pointB):\n",
        "    tmp = 0\n",
        "    for i in range(4):\n",
        "        print(float(pointA[i]))\n",
        "\n",
        "        tmp += (float(pointA[i]) - float(pointB[i])) ** 2\n",
        "\n",
        "    print(math.sqrt(tmp))\n",
        "    return math.sqrt(tmp)\n",
        "calcDistancs(a,b)"
      ],
      "execution_count": null,
      "outputs": []
    },
    {
      "cell_type": "markdown",
      "source": [
        "# **--class--**"
      ],
      "metadata": {
        "id": "xC_1GCylT9Wf"
      }
    },
    {
      "cell_type": "code",
      "source": [
        "class Perseon:\n",
        "  def __init__(self, name):\n",
        "    self.name = name\n",
        "\n",
        "  def say_hi(self):\n",
        "    print('xin chao : ', self.name)\n",
        "\n",
        "p =  Perseon('hung')\n",
        "p.say_hi()"
      ],
      "metadata": {
        "colab": {
          "base_uri": "https://localhost:8080/"
        },
        "id": "WJuVT9RKUAv5",
        "outputId": "ec585521-bcc4-4315-9e53-d26ecbc9617a"
      },
      "execution_count": null,
      "outputs": [
        {
          "output_type": "stream",
          "name": "stdout",
          "text": [
            "xin chao :  hung\n"
          ]
        }
      ]
    },
    {
      "cell_type": "code",
      "source": [
        "class Dog:\n",
        "\n",
        "    # Class Variable\n",
        "    animal = 'dog'\n",
        "\n",
        "    # The init method or constructor\n",
        "    def __init__(self, breed, color):\n",
        "\n",
        "        # Instance Variable\n",
        "        self.breed = breed\n",
        "        self.color = color\n",
        "\n",
        "# Objects of Dog class\n",
        "Rodger = Dog(\"Pug\", \"brown\")\n",
        "Buzo = Dog(\"Bulldog\", \"black\")\n",
        "\n",
        "print('Rodger details:')\n",
        "print('Rodger is a', Rodger.animal)\n",
        "print('Breed: ', Rodger.breed)\n",
        "print('Color: ', Rodger.color)\n",
        "\n",
        "print('\\nBuzo details:')\n",
        "print('Buzo is a', Buzo.animal)\n",
        "print('Breed: ', Buzo.breed)\n",
        "print('Color: ', Buzo.color)\n",
        "\n",
        "# Class variables can be accessed using class\n",
        "# name also\n",
        "print(\"\\nAccessing class variable using class name\")\n",
        "print(Dog.animal)"
      ],
      "metadata": {
        "colab": {
          "base_uri": "https://localhost:8080/"
        },
        "id": "Ws7fagw1WEWQ",
        "outputId": "a8c2e234-04b3-4a00-fcd8-1e21717be0a2"
      },
      "execution_count": null,
      "outputs": [
        {
          "output_type": "stream",
          "name": "stdout",
          "text": [
            "Rodger details:\n",
            "Rodger is a dog\n",
            "Breed:  Pug\n",
            "Color:  brown\n",
            "\n",
            "Buzo details:\n",
            "Buzo is a dog\n",
            "Breed:  Bulldog\n",
            "Color:  black\n",
            "\n",
            "Accessing class variable using class name\n",
            "dog\n"
          ]
        }
      ]
    },
    {
      "cell_type": "code",
      "source": [
        "class Dog:\n",
        "  animal = 'dog'\n",
        "\n",
        "  def __init__(self,breed):\n",
        "    self.breed = breed\n",
        "\n",
        "  def setColor(self, color):\n",
        "    self.color = color\n",
        "\n",
        "  def getColor(self):\n",
        "    return self.color\n",
        "\n",
        "Rodger = Dog(\"pug\")\n",
        "Rodger.setColor(\"green\")\n",
        "print(Rodger.getColor())"
      ],
      "metadata": {
        "colab": {
          "base_uri": "https://localhost:8080/"
        },
        "id": "I2mezH6DWF5y",
        "outputId": "ab45203c-ac85-45b6-d333-23b841da944d"
      },
      "execution_count": null,
      "outputs": [
        {
          "output_type": "stream",
          "name": "stdout",
          "text": [
            "green\n"
          ]
        }
      ]
    },
    {
      "cell_type": "markdown",
      "source": [
        "**Kế thừa**"
      ],
      "metadata": {
        "id": "3QQJ47lAeffU"
      }
    },
    {
      "cell_type": "code",
      "source": [
        "class Person(object):\n",
        "\n",
        "    # Constructor\n",
        "    def __init__(self, name):\n",
        "        self.name = name\n",
        "\n",
        "    # To get name\n",
        "    def getName(self):\n",
        "        return self.name\n",
        "\n",
        "    # To check if this person is an employee\n",
        "    def isEmployee(self):\n",
        "        return False\n",
        "\n",
        "\n",
        "# Inherited or Subclass (Note Person in bracket)\n",
        "class Employee(Person):\n",
        "\n",
        "    # Here we return true\n",
        "    def isEmployee(self):\n",
        "        return True\n",
        "\n",
        "# Driver code\n",
        "emp = Person(\"Geek1\")  # An Object of Person\n",
        "print(emp.getName(), emp.isEmployee())\n",
        "\n",
        "emp = Employee(\"Geek2\") # An Object of Employee\n",
        "print(emp.getName(), emp.isEmployee())"
      ],
      "metadata": {
        "colab": {
          "base_uri": "https://localhost:8080/"
        },
        "id": "IFw-n4JMees5",
        "outputId": "d0ba54ea-3a89-45d0-acfa-b32a45fa28f6"
      },
      "execution_count": null,
      "outputs": [
        {
          "output_type": "stream",
          "name": "stdout",
          "text": [
            "Geek1 False\n",
            "Geek2 True\n"
          ]
        }
      ]
    },
    {
      "cell_type": "code",
      "source": [
        "class Person( object ):\n",
        "\n",
        "        # __init__ is known as the constructor\n",
        "        def __init__(self, name, idnumber):\n",
        "                self.name = name\n",
        "                self.idnumber = idnumber\n",
        "        def display(self):\n",
        "                print(self.name)\n",
        "                print(self.idnumber)\n",
        "\n",
        "# child class\n",
        "class Employee( Person ):\n",
        "        def __init__(self, name, idnumber, salary, post):\n",
        "                self.salary = salary\n",
        "                self.post = post\n",
        "\n",
        "                # invoking the __init__ of the parent class\n",
        "                Person.__init__(self, name, idnumber)\n",
        "\n",
        "\n",
        "# creation of an object variable or an instance\n",
        "a = Employee('Rahul', 886012, 200000, \"Intern\")\n",
        "\n",
        "# calling a function of the class Person using its instance\n",
        "a.display()"
      ],
      "metadata": {
        "colab": {
          "base_uri": "https://localhost:8080/"
        },
        "id": "sm78kLxPfd4S",
        "outputId": "0087f380-54f0-49e1-d83c-8350bce3b813"
      },
      "execution_count": null,
      "outputs": [
        {
          "output_type": "stream",
          "name": "stdout",
          "text": [
            "Rahul\n",
            "886012\n"
          ]
        }
      ]
    },
    {
      "cell_type": "markdown",
      "source": [
        "**đa kế thừa**"
      ],
      "metadata": {
        "id": "LV7xGqoNhbNI"
      }
    },
    {
      "cell_type": "code",
      "source": [
        "class Base1(object):\n",
        "    def __init__(self):\n",
        "        self.str1 = \"Geek1\"\n",
        "        print(\"Base1\")\n",
        "\n",
        "class Base2(object):\n",
        "    def __init__(self):\n",
        "        self.str2 = \"Geek2\"\n",
        "        print(\"Base2\")\n",
        "\n",
        "class Derived(Base1, Base2):\n",
        "    def __init__(self):\n",
        "\n",
        "        # Calling constructors of Base1\n",
        "        # and Base2 classes\n",
        "        Base1.__init__(self)\n",
        "        Base2.__init__(self)\n",
        "        print(\"Derived\")\n",
        "\n",
        "    def printStrs(self):\n",
        "        print(self.str1, self.str2)\n",
        "\n",
        "\n",
        "ob = Derived()\n",
        "ob.printStrs()"
      ],
      "metadata": {
        "colab": {
          "base_uri": "https://localhost:8080/"
        },
        "id": "hHf-Yi8mhcj-",
        "outputId": "ae614fc9-103f-483f-85c0-37e76968cc77"
      },
      "execution_count": null,
      "outputs": [
        {
          "output_type": "stream",
          "name": "stdout",
          "text": [
            "Base1\n",
            "Base2\n",
            "Derived\n",
            "Geek1 Geek2\n"
          ]
        }
      ]
    },
    {
      "cell_type": "code",
      "source": [
        "class Person(object):\n",
        "      def __init__(self, name, idnumber):\n",
        "            self.name = name\n",
        "            self.idnumber = idnumber\n",
        "\n",
        "# second parent class\n",
        "class Employee(object):\n",
        "      def __init__(self, salary, post):\n",
        "            self.salary = salary\n",
        "            self.post = post\n",
        "\n",
        "# inheritance from both the parent classes\n",
        "class Leader(Person, Employee):\n",
        "      def __init__(self, name, idnumber, salary, post, points):\n",
        "            self.points = points\n",
        "            Person.__init__(self, name, idnumber)\n",
        "            Employee.__init__(self, salary, post)\n",
        "            print(self.salary)\n",
        "\n",
        "ins = Leader('Rahul', 882016, 'Assistant Manager', 75000, 560)"
      ],
      "metadata": {
        "colab": {
          "base_uri": "https://localhost:8080/"
        },
        "id": "cwzEEjaAlDsO",
        "outputId": "7c58ffd8-4304-4e9c-88bb-6bb67d8d0f79"
      },
      "execution_count": null,
      "outputs": [
        {
          "output_type": "stream",
          "name": "stdout",
          "text": [
            "Assistant Manager\n"
          ]
        }
      ]
    },
    {
      "cell_type": "markdown",
      "source": [
        "## **Thừa kế đa cấp**"
      ],
      "metadata": {
        "id": "paEvpcMvibL9"
      }
    },
    {
      "cell_type": "code",
      "source": [
        "class Base(object):\n",
        "\n",
        "    # Constructor\n",
        "    def __init__(self, name):\n",
        "        self.name = name\n",
        "\n",
        "    # To get name\n",
        "    def getName(self):\n",
        "        return self.name\n",
        "\n",
        "\n",
        "# Inherited or Sub class (Note Person in bracket)\n",
        "class Child(Base):\n",
        "\n",
        "    # Constructor\n",
        "    def __init__(self, name, age):\n",
        "        Base.__init__(self, name)\n",
        "        self.age = age\n",
        "\n",
        "    # To get name\n",
        "    def getAge(self):\n",
        "        return self.age\n",
        "\n",
        "# Inherited or Sub class (Note Person in bracket)\n",
        "class GrandChild(Child):\n",
        "\n",
        "    # Constructor\n",
        "    def __init__(self, name, age, address):\n",
        "        Child.__init__(self, name, age)\n",
        "        self.address = address\n",
        "\n",
        "    # To get address\n",
        "    def getAddress(self):\n",
        "        return self.address\n",
        "\n",
        "# Driver code\n",
        "g = GrandChild(\"Geek1\", 23, \"Noida\")\n",
        "print(g.getName(), g.getAge(), g.getAddress())"
      ],
      "metadata": {
        "colab": {
          "base_uri": "https://localhost:8080/"
        },
        "id": "XBIhjpAXieYR",
        "outputId": "51629c99-23a4-47e6-e20b-69b6eb5f58f3"
      },
      "execution_count": null,
      "outputs": [
        {
          "output_type": "stream",
          "name": "stdout",
          "text": [
            "Geek1 23 Noida\n"
          ]
        }
      ]
    },
    {
      "cell_type": "markdown",
      "source": [
        "**4. Kế thừa phân cấp** Nhiều hơn một lớp dẫn xuất được tạo từ một cơ sở duy nhất.\n",
        "\n",
        "**5. Thừa kế lai** : Hình thức này kết hợp nhiều hơn một hình thức kế"
      ],
      "metadata": {
        "id": "q9Ue4s6SizUg"
      }
    },
    {
      "cell_type": "markdown",
      "source": [
        "**Các thành viên riêng của lớp cha**\n",
        "Không phải lúc nào chúng ta cũng muốn các biến cá thể của lớp cha được kế thừa bởi lớp con, tức là chúng ta có thể đặt một số biến cá thể của lớp cha là riêng, sẽ không có sẵn cho lớp con .\n",
        "Chúng ta có thể đặt một biến cá thể ở chế độ riêng tư bằng cách thêm dấu gạch dưới kép vào trước tên của nó"
      ],
      "metadata": {
        "id": "WoZhjfIOixRd"
      }
    },
    {
      "cell_type": "code",
      "source": [
        "class C(object):\n",
        "       def __init__(self):\n",
        "              self.c = 21\n",
        "\n",
        "              # d is private instance variable\n",
        "              self.__d = 42\n",
        "class D(C):\n",
        "       def __init__(self):\n",
        "              self.e = 84\n",
        "              C.__init__(self)\n",
        "object1 = D()\n",
        "\n",
        "# produces an error as d is private instance variable\n"
      ],
      "metadata": {
        "id": "iNTcsAl3i-Lv"
      },
      "execution_count": null,
      "outputs": []
    },
    {
      "cell_type": "code",
      "source": [
        "print(object1.c)"
      ],
      "metadata": {
        "colab": {
          "base_uri": "https://localhost:8080/"
        },
        "id": "eIGHJGWTjm8t",
        "outputId": "c5041199-a0f0-4c26-ed02-00aca1f641ef"
      },
      "execution_count": null,
      "outputs": [
        {
          "output_type": "stream",
          "name": "stdout",
          "text": [
            "21\n"
          ]
        }
      ]
    },
    {
      "cell_type": "code",
      "source": [
        "print(object1.e)"
      ],
      "metadata": {
        "colab": {
          "base_uri": "https://localhost:8080/"
        },
        "id": "cR6n8Mrmjnye",
        "outputId": "dc6b7b3d-3af0-4c9d-c5c9-d574dd328986"
      },
      "execution_count": null,
      "outputs": [
        {
          "output_type": "stream",
          "name": "stdout",
          "text": [
            "84\n"
          ]
        }
      ]
    },
    {
      "cell_type": "code",
      "source": [
        "print(object1.d)"
      ],
      "metadata": {
        "colab": {
          "base_uri": "https://localhost:8080/",
          "height": 165
        },
        "id": "QeHnAvr_jrrI",
        "outputId": "e9598e3b-3944-4237-fb4a-4942cb3fd61a"
      },
      "execution_count": null,
      "outputs": [
        {
          "output_type": "error",
          "ename": "AttributeError",
          "evalue": "ignored",
          "traceback": [
            "\u001b[0;31m---------------------------------------------------------------------------\u001b[0m",
            "\u001b[0;31mAttributeError\u001b[0m                            Traceback (most recent call last)",
            "\u001b[0;32m<ipython-input-13-025c110f83f7>\u001b[0m in \u001b[0;36m<module>\u001b[0;34m()\u001b[0m\n\u001b[0;32m----> 1\u001b[0;31m \u001b[0mprint\u001b[0m\u001b[0;34m(\u001b[0m\u001b[0mobject1\u001b[0m\u001b[0;34m.\u001b[0m\u001b[0md\u001b[0m\u001b[0;34m)\u001b[0m\u001b[0;34m\u001b[0m\u001b[0;34m\u001b[0m\u001b[0m\n\u001b[0m",
            "\u001b[0;31mAttributeError\u001b[0m: 'D' object has no attribute 'd'"
          ]
        }
      ]
    },
    {
      "cell_type": "markdown",
      "source": [
        "**Issubclass ()**: Nó kiểm tra một lớp cụ thể có phải là lớp con của một lớp khác hay không. Cú pháp của nó là:"
      ],
      "metadata": {
        "id": "iF1NjV9wko6T"
      }
    },
    {
      "cell_type": "code",
      "source": [
        "class A():\n",
        "      def __init__(self, a):\n",
        "            self.a = a\n",
        "class B(A):\n",
        "      def __init__(self, a, b):\n",
        "            self.b = b\n",
        "            A.__init__(self, a)\n",
        "\n",
        "print(issubclass(B, A))"
      ],
      "metadata": {
        "colab": {
          "base_uri": "https://localhost:8080/"
        },
        "id": "BsYDOKP1kqtE",
        "outputId": "d31d5063-1f92-405e-f0f0-ad0ee7d46180"
      },
      "execution_count": null,
      "outputs": [
        {
          "output_type": "stream",
          "name": "stdout",
          "text": [
            "True\n"
          ]
        }
      ]
    },
    {
      "cell_type": "markdown",
      "source": [
        "**Ghi đè phương thức:**\n",
        "Ghi đè một phương thức có nghĩa là xác định lại một phương thức trong lớp con khi nó đã được định nghĩa trong một số lớp khác.\n",
        "Một phương thức trong lớp con sẽ chỉ được gọi là ghi đè khi tồn tại một phương thức khác có cùng tên và cùng một bộ tham số trong lớp cha.\n",
        "Ngoài ra, chúng ta không thể ghi đè một phương thức private của một lớp cha, là một phương thức có dấu gạch dưới kép trước tên của nó.\n",
        "Ví dụ:"
      ],
      "metadata": {
        "id": "fU06o74EltS8"
      }
    },
    {
      "cell_type": "code",
      "source": [
        "class A(object):\n",
        "        def __init__(self):\n",
        "                constant1 = 1\n",
        "        def method1(self):\n",
        "                print('method1 of class A')\n",
        "\n",
        "class B(A):\n",
        "        def __init__(self):\n",
        "                constant2 = 2\n",
        "                self.calling1()\n",
        "                A. __init__(self)\n",
        "        def method1(self):\n",
        "                print('method1 of class B')\n",
        "        def calling1(self):\n",
        "                self.method1()\n",
        "                A.method1(self)\n",
        "b = B()"
      ],
      "metadata": {
        "colab": {
          "base_uri": "https://localhost:8080/"
        },
        "id": "YtTlvs-dlvS6",
        "outputId": "83515133-ff9e-4c93-d944-35af0bb13bb8"
      },
      "execution_count": null,
      "outputs": [
        {
          "output_type": "stream",
          "name": "stdout",
          "text": [
            "method1 of class B\n",
            "method1 of class A\n"
          ]
        }
      ]
    },
    {
      "cell_type": "markdown",
      "source": [
        "**Mã gọi phương thức 1 của lớp B chứ không phải A vì Python tìm kiếm hàm theo thứ tự từ dưới lên trên.**"
      ],
      "metadata": {
        "id": "84dUw8NCmYyD"
      }
    },
    {
      "cell_type": "code",
      "source": [
        "class A(object):\n",
        "        def function1(self):\n",
        "                print('function of class A')\n",
        "class B(A):\n",
        "        def function1(self):\n",
        "                print('function of class B')\n",
        "                super(B, self).function1()\n",
        "class C(B):\n",
        "        def function1(self):\n",
        "                print('function of class C')\n",
        "                super(C, self).function1()\n",
        "j = C()\n",
        "j.function1()"
      ],
      "metadata": {
        "colab": {
          "base_uri": "https://localhost:8080/"
        },
        "id": "YKxA2KXrmZ00",
        "outputId": "8a2ead93-c89b-429a-a4a4-7404770abe28"
      },
      "execution_count": null,
      "outputs": [
        {
          "output_type": "stream",
          "name": "stdout",
          "text": [
            "function of class C\n",
            "function of class B\n",
            "function of class A\n"
          ]
        }
      ]
    }
  ]
}