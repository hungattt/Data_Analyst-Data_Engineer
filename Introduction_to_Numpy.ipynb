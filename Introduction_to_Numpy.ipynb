{
  "nbformat": 4,
  "nbformat_minor": 5,
  "metadata": {
    "kernelspec": {
      "display_name": "Python 3",
      "language": "python",
      "name": "python3"
    },
    "language_info": {
      "codemirror_mode": {
        "name": "ipython",
        "version": 3
      },
      "file_extension": ".py",
      "mimetype": "text/x-python",
      "name": "python",
      "nbconvert_exporter": "python",
      "pygments_lexer": "ipython3",
      "version": "3.9.2"
    },
    "colab": {
      "provenance": []
    }
  },
  "cells": [
    {
      "cell_type": "code",
      "metadata": {
        "id": "O5WuPf3DK85O"
      },
      "source": [
        "import numpy as np"
      ],
      "id": "O5WuPf3DK85O",
      "execution_count": null,
      "outputs": []
    },
    {
      "cell_type": "markdown",
      "metadata": {
        "id": "adolescent-environment"
      },
      "source": [
        "## 1. Data Types and Attributes"
      ],
      "id": "adolescent-environment"
    },
    {
      "cell_type": "code",
      "metadata": {
        "colab": {
          "base_uri": "https://localhost:8080/"
        },
        "id": "amended-dylan",
        "outputId": "dcde4c86-90a5-4d9e-bb38-78e53dd83f00"
      },
      "source": [
        "# NumPy's main datatype is ndarray\n",
        "\n",
        "a1 = np.array([1,2,3])\n",
        "a1"
      ],
      "id": "amended-dylan",
      "execution_count": null,
      "outputs": [
        {
          "output_type": "execute_result",
          "data": {
            "text/plain": [
              "array([1, 2, 3])"
            ]
          },
          "metadata": {},
          "execution_count": 2
        }
      ]
    },
    {
      "cell_type": "code",
      "metadata": {
        "colab": {
          "base_uri": "https://localhost:8080/"
        },
        "id": "applied-buying",
        "outputId": "d9c8447a-abf2-4aad-8ef7-67b09257ab01"
      },
      "source": [
        "type(a1)"
      ],
      "id": "applied-buying",
      "execution_count": null,
      "outputs": [
        {
          "output_type": "execute_result",
          "data": {
            "text/plain": [
              "numpy.ndarray"
            ]
          },
          "metadata": {},
          "execution_count": 3
        }
      ]
    },
    {
      "cell_type": "code",
      "metadata": {
        "id": "lined-annex"
      },
      "source": [
        "a2 = np.array([[1,2.0,3],\n",
        "              [4,5,6.5]])\n",
        "a3 = np.array([[[1,2,3],\n",
        "                [4,5,6],\n",
        "                [7,8,9]],\n",
        "               [[10,11,12],\n",
        "                [13,14,15],\n",
        "                [17,18,19]]])"
      ],
      "id": "lined-annex",
      "execution_count": null,
      "outputs": []
    },
    {
      "cell_type": "code",
      "metadata": {
        "colab": {
          "base_uri": "https://localhost:8080/"
        },
        "id": "extensive-victoria",
        "outputId": "dbb4ab9a-53aa-47be-e8ed-79b72f9ff5e1"
      },
      "source": [
        "a3"
      ],
      "id": "extensive-victoria",
      "execution_count": null,
      "outputs": [
        {
          "output_type": "execute_result",
          "data": {
            "text/plain": [
              "array([[[ 1,  2,  3],\n",
              "        [ 4,  5,  6],\n",
              "        [ 7,  8,  9]],\n",
              "\n",
              "       [[10, 11, 12],\n",
              "        [13, 14, 15],\n",
              "        [17, 18, 19]]])"
            ]
          },
          "metadata": {},
          "execution_count": 5
        }
      ]
    },
    {
      "cell_type": "code",
      "metadata": {
        "colab": {
          "base_uri": "https://localhost:8080/"
        },
        "id": "arranged-jungle",
        "outputId": "e572181d-af26-4887-f92a-950e892023af"
      },
      "source": [
        "a2.shape"
      ],
      "id": "arranged-jungle",
      "execution_count": null,
      "outputs": [
        {
          "output_type": "execute_result",
          "data": {
            "text/plain": [
              "(2, 3)"
            ]
          },
          "metadata": {},
          "execution_count": 6
        }
      ]
    },
    {
      "cell_type": "code",
      "metadata": {
        "colab": {
          "base_uri": "https://localhost:8080/"
        },
        "id": "described-sheffield",
        "outputId": "cb1b6e53-13b8-4105-edca-61243947d454"
      },
      "source": [
        "a3.ndim #number of dimension"
      ],
      "id": "described-sheffield",
      "execution_count": null,
      "outputs": [
        {
          "output_type": "execute_result",
          "data": {
            "text/plain": [
              "3"
            ]
          },
          "metadata": {},
          "execution_count": 7
        }
      ]
    },
    {
      "cell_type": "code",
      "metadata": {
        "colab": {
          "base_uri": "https://localhost:8080/"
        },
        "id": "collected-seattle",
        "outputId": "3805f11f-ad85-4410-a79b-f709e74edd6b"
      },
      "source": [
        "a1.dtype, a2.dtype, a3.dtype"
      ],
      "id": "collected-seattle",
      "execution_count": null,
      "outputs": [
        {
          "output_type": "execute_result",
          "data": {
            "text/plain": [
              "(dtype('int64'), dtype('float64'), dtype('int64'))"
            ]
          },
          "metadata": {},
          "execution_count": 8
        }
      ]
    },
    {
      "cell_type": "code",
      "metadata": {
        "colab": {
          "base_uri": "https://localhost:8080/"
        },
        "id": "confident-occurrence",
        "outputId": "ebdaa496-7bcb-4c96-eb59-743d63531453"
      },
      "source": [
        "a1.size, a2.size, a3.size"
      ],
      "id": "confident-occurrence",
      "execution_count": null,
      "outputs": [
        {
          "output_type": "execute_result",
          "data": {
            "text/plain": [
              "(3, 6, 18)"
            ]
          },
          "metadata": {},
          "execution_count": 9
        }
      ]
    },
    {
      "cell_type": "code",
      "metadata": {
        "colab": {
          "base_uri": "https://localhost:8080/"
        },
        "id": "satisfactory-testament",
        "outputId": "148bb0a8-8411-428c-97fb-9738c8df47bf"
      },
      "source": [
        "type(a1),type(a2),type(a3)"
      ],
      "id": "satisfactory-testament",
      "execution_count": null,
      "outputs": [
        {
          "output_type": "execute_result",
          "data": {
            "text/plain": [
              "(numpy.ndarray, numpy.ndarray, numpy.ndarray)"
            ]
          },
          "metadata": {},
          "execution_count": 10
        }
      ]
    },
    {
      "cell_type": "code",
      "metadata": {
        "colab": {
          "base_uri": "https://localhost:8080/",
          "height": 112
        },
        "id": "center-madrid",
        "outputId": "bfa8d9ed-225a-4cdb-a4ce-819262e53cfb"
      },
      "source": [
        "#Create DataFrame from Numpy Array\n",
        "\n",
        "import pandas as pd\n",
        "df = pd.DataFrame(a2)\n",
        "df"
      ],
      "id": "center-madrid",
      "execution_count": null,
      "outputs": [
        {
          "output_type": "execute_result",
          "data": {
            "text/html": [
              "<div>\n",
              "<style scoped>\n",
              "    .dataframe tbody tr th:only-of-type {\n",
              "        vertical-align: middle;\n",
              "    }\n",
              "\n",
              "    .dataframe tbody tr th {\n",
              "        vertical-align: top;\n",
              "    }\n",
              "\n",
              "    .dataframe thead th {\n",
              "        text-align: right;\n",
              "    }\n",
              "</style>\n",
              "<table border=\"1\" class=\"dataframe\">\n",
              "  <thead>\n",
              "    <tr style=\"text-align: right;\">\n",
              "      <th></th>\n",
              "      <th>0</th>\n",
              "      <th>1</th>\n",
              "      <th>2</th>\n",
              "    </tr>\n",
              "  </thead>\n",
              "  <tbody>\n",
              "    <tr>\n",
              "      <th>0</th>\n",
              "      <td>1.0</td>\n",
              "      <td>2.0</td>\n",
              "      <td>3.0</td>\n",
              "    </tr>\n",
              "    <tr>\n",
              "      <th>1</th>\n",
              "      <td>4.0</td>\n",
              "      <td>5.0</td>\n",
              "      <td>6.5</td>\n",
              "    </tr>\n",
              "  </tbody>\n",
              "</table>\n",
              "</div>"
            ],
            "text/plain": [
              "     0    1    2\n",
              "0  1.0  2.0  3.0\n",
              "1  4.0  5.0  6.5"
            ]
          },
          "metadata": {},
          "execution_count": 11
        }
      ]
    },
    {
      "cell_type": "markdown",
      "metadata": {
        "id": "going-partner"
      },
      "source": [
        "## 2. Create np arrays"
      ],
      "id": "going-partner"
    },
    {
      "cell_type": "code",
      "metadata": {
        "id": "pacific-rating"
      },
      "source": [
        "ones = np.ones((2,3))"
      ],
      "id": "pacific-rating",
      "execution_count": null,
      "outputs": []
    },
    {
      "cell_type": "code",
      "metadata": {
        "colab": {
          "base_uri": "https://localhost:8080/"
        },
        "id": "valid-floor",
        "outputId": "80772541-8da1-4e1f-b69c-a65474d70bc5"
      },
      "source": [
        "zeros = np.zeros((2,3))\n",
        "zeros"
      ],
      "id": "valid-floor",
      "execution_count": null,
      "outputs": [
        {
          "output_type": "execute_result",
          "data": {
            "text/plain": [
              "array([[0., 0., 0.],\n",
              "       [0., 0., 0.]])"
            ]
          },
          "metadata": {},
          "execution_count": 13
        }
      ]
    },
    {
      "cell_type": "code",
      "metadata": {
        "id": "later-saudi"
      },
      "source": [
        "# Pseudo-random numbers\n",
        "np.random.seed(seed = 0) # Random function change everytume we ran"
      ],
      "id": "later-saudi",
      "execution_count": null,
      "outputs": []
    },
    {
      "cell_type": "code",
      "metadata": {
        "colab": {
          "base_uri": "https://localhost:8080/"
        },
        "id": "outstanding-waterproof",
        "outputId": "ca3ea431-be26-44e5-86dd-c8a9da146f03"
      },
      "source": [
        "range_array = np.arange(0,10,2)\n",
        "range_array"
      ],
      "id": "outstanding-waterproof",
      "execution_count": null,
      "outputs": [
        {
          "output_type": "execute_result",
          "data": {
            "text/plain": [
              "array([0, 2, 4, 6, 8])"
            ]
          },
          "metadata": {},
          "execution_count": 15
        }
      ]
    },
    {
      "cell_type": "code",
      "metadata": {
        "colab": {
          "base_uri": "https://localhost:8080/"
        },
        "id": "removed-pollution",
        "outputId": "d1cfad41-4c38-47d5-c8b7-5ecc8ee2b1c9"
      },
      "source": [
        "random_array = np.random.randint(0,10, size=(3,5))\n",
        "random_array"
      ],
      "id": "removed-pollution",
      "execution_count": null,
      "outputs": [
        {
          "output_type": "execute_result",
          "data": {
            "text/plain": [
              "array([[5, 0, 3, 3, 7],\n",
              "       [9, 3, 5, 2, 4],\n",
              "       [7, 6, 8, 8, 1]])"
            ]
          },
          "metadata": {},
          "execution_count": 16
        }
      ]
    },
    {
      "cell_type": "code",
      "metadata": {
        "id": "cross-shipping"
      },
      "source": [
        ""
      ],
      "id": "cross-shipping",
      "execution_count": null,
      "outputs": []
    },
    {
      "cell_type": "markdown",
      "metadata": {
        "id": "experimental-variance"
      },
      "source": [
        "## 3. Viewing Arrays and Matrices"
      ],
      "id": "experimental-variance"
    },
    {
      "cell_type": "code",
      "metadata": {
        "id": "likely-tokyo"
      },
      "source": [
        "a4 = np.random.randint(10, size=(2,3,4,5))"
      ],
      "id": "likely-tokyo",
      "execution_count": null,
      "outputs": []
    },
    {
      "cell_type": "code",
      "metadata": {
        "colab": {
          "base_uri": "https://localhost:8080/"
        },
        "id": "assumed-photographer",
        "outputId": "e9133814-4df2-4d2e-da37-b132e029ccc7"
      },
      "source": [
        "a4.shape, a4.ndim"
      ],
      "id": "assumed-photographer",
      "execution_count": null,
      "outputs": [
        {
          "output_type": "execute_result",
          "data": {
            "text/plain": [
              "((2, 3, 4, 5), 4)"
            ]
          },
          "metadata": {},
          "execution_count": 18
        }
      ]
    },
    {
      "cell_type": "code",
      "metadata": {
        "colab": {
          "base_uri": "https://localhost:8080/"
        },
        "id": "faced-pizza",
        "outputId": "7f88f9d7-48fc-4791-f4ff-16df218f108b"
      },
      "source": [
        "# Get the first 2 numbers of inner most arrays\n",
        "a4[:,:,:,:2]"
      ],
      "id": "faced-pizza",
      "execution_count": null,
      "outputs": [
        {
          "output_type": "execute_result",
          "data": {
            "text/plain": [
              "array([[[[6, 7],\n",
              "         [5, 9],\n",
              "         [3, 0],\n",
              "         [2, 3]],\n",
              "\n",
              "        [[3, 3],\n",
              "         [9, 9],\n",
              "         [3, 2],\n",
              "         [0, 4]],\n",
              "\n",
              "        [[8, 4],\n",
              "         [8, 1],\n",
              "         [9, 3],\n",
              "         [0, 3]]],\n",
              "\n",
              "\n",
              "       [[[4, 6],\n",
              "         [4, 4],\n",
              "         [7, 5],\n",
              "         [5, 9]],\n",
              "\n",
              "        [[0, 1],\n",
              "         [0, 3],\n",
              "         [5, 9],\n",
              "         [2, 9]],\n",
              "\n",
              "        [[2, 3],\n",
              "         [9, 1],\n",
              "         [2, 3],\n",
              "         [0, 6]]]])"
            ]
          },
          "metadata": {},
          "execution_count": 19
        }
      ]
    },
    {
      "cell_type": "markdown",
      "metadata": {
        "id": "perfect-clinic"
      },
      "source": [
        "## 4. Manipulating & Comparing Arrays"
      ],
      "id": "perfect-clinic"
    },
    {
      "cell_type": "markdown",
      "metadata": {
        "id": "hearing-oasis"
      },
      "source": [
        "### Arithmetic"
      ],
      "id": "hearing-oasis"
    },
    {
      "cell_type": "code",
      "metadata": {
        "colab": {
          "base_uri": "https://localhost:8080/"
        },
        "id": "centered-cinema",
        "outputId": "fca8b228-3868-423b-a2d1-719b9e40aaec"
      },
      "source": [
        "a1"
      ],
      "id": "centered-cinema",
      "execution_count": null,
      "outputs": [
        {
          "output_type": "execute_result",
          "data": {
            "text/plain": [
              "array([1, 2, 3])"
            ]
          },
          "metadata": {},
          "execution_count": 20
        }
      ]
    },
    {
      "cell_type": "code",
      "metadata": {
        "id": "uniform-argument"
      },
      "source": [
        "ones = np.ones(3)"
      ],
      "id": "uniform-argument",
      "execution_count": null,
      "outputs": []
    },
    {
      "cell_type": "code",
      "metadata": {
        "colab": {
          "base_uri": "https://localhost:8080/"
        },
        "id": "north-brush",
        "outputId": "e108798e-9658-4dd8-c625-480eab9a2aef"
      },
      "source": [
        "a1 + ones"
      ],
      "id": "north-brush",
      "execution_count": null,
      "outputs": [
        {
          "output_type": "execute_result",
          "data": {
            "text/plain": [
              "array([2., 3., 4.])"
            ]
          },
          "metadata": {},
          "execution_count": 22
        }
      ]
    },
    {
      "cell_type": "code",
      "metadata": {
        "colab": {
          "base_uri": "https://localhost:8080/"
        },
        "id": "spatial-novelty",
        "outputId": "f9d62bd6-44c4-4447-a883-bade213281db"
      },
      "source": [
        "a2"
      ],
      "id": "spatial-novelty",
      "execution_count": null,
      "outputs": [
        {
          "output_type": "execute_result",
          "data": {
            "text/plain": [
              "array([[1. , 2. , 3. ],\n",
              "       [4. , 5. , 6.5]])"
            ]
          },
          "metadata": {},
          "execution_count": 23
        }
      ]
    },
    {
      "cell_type": "code",
      "metadata": {
        "colab": {
          "base_uri": "https://localhost:8080/"
        },
        "id": "enclosed-sweden",
        "outputId": "e49bcebd-c85e-4017-a0e1-ec93b465a201"
      },
      "source": [
        "a3"
      ],
      "id": "enclosed-sweden",
      "execution_count": null,
      "outputs": [
        {
          "output_type": "execute_result",
          "data": {
            "text/plain": [
              "array([[[ 1,  2,  3],\n",
              "        [ 4,  5,  6],\n",
              "        [ 7,  8,  9]],\n",
              "\n",
              "       [[10, 11, 12],\n",
              "        [13, 14, 15],\n",
              "        [17, 18, 19]]])"
            ]
          },
          "metadata": {},
          "execution_count": 24
        }
      ]
    },
    {
      "cell_type": "code",
      "metadata": {
        "id": "global-atlas"
      },
      "source": [
        "# How can you reshape a2 to be compatible with a3 ?\n",
        "# Search: \"How to reshape numpy array\"\n",
        "# a2*a3\n"
      ],
      "id": "global-atlas",
      "execution_count": null,
      "outputs": []
    },
    {
      "cell_type": "code",
      "metadata": {
        "colab": {
          "base_uri": "https://localhost:8080/"
        },
        "id": "considered-female",
        "outputId": "2a2e207d-6f55-4a3c-8423-6f8b07699606"
      },
      "source": [
        "np.square(a2)\n",
        "np.add(a1, ones) #a1 + ones"
      ],
      "id": "considered-female",
      "execution_count": null,
      "outputs": [
        {
          "output_type": "execute_result",
          "data": {
            "text/plain": [
              "array([2., 3., 4.])"
            ]
          },
          "metadata": {},
          "execution_count": 27
        }
      ]
    },
    {
      "cell_type": "markdown",
      "metadata": {
        "id": "tropical-waterproof"
      },
      "source": [
        "### Aggregation\n",
        "\n",
        "Aggregation = performkng the same operation on a number of things"
      ],
      "id": "tropical-waterproof"
    },
    {
      "cell_type": "code",
      "metadata": {
        "colab": {
          "base_uri": "https://localhost:8080/"
        },
        "id": "interpreted-moore",
        "outputId": "869ec28b-374a-4561-f439-7cf24d86a397"
      },
      "source": [
        "listy_list = [1,2,3]\n",
        "sum(listy_list)"
      ],
      "id": "interpreted-moore",
      "execution_count": null,
      "outputs": [
        {
          "output_type": "execute_result",
          "data": {
            "text/plain": [
              "6"
            ]
          },
          "metadata": {},
          "execution_count": 28
        }
      ]
    },
    {
      "cell_type": "code",
      "metadata": {
        "colab": {
          "base_uri": "https://localhost:8080/"
        },
        "id": "artificial-genealogy",
        "outputId": "8344817f-35d2-403c-98ad-a45ea105792e"
      },
      "source": [
        "np.sum(a1)"
      ],
      "id": "artificial-genealogy",
      "execution_count": null,
      "outputs": [
        {
          "output_type": "execute_result",
          "data": {
            "text/plain": [
              "6"
            ]
          },
          "metadata": {},
          "execution_count": 29
        }
      ]
    },
    {
      "cell_type": "markdown",
      "metadata": {
        "id": "confident-ethnic"
      },
      "source": [
        "Use Python's methods (`sum()`) on Python datatypes and use Numpy's methods on Numpy arrays (`np.sum()`)."
      ],
      "id": "confident-ethnic"
    },
    {
      "cell_type": "code",
      "metadata": {
        "colab": {
          "base_uri": "https://localhost:8080/"
        },
        "id": "analyzed-nation",
        "outputId": "df1eddd4-126e-44c7-dc98-d3e6021e3397"
      },
      "source": [
        "# Create a massive Numpy array\n",
        "massive_array = np.random.random(10000)\n",
        "massive_array[:10]"
      ],
      "id": "analyzed-nation",
      "execution_count": null,
      "outputs": [
        {
          "output_type": "execute_result",
          "data": {
            "text/plain": [
              "array([0.16494046, 0.36980809, 0.14644176, 0.56961841, 0.70373728,\n",
              "       0.28847644, 0.43328806, 0.75610669, 0.39609828, 0.89603839])"
            ]
          },
          "metadata": {},
          "execution_count": 30
        }
      ]
    },
    {
      "cell_type": "code",
      "metadata": {
        "colab": {
          "base_uri": "https://localhost:8080/"
        },
        "id": "removed-grocery",
        "outputId": "c94e2e5b-d490-4661-eaf9-474c21eeadbc"
      },
      "source": [
        "%timeit sum(massive_array) #Python 's sum()\n",
        "%timeit np.sum(massive_array) #Numpy's np.sum()"
      ],
      "id": "removed-grocery",
      "execution_count": null,
      "outputs": [
        {
          "output_type": "stream",
          "name": "stdout",
          "text": [
            "1000 loops, best of 5: 1.65 ms per loop\n",
            "The slowest run took 14.88 times longer than the fastest. This could mean that an intermediate result is being cached.\n",
            "100000 loops, best of 5: 9.92 µs per loop\n"
          ]
        }
      ]
    },
    {
      "cell_type": "code",
      "metadata": {
        "colab": {
          "base_uri": "https://localhost:8080/"
        },
        "id": "complicated-charity",
        "outputId": "d75d7f3e-d438-443a-bfa5-27426a7fd9f1"
      },
      "source": [
        "np.mean(a2)"
      ],
      "id": "complicated-charity",
      "execution_count": null,
      "outputs": [
        {
          "output_type": "execute_result",
          "data": {
            "text/plain": [
              "3.5833333333333335"
            ]
          },
          "metadata": {},
          "execution_count": 32
        }
      ]
    },
    {
      "cell_type": "code",
      "metadata": {
        "colab": {
          "base_uri": "https://localhost:8080/"
        },
        "id": "remarkable-prompt",
        "outputId": "d3caebf7-cf81-401e-f16f-2561d667ed49"
      },
      "source": [
        "np.max(a2)"
      ],
      "id": "remarkable-prompt",
      "execution_count": null,
      "outputs": [
        {
          "output_type": "execute_result",
          "data": {
            "text/plain": [
              "6.5"
            ]
          },
          "metadata": {},
          "execution_count": 33
        }
      ]
    },
    {
      "cell_type": "code",
      "metadata": {
        "colab": {
          "base_uri": "https://localhost:8080/"
        },
        "id": "satisfied-launch",
        "outputId": "3cc61802-9103-481a-946b-42ae20a94fb2"
      },
      "source": [
        "# Varainace = measure of the average degree to which each number is different to the mean\n",
        "# Higher variance = wider range of numbers\n",
        "# Lower variance = lower range of numbers\n",
        "np.var(a2)"
      ],
      "id": "satisfied-launch",
      "execution_count": null,
      "outputs": [
        {
          "output_type": "execute_result",
          "data": {
            "text/plain": [
              "3.368055555555556"
            ]
          },
          "metadata": {},
          "execution_count": 34
        }
      ]
    },
    {
      "cell_type": "code",
      "metadata": {
        "colab": {
          "base_uri": "https://localhost:8080/"
        },
        "id": "incredible-organic",
        "outputId": "9e0bf098-cd1c-4ea4-820b-6190165d140c"
      },
      "source": [
        "# Standard deviation = a measure of how spread out a group of numbers is from the mean\n",
        "np.std(a2)"
      ],
      "id": "incredible-organic",
      "execution_count": null,
      "outputs": [
        {
          "output_type": "execute_result",
          "data": {
            "text/plain": [
              "1.8352262954621035"
            ]
          },
          "metadata": {},
          "execution_count": 35
        }
      ]
    },
    {
      "cell_type": "code",
      "metadata": {
        "colab": {
          "base_uri": "https://localhost:8080/"
        },
        "id": "aquatic-cooper",
        "outputId": "f6b12e3c-848e-4cea-d353-af537681d6b7"
      },
      "source": [
        "# Standar deviation = Square Root of Variance\n",
        "np.sqrt(np.var(a2))"
      ],
      "id": "aquatic-cooper",
      "execution_count": null,
      "outputs": [
        {
          "output_type": "execute_result",
          "data": {
            "text/plain": [
              "1.8352262954621035"
            ]
          },
          "metadata": {},
          "execution_count": 36
        }
      ]
    },
    {
      "cell_type": "code",
      "metadata": {
        "id": "complimentary-opposition"
      },
      "source": [
        "# Demo of std and var\n",
        "\n",
        "high_var_array = np.array([1,100,200,300,4000, 5000])\n",
        "low_var_array = np.array([2,4,6,8,10])"
      ],
      "id": "complimentary-opposition",
      "execution_count": null,
      "outputs": []
    },
    {
      "cell_type": "code",
      "metadata": {
        "colab": {
          "base_uri": "https://localhost:8080/"
        },
        "id": "fancy-prior",
        "outputId": "5df4712e-52af-41d4-e9d1-a1b1881447b6"
      },
      "source": [
        "np.var(high_var_array), np.var(low_var_array)"
      ],
      "id": "fancy-prior",
      "execution_count": null,
      "outputs": [
        {
          "output_type": "execute_result",
          "data": {
            "text/plain": [
              "(4296133.472222221, 8.0)"
            ]
          },
          "metadata": {},
          "execution_count": 38
        }
      ]
    },
    {
      "cell_type": "code",
      "metadata": {
        "colab": {
          "base_uri": "https://localhost:8080/"
        },
        "id": "informative-picnic",
        "outputId": "3a346e91-db38-427d-8e47-77b8f74dcb77"
      },
      "source": [
        "np.std(high_var_array), np.std(low_var_array)"
      ],
      "id": "informative-picnic",
      "execution_count": null,
      "outputs": [
        {
          "output_type": "execute_result",
          "data": {
            "text/plain": [
              "(2072.711623024829, 2.8284271247461903)"
            ]
          },
          "metadata": {},
          "execution_count": 39
        }
      ]
    },
    {
      "cell_type": "code",
      "metadata": {
        "id": "streaming-registration"
      },
      "source": [
        "np.mean(high_var_array), np.mean(low_var_array)"
      ],
      "id": "streaming-registration",
      "execution_count": null,
      "outputs": []
    },
    {
      "cell_type": "code",
      "metadata": {
        "id": "exposed-dancing"
      },
      "source": [
        "%matplotlib inline"
      ],
      "id": "exposed-dancing",
      "execution_count": null,
      "outputs": []
    },
    {
      "cell_type": "code",
      "metadata": {
        "colab": {
          "base_uri": "https://localhost:8080/",
          "height": 265
        },
        "id": "greatest-wireless",
        "outputId": "769da29c-aaab-4f2a-e79c-99dab85f01be"
      },
      "source": [
        "import matplotlib.pyplot as plt\n",
        "plt.hist(high_var_array)\n",
        "plt.show()"
      ],
      "id": "greatest-wireless",
      "execution_count": null,
      "outputs": [
        {
          "output_type": "display_data",
          "data": {
            "image/png": "[encoded data removed]",
            "text/plain": [
              "<Figure size 432x288 with 1 Axes>"
            ]
          },
          "metadata": {
            "needs_background": "light"
          }
        }
      ]
    },
    {
      "cell_type": "code",
      "metadata": {
        "colab": {
          "base_uri": "https://localhost:8080/",
          "height": 265
        },
        "id": "crucial-quarterly",
        "outputId": "2e70f771-47d5-4239-de3d-322ccbef04b2"
      },
      "source": [
        "plt.hist(low_var_array)\n",
        "plt.show()"
      ],
      "id": "crucial-quarterly",
      "execution_count": null,
      "outputs": [
        {
          "output_type": "display_data",
          "data": {
            "image/png": "[encoded data removed]",
            "text/plain": [
              "<Figure size 432x288 with 1 Axes>"
            ]
          },
          "metadata": {
            "needs_background": "light"
          }
        }
      ]
    },
    {
      "cell_type": "markdown",
      "metadata": {
        "id": "working-edgar"
      },
      "source": [
        ""
      ],
      "id": "working-edgar"
    },
    {
      "cell_type": "code",
      "metadata": {
        "id": "suffering-guess"
      },
      "source": [
        "a2_reshape = a2.reshape(2,3,1)"
      ],
      "id": "suffering-guess",
      "execution_count": null,
      "outputs": []
    },
    {
      "cell_type": "code",
      "metadata": {
        "colab": {
          "base_uri": "https://localhost:8080/"
        },
        "id": "current-sunset",
        "outputId": "59071967-fff3-4265-f914-35cb49c5045c"
      },
      "source": [
        "a2_reshape * a3"
      ],
      "id": "current-sunset",
      "execution_count": null,
      "outputs": [
        {
          "output_type": "execute_result",
          "data": {
            "text/plain": [
              "array([[[  1. ,   2. ,   3. ],\n",
              "        [  8. ,  10. ,  12. ],\n",
              "        [ 21. ,  24. ,  27. ]],\n",
              "\n",
              "       [[ 40. ,  44. ,  48. ],\n",
              "        [ 65. ,  70. ,  75. ],\n",
              "        [110.5, 117. , 123.5]]])"
            ]
          },
          "metadata": {},
          "execution_count": 44
        }
      ]
    },
    {
      "cell_type": "code",
      "metadata": {
        "colab": {
          "base_uri": "https://localhost:8080/"
        },
        "id": "toxic-gothic",
        "outputId": "4a21747f-c4fa-4401-a1ae-b26beee36167"
      },
      "source": [
        "a2"
      ],
      "id": "toxic-gothic",
      "execution_count": null,
      "outputs": [
        {
          "output_type": "execute_result",
          "data": {
            "text/plain": [
              "array([[1. , 2. , 3. ],\n",
              "       [4. , 5. , 6.5]])"
            ]
          },
          "metadata": {},
          "execution_count": 45
        }
      ]
    },
    {
      "cell_type": "code",
      "metadata": {
        "scrolled": true,
        "colab": {
          "base_uri": "https://localhost:8080/"
        },
        "id": "operational-defendant",
        "outputId": "8ce5fe19-0389-436c-83cd-34dae68cb260"
      },
      "source": [
        "# Transpose = switches the axis\n",
        "a2.T"
      ],
      "id": "operational-defendant",
      "execution_count": null,
      "outputs": [
        {
          "output_type": "execute_result",
          "data": {
            "text/plain": [
              "array([[1. , 4. ],\n",
              "       [2. , 5. ],\n",
              "       [3. , 6.5]])"
            ]
          },
          "metadata": {},
          "execution_count": 46
        }
      ]
    },
    {
      "cell_type": "code",
      "metadata": {
        "colab": {
          "base_uri": "https://localhost:8080/"
        },
        "id": "legendary-delivery",
        "outputId": "6ee25430-82b8-4ec3-bc94-689c0f25f1ed"
      },
      "source": [
        "a2.T.shape"
      ],
      "id": "legendary-delivery",
      "execution_count": null,
      "outputs": [
        {
          "output_type": "execute_result",
          "data": {
            "text/plain": [
              "(3, 2)"
            ]
          },
          "metadata": {},
          "execution_count": 47
        }
      ]
    },
    {
      "cell_type": "code",
      "metadata": {
        "colab": {
          "base_uri": "https://localhost:8080/"
        },
        "id": "persistent-emergency",
        "outputId": "f034ee71-7486-424c-d069-e7122e6ed5d1"
      },
      "source": [
        "a3.shape"
      ],
      "id": "persistent-emergency",
      "execution_count": null,
      "outputs": [
        {
          "output_type": "execute_result",
          "data": {
            "text/plain": [
              "(2, 3, 3)"
            ]
          },
          "metadata": {},
          "execution_count": 48
        }
      ]
    },
    {
      "cell_type": "code",
      "metadata": {
        "colab": {
          "base_uri": "https://localhost:8080/"
        },
        "id": "checked-change",
        "outputId": "689e0a73-112c-42c2-df23-d2d5202eb1fe"
      },
      "source": [
        "a3.T"
      ],
      "id": "checked-change",
      "execution_count": null,
      "outputs": [
        {
          "output_type": "execute_result",
          "data": {
            "text/plain": [
              "array([[[ 1, 10],\n",
              "        [ 4, 13],\n",
              "        [ 7, 17]],\n",
              "\n",
              "       [[ 2, 11],\n",
              "        [ 5, 14],\n",
              "        [ 8, 18]],\n",
              "\n",
              "       [[ 3, 12],\n",
              "        [ 6, 15],\n",
              "        [ 9, 19]]])"
            ]
          },
          "metadata": {},
          "execution_count": 50
        }
      ]
    },
    {
      "cell_type": "code",
      "metadata": {
        "colab": {
          "base_uri": "https://localhost:8080/"
        },
        "id": "laden-negative",
        "outputId": "05f3aed5-e863-47a8-8530-e739bf80d75c"
      },
      "source": [
        "a3.T.shape"
      ],
      "id": "laden-negative",
      "execution_count": null,
      "outputs": [
        {
          "output_type": "execute_result",
          "data": {
            "text/plain": [
              "(3, 3, 2)"
            ]
          },
          "metadata": {},
          "execution_count": 49
        }
      ]
    },
    {
      "cell_type": "markdown",
      "metadata": {
        "id": "least-hypothetical"
      },
      "source": [
        "## Dot Product"
      ],
      "id": "least-hypothetical"
    },
    {
      "cell_type": "code",
      "metadata": {
        "id": "neural-chorus"
      },
      "source": [
        "np.random.seed(0)\n",
        "mat1 = np.random.randint(10, size=(5,3))\n",
        "mat2 = np.random.randint(10, size=(5,3))"
      ],
      "id": "neural-chorus",
      "execution_count": null,
      "outputs": []
    },
    {
      "cell_type": "code",
      "metadata": {
        "colab": {
          "base_uri": "https://localhost:8080/"
        },
        "id": "federal-insertion",
        "outputId": "7938a443-2cae-4a0d-d8e6-c5195a59da52"
      },
      "source": [
        "mat1"
      ],
      "id": "federal-insertion",
      "execution_count": null,
      "outputs": [
        {
          "output_type": "execute_result",
          "data": {
            "text/plain": [
              "array([[5, 0, 3],\n",
              "       [3, 7, 9],\n",
              "       [3, 5, 2],\n",
              "       [4, 7, 6],\n",
              "       [8, 8, 1]])"
            ]
          },
          "metadata": {},
          "execution_count": 52
        }
      ]
    },
    {
      "cell_type": "code",
      "metadata": {
        "colab": {
          "base_uri": "https://localhost:8080/"
        },
        "id": "adult-orange",
        "outputId": "6a6a63a4-db9c-4da2-9ed8-a120788b4a33"
      },
      "source": [
        "mat2"
      ],
      "id": "adult-orange",
      "execution_count": null,
      "outputs": [
        {
          "output_type": "execute_result",
          "data": {
            "text/plain": [
              "array([[6, 7, 7],\n",
              "       [8, 1, 5],\n",
              "       [9, 8, 9],\n",
              "       [4, 3, 0],\n",
              "       [3, 5, 0]])"
            ]
          },
          "metadata": {},
          "execution_count": 53
        }
      ]
    },
    {
      "cell_type": "code",
      "metadata": {
        "colab": {
          "base_uri": "https://localhost:8080/"
        },
        "id": "pointed-brooklyn",
        "outputId": "6b40b108-5975-48c1-967f-b04e30a09b64"
      },
      "source": [
        "# Elemenet-wise multiplication (Hadamard Mul)\n",
        "mat1*mat2"
      ],
      "id": "pointed-brooklyn",
      "execution_count": null,
      "outputs": [
        {
          "output_type": "execute_result",
          "data": {
            "text/plain": [
              "array([[30,  0, 21],\n",
              "       [24,  7, 45],\n",
              "       [27, 40, 18],\n",
              "       [16, 21,  0],\n",
              "       [24, 40,  0]])"
            ]
          },
          "metadata": {},
          "execution_count": 54
        }
      ]
    },
    {
      "cell_type": "code",
      "metadata": {
        "colab": {
          "base_uri": "https://localhost:8080/"
        },
        "id": "electoral-success",
        "outputId": "40e5e522-7649-4716-9f62-186078acc034"
      },
      "source": [
        "np.dot(mat1.T, mat2)"
      ],
      "id": "electoral-success",
      "execution_count": null,
      "outputs": [
        {
          "output_type": "execute_result",
          "data": {
            "text/plain": [
              "array([[121, 114,  77],\n",
              "       [153, 108,  80],\n",
              "       [135,  69,  84]])"
            ]
          },
          "metadata": {},
          "execution_count": 55
        }
      ]
    },
    {
      "cell_type": "markdown",
      "metadata": {
        "id": "transsexual-jones"
      },
      "source": [
        "### Dot Product Example"
      ],
      "id": "transsexual-jones"
    },
    {
      "cell_type": "code",
      "metadata": {
        "colab": {
          "base_uri": "https://localhost:8080/"
        },
        "id": "dress-coordinator",
        "outputId": "1cc02744-320b-454e-8b5b-43112011b370"
      },
      "source": [
        "# Num or jars sold\n",
        "np.random.seed(0)\n",
        "sales_amounts = np.random.randint(20, size = (5,3))\n",
        "sales_amounts"
      ],
      "id": "dress-coordinator",
      "execution_count": null,
      "outputs": [
        {
          "output_type": "execute_result",
          "data": {
            "text/plain": [
              "array([[12, 15,  0],\n",
              "       [ 3,  3,  7],\n",
              "       [ 9, 19, 18],\n",
              "       [ 4,  6, 12],\n",
              "       [ 1,  6,  7]])"
            ]
          },
          "metadata": {},
          "execution_count": 56
        }
      ]
    },
    {
      "cell_type": "code",
      "metadata": {
        "colab": {
          "base_uri": "https://localhost:8080/",
          "height": 206
        },
        "id": "weekly-scale",
        "outputId": "3645c35b-a054-4e54-f632-e7af76d82a99"
      },
      "source": [
        " weekly_sales = pd.DataFrame(sales_amounts, index = [\"Mon\", \"Tues\", \"wed\", \"Thurs\", \"Fri\"],\n",
        "                                           columns=[\"Almond butter\", \"Peanut Butter\", \"Cashew Butter\"])\n",
        "weekly_sales"
      ],
      "id": "weekly-scale",
      "execution_count": null,
      "outputs": [
        {
          "output_type": "execute_result",
          "data": {
            "text/html": [
              "<div>\n",
              "<style scoped>\n",
              "    .dataframe tbody tr th:only-of-type {\n",
              "        vertical-align: middle;\n",
              "    }\n",
              "\n",
              "    .dataframe tbody tr th {\n",
              "        vertical-align: top;\n",
              "    }\n",
              "\n",
              "    .dataframe thead th {\n",
              "        text-align: right;\n",
              "    }\n",
              "</style>\n",
              "<table border=\"1\" class=\"dataframe\">\n",
              "  <thead>\n",
              "    <tr style=\"text-align: right;\">\n",
              "      <th></th>\n",
              "      <th>Almond butter</th>\n",
              "      <th>Peanut Butter</th>\n",
              "      <th>Cashew Butter</th>\n",
              "    </tr>\n",
              "  </thead>\n",
              "  <tbody>\n",
              "    <tr>\n",
              "      <th>Mon</th>\n",
              "      <td>12</td>\n",
              "      <td>15</td>\n",
              "      <td>0</td>\n",
              "    </tr>\n",
              "    <tr>\n",
              "      <th>Tues</th>\n",
              "      <td>3</td>\n",
              "      <td>3</td>\n",
              "      <td>7</td>\n",
              "    </tr>\n",
              "    <tr>\n",
              "      <th>wed</th>\n",
              "      <td>9</td>\n",
              "      <td>19</td>\n",
              "      <td>18</td>\n",
              "    </tr>\n",
              "    <tr>\n",
              "      <th>Thurs</th>\n",
              "      <td>4</td>\n",
              "      <td>6</td>\n",
              "      <td>12</td>\n",
              "    </tr>\n",
              "    <tr>\n",
              "      <th>Fri</th>\n",
              "      <td>1</td>\n",
              "      <td>6</td>\n",
              "      <td>7</td>\n",
              "    </tr>\n",
              "  </tbody>\n",
              "</table>\n",
              "</div>"
            ],
            "text/plain": [
              "       Almond butter  Peanut Butter  Cashew Butter\n",
              "Mon               12             15              0\n",
              "Tues               3              3              7\n",
              "wed                9             19             18\n",
              "Thurs              4              6             12\n",
              "Fri                1              6              7"
            ]
          },
          "metadata": {},
          "execution_count": 57
        }
      ]
    },
    {
      "cell_type": "code",
      "metadata": {
        "colab": {
          "base_uri": "https://localhost:8080/"
        },
        "id": "technical-violence",
        "outputId": "18cdb879-84af-4270-fb84-2e0bb9884ddb"
      },
      "source": [
        "# Create price array\n",
        "prices = np.array([10,8,12])\n",
        "prices.shape"
      ],
      "id": "technical-violence",
      "execution_count": null,
      "outputs": [
        {
          "output_type": "execute_result",
          "data": {
            "text/plain": [
              "(3,)"
            ]
          },
          "metadata": {},
          "execution_count": 58
        }
      ]
    },
    {
      "cell_type": "code",
      "metadata": {
        "colab": {
          "base_uri": "https://localhost:8080/",
          "height": 81
        },
        "id": "radical-invention",
        "outputId": "08ee26e3-17a3-400d-beab-5f15852f3d6f"
      },
      "source": [
        "# Create butter_prices DF\n",
        "butter_prices = pd.DataFrame(prices.reshape(1,3), index = [\"Price\"], columns=[\"Almond butter\", \"Peanut Butter\", \"Cashew Butter\"])\n",
        "butter_prices"
      ],
      "id": "radical-invention",
      "execution_count": null,
      "outputs": [
        {
          "output_type": "execute_result",
          "data": {
            "text/html": [
              "<div>\n",
              "<style scoped>\n",
              "    .dataframe tbody tr th:only-of-type {\n",
              "        vertical-align: middle;\n",
              "    }\n",
              "\n",
              "    .dataframe tbody tr th {\n",
              "        vertical-align: top;\n",
              "    }\n",
              "\n",
              "    .dataframe thead th {\n",
              "        text-align: right;\n",
              "    }\n",
              "</style>\n",
              "<table border=\"1\" class=\"dataframe\">\n",
              "  <thead>\n",
              "    <tr style=\"text-align: right;\">\n",
              "      <th></th>\n",
              "      <th>Almond butter</th>\n",
              "      <th>Peanut Butter</th>\n",
              "      <th>Cashew Butter</th>\n",
              "    </tr>\n",
              "  </thead>\n",
              "  <tbody>\n",
              "    <tr>\n",
              "      <th>Price</th>\n",
              "      <td>10</td>\n",
              "      <td>8</td>\n",
              "      <td>12</td>\n",
              "    </tr>\n",
              "  </tbody>\n",
              "</table>\n",
              "</div>"
            ],
            "text/plain": [
              "       Almond butter  Peanut Butter  Cashew Butter\n",
              "Price             10              8             12"
            ]
          },
          "metadata": {},
          "execution_count": 59
        }
      ]
    },
    {
      "cell_type": "code",
      "metadata": {
        "colab": {
          "base_uri": "https://localhost:8080/"
        },
        "id": "basic-acrylic",
        "outputId": "b0690d0a-4c6e-4d71-ed08-325f4075f137"
      },
      "source": [
        "butter_prices.shape, weekly_sales.T.shape"
      ],
      "id": "basic-acrylic",
      "execution_count": null,
      "outputs": [
        {
          "output_type": "execute_result",
          "data": {
            "text/plain": [
              "((1, 3), (3, 5))"
            ]
          },
          "metadata": {},
          "execution_count": 60
        }
      ]
    },
    {
      "cell_type": "code",
      "metadata": {
        "colab": {
          "base_uri": "https://localhost:8080/",
          "height": 206
        },
        "id": "aggressive-mistake",
        "outputId": "8c8e737c-b907-415e-ffdc-2579980079e3"
      },
      "source": [
        "total_prices = weekly_sales.dot(butter_prices.T)\n",
        "total_prices"
      ],
      "id": "aggressive-mistake",
      "execution_count": null,
      "outputs": [
        {
          "output_type": "execute_result",
          "data": {
            "text/html": [
              "<div>\n",
              "<style scoped>\n",
              "    .dataframe tbody tr th:only-of-type {\n",
              "        vertical-align: middle;\n",
              "    }\n",
              "\n",
              "    .dataframe tbody tr th {\n",
              "        vertical-align: top;\n",
              "    }\n",
              "\n",
              "    .dataframe thead th {\n",
              "        text-align: right;\n",
              "    }\n",
              "</style>\n",
              "<table border=\"1\" class=\"dataframe\">\n",
              "  <thead>\n",
              "    <tr style=\"text-align: right;\">\n",
              "      <th></th>\n",
              "      <th>Price</th>\n",
              "    </tr>\n",
              "  </thead>\n",
              "  <tbody>\n",
              "    <tr>\n",
              "      <th>Mon</th>\n",
              "      <td>240</td>\n",
              "    </tr>\n",
              "    <tr>\n",
              "      <th>Tues</th>\n",
              "      <td>138</td>\n",
              "    </tr>\n",
              "    <tr>\n",
              "      <th>wed</th>\n",
              "      <td>458</td>\n",
              "    </tr>\n",
              "    <tr>\n",
              "      <th>Thurs</th>\n",
              "      <td>232</td>\n",
              "    </tr>\n",
              "    <tr>\n",
              "      <th>Fri</th>\n",
              "      <td>142</td>\n",
              "    </tr>\n",
              "  </tbody>\n",
              "</table>\n",
              "</div>"
            ],
            "text/plain": [
              "       Price\n",
              "Mon      240\n",
              "Tues     138\n",
              "wed      458\n",
              "Thurs    232\n",
              "Fri      142"
            ]
          },
          "metadata": {},
          "execution_count": 61
        }
      ]
    },
    {
      "cell_type": "code",
      "metadata": {
        "colab": {
          "base_uri": "https://localhost:8080/",
          "height": 206
        },
        "id": "combined-carry",
        "outputId": "411b265c-d587-4d4c-c722-7898ac64b8c2"
      },
      "source": [
        "weekly_sales[\"Total\"] = total_prices\n",
        "weekly_sales"
      ],
      "id": "combined-carry",
      "execution_count": null,
      "outputs": [
        {
          "output_type": "execute_result",
          "data": {
            "text/html": [
              "<div>\n",
              "<style scoped>\n",
              "    .dataframe tbody tr th:only-of-type {\n",
              "        vertical-align: middle;\n",
              "    }\n",
              "\n",
              "    .dataframe tbody tr th {\n",
              "        vertical-align: top;\n",
              "    }\n",
              "\n",
              "    .dataframe thead th {\n",
              "        text-align: right;\n",
              "    }\n",
              "</style>\n",
              "<table border=\"1\" class=\"dataframe\">\n",
              "  <thead>\n",
              "    <tr style=\"text-align: right;\">\n",
              "      <th></th>\n",
              "      <th>Almond butter</th>\n",
              "      <th>Peanut Butter</th>\n",
              "      <th>Cashew Butter</th>\n",
              "      <th>Total</th>\n",
              "    </tr>\n",
              "  </thead>\n",
              "  <tbody>\n",
              "    <tr>\n",
              "      <th>Mon</th>\n",
              "      <td>12</td>\n",
              "      <td>15</td>\n",
              "      <td>0</td>\n",
              "      <td>240</td>\n",
              "    </tr>\n",
              "    <tr>\n",
              "      <th>Tues</th>\n",
              "      <td>3</td>\n",
              "      <td>3</td>\n",
              "      <td>7</td>\n",
              "      <td>138</td>\n",
              "    </tr>\n",
              "    <tr>\n",
              "      <th>wed</th>\n",
              "      <td>9</td>\n",
              "      <td>19</td>\n",
              "      <td>18</td>\n",
              "      <td>458</td>\n",
              "    </tr>\n",
              "    <tr>\n",
              "      <th>Thurs</th>\n",
              "      <td>4</td>\n",
              "      <td>6</td>\n",
              "      <td>12</td>\n",
              "      <td>232</td>\n",
              "    </tr>\n",
              "    <tr>\n",
              "      <th>Fri</th>\n",
              "      <td>1</td>\n",
              "      <td>6</td>\n",
              "      <td>7</td>\n",
              "      <td>142</td>\n",
              "    </tr>\n",
              "  </tbody>\n",
              "</table>\n",
              "</div>"
            ],
            "text/plain": [
              "       Almond butter  Peanut Butter  Cashew Butter  Total\n",
              "Mon               12             15              0    240\n",
              "Tues               3              3              7    138\n",
              "wed                9             19             18    458\n",
              "Thurs              4              6             12    232\n",
              "Fri                1              6              7    142"
            ]
          },
          "metadata": {},
          "execution_count": 62
        }
      ]
    },
    {
      "cell_type": "markdown",
      "metadata": {
        "id": "superior-douglas"
      },
      "source": [
        "## Comparison Operation"
      ],
      "id": "superior-douglas"
    },
    {
      "cell_type": "code",
      "metadata": {
        "colab": {
          "base_uri": "https://localhost:8080/"
        },
        "id": "capable-momentum",
        "outputId": "81b89dd5-446d-4fcd-b43d-95985921b72e"
      },
      "source": [
        "a1"
      ],
      "id": "capable-momentum",
      "execution_count": null,
      "outputs": [
        {
          "output_type": "execute_result",
          "data": {
            "text/plain": [
              "array([1, 2, 3])"
            ]
          },
          "metadata": {},
          "execution_count": 63
        }
      ]
    },
    {
      "cell_type": "code",
      "metadata": {
        "colab": {
          "base_uri": "https://localhost:8080/"
        },
        "id": "disturbed-alcohol",
        "outputId": "9ac9180b-c144-4d19-ca16-87bc96733613"
      },
      "source": [
        "a2"
      ],
      "id": "disturbed-alcohol",
      "execution_count": null,
      "outputs": [
        {
          "output_type": "execute_result",
          "data": {
            "text/plain": [
              "array([[1. , 2. , 3. ],\n",
              "       [4. , 5. , 6.5]])"
            ]
          },
          "metadata": {},
          "execution_count": 64
        }
      ]
    },
    {
      "cell_type": "code",
      "metadata": {
        "colab": {
          "base_uri": "https://localhost:8080/"
        },
        "id": "removed-hierarchy",
        "outputId": "c7b84e86-2141-4f57-e56a-2ae3666cc560"
      },
      "source": [
        "a1 > a2"
      ],
      "id": "removed-hierarchy",
      "execution_count": null,
      "outputs": [
        {
          "output_type": "execute_result",
          "data": {
            "text/plain": [
              "array([[False, False, False],\n",
              "       [False, False, False]])"
            ]
          },
          "metadata": {},
          "execution_count": 65
        }
      ]
    },
    {
      "cell_type": "code",
      "metadata": {
        "colab": {
          "base_uri": "https://localhost:8080/"
        },
        "id": "disciplinary-pittsburgh",
        "outputId": "9a23ed94-bb4c-4a08-e9dc-3756526b8adb"
      },
      "source": [
        "a1 < 5"
      ],
      "id": "disciplinary-pittsburgh",
      "execution_count": null,
      "outputs": [
        {
          "output_type": "execute_result",
          "data": {
            "text/plain": [
              "array([ True,  True,  True])"
            ]
          },
          "metadata": {},
          "execution_count": 66
        }
      ]
    },
    {
      "cell_type": "markdown",
      "metadata": {
        "id": "animated-leadership"
      },
      "source": [
        "## 5. Sorting Array"
      ],
      "id": "animated-leadership"
    },
    {
      "cell_type": "code",
      "metadata": {
        "colab": {
          "base_uri": "https://localhost:8080/"
        },
        "id": "union-colon",
        "outputId": "76b7ee06-bb62-499c-e324-172fb21b8fc8"
      },
      "source": [
        "random_array"
      ],
      "id": "union-colon",
      "execution_count": null,
      "outputs": [
        {
          "output_type": "execute_result",
          "data": {
            "text/plain": [
              "array([[5, 0, 3, 3, 7],\n",
              "       [9, 3, 5, 2, 4],\n",
              "       [7, 6, 8, 8, 1]])"
            ]
          },
          "metadata": {},
          "execution_count": 67
        }
      ]
    },
    {
      "cell_type": "code",
      "metadata": {
        "colab": {
          "base_uri": "https://localhost:8080/"
        },
        "id": "cheap-sharp",
        "outputId": "239cba07-6364-44aa-f91f-46979d84391a"
      },
      "source": [
        "np.sort(random_array)"
      ],
      "id": "cheap-sharp",
      "execution_count": null,
      "outputs": [
        {
          "output_type": "execute_result",
          "data": {
            "text/plain": [
              "array([[0, 3, 3, 5, 7],\n",
              "       [2, 3, 4, 5, 9],\n",
              "       [1, 6, 7, 8, 8]])"
            ]
          },
          "metadata": {},
          "execution_count": 68
        }
      ]
    },
    {
      "cell_type": "code",
      "metadata": {
        "colab": {
          "base_uri": "https://localhost:8080/"
        },
        "id": "australian-dutch",
        "outputId": "0ee58d30-920b-42dc-aa51-7fd3a922be79"
      },
      "source": [
        "np.argsort(random_array) #return the index of sorted element"
      ],
      "id": "australian-dutch",
      "execution_count": null,
      "outputs": [
        {
          "output_type": "execute_result",
          "data": {
            "text/plain": [
              "array([[1, 2, 3, 0, 4],\n",
              "       [3, 1, 4, 2, 0],\n",
              "       [4, 1, 0, 2, 3]])"
            ]
          },
          "metadata": {},
          "execution_count": 69
        }
      ]
    },
    {
      "cell_type": "code",
      "metadata": {
        "colab": {
          "base_uri": "https://localhost:8080/"
        },
        "id": "innocent-sword",
        "outputId": "44dfcdec-c26b-4b19-e010-405a12f5886c"
      },
      "source": [
        "np.argmax(random_array, axis = 0)"
      ],
      "id": "innocent-sword",
      "execution_count": null,
      "outputs": [
        {
          "output_type": "execute_result",
          "data": {
            "text/plain": [
              "array([1, 2, 2, 2, 0])"
            ]
          },
          "metadata": {},
          "execution_count": 70
        }
      ]
    },
    {
      "cell_type": "code",
      "metadata": {
        "id": "veterinary-banking"
      },
      "source": [
        "np.argmax(random_array, axis = 1)"
      ],
      "id": "veterinary-banking",
      "execution_count": null,
      "outputs": []
    },
    {
      "cell_type": "markdown",
      "metadata": {
        "id": "hungry-eleven"
      },
      "source": [
        "## 6. Practical Example"
      ],
      "id": "hungry-eleven"
    },
    {
      "cell_type": "code",
      "metadata": {
        "colab": {
          "base_uri": "https://localhost:8080/"
        },
        "id": "stone-relationship",
        "outputId": "650bf4ee-7731-444c-f518-cf0768e4a51e"
      },
      "source": [
        "# Turn an image into Numpy Array\n",
        "from matplotlib.image import imread\n",
        "\n",
        "panda = imread(\"/content/panda.png\")\n",
        "print(type(panda))"
      ],
      "id": "stone-relationship",
      "execution_count": null,
      "outputs": [
        {
          "output_type": "stream",
          "name": "stdout",
          "text": [
            "<class 'numpy.ndarray'>\n"
          ]
        }
      ]
    },
    {
      "cell_type": "code",
      "metadata": {
        "colab": {
          "base_uri": "https://localhost:8080/"
        },
        "id": "beginning-sarah",
        "outputId": "df813a5a-5b65-4b15-8ece-79aac436bb03"
      },
      "source": [
        "panda.size, panda.shape, panda.ndim"
      ],
      "id": "beginning-sarah",
      "execution_count": null,
      "outputs": [
        {
          "output_type": "execute_result",
          "data": {
            "text/plain": [
              "(24465000, (2330, 3500, 3), 3)"
            ]
          },
          "metadata": {},
          "execution_count": 75
        }
      ]
    },
    {
      "cell_type": "code",
      "metadata": {
        "colab": {
          "base_uri": "https://localhost:8080/"
        },
        "id": "separate-archive",
        "outputId": "a7a4bbcb-4ac9-43be-f1a6-97ef562fc5f2"
      },
      "source": [
        "panda[:5]"
      ],
      "id": "separate-archive",
      "execution_count": null,
      "outputs": [
        {
          "output_type": "execute_result",
          "data": {
            "text/plain": [
              "array([[[0.05490196, 0.10588235, 0.06666667],\n",
              "        [0.05490196, 0.10588235, 0.06666667],\n",
              "        [0.05490196, 0.10588235, 0.06666667],\n",
              "        ...,\n",
              "        [0.16470589, 0.12941177, 0.09411765],\n",
              "        [0.16470589, 0.12941177, 0.09411765],\n",
              "        [0.16470589, 0.12941177, 0.09411765]],\n",
              "\n",
              "       [[0.05490196, 0.10588235, 0.06666667],\n",
              "        [0.05490196, 0.10588235, 0.06666667],\n",
              "        [0.05490196, 0.10588235, 0.06666667],\n",
              "        ...,\n",
              "        [0.16470589, 0.12941177, 0.09411765],\n",
              "        [0.16470589, 0.12941177, 0.09411765],\n",
              "        [0.16470589, 0.12941177, 0.09411765]],\n",
              "\n",
              "       [[0.05490196, 0.10588235, 0.06666667],\n",
              "        [0.05490196, 0.10588235, 0.06666667],\n",
              "        [0.05490196, 0.10588235, 0.06666667],\n",
              "        ...,\n",
              "        [0.16470589, 0.12941177, 0.09411765],\n",
              "        [0.16470589, 0.12941177, 0.09411765],\n",
              "        [0.16470589, 0.12941177, 0.09411765]],\n",
              "\n",
              "       [[0.05490196, 0.10588235, 0.06666667],\n",
              "        [0.05490196, 0.10588235, 0.06666667],\n",
              "        [0.05490196, 0.10588235, 0.06666667],\n",
              "        ...,\n",
              "        [0.16862746, 0.13333334, 0.09803922],\n",
              "        [0.16862746, 0.13333334, 0.09803922],\n",
              "        [0.16862746, 0.13333334, 0.09803922]],\n",
              "\n",
              "       [[0.05490196, 0.10588235, 0.06666667],\n",
              "        [0.05490196, 0.10588235, 0.06666667],\n",
              "        [0.05490196, 0.10588235, 0.06666667],\n",
              "        ...,\n",
              "        [0.16862746, 0.13333334, 0.09803922],\n",
              "        [0.16862746, 0.13333334, 0.09803922],\n",
              "        [0.16862746, 0.13333334, 0.09803922]]], dtype=float32)"
            ]
          },
          "metadata": {},
          "execution_count": 76
        }
      ]
    },
    {
      "cell_type": "code",
      "metadata": {
        "id": "afraid-marijuana"
      },
      "source": [],
      "id": "afraid-marijuana",
      "execution_count": null,
      "outputs": []
    }
  ]
}