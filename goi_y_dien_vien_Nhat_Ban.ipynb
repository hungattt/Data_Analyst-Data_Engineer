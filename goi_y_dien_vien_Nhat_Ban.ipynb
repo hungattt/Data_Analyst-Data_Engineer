{
  "nbformat": 4,
  "nbformat_minor": 0,
  "metadata": {
    "colab": {
      "provenance": []
    },
    "kernelspec": {
      "name": "python3",
      "display_name": "Python 3"
    }
  },
  "cells": [
    {
      "cell_type": "code",
      "metadata": {
        "id": "TmCd0iIuxbi0"
      },
      "source": [
        "import pandas as pd\n",
        "import numpy as np\n",
        "import matplotlib.pyplot as plt\n",
        "from sklearn.cluster import KMeans\n",
        "from sklearn import metrics\n",
        "import warnings\n",
        "warnings.filterwarnings(\"ignore\")"
      ],
      "execution_count": null,
      "outputs": []
    },
    {
      "cell_type": "code",
      "metadata": {
        "id": "JYm8U85S16Q9",
        "colab": {
          "base_uri": "https://localhost:8080/",
          "height": 206
        },
        "outputId": "4802052e-3a3b-4448-e018-abb348f17846"
      },
      "source": [
        "actress = pd.read_json(\"acctress.json\")\n",
        "actress.head()"
      ],
      "execution_count": null,
      "outputs": [
        {
          "output_type": "execute_result",
          "data": {
            "text/html": [
              "<div>\n",
              "<style scoped>\n",
              "    .dataframe tbody tr th:only-of-type {\n",
              "        vertical-align: middle;\n",
              "    }\n",
              "\n",
              "    .dataframe tbody tr th {\n",
              "        vertical-align: top;\n",
              "    }\n",
              "\n",
              "    .dataframe thead th {\n",
              "        text-align: right;\n",
              "    }\n",
              "</style>\n",
              "<table border=\"1\" class=\"dataframe\">\n",
              "  <thead>\n",
              "    <tr style=\"text-align: right;\">\n",
              "      <th></th>\n",
              "      <th>id</th>\n",
              "      <th>name</th>\n",
              "      <th>japanName</th>\n",
              "      <th>hiragana</th>\n",
              "      <th>bust</th>\n",
              "      <th>waist</th>\n",
              "      <th>hip</th>\n",
              "      <th>height</th>\n",
              "      <th>birthday</th>\n",
              "      <th>blood_type</th>\n",
              "      <th>hobby</th>\n",
              "      <th>prefectures</th>\n",
              "    </tr>\n",
              "  </thead>\n",
              "  <tbody>\n",
              "    <tr>\n",
              "      <th>0</th>\n",
              "      <td>3</td>\n",
              "      <td>Kitagawa Yui</td>\n",
              "      <td>北川ゆい</td>\n",
              "      <td>きたがわゆい</td>\n",
              "      <td>95.0</td>\n",
              "      <td>60.0</td>\n",
              "      <td>88.0</td>\n",
              "      <td>NaN</td>\n",
              "      <td>1980-12-14</td>\n",
              "      <td>AB</td>\n",
              "      <td>クラシックバレエ</td>\n",
              "      <td>None</td>\n",
              "    </tr>\n",
              "    <tr>\n",
              "      <th>1</th>\n",
              "      <td>4</td>\n",
              "      <td>Akira</td>\n",
              "      <td>Akira</td>\n",
              "      <td>あきら</td>\n",
              "      <td>90.0</td>\n",
              "      <td>58.0</td>\n",
              "      <td>86.0</td>\n",
              "      <td>157.0</td>\n",
              "      <td>1978-08-15</td>\n",
              "      <td>A</td>\n",
              "      <td>水泳、ゴルフ</td>\n",
              "      <td>東京都</td>\n",
              "    </tr>\n",
              "    <tr>\n",
              "      <th>2</th>\n",
              "      <td>6</td>\n",
              "      <td>Cocolo</td>\n",
              "      <td>COCOLO</td>\n",
              "      <td>こころ</td>\n",
              "      <td>96.0</td>\n",
              "      <td>55.0</td>\n",
              "      <td>85.0</td>\n",
              "      <td>168.0</td>\n",
              "      <td>1982-07-07</td>\n",
              "      <td>B</td>\n",
              "      <td>パソコン</td>\n",
              "      <td>茨城県</td>\n",
              "    </tr>\n",
              "    <tr>\n",
              "      <th>3</th>\n",
              "      <td>8</td>\n",
              "      <td>Saiko</td>\n",
              "      <td>Saiko</td>\n",
              "      <td>さいこ</td>\n",
              "      <td>80.0</td>\n",
              "      <td>59.0</td>\n",
              "      <td>82.0</td>\n",
              "      <td>162.0</td>\n",
              "      <td>1983-04-12</td>\n",
              "      <td>O</td>\n",
              "      <td>料理、大食い</td>\n",
              "      <td>東京都</td>\n",
              "    </tr>\n",
              "    <tr>\n",
              "      <th>4</th>\n",
              "      <td>11</td>\n",
              "      <td>Aida Momo</td>\n",
              "      <td>あいだもも</td>\n",
              "      <td>あいだもも</td>\n",
              "      <td>82.0</td>\n",
              "      <td>55.0</td>\n",
              "      <td>89.0</td>\n",
              "      <td>162.0</td>\n",
              "      <td>1970-06-18</td>\n",
              "      <td>A</td>\n",
              "      <td>エアロビクス</td>\n",
              "      <td>東京都</td>\n",
              "    </tr>\n",
              "  </tbody>\n",
              "</table>\n",
              "</div>"
            ],
            "text/plain": [
              "   id          name japanName  ... blood_type     hobby  prefectures\n",
              "0   3  Kitagawa Yui      北川ゆい  ...         AB  クラシックバレエ         None\n",
              "1   4         Akira     Akira  ...          A    水泳、ゴルフ          東京都\n",
              "2   6        Cocolo    COCOLO  ...          B      パソコン          茨城県\n",
              "3   8         Saiko     Saiko  ...          O    料理、大食い          東京都\n",
              "4  11     Aida Momo     あいだもも  ...          A    エアロビクス          東京都\n",
              "\n",
              "[5 rows x 12 columns]"
            ]
          },
          "metadata": {
            "tags": []
          },
          "execution_count": 4
        }
      ]
    },
    {
      "cell_type": "code",
      "metadata": {
        "id": "v8EY7Wvn2BOc",
        "colab": {
          "base_uri": "https://localhost:8080/"
        },
        "outputId": "5c357ad8-2ffe-49a0-d3b9-01e01f38c4df"
      },
      "source": [
        "df = actress[['bust', 'waist', 'hip', 'height', 'blood_type']]\n",
        "df.info()"
      ],
      "execution_count": null,
      "outputs": [
        {
          "output_type": "stream",
          "text": [
            "<class 'pandas.core.frame.DataFrame'>\n",
            "RangeIndex: 11186 entries, 0 to 11185\n",
            "Data columns (total 5 columns):\n",
            " #   Column      Non-Null Count  Dtype  \n",
            "---  ------      --------------  -----  \n",
            " 0   bust        6456 non-null   float64\n",
            " 1   waist       6436 non-null   float64\n",
            " 2   hip         6428 non-null   float64\n",
            " 3   height      5012 non-null   float64\n",
            " 4   blood_type  3171 non-null   object \n",
            "dtypes: float64(4), object(1)\n",
            "memory usage: 437.1+ KB\n"
          ],
          "name": "stdout"
        }
      ]
    },
    {
      "cell_type": "code",
      "metadata": {
        "id": "Q29-j0Ue829t",
        "colab": {
          "base_uri": "https://localhost:8080/"
        },
        "outputId": "530b737d-2474-4cb0-db6a-82004317efe8"
      },
      "source": [
        "df = df.dropna()\n",
        "df.info()"
      ],
      "execution_count": null,
      "outputs": [
        {
          "output_type": "stream",
          "text": [
            "<class 'pandas.core.frame.DataFrame'>\n",
            "Int64Index: 2678 entries, 1 to 11185\n",
            "Data columns (total 5 columns):\n",
            " #   Column      Non-Null Count  Dtype  \n",
            "---  ------      --------------  -----  \n",
            " 0   bust        2678 non-null   float64\n",
            " 1   waist       2678 non-null   float64\n",
            " 2   hip         2678 non-null   float64\n",
            " 3   height      2678 non-null   float64\n",
            " 4   blood_type  2678 non-null   object \n",
            "dtypes: float64(4), object(1)\n",
            "memory usage: 125.5+ KB\n"
          ],
          "name": "stdout"
        }
      ]
    },
    {
      "cell_type": "code",
      "metadata": {
        "id": "qXwvgwpa9HIp",
        "colab": {
          "base_uri": "https://localhost:8080/",
          "height": 206
        },
        "outputId": "e428b6b2-52ad-49b5-e3ae-c5fdd5a7bfd3"
      },
      "source": [
        "df.head()"
      ],
      "execution_count": null,
      "outputs": [
        {
          "output_type": "execute_result",
          "data": {
            "text/html": [
              "<div>\n",
              "<style scoped>\n",
              "    .dataframe tbody tr th:only-of-type {\n",
              "        vertical-align: middle;\n",
              "    }\n",
              "\n",
              "    .dataframe tbody tr th {\n",
              "        vertical-align: top;\n",
              "    }\n",
              "\n",
              "    .dataframe thead th {\n",
              "        text-align: right;\n",
              "    }\n",
              "</style>\n",
              "<table border=\"1\" class=\"dataframe\">\n",
              "  <thead>\n",
              "    <tr style=\"text-align: right;\">\n",
              "      <th></th>\n",
              "      <th>bust</th>\n",
              "      <th>waist</th>\n",
              "      <th>hip</th>\n",
              "      <th>height</th>\n",
              "      <th>blood_type</th>\n",
              "    </tr>\n",
              "  </thead>\n",
              "  <tbody>\n",
              "    <tr>\n",
              "      <th>1</th>\n",
              "      <td>90.0</td>\n",
              "      <td>58.0</td>\n",
              "      <td>86.0</td>\n",
              "      <td>157.0</td>\n",
              "      <td>A</td>\n",
              "    </tr>\n",
              "    <tr>\n",
              "      <th>2</th>\n",
              "      <td>96.0</td>\n",
              "      <td>55.0</td>\n",
              "      <td>85.0</td>\n",
              "      <td>168.0</td>\n",
              "      <td>B</td>\n",
              "    </tr>\n",
              "    <tr>\n",
              "      <th>3</th>\n",
              "      <td>80.0</td>\n",
              "      <td>59.0</td>\n",
              "      <td>82.0</td>\n",
              "      <td>162.0</td>\n",
              "      <td>O</td>\n",
              "    </tr>\n",
              "    <tr>\n",
              "      <th>4</th>\n",
              "      <td>82.0</td>\n",
              "      <td>55.0</td>\n",
              "      <td>89.0</td>\n",
              "      <td>162.0</td>\n",
              "      <td>A</td>\n",
              "    </tr>\n",
              "    <tr>\n",
              "      <th>6</th>\n",
              "      <td>85.0</td>\n",
              "      <td>60.0</td>\n",
              "      <td>88.0</td>\n",
              "      <td>165.0</td>\n",
              "      <td>A</td>\n",
              "    </tr>\n",
              "  </tbody>\n",
              "</table>\n",
              "</div>"
            ],
            "text/plain": [
              "   bust  waist   hip  height blood_type\n",
              "1  90.0   58.0  86.0   157.0          A\n",
              "2  96.0   55.0  85.0   168.0          B\n",
              "3  80.0   59.0  82.0   162.0          O\n",
              "4  82.0   55.0  89.0   162.0          A\n",
              "6  85.0   60.0  88.0   165.0          A"
            ]
          },
          "metadata": {
            "tags": []
          },
          "execution_count": 6
        }
      ]
    },
    {
      "cell_type": "code",
      "metadata": {
        "id": "mVoyJRgq9Kwe",
        "colab": {
          "base_uri": "https://localhost:8080/"
        },
        "outputId": "b3c533e6-dd20-4a67-f5f8-851dec1d3ab6"
      },
      "source": [
        "df.blood_type.value_counts()"
      ],
      "execution_count": null,
      "outputs": [
        {
          "output_type": "execute_result",
          "data": {
            "text/plain": [
              "A     1100\n",
              "O      939\n",
              "B      422\n",
              "AB     217\n",
              "Name: blood_type, dtype: int64"
            ]
          },
          "metadata": {
            "tags": []
          },
          "execution_count": 7
        }
      ]
    },
    {
      "cell_type": "code",
      "metadata": {
        "id": "N2cJaInc9S1-",
        "colab": {
          "base_uri": "https://localhost:8080/",
          "height": 206
        },
        "outputId": "58ef2a8f-0dd2-4195-c455-eef25debe171"
      },
      "source": [
        "mapper = {'O': 0, 'A':1, 'B':2, 'AB':3}\n",
        "df['blood_type'] = df['blood_type'].map(mapper)\n",
        "df.head()"
      ],
      "execution_count": null,
      "outputs": [
        {
          "output_type": "execute_result",
          "data": {
            "text/html": [
              "<div>\n",
              "<style scoped>\n",
              "    .dataframe tbody tr th:only-of-type {\n",
              "        vertical-align: middle;\n",
              "    }\n",
              "\n",
              "    .dataframe tbody tr th {\n",
              "        vertical-align: top;\n",
              "    }\n",
              "\n",
              "    .dataframe thead th {\n",
              "        text-align: right;\n",
              "    }\n",
              "</style>\n",
              "<table border=\"1\" class=\"dataframe\">\n",
              "  <thead>\n",
              "    <tr style=\"text-align: right;\">\n",
              "      <th></th>\n",
              "      <th>bust</th>\n",
              "      <th>waist</th>\n",
              "      <th>hip</th>\n",
              "      <th>height</th>\n",
              "      <th>blood_type</th>\n",
              "    </tr>\n",
              "  </thead>\n",
              "  <tbody>\n",
              "    <tr>\n",
              "      <th>1</th>\n",
              "      <td>90.0</td>\n",
              "      <td>58.0</td>\n",
              "      <td>86.0</td>\n",
              "      <td>157.0</td>\n",
              "      <td>1</td>\n",
              "    </tr>\n",
              "    <tr>\n",
              "      <th>2</th>\n",
              "      <td>96.0</td>\n",
              "      <td>55.0</td>\n",
              "      <td>85.0</td>\n",
              "      <td>168.0</td>\n",
              "      <td>2</td>\n",
              "    </tr>\n",
              "    <tr>\n",
              "      <th>3</th>\n",
              "      <td>80.0</td>\n",
              "      <td>59.0</td>\n",
              "      <td>82.0</td>\n",
              "      <td>162.0</td>\n",
              "      <td>0</td>\n",
              "    </tr>\n",
              "    <tr>\n",
              "      <th>4</th>\n",
              "      <td>82.0</td>\n",
              "      <td>55.0</td>\n",
              "      <td>89.0</td>\n",
              "      <td>162.0</td>\n",
              "      <td>1</td>\n",
              "    </tr>\n",
              "    <tr>\n",
              "      <th>6</th>\n",
              "      <td>85.0</td>\n",
              "      <td>60.0</td>\n",
              "      <td>88.0</td>\n",
              "      <td>165.0</td>\n",
              "      <td>1</td>\n",
              "    </tr>\n",
              "  </tbody>\n",
              "</table>\n",
              "</div>"
            ],
            "text/plain": [
              "   bust  waist   hip  height  blood_type\n",
              "1  90.0   58.0  86.0   157.0           1\n",
              "2  96.0   55.0  85.0   168.0           2\n",
              "3  80.0   59.0  82.0   162.0           0\n",
              "4  82.0   55.0  89.0   162.0           1\n",
              "6  85.0   60.0  88.0   165.0           1"
            ]
          },
          "metadata": {
            "tags": []
          },
          "execution_count": 8
        }
      ]
    },
    {
      "cell_type": "code",
      "metadata": {
        "id": "r_8WnxO09oac",
        "colab": {
          "base_uri": "https://localhost:8080/"
        },
        "outputId": "5425fdd8-c5da-43bf-e57b-1654945e284f"
      },
      "source": [
        "actress_np = df.to_numpy()\n",
        "actress_np"
      ],
      "execution_count": null,
      "outputs": [
        {
          "output_type": "execute_result",
          "data": {
            "text/plain": [
              "array([[ 90.,  58.,  86., 157.,   1.],\n",
              "       [ 96.,  55.,  85., 168.,   2.],\n",
              "       [ 80.,  59.,  82., 162.,   0.],\n",
              "       ...,\n",
              "       [ 83.,  58.,  85., 165.,   0.],\n",
              "       [ 88.,  58.,  87., 153.,   0.],\n",
              "       [ 88.,  59.,  86., 161.,   2.]])"
            ]
          },
          "metadata": {
            "tags": []
          },
          "execution_count": 9
        }
      ]
    },
    {
      "cell_type": "code",
      "metadata": {
        "id": "dpN-IE4n93JI"
      },
      "source": [
        "k_mean_5 = KMeans(n_clusters=5)\n",
        "k_mean_5.fit(actress_np)\n",
        "label_5 = k_mean_5.labels_"
      ],
      "execution_count": null,
      "outputs": []
    },
    {
      "cell_type": "code",
      "metadata": {
        "id": "lIQHUcqe-MFy",
        "colab": {
          "base_uri": "https://localhost:8080/"
        },
        "outputId": "e8de0a43-9580-489d-b98c-4883d050d2cc"
      },
      "source": [
        "label_5"
      ],
      "execution_count": null,
      "outputs": [
        {
          "output_type": "execute_result",
          "data": {
            "text/plain": [
              "array([2, 4, 0, ..., 4, 2, 4], dtype=int32)"
            ]
          },
          "metadata": {
            "tags": []
          },
          "execution_count": 11
        }
      ]
    },
    {
      "cell_type": "code",
      "metadata": {
        "id": "S-lAN1ZR-5Jz",
        "colab": {
          "base_uri": "https://localhost:8080/"
        },
        "outputId": "53573498-cb74-45ec-8530-26fcb92cddf3"
      },
      "source": [
        "metrics.silhouette_score(actress_np, label_5, metric='euclidean')"
      ],
      "execution_count": null,
      "outputs": [
        {
          "output_type": "execute_result",
          "data": {
            "text/plain": [
              "0.2370049406304688"
            ]
          },
          "metadata": {
            "tags": []
          },
          "execution_count": 13
        }
      ]
    },
    {
      "cell_type": "code",
      "metadata": {
        "id": "iTh-Ba6D_IxL",
        "colab": {
          "base_uri": "https://localhost:8080/"
        },
        "outputId": "b20ea05e-e88b-4958-d6eb-9045f9728c19"
      },
      "source": [
        "metrics.calinski_harabasz_score(actress_np, label_5)"
      ],
      "execution_count": null,
      "outputs": [
        {
          "output_type": "execute_result",
          "data": {
            "text/plain": [
              "1065.3449581281398"
            ]
          },
          "metadata": {
            "tags": []
          },
          "execution_count": 14
        }
      ]
    },
    {
      "cell_type": "code",
      "metadata": {
        "id": "O-lhawz8_PfR"
      },
      "source": [
        "k_mean_10 = KMeans(n_clusters=10)\n",
        "k_mean_10.fit(actress_np)\n",
        "label_10 = k_mean_10.labels_"
      ],
      "execution_count": null,
      "outputs": []
    },
    {
      "cell_type": "code",
      "metadata": {
        "id": "hPb0GiMd_Z3Q",
        "colab": {
          "base_uri": "https://localhost:8080/"
        },
        "outputId": "d293b69a-441c-4db1-988d-43630764284e"
      },
      "source": [
        "metrics.silhouette_score(actress_np, label_10, metric='euclidean')"
      ],
      "execution_count": null,
      "outputs": [
        {
          "output_type": "execute_result",
          "data": {
            "text/plain": [
              "0.19428036908043658"
            ]
          },
          "metadata": {
            "tags": []
          },
          "execution_count": 16
        }
      ]
    },
    {
      "cell_type": "code",
      "metadata": {
        "id": "aZvqx_ZJ_buj",
        "colab": {
          "base_uri": "https://localhost:8080/"
        },
        "outputId": "0cd8602f-2e7b-485b-d197-727522bdb5c7"
      },
      "source": [
        "metrics.calinski_harabasz_score(actress_np, label_10)"
      ],
      "execution_count": null,
      "outputs": [
        {
          "output_type": "execute_result",
          "data": {
            "text/plain": [
              "767.301005111497"
            ]
          },
          "metadata": {
            "tags": []
          },
          "execution_count": 17
        }
      ]
    },
    {
      "cell_type": "code",
      "metadata": {
        "id": "l-qkkaPj_dbh"
      },
      "source": [
        "sum_distances = []\n",
        "K = range(1,15)\n",
        "for k in K:\n",
        "  k_mean = KMeans(n_clusters=k)\n",
        "  k_mean.fit(actress_np)\n",
        "  sum_distances.append(k_mean.inertia_)"
      ],
      "execution_count": null,
      "outputs": []
    },
    {
      "cell_type": "code",
      "metadata": {
        "id": "I4tQqoRpAPXT",
        "colab": {
          "base_uri": "https://localhost:8080/",
          "height": 269
        },
        "outputId": "00b6310e-b9fc-42ca-84b5-20d96f021892"
      },
      "source": [
        "plt.plot(K, sum_distances, 'bx-')\n",
        "plt.show()"
      ],
      "execution_count": null,
      "outputs": [
        {
          "output_type": "display_data",
          "data": {
            "image/png": "[encoded data removed]",
            "text/plain": [
              "<Figure size 432x288 with 1 Axes>"
            ]
          },
          "metadata": {
            "tags": [],
            "needs_background": "light"
          }
        }
      ]
    },
    {
      "cell_type": "code",
      "metadata": {
        "id": "BROYd4PkC3ny"
      },
      "source": [
        "k_mean_3 = KMeans(n_clusters=3)\n",
        "model = k_mean_3.fit(actress_np)\n",
        "result = k_mean_3.labels_"
      ],
      "execution_count": null,
      "outputs": []
    },
    {
      "cell_type": "code",
      "metadata": {
        "id": "b33VyvB_Djb7",
        "colab": {
          "base_uri": "https://localhost:8080/"
        },
        "outputId": "3b4984d0-b024-4c5b-e22f-b9625ac3223a"
      },
      "source": [
        "result"
      ],
      "execution_count": null,
      "outputs": [
        {
          "output_type": "execute_result",
          "data": {
            "text/plain": [
              "array([0, 1, 2, ..., 2, 0, 2], dtype=int32)"
            ]
          },
          "metadata": {
            "tags": []
          },
          "execution_count": 37
        }
      ]
    },
    {
      "cell_type": "code",
      "metadata": {
        "id": "zbNquqglDk1M",
        "colab": {
          "base_uri": "https://localhost:8080/"
        },
        "outputId": "4720ca60-5948-483a-8aa1-ba34cbd87e7f"
      },
      "source": [
        "metrics.silhouette_score(actress_np, result, metric='euclidean')"
      ],
      "execution_count": null,
      "outputs": [
        {
          "output_type": "execute_result",
          "data": {
            "text/plain": [
              "0.3042535380574929"
            ]
          },
          "metadata": {
            "tags": []
          },
          "execution_count": 38
        }
      ]
    },
    {
      "cell_type": "code",
      "metadata": {
        "id": "VIbRg_9HDpvd",
        "colab": {
          "base_uri": "https://localhost:8080/"
        },
        "outputId": "ae2e2a11-62bb-48dc-e5fd-0b7e4570f1d5"
      },
      "source": [
        "metrics.calinski_harabasz_score(actress_np, result)"
      ],
      "execution_count": null,
      "outputs": [
        {
          "output_type": "execute_result",
          "data": {
            "text/plain": [
              "1271.4075119627776"
            ]
          },
          "metadata": {
            "tags": []
          },
          "execution_count": 39
        }
      ]
    },
    {
      "cell_type": "code",
      "metadata": {
        "id": "a5T1ihWPDu1B",
        "colab": {
          "base_uri": "https://localhost:8080/",
          "height": 206
        },
        "outputId": "a85cf3bb-5853-4c89-e393-ceb7865e1907"
      },
      "source": [
        "df.head()"
      ],
      "execution_count": null,
      "outputs": [
        {
          "output_type": "execute_result",
          "data": {
            "text/html": [
              "<div>\n",
              "<style scoped>\n",
              "    .dataframe tbody tr th:only-of-type {\n",
              "        vertical-align: middle;\n",
              "    }\n",
              "\n",
              "    .dataframe tbody tr th {\n",
              "        vertical-align: top;\n",
              "    }\n",
              "\n",
              "    .dataframe thead th {\n",
              "        text-align: right;\n",
              "    }\n",
              "</style>\n",
              "<table border=\"1\" class=\"dataframe\">\n",
              "  <thead>\n",
              "    <tr style=\"text-align: right;\">\n",
              "      <th></th>\n",
              "      <th>bust</th>\n",
              "      <th>waist</th>\n",
              "      <th>hip</th>\n",
              "      <th>height</th>\n",
              "      <th>blood_type</th>\n",
              "    </tr>\n",
              "  </thead>\n",
              "  <tbody>\n",
              "    <tr>\n",
              "      <th>1</th>\n",
              "      <td>90.0</td>\n",
              "      <td>58.0</td>\n",
              "      <td>86.0</td>\n",
              "      <td>157.0</td>\n",
              "      <td>1</td>\n",
              "    </tr>\n",
              "    <tr>\n",
              "      <th>2</th>\n",
              "      <td>96.0</td>\n",
              "      <td>55.0</td>\n",
              "      <td>85.0</td>\n",
              "      <td>168.0</td>\n",
              "      <td>2</td>\n",
              "    </tr>\n",
              "    <tr>\n",
              "      <th>3</th>\n",
              "      <td>80.0</td>\n",
              "      <td>59.0</td>\n",
              "      <td>82.0</td>\n",
              "      <td>162.0</td>\n",
              "      <td>0</td>\n",
              "    </tr>\n",
              "    <tr>\n",
              "      <th>4</th>\n",
              "      <td>82.0</td>\n",
              "      <td>55.0</td>\n",
              "      <td>89.0</td>\n",
              "      <td>162.0</td>\n",
              "      <td>1</td>\n",
              "    </tr>\n",
              "    <tr>\n",
              "      <th>6</th>\n",
              "      <td>85.0</td>\n",
              "      <td>60.0</td>\n",
              "      <td>88.0</td>\n",
              "      <td>165.0</td>\n",
              "      <td>1</td>\n",
              "    </tr>\n",
              "  </tbody>\n",
              "</table>\n",
              "</div>"
            ],
            "text/plain": [
              "   bust  waist   hip  height  blood_type\n",
              "1  90.0   58.0  86.0   157.0           1\n",
              "2  96.0   55.0  85.0   168.0           2\n",
              "3  80.0   59.0  82.0   162.0           0\n",
              "4  82.0   55.0  89.0   162.0           1\n",
              "6  85.0   60.0  88.0   165.0           1"
            ]
          },
          "metadata": {
            "tags": []
          },
          "execution_count": 40
        }
      ]
    },
    {
      "cell_type": "code",
      "metadata": {
        "id": "I7YCKW4fDxsT",
        "colab": {
          "base_uri": "https://localhost:8080/",
          "height": 269
        },
        "outputId": "bda8b62e-f274-4947-8f68-48a4f2c96029"
      },
      "source": [
        "plt.scatter(actress_np[:,0], actress_np[:,3])\n",
        "plt.show()"
      ],
      "execution_count": null,
      "outputs": [
        {
          "output_type": "display_data",
          "data": {
            "image/png": "[encoded data removed]",
            "text/plain": [
              "<Figure size 432x288 with 1 Axes>"
            ]
          },
          "metadata": {
            "tags": [],
            "needs_background": "light"
          }
        }
      ]
    },
    {
      "cell_type": "code",
      "metadata": {
        "id": "0JiCNAAWGGDd",
        "colab": {
          "base_uri": "https://localhost:8080/",
          "height": 269
        },
        "outputId": "f52d5f70-2ad1-45b0-8404-50595e2cbd78"
      },
      "source": [
        "plt.scatter(\n",
        "    actress_np[result == 0, 0], actress_np[result == 0, 3],\n",
        "    c='lightgreen',\n",
        "    marker='s', edgecolor='black',\n",
        "    label='cluster 1'\n",
        ")\n",
        "\n",
        "plt.scatter(\n",
        "    actress_np[result == 1, 0], actress_np[result == 1, 3],\n",
        "    c='orange',\n",
        "    marker='o', edgecolor='black',\n",
        "    label='cluster 2'\n",
        ")\n",
        "\n",
        "plt.scatter(\n",
        "    actress_np[result == 2, 0], actress_np[result == 2, 3],\n",
        "    c='lightblue',\n",
        "    marker='v', edgecolor='black',\n",
        "    label='cluster 3'\n",
        ")\n",
        "\n",
        "plt.scatter(\n",
        "    model.cluster_centers_[:, 0], model.cluster_centers_[:, 3],\n",
        "    s=250, marker='*',\n",
        "    c='red', edgecolor='black',\n",
        "    label='centroids'\n",
        ")\n",
        "\n",
        "plt.legend(scatterpoints=1)\n",
        "plt.grid()\n",
        "plt.show()"
      ],
      "execution_count": null,
      "outputs": [
        {
          "output_type": "display_data",
          "data": {
            "image/png": "[encoded data removed]",
            "text/plain": [
              "<Figure size 432x288 with 1 Axes>"
            ]
          },
          "metadata": {
            "tags": [],
            "needs_background": "light"
          }
        }
      ]
    },
    {
      "cell_type": "markdown",
      "metadata": {
        "id": "LDsNGuBHHvZ6"
      },
      "source": [
        "Input: vong 1, vong 2, vong 3, chieu cao, nhom mau\n",
        "\n",
        "-> thuoc ve cum nao (which cluster?)\n",
        "\n",
        "random(10) in the clusters"
      ]
    },
    {
      "cell_type": "code",
      "metadata": {
        "id": "ZHodpds0IVCA",
        "colab": {
          "base_uri": "https://localhost:8080/"
        },
        "outputId": "10a233c3-3466-45c2-c5d0-01f009349f3c"
      },
      "source": [
        "df1 = actress[['id','bust', 'waist', 'hip', 'height', 'blood_type']]\n",
        "df1 = df1.dropna()\n",
        "df1.info()"
      ],
      "execution_count": null,
      "outputs": [
        {
          "output_type": "stream",
          "text": [
            "<class 'pandas.core.frame.DataFrame'>\n",
            "Int64Index: 2678 entries, 1 to 11185\n",
            "Data columns (total 6 columns):\n",
            " #   Column      Non-Null Count  Dtype  \n",
            "---  ------      --------------  -----  \n",
            " 0   id          2678 non-null   int64  \n",
            " 1   bust        2678 non-null   float64\n",
            " 2   waist       2678 non-null   float64\n",
            " 3   hip         2678 non-null   float64\n",
            " 4   height      2678 non-null   float64\n",
            " 5   blood_type  2678 non-null   object \n",
            "dtypes: float64(4), int64(1), object(1)\n",
            "memory usage: 146.5+ KB\n"
          ],
          "name": "stdout"
        }
      ]
    },
    {
      "cell_type": "code",
      "metadata": {
        "id": "0BkPX-9uIgpt",
        "colab": {
          "base_uri": "https://localhost:8080/",
          "height": 206
        },
        "outputId": "1a3b9c46-fbef-48e4-b582-3ca54770933d"
      },
      "source": [
        "df2 = actress[['id', 'name', 'japanName']]\n",
        "df2.head()"
      ],
      "execution_count": null,
      "outputs": [
        {
          "output_type": "execute_result",
          "data": {
            "text/html": [
              "<div>\n",
              "<style scoped>\n",
              "    .dataframe tbody tr th:only-of-type {\n",
              "        vertical-align: middle;\n",
              "    }\n",
              "\n",
              "    .dataframe tbody tr th {\n",
              "        vertical-align: top;\n",
              "    }\n",
              "\n",
              "    .dataframe thead th {\n",
              "        text-align: right;\n",
              "    }\n",
              "</style>\n",
              "<table border=\"1\" class=\"dataframe\">\n",
              "  <thead>\n",
              "    <tr style=\"text-align: right;\">\n",
              "      <th></th>\n",
              "      <th>id</th>\n",
              "      <th>name</th>\n",
              "      <th>japanName</th>\n",
              "    </tr>\n",
              "  </thead>\n",
              "  <tbody>\n",
              "    <tr>\n",
              "      <th>0</th>\n",
              "      <td>3</td>\n",
              "      <td>Kitagawa Yui</td>\n",
              "      <td>北川ゆい</td>\n",
              "    </tr>\n",
              "    <tr>\n",
              "      <th>1</th>\n",
              "      <td>4</td>\n",
              "      <td>Akira</td>\n",
              "      <td>Akira</td>\n",
              "    </tr>\n",
              "    <tr>\n",
              "      <th>2</th>\n",
              "      <td>6</td>\n",
              "      <td>Cocolo</td>\n",
              "      <td>COCOLO</td>\n",
              "    </tr>\n",
              "    <tr>\n",
              "      <th>3</th>\n",
              "      <td>8</td>\n",
              "      <td>Saiko</td>\n",
              "      <td>Saiko</td>\n",
              "    </tr>\n",
              "    <tr>\n",
              "      <th>4</th>\n",
              "      <td>11</td>\n",
              "      <td>Aida Momo</td>\n",
              "      <td>あいだもも</td>\n",
              "    </tr>\n",
              "  </tbody>\n",
              "</table>\n",
              "</div>"
            ],
            "text/plain": [
              "   id          name japanName\n",
              "0   3  Kitagawa Yui      北川ゆい\n",
              "1   4         Akira     Akira\n",
              "2   6        Cocolo    COCOLO\n",
              "3   8         Saiko     Saiko\n",
              "4  11     Aida Momo     あいだもも"
            ]
          },
          "metadata": {
            "tags": []
          },
          "execution_count": 56
        }
      ]
    },
    {
      "cell_type": "code",
      "metadata": {
        "id": "e4v3AIguIpVZ",
        "colab": {
          "base_uri": "https://localhost:8080/"
        },
        "outputId": "3bf96989-493a-4368-b713-d7637dcf78d5"
      },
      "source": [
        "lookup = df1.merge(df2, on='id', how='left')\n",
        "lookup.info()"
      ],
      "execution_count": null,
      "outputs": [
        {
          "output_type": "stream",
          "text": [
            "<class 'pandas.core.frame.DataFrame'>\n",
            "Int64Index: 2678 entries, 0 to 2677\n",
            "Data columns (total 8 columns):\n",
            " #   Column      Non-Null Count  Dtype  \n",
            "---  ------      --------------  -----  \n",
            " 0   id          2678 non-null   int64  \n",
            " 1   bust        2678 non-null   float64\n",
            " 2   waist       2678 non-null   float64\n",
            " 3   hip         2678 non-null   float64\n",
            " 4   height      2678 non-null   float64\n",
            " 5   blood_type  2678 non-null   object \n",
            " 6   name        2678 non-null   object \n",
            " 7   japanName   2678 non-null   object \n",
            "dtypes: float64(4), int64(1), object(3)\n",
            "memory usage: 188.3+ KB\n"
          ],
          "name": "stdout"
        }
      ]
    },
    {
      "cell_type": "code",
      "metadata": {
        "id": "YSGdPrnRI4g7",
        "colab": {
          "base_uri": "https://localhost:8080/",
          "height": 206
        },
        "outputId": "0f6c7b5e-3c96-46fe-ffdc-42fc955ee9fc"
      },
      "source": [
        "lookup['cluster'] = result\n",
        "lookup.head()"
      ],
      "execution_count": null,
      "outputs": [
        {
          "output_type": "execute_result",
          "data": {
            "text/html": [
              "<div>\n",
              "<style scoped>\n",
              "    .dataframe tbody tr th:only-of-type {\n",
              "        vertical-align: middle;\n",
              "    }\n",
              "\n",
              "    .dataframe tbody tr th {\n",
              "        vertical-align: top;\n",
              "    }\n",
              "\n",
              "    .dataframe thead th {\n",
              "        text-align: right;\n",
              "    }\n",
              "</style>\n",
              "<table border=\"1\" class=\"dataframe\">\n",
              "  <thead>\n",
              "    <tr style=\"text-align: right;\">\n",
              "      <th></th>\n",
              "      <th>id</th>\n",
              "      <th>bust</th>\n",
              "      <th>waist</th>\n",
              "      <th>hip</th>\n",
              "      <th>height</th>\n",
              "      <th>blood_type</th>\n",
              "      <th>name</th>\n",
              "      <th>japanName</th>\n",
              "      <th>cluster</th>\n",
              "    </tr>\n",
              "  </thead>\n",
              "  <tbody>\n",
              "    <tr>\n",
              "      <th>0</th>\n",
              "      <td>4</td>\n",
              "      <td>90.0</td>\n",
              "      <td>58.0</td>\n",
              "      <td>86.0</td>\n",
              "      <td>157.0</td>\n",
              "      <td>A</td>\n",
              "      <td>Akira</td>\n",
              "      <td>Akira</td>\n",
              "      <td>0</td>\n",
              "    </tr>\n",
              "    <tr>\n",
              "      <th>1</th>\n",
              "      <td>6</td>\n",
              "      <td>96.0</td>\n",
              "      <td>55.0</td>\n",
              "      <td>85.0</td>\n",
              "      <td>168.0</td>\n",
              "      <td>B</td>\n",
              "      <td>Cocolo</td>\n",
              "      <td>COCOLO</td>\n",
              "      <td>1</td>\n",
              "    </tr>\n",
              "    <tr>\n",
              "      <th>2</th>\n",
              "      <td>8</td>\n",
              "      <td>80.0</td>\n",
              "      <td>59.0</td>\n",
              "      <td>82.0</td>\n",
              "      <td>162.0</td>\n",
              "      <td>O</td>\n",
              "      <td>Saiko</td>\n",
              "      <td>Saiko</td>\n",
              "      <td>2</td>\n",
              "    </tr>\n",
              "    <tr>\n",
              "      <th>3</th>\n",
              "      <td>11</td>\n",
              "      <td>82.0</td>\n",
              "      <td>55.0</td>\n",
              "      <td>89.0</td>\n",
              "      <td>162.0</td>\n",
              "      <td>A</td>\n",
              "      <td>Aida Momo</td>\n",
              "      <td>あいだもも</td>\n",
              "      <td>2</td>\n",
              "    </tr>\n",
              "    <tr>\n",
              "      <th>4</th>\n",
              "      <td>17</td>\n",
              "      <td>85.0</td>\n",
              "      <td>60.0</td>\n",
              "      <td>88.0</td>\n",
              "      <td>165.0</td>\n",
              "      <td>A</td>\n",
              "      <td>Aduki Miyu</td>\n",
              "      <td>あづき美由</td>\n",
              "      <td>2</td>\n",
              "    </tr>\n",
              "  </tbody>\n",
              "</table>\n",
              "</div>"
            ],
            "text/plain": [
              "   id  bust  waist   hip  height blood_type        name japanName  cluster\n",
              "0   4  90.0   58.0  86.0   157.0          A       Akira     Akira        0\n",
              "1   6  96.0   55.0  85.0   168.0          B      Cocolo    COCOLO        1\n",
              "2   8  80.0   59.0  82.0   162.0          O       Saiko     Saiko        2\n",
              "3  11  82.0   55.0  89.0   162.0          A   Aida Momo     あいだもも        2\n",
              "4  17  85.0   60.0  88.0   165.0          A  Aduki Miyu     あづき美由        2"
            ]
          },
          "metadata": {
            "tags": []
          },
          "execution_count": 58
        }
      ]
    },
    {
      "cell_type": "code",
      "metadata": {
        "id": "gdjPHnPbI_e7"
      },
      "source": [
        "def recommend(model, vong1, vong2, vong3, chieu_cao, nhom_mau):\n",
        "  arr = np.array([[vong1, vong2, vong3, chieu_cao, nhom_mau]])\n",
        "  pred = model.predict(arr)\n",
        "  return lookup[lookup['cluster'] == pred[0]].sample(10)"
      ],
      "execution_count": null,
      "outputs": []
    },
    {
      "cell_type": "code",
      "metadata": {
        "id": "8NBeTGVCKrB1",
        "colab": {
          "base_uri": "https://localhost:8080/",
          "height": 363
        },
        "outputId": "0d3fc7b7-3227-4ef9-de5f-a6ff7672a1dd"
      },
      "source": [
        "vong1 = 85\n",
        "vong2 = 55\n",
        "vong3 = 88\n",
        "chieu_cao = 155\n",
        "nhom_mau = 0 # nhom mau 0\n",
        "\n",
        "recommend(model, vong1, vong2, vong3, chieu_cao, nhom_mau)"
      ],
      "execution_count": null,
      "outputs": [
        {
          "output_type": "execute_result",
          "data": {
            "text/html": [
              "<div>\n",
              "<style scoped>\n",
              "    .dataframe tbody tr th:only-of-type {\n",
              "        vertical-align: middle;\n",
              "    }\n",
              "\n",
              "    .dataframe tbody tr th {\n",
              "        vertical-align: top;\n",
              "    }\n",
              "\n",
              "    .dataframe thead th {\n",
              "        text-align: right;\n",
              "    }\n",
              "</style>\n",
              "<table border=\"1\" class=\"dataframe\">\n",
              "  <thead>\n",
              "    <tr style=\"text-align: right;\">\n",
              "      <th></th>\n",
              "      <th>id</th>\n",
              "      <th>bust</th>\n",
              "      <th>waist</th>\n",
              "      <th>hip</th>\n",
              "      <th>height</th>\n",
              "      <th>blood_type</th>\n",
              "      <th>name</th>\n",
              "      <th>japanName</th>\n",
              "      <th>cluster</th>\n",
              "    </tr>\n",
              "  </thead>\n",
              "  <tbody>\n",
              "    <tr>\n",
              "      <th>2164</th>\n",
              "      <td>1042056</td>\n",
              "      <td>81.0</td>\n",
              "      <td>56.0</td>\n",
              "      <td>83.0</td>\n",
              "      <td>154.0</td>\n",
              "      <td>A</td>\n",
              "      <td>Takeda Yume</td>\n",
              "      <td>竹田ゆめ</td>\n",
              "      <td>0</td>\n",
              "    </tr>\n",
              "    <tr>\n",
              "      <th>2244</th>\n",
              "      <td>5155</td>\n",
              "      <td>85.0</td>\n",
              "      <td>58.0</td>\n",
              "      <td>85.0</td>\n",
              "      <td>155.0</td>\n",
              "      <td>O</td>\n",
              "      <td>Nakayama Nana</td>\n",
              "      <td>中山奈々</td>\n",
              "      <td>0</td>\n",
              "    </tr>\n",
              "    <tr>\n",
              "      <th>371</th>\n",
              "      <td>15485</td>\n",
              "      <td>83.0</td>\n",
              "      <td>58.0</td>\n",
              "      <td>83.0</td>\n",
              "      <td>158.0</td>\n",
              "      <td>O</td>\n",
              "      <td>Kawai Hinata</td>\n",
              "      <td>河合ひなた</td>\n",
              "      <td>0</td>\n",
              "    </tr>\n",
              "    <tr>\n",
              "      <th>1771</th>\n",
              "      <td>1021903</td>\n",
              "      <td>80.0</td>\n",
              "      <td>60.0</td>\n",
              "      <td>83.0</td>\n",
              "      <td>155.0</td>\n",
              "      <td>O</td>\n",
              "      <td>Abeno Miku</td>\n",
              "      <td>阿部乃みく</td>\n",
              "      <td>0</td>\n",
              "    </tr>\n",
              "    <tr>\n",
              "      <th>1803</th>\n",
              "      <td>1022328</td>\n",
              "      <td>80.0</td>\n",
              "      <td>54.0</td>\n",
              "      <td>83.0</td>\n",
              "      <td>157.0</td>\n",
              "      <td>O</td>\n",
              "      <td>Maika Natu</td>\n",
              "      <td>麻衣花なつ</td>\n",
              "      <td>0</td>\n",
              "    </tr>\n",
              "    <tr>\n",
              "      <th>2376</th>\n",
              "      <td>684</td>\n",
              "      <td>82.0</td>\n",
              "      <td>58.0</td>\n",
              "      <td>82.0</td>\n",
              "      <td>154.0</td>\n",
              "      <td>B</td>\n",
              "      <td>Miyauti Sayo</td>\n",
              "      <td>宮内沙世</td>\n",
              "      <td>0</td>\n",
              "    </tr>\n",
              "    <tr>\n",
              "      <th>2077</th>\n",
              "      <td>4644</td>\n",
              "      <td>80.0</td>\n",
              "      <td>59.0</td>\n",
              "      <td>85.0</td>\n",
              "      <td>157.0</td>\n",
              "      <td>A</td>\n",
              "      <td>Kayama Yui</td>\n",
              "      <td>加山由衣</td>\n",
              "      <td>0</td>\n",
              "    </tr>\n",
              "    <tr>\n",
              "      <th>556</th>\n",
              "      <td>1800</td>\n",
              "      <td>88.0</td>\n",
              "      <td>58.0</td>\n",
              "      <td>82.0</td>\n",
              "      <td>157.0</td>\n",
              "      <td>A</td>\n",
              "      <td>Simizu Kaori</td>\n",
              "      <td>清水かおり</td>\n",
              "      <td>0</td>\n",
              "    </tr>\n",
              "    <tr>\n",
              "      <th>1574</th>\n",
              "      <td>1012908</td>\n",
              "      <td>85.0</td>\n",
              "      <td>59.0</td>\n",
              "      <td>86.0</td>\n",
              "      <td>157.0</td>\n",
              "      <td>B</td>\n",
              "      <td>Maeda Kyouko</td>\n",
              "      <td>前田今日子</td>\n",
              "      <td>0</td>\n",
              "    </tr>\n",
              "    <tr>\n",
              "      <th>2668</th>\n",
              "      <td>10443</td>\n",
              "      <td>91.0</td>\n",
              "      <td>54.0</td>\n",
              "      <td>83.0</td>\n",
              "      <td>152.0</td>\n",
              "      <td>A</td>\n",
              "      <td>Kawase Erima</td>\n",
              "      <td>河瀬えまり</td>\n",
              "      <td>0</td>\n",
              "    </tr>\n",
              "  </tbody>\n",
              "</table>\n",
              "</div>"
            ],
            "text/plain": [
              "           id  bust  waist   hip  ...  blood_type           name japanName cluster\n",
              "2164  1042056  81.0   56.0  83.0  ...           A    Takeda Yume      竹田ゆめ       0\n",
              "2244     5155  85.0   58.0  85.0  ...           O  Nakayama Nana      中山奈々       0\n",
              "371     15485  83.0   58.0  83.0  ...           O   Kawai Hinata     河合ひなた       0\n",
              "1771  1021903  80.0   60.0  83.0  ...           O     Abeno Miku     阿部乃みく       0\n",
              "1803  1022328  80.0   54.0  83.0  ...           O     Maika Natu     麻衣花なつ       0\n",
              "2376      684  82.0   58.0  82.0  ...           B   Miyauti Sayo      宮内沙世       0\n",
              "2077     4644  80.0   59.0  85.0  ...           A     Kayama Yui      加山由衣       0\n",
              "556      1800  88.0   58.0  82.0  ...           A   Simizu Kaori     清水かおり       0\n",
              "1574  1012908  85.0   59.0  86.0  ...           B   Maeda Kyouko     前田今日子       0\n",
              "2668    10443  91.0   54.0  83.0  ...           A   Kawase Erima     河瀬えまり       0\n",
              "\n",
              "[10 rows x 9 columns]"
            ]
          },
          "metadata": {
            "tags": []
          },
          "execution_count": 73
        }
      ]
    },
    {
      "cell_type": "markdown",
      "metadata": {
        "id": "PvPNzgGeNy0N"
      },
      "source": [
        "![Alt](https://i.ibb.co/8sMCJV7/Screenshot-2020-11-16-at-2-39-52-AM.png)"
      ]
    },
    {
      "cell_type": "code",
      "metadata": {
        "id": "W2cA1E-SK6_U"
      },
      "source": [],
      "execution_count": null,
      "outputs": []
    }
  ]
}