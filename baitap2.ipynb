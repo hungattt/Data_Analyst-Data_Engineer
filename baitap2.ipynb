{
  "cells": [
    {
      "cell_type": "code",
      "execution_count": null,
      "metadata": {
        "id": "qPiMarrRDxu2"
      },
      "outputs": [],
      "source": [
        "import pandas as pd \n",
        "\n",
        "from sklearn.datasets import make_classification\n",
        "from sklearn.model_selection import train_test_split \n",
        "\n",
        "from sklearn.preprocessing import LabelEncoder\n",
        "from sklearn.model_selection import train_test_split\n",
        "\n",
        "from sklearn.metrics import accuracy_score\n",
        "from matplotlib import pyplot as plt\n",
        "\n",
        "\n",
        "from collections import Counter\n",
        "from imblearn.over_sampling import SMOTE \n",
        "from sklearn.svm import SVC"
      ]
    },
    {
      "cell_type": "markdown",
      "source": [
        "Bài 1. Đọc dữ liệu từ file cvs. Loại bỏ giá trị rỗng, chuẩn hóa dữ liệu. Chia tỉ lệ train test 50-50"
      ],
      "metadata": {
        "id": "-Dp9SjWGD-7r"
      }
    },
    {
      "cell_type": "code",
      "execution_count": null,
      "metadata": {
        "id": "xan1CSMdDxu6",
        "outputId": "a103e541-4517-4fea-cb05-e95d3424b008"
      },
      "outputs": [
        {
          "name": "stdout",
          "output_type": "stream",
          "text": [
            "(213, 8)\n",
            "Original dataset shape Counter({0: 76, 1: 76, 2: 76, 3: 76, 4: 76, 5: 76})\n",
            "tong so cot sau khi SMOTE  :  (456, 8)\n"
          ]
        },
        {
          "data": {
            "image/png": "[encoded data removed]",
            "text/plain": [
              "<Figure size 432x288 with 1 Axes>"
            ]
          },
          "metadata": {
            "needs_background": "light"
          },
          "output_type": "display_data"
        }
      ],
      "source": [
        "df = pd.read_csv( 'glass.csv', ) \n",
        "df.fillna(df.mean(), inplace=True)\n",
        "\n",
        "X = df.values[:, :-2] \n",
        "y = df.values[:, -1] \n",
        "y = LabelEncoder().fit_transform(y)\n",
        "\n",
        "print(X.shape)\n",
        "# X_train.sample(frac=3, replace=True, random_state=100)\n",
        "\n",
        "sm = SMOTE(random_state=30)\n",
        "X_res, y_res = sm.fit_resample(X, y )\n",
        "print('Original dataset shape %s' % Counter(y_res))\n",
        "print(\"tong so cot sau khi SMOTE  : \",X_res.shape)\n",
        "\n",
        "\n",
        "from sklearn.preprocessing import StandardScaler\n",
        "X = StandardScaler().fit(X).transform(X)\n",
        "\n",
        "\n",
        "from matplotlib import pyplot \n",
        "pyplot.bar(Counter(y_res).keys(), Counter(y_res).values())\n",
        "pyplot.show()\n",
        "\n",
        "\n"
      ]
    },
    {
      "cell_type": "code",
      "execution_count": null,
      "metadata": {
        "id": "gmlgS8hYDxu8",
        "outputId": "0b70fcaf-93ca-4899-b8d7-30a96120ea39"
      },
      "outputs": [
        {
          "data": {
            "text/plain": [
              "(228, 8)"
            ]
          },
          "execution_count": 16,
          "metadata": {},
          "output_type": "execute_result"
        }
      ],
      "source": [
        "X_train, X_test, y_train, y_test = train_test_split(  \n",
        "X_res, y_res, test_size = 0.5,) \n",
        "X_train.shape"
      ]
    },
    {
      "cell_type": "markdown",
      "source": [
        "Bài 2:  Sử dụng Logistic để phân lớp. Hiện thị kết quả độ chính xác"
      ],
      "metadata": {
        "id": "6QZS1BMFEEZL"
      }
    },
    {
      "cell_type": "code",
      "execution_count": null,
      "metadata": {
        "id": "ztxHqfRYDxu9",
        "outputId": "51e893e4-e655-40cb-e7ae-def9f300f590"
      },
      "outputs": [
        {
          "name": "stdout",
          "output_type": "stream",
          "text": [
            "0.7017543859649122\n",
            "              precision    recall  f1-score   support\n",
            "\n",
            "           0       0.44      0.62      0.52        39\n",
            "           1       0.67      0.29      0.40        42\n",
            "           2       0.50      0.51      0.51        39\n",
            "           3       0.85      1.00      0.92        29\n",
            "           4       0.89      0.97      0.93        40\n",
            "           5       0.95      0.92      0.94        39\n",
            "\n",
            "    accuracy                           0.70       228\n",
            "   macro avg       0.72      0.72      0.70       228\n",
            "weighted avg       0.71      0.70      0.69       228\n",
            "\n",
            "[[24  4 11  0  0  0]\n",
            " [13 12  9  5  2  1]\n",
            " [17  2 20  0  0  0]\n",
            " [ 0  0  0 29  0  0]\n",
            " [ 0  0  0  0 39  1]\n",
            " [ 0  0  0  0  3 36]]\n"
          ]
        },
        {
          "name": "stderr",
          "output_type": "stream",
          "text": [
            "D:\\Phan mem\\pyp\\lib\\site-packages\\sklearn\\linear_model\\_logistic.py:814: ConvergenceWarning: lbfgs failed to converge (status=1):\n",
            "STOP: TOTAL NO. of ITERATIONS REACHED LIMIT.\n",
            "\n",
            "Increase the number of iterations (max_iter) or scale the data as shown in:\n",
            "    https://scikit-learn.org/stable/modules/preprocessing.html\n",
            "Please also refer to the documentation for alternative solver options:\n",
            "    https://scikit-learn.org/stable/modules/linear_model.html#logistic-regression\n",
            "  n_iter_i = _check_optimize_result(\n"
          ]
        }
      ],
      "source": [
        "\n",
        "from sklearn.linear_model import LogisticRegression\n",
        "clf = LogisticRegression(random_state=0).fit(X_train,y_train)\n",
        "\n",
        "y_pred = clf.predict(X_test)\n",
        "print (accuracy_score(y_test,y_pred))\n",
        "from sklearn.metrics import classification_report\n",
        "print (classification_report(y_test,y_pred))\n",
        "from sklearn.metrics import confusion_matrix\n",
        "confusion_matrix1 = confusion_matrix(y_test,y_pred)\n",
        "print(confusion_matrix1)\n"
      ]
    },
    {
      "cell_type": "markdown",
      "source": [
        "Bài 3: Sử dụng thuật toán kết hợp của LogisticRegressionm, SVC, DecisionTreeClassifier với hard vote .Hiện thị kết quả độ chính xác"
      ],
      "metadata": {
        "id": "4eeiCncIEJQr"
      }
    },
    {
      "cell_type": "code",
      "execution_count": null,
      "metadata": {
        "id": "xPh30cxBDxu-",
        "outputId": "e3e09419-fe68-4a10-aaf5-b2dfa00a7a29"
      },
      "outputs": [
        {
          "name": "stdout",
          "output_type": "stream",
          "text": [
            "0.8245614035087719\n",
            "              precision    recall  f1-score   support\n",
            "\n",
            "           0       0.60      0.69      0.64        39\n",
            "           1       0.80      0.48      0.60        42\n",
            "           2       0.70      0.90      0.79        39\n",
            "           3       0.97      1.00      0.98        29\n",
            "           4       0.98      1.00      0.99        40\n",
            "           5       1.00      0.95      0.97        39\n",
            "\n",
            "    accuracy                           0.82       228\n",
            "   macro avg       0.84      0.84      0.83       228\n",
            "weighted avg       0.83      0.82      0.82       228\n",
            "\n",
            "[[27  3  9  0  0  0]\n",
            " [14 20  6  1  1  0]\n",
            " [ 4  0 35  0  0  0]\n",
            " [ 0  0  0 29  0  0]\n",
            " [ 0  0  0  0 40  0]\n",
            " [ 0  2  0  0  0 37]]\n"
          ]
        }
      ],
      "source": [
        "\n",
        "from sklearn.linear_model import LogisticRegression\n",
        "from sklearn.svm import SVC\n",
        "from sklearn.tree import DecisionTreeClassifier \n",
        "from sklearn.ensemble import RandomForestClassifier, VotingClassifier\n",
        "estimator = []\n",
        "estimator.append(('LR',\n",
        "                  LogisticRegression(solver ='lbfgs',\n",
        "                                     multi_class ='multinomial',\n",
        "                                     max_iter = 20000)))\n",
        "estimator.append(('SVC', SVC(gamma ='auto', probability = True)))\n",
        "estimator.append(('DTC', DecisionTreeClassifier()))\n",
        "\n",
        "vot_hard = VotingClassifier(estimators = estimator, voting ='hard')\n",
        "vot_hard.fit(X_train, y_train)\n",
        "y_pred = vot_hard.predict(X_test)\n",
        "\n",
        "print (accuracy_score(y_test,y_pred))\n",
        "from sklearn.metrics import classification_report\n",
        "print (classification_report(y_test,y_pred))\n",
        "from sklearn.metrics import confusion_matrix\n",
        "confusion_matrix1 = confusion_matrix(y_test,y_pred)\n",
        "print(confusion_matrix1)"
      ]
    },
    {
      "cell_type": "code",
      "execution_count": null,
      "metadata": {
        "id": "sxfCf9V1Dxu_"
      },
      "outputs": [],
      "source": []
    }
  ],
  "metadata": {
    "interpreter": {
      "hash": "f64998fe74e7eaff4aecf671faac49f98148311377128741e5dfcfda3395246c"
    },
    "kernelspec": {
      "display_name": "Python 3.9.1 64-bit",
      "language": "python",
      "name": "python3"
    },
    "language_info": {
      "codemirror_mode": {
        "name": "ipython",
        "version": 3
      },
      "file_extension": ".py",
      "mimetype": "text/x-python",
      "name": "python",
      "nbconvert_exporter": "python",
      "pygments_lexer": "ipython3",
      "version": "3.9.1"
    },
    "orig_nbformat": 4,
    "colab": {
      "provenance": []
    }
  },
  "nbformat": 4,
  "nbformat_minor": 0
}