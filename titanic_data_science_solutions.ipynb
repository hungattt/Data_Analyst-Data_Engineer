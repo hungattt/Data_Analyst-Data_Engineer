{
  "cells": [
    {
      "cell_type": "markdown",
      "metadata": {
        "_cell_guid": "ea25cdf7-bdbc-3cf1-0737-bc51675e3374",
        "_uuid": "fed5696c67bf55a553d6d04313a77e8c617cad99",
        "id": "oHAcr64VnGj0"
      },
      "source": [
        "# Giải pháp khoa học dữ liệu Titanic\n",
        "\n",
        "\n",
        "### Sổ ghi chép này đi kèm với sách [Giải pháp khoa học dữ liệu](https://www.amazon.com/Data-Science-Solutions-Startup-Workflow/dp/1520545312).\n",
        "\n",
        "Cuốn sổ hướng dẫn chúng tôi quy trình làm việc điển hình để giải quyết các cuộc thi khoa học dữ liệu tại các trang web như Kaggle.\n",
        "\n",
        "Có một số sổ ghi chép tuyệt vời để nghiên cứu các bài dự thi về khoa học dữ liệu. Tuy nhiên, nhiều người sẽ bỏ qua một số giải thích về cách giải pháp được phát triển vì những sổ tay này được phát triển bởi các chuyên gia dành cho các chuyên gia. Mục tiêu của sổ ghi chép này là tuân theo quy trình làm việc từng bước, giải thích từng bước và lý do cho mọi quyết định chúng tôi đưa ra trong quá trình phát triển giải pháp.\n",
        "## Workflow stages\n",
        "\n",
        "Quy trình giải pháp cạnh tranh trải qua bảy giai đoạn được mô tả trong sách Giải pháp khoa học dữ liệu.\n",
        "\n",
        "1. Định nghĩa câu hỏi hoặc vấn đề.\n",
        "2. Thu thập dữ liệu huấn luyện và kiểm tra.\n",
        "3. Sắp xếp, chuẩn bị, làm sạch dữ liệu.\n",
        "4. Phân tích, xác định các mẫu và khám phá dữ liệu.\n",
        "5. Lập mô hình, dự đoán và giải quyết vấn đề.\n",
        "6. Trực quan hóa, báo cáo và trình bày các bước giải quyết vấn đề và giải pháp cuối cùng.\n",
        "7. Cung cấp hoặc nộp kết quả.\n",
        "\n",
        "Quy trình làm việc cho biết trình tự chung về cách từng giai đoạn có thể nối tiếp nhau. Tuy nhiên, có những trường hợp sử dụng với ngoại lệ.\n",
        "\n",
        "- Chúng tôi có thể kết hợp nhiều giai đoạn công việc. Chúng tôi có thể phân tích bằng cách trực quan hóa dữ liệu.\n",
        "- Thực hiện một công đoạn sớm hơn so với chỉ định. Chúng tôi có thể phân tích dữ liệu trước và sau khi tranh luận.\n",
        "- Thực hiện một giai đoạn nhiều lần trong quy trình làm việc của chúng tôi. Giai đoạn trực quan hóa có thể được sử dụng nhiều lần.\n",
        "- Bỏ một giai đoạn hoàn toàn. Chúng tôi có thể không cần giai đoạn cung ứng để sản xuất hoặc cung cấp dịch vụ cho phép tập dữ liệu của chúng tôi tham gia cuộc thi.\n",
        "\n",
        "\n",
        "## Câu hỏi và định nghĩa vấn đề\n",
        "\n",
        "Các trang web cạnh tranh như Kaggle xác định vấn đề cần giải quyết hoặc câu hỏi cần đặt ra trong khi cung cấp bộ dữ liệu để đào tạo mô hình khoa học dữ liệu của bạn và kiểm tra kết quả của mô hình dựa trên bộ dữ liệu thử nghiệm. Định nghĩa câu hỏi hoặc vấn đề cho cuộc thi Titanic Survival [được mô tả tại đây tại Kaggle](https://www.kaggle.com/c/titanic).\n",
        "\n",
        "> Biết được từ tập hợp mẫu đào tạo liệt kê những hành khách sống sót hoặc không sống sót sau thảm họa Titanic, liệu mô hình của chúng tôi có thể xác định dựa trên tập dữ liệu thử nghiệm nhất định không chứa thông tin sống sót, liệu những hành khách này trong tập dữ liệu thử nghiệm có sống sót hay không.\n",
        "\n",
        "Chúng tôi cũng có thể muốn phát triển một số hiểu biết ban đầu về lĩnh vực vấn đề của chúng tôi. Điều này được mô tả trên [trang mô tả cuộc thi Kaggle tại đây](https://www.kaggle.com/c/titanic). Dưới đây là những điểm nổi bật cần lưu ý.\n",
        "\n",
        "- Ngày 15 tháng 4 năm 1912, trong chuyến hành trình đầu tiên, tàu Titanic bị chìm sau khi va phải một tảng băng trôi, khiến 1502 trên tổng số 2224 hành khách và thủy thủ đoàn thiệt mạng. Dịch tỷ lệ sống 32%.\n",
        "- Một trong những nguyên nhân khiến vụ đắm tàu dẫn đến thiệt hại về người như vậy là do không có đủ xuồng cứu sinh cho hành khách và thủy thủ đoàn.\n",
        "- Mặc dù có một số yếu tố may mắn liên quan đến việc sống sót sau vụ chìm tàu, nhưng một số nhóm người có nhiều khả năng sống sót hơn những nhóm khác, chẳng hạn như phụ nữ, trẻ em và tầng lớp thượng lưu.\n",
        "\n",
        "## Mục tiêu quy trình làm việc\n",
        "\n",
        "Quy trình giải pháp khoa học dữ liệu giải quyết bảy mục tiêu chính.\n",
        "\n",
        "**Phân loại.** Chúng tôi có thể muốn phân loại hoặc phân loại các mẫu của mình. Chúng tôi cũng có thể muốn hiểu ý nghĩa hoặc mối tương quan của các lớp khác nhau với mục tiêu giải pháp của chúng tôi.\n",
        "\n",
        "**Tương quan.** Người ta có thể tiếp cận vấn đề dựa trên các tính năng có sẵn trong tập dữ liệu huấn luyện. Những tính năng nào trong tập dữ liệu đóng góp đáng kể cho mục tiêu giải pháp của chúng tôi? Về mặt thống kê, liệu có [tương quan](https://en.wikiversity.org/wiki/Correlation) giữa mục tiêu tính năng và giải pháp không? Khi các giá trị tính năng thay đổi, trạng thái giải pháp cũng thay đổi và ngược lại? Điều này có thể được kiểm tra cho cả các tính năng số và phân loại trong tập dữ liệu đã cho. Chúng tôi cũng có thể muốn xác định mối tương quan giữa các tính năng khác với khả năng tồn tại cho các mục tiêu và giai đoạn quy trình công việc tiếp theo. Tương quan các tính năng nhất định có thể giúp tạo, hoàn thành hoặc sửa các tính năng.\n",
        "\n",
        "**Chuyển đổi.** Đối với giai đoạn lập mô hình, người ta cần chuẩn bị dữ liệu. Tùy thuộc vào sự lựa chọn của thuật toán mô hình, người ta có thể yêu cầu tất cả các tính năng được chuyển đổi thành các giá trị tương đương bằng số. Vì vậy, chẳng hạn, chuyển đổi các giá trị phân loại văn bản thành các giá trị số.\n",
        "\n",
        "**Đang hoàn thành.** Việc chuẩn bị dữ liệu cũng có thể yêu cầu chúng tôi ước tính bất kỳ giá trị nào còn thiếu trong một đối tượng địa lý. Thuật toán mô hình có thể hoạt động tốt nhất khi không có giá trị nào bị thiếu.\n",
        "\n",
        "**Đang sửa.** Chúng tôi cũng có thể phân tích tập dữ liệu huấn luyện đã cho để tìm lỗi hoặc các giá trị có thể không chính xác trong các tính năng và cố gắng sửa các giá trị này hoặc loại trừ các mẫu có lỗi. Một cách để làm điều này là phát hiện bất kỳ giá trị ngoại lệ nào trong số các mẫu hoặc tính năng của chúng tôi. Chúng tôi cũng có thể loại bỏ hoàn toàn một tính năng nếu tính năng đó không đóng góp vào quá trình phân tích hoặc có thể làm sai lệch đáng kể kết quả.\n",
        "\n",
        "**Tạo.** Chúng tôi có thể tạo các tính năng mới dựa trên một tính năng hiện có hoặc một bộ tính năng, sao cho tính năng mới tuân theo các mục tiêu tương quan, chuyển đổi, hoàn chỉnh.\n",
        "\n",
        "**Biểu đồ.** Cách chọn đồ thị và biểu đồ trực quan phù hợp tùy thuộc vào bản chất của dữ liệu và mục tiêu của giải pháp."
      ]
    },
    {
      "cell_type": "markdown",
      "metadata": {
        "_cell_guid": "56a3be4e-76ef-20c6-25e8-da16147cf6d7",
        "_uuid": "960f8b1937dc4915ce1eb0f82614b1985c4321a4",
        "id": "AFp8Hp8knGj7"
      },
      "source": [
        "## Phát hành Refactor 2017-Jan-29\n",
        "\n",
        "Chúng tôi đang tái cấu trúc đáng kể sổ ghi chép dựa trên (a) nhận xét mà người đọc nhận được, (b) các vấn đề trong việc chuyển sổ ghi chép từ nhân Jupyter (2.7) sang nhân Kaggle (3.5) và (c) xem xét một số nhân thực hành tốt nhất khác.\n",
        "\n",
        "### Ý kiến ​​người sử dụng\n",
        "\n",
        "- Kết hợp dữ liệu huấn luyện và kiểm tra cho một số hoạt động nhất định như chuyển đổi tiêu đề trên tập dữ liệu thành giá trị số. (cảm ơn @Sharan Naribole)\n",
        "- Quan sát đúng - gần 30% hành khách có anh chị em và/hoặc vợ/chồng trên máy bay. (cảm ơn @Reinhard)\n",
        "- Diễn giải đúng các hệ số hồi quy logistic. (cảm ơn @Reinhard)\n",
        "\n",
        "### Sự cố chuyển\n",
        "\n",
        "- Chỉ định kích thước cốt truyện, đưa truyền thuyết vào cốt truyện.\n",
        "\n",
        "\n",
        "### Thực hành tốt nhất\n",
        "\n",
        "- Thực hiện phân tích tương quan tính năng sớm trong dự án.\n",
        "- Sử dụng nhiều ô thay vì lớp phủ để dễ đọc."
      ]
    },
    {
      "cell_type": "code",
      "source": [
        "!wget https://storage.googleapis.com/protonx-cloud-storage/titanic/train.csv\n",
        "!wget https://storage.googleapis.com/protonx-cloud-storage/titanic/test.csv"
      ],
      "metadata": {
        "colab": {
          "base_uri": "https://localhost:8080/"
        },
        "id": "wZ0r2PJVnTc1",
        "outputId": "a64c3942-0328-45ee-9249-e3fbbd5b70d6"
      },
      "execution_count": null,
      "outputs": [
        {
          "output_type": "stream",
          "name": "stdout",
          "text": [
            "--2022-12-29 11:21:04--  https://storage.googleapis.com/protonx-cloud-storage/titanic/train.csv\n",
            "Resolving storage.googleapis.com (storage.googleapis.com)... 142.250.99.128, 74.125.142.128, 74.125.195.128, ...\n",
            "Connecting to storage.googleapis.com (storage.googleapis.com)|142.250.99.128|:443... connected.\n",
            "HTTP request sent, awaiting response... 200 OK\n",
            "Length: 61194 (60K) [application/octet-stream]\n",
            "Saving to: ‘train.csv’\n",
            "\n",
            "\rtrain.csv             0%[                    ]       0  --.-KB/s               \rtrain.csv           100%[===================>]  59.76K  --.-KB/s    in 0.001s  \n",
            "\n",
            "2022-12-29 11:21:04 (70.2 MB/s) - ‘train.csv’ saved [61194/61194]\n",
            "\n",
            "--2022-12-29 11:21:04--  https://storage.googleapis.com/protonx-cloud-storage/titanic/test.csv\n",
            "Resolving storage.googleapis.com (storage.googleapis.com)... 142.250.99.128, 74.125.142.128, 74.125.195.128, ...\n",
            "Connecting to storage.googleapis.com (storage.googleapis.com)|142.250.99.128|:443... connected.\n",
            "HTTP request sent, awaiting response... 200 OK\n",
            "Length: 28629 (28K) [application/octet-stream]\n",
            "Saving to: ‘test.csv’\n",
            "\n",
            "test.csv            100%[===================>]  27.96K  --.-KB/s    in 0s      \n",
            "\n",
            "2022-12-29 11:21:05 (57.1 MB/s) - ‘test.csv’ saved [28629/28629]\n",
            "\n"
          ]
        }
      ]
    },
    {
      "cell_type": "code",
      "execution_count": null,
      "metadata": {
        "_cell_guid": "5767a33c-8f18-4034-e52d-bf7a8f7d8ab8",
        "_uuid": "847a9b3972a6be2d2f3346ff01fea976d92ecdb6",
        "collapsed": true,
        "jupyter": {
          "outputs_hidden": true
        },
        "id": "NCPUP2fgnGj8"
      },
      "outputs": [],
      "source": [
        "# data analysis and wrangling\n",
        "import pandas as pd\n",
        "import numpy as np\n",
        "import random as rnd\n",
        "\n",
        "# visualization\n",
        "import seaborn as sns\n",
        "import matplotlib.pyplot as plt\n",
        "%matplotlib inline\n",
        "\n",
        "# machine learning\n",
        "from sklearn.linear_model import LogisticRegression\n",
        "from sklearn.svm import SVC, LinearSVC\n",
        "from sklearn.ensemble import RandomForestClassifier\n",
        "from sklearn.neighbors import KNeighborsClassifier\n",
        "from sklearn.naive_bayes import GaussianNB\n",
        "from sklearn.linear_model import Perceptron\n",
        "from sklearn.linear_model import SGDClassifier\n",
        "from sklearn.tree import DecisionTreeClassifier"
      ]
    },
    {
      "cell_type": "markdown",
      "metadata": {
        "_cell_guid": "6b5dc743-15b1-aac6-405e-081def6ecca1",
        "_uuid": "2d307b99ee3d19da3c1cddf509ed179c21dec94a",
        "id": "GVzFSwatnGj9"
      },
      "source": [
        "## Thu thập dữ liệu\n",
        "\n",
        "Gói Python Pandas giúp chúng tôi làm việc với bộ dữ liệu của mình. Chúng tôi bắt đầu bằng cách mua tập dữ liệu đào tạo và thử nghiệm vào Pandas DataFrames. Chúng tôi cũng kết hợp các bộ dữ liệu này để chạy một số hoạt động nhất định trên cả hai bộ dữ liệu cùng nhau."
      ]
    },
    {
      "cell_type": "code",
      "execution_count": null,
      "metadata": {
        "_cell_guid": "e7319668-86fe-8adc-438d-0eef3fd0a982",
        "_uuid": "13f38775c12ad6f914254a08f0d1ef948a2bd453",
        "collapsed": true,
        "jupyter": {
          "outputs_hidden": true
        },
        "id": "579lmm2EnGj9"
      },
      "outputs": [],
      "source": [
        "train_df = pd.read_csv('/content/train.csv')\n",
        "test_df = pd.read_csv('/content/test.csv')\n",
        "combine = [train_df, test_df]"
      ]
    },
    {
      "cell_type": "markdown",
      "metadata": {
        "_cell_guid": "3d6188f3-dc82-8ae6-dabd-83e28fcbf10d",
        "_uuid": "79282222056237a52bbbb1dbd831f057f1c23d69",
        "id": "HPAkGm5OnGj-"
      },
      "source": [
        "## Phân tích bằng cách mô tả dữ liệu\n",
        "\n",
        "Pandas cũng giúp mô tả các bộ dữ liệu sớm trả lời các câu hỏi sau trong dự án của chúng tôi.\n",
        "\n",
        "**Những tính năng nào có sẵn trong bộ dữ liệu?**\n",
        "\n",
        "Lưu ý các tên tính năng để thao tác trực tiếp hoặc phân tích chúng. Các tên tính năng này được mô tả trên [trang dữ liệu Kaggle tại đây](https://www.kaggle.com/c/titanic/data)."
      ]
    },
    {
      "cell_type": "code",
      "execution_count": null,
      "metadata": {
        "_cell_guid": "ce473d29-8d19-76b8-24a4-48c217286e42",
        "_uuid": "ef106f38a00e162a80c523778af6dcc778ccc1c2",
        "collapsed": true,
        "jupyter": {
          "outputs_hidden": true
        },
        "colab": {
          "base_uri": "https://localhost:8080/"
        },
        "id": "KpoaKWrMnGj-",
        "outputId": "2537f473-fe4d-4b0e-a1b7-c3cdbbb03aa4"
      },
      "outputs": [
        {
          "output_type": "stream",
          "name": "stdout",
          "text": [
            "['PassengerId' 'Survived' 'Pclass' 'Name' 'Sex' 'Age' 'SibSp' 'Parch'\n",
            " 'Ticket' 'Fare' 'Cabin' 'Embarked']\n"
          ]
        }
      ],
      "source": [
        "print(train_df.columns.values)"
      ]
    },
    {
      "cell_type": "markdown",
      "metadata": {
        "_cell_guid": "cd19a6f6-347f-be19-607b-dca950590b37",
        "_uuid": "1d7acf42af29a63bc038f14eded24e8b8146f541",
        "id": "IxUezMztnGj-"
      },
      "source": [
        "**Những tính năng nào là phân loại?**\n",
        "\n",
        "Các giá trị này phân loại các mẫu thành các bộ mẫu tương tự. Trong các tính năng phân loại là các giá trị dựa trên danh nghĩa, thứ tự, tỷ lệ hoặc khoảng thời gian? Trong số những thứ khác, điều này giúp chúng tôi chọn các ô thích hợp để trực quan hóa.\n",
        "\n",
        "- Categorical: Survived, Sex, and Embarked. Thông thường: Pclass.\n",
        "\n",
        "**Những tính năng nào là số?**\n",
        "\n",
        "Những tính năng là số? Các giá trị này thay đổi từ mẫu này sang mẫu khác. Trong các tính năng số là các giá trị rời rạc, liên tục hoặc dựa trên chuỗi thời gian? Trong số những thứ khác, điều này giúp chúng tôi chọn các ô thích hợp để trực quan hóa.\n",
        "\n",
        "- Liên tục: Tuổi, Giá vé. Rời rạc: SibSp, Parch."
      ]
    },
    {
      "cell_type": "code",
      "execution_count": null,
      "metadata": {
        "_cell_guid": "8d7ac195-ac1a-30a4-3f3f-80b8cf2c1c0f",
        "_uuid": "e068cd3a0465b65a0930a100cb348b9146d5fd2f",
        "collapsed": true,
        "jupyter": {
          "outputs_hidden": true
        },
        "colab": {
          "base_uri": "https://localhost:8080/",
          "height": 285
        },
        "id": "l_mFAe_ZnGj_",
        "outputId": "416d31de-96a0-4392-f140-51257c974b4b"
      },
      "outputs": [
        {
          "output_type": "execute_result",
          "data": {
            "text/plain": [
              "   PassengerId  Survived  Pclass  \\\n",
              "0            1         0       3   \n",
              "1            2         1       1   \n",
              "2            3         1       3   \n",
              "3            4         1       1   \n",
              "4            5         0       3   \n",
              "\n",
              "                                                Name     Sex   Age  SibSp  \\\n",
              "0                            Braund, Mr. Owen Harris    male  22.0      1   \n",
              "1  Cumings, Mrs. John Bradley (Florence Briggs Th...  female  38.0      1   \n",
              "2                             Heikkinen, Miss. Laina  female  26.0      0   \n",
              "3       Futrelle, Mrs. Jacques Heath (Lily May Peel)  female  35.0      1   \n",
              "4                           Allen, Mr. William Henry    male  35.0      0   \n",
              "\n",
              "   Parch            Ticket     Fare Cabin Embarked  \n",
              "0      0         A/5 21171   7.2500   NaN        S  \n",
              "1      0          PC 17599  71.2833   C85        C  \n",
              "2      0  STON/O2. 3101282   7.9250   NaN        S  \n",
              "3      0            113803  53.1000  C123        S  \n",
              "4      0            373450   8.0500   NaN        S  "
            ],
            "text/html": [
              "\n",
              "  <div id=\"df-2763362f-2d53-4c38-b532-2067974f9779\">\n",
              "    <div class=\"colab-df-container\">\n",
              "      <div>\n",
              "<style scoped>\n",
              "    .dataframe tbody tr th:only-of-type {\n",
              "        vertical-align: middle;\n",
              "    }\n",
              "\n",
              "    .dataframe tbody tr th {\n",
              "        vertical-align: top;\n",
              "    }\n",
              "\n",
              "    .dataframe thead th {\n",
              "        text-align: right;\n",
              "    }\n",
              "</style>\n",
              "<table border=\"1\" class=\"dataframe\">\n",
              "  <thead>\n",
              "    <tr style=\"text-align: right;\">\n",
              "      <th></th>\n",
              "      <th>PassengerId</th>\n",
              "      <th>Survived</th>\n",
              "      <th>Pclass</th>\n",
              "      <th>Name</th>\n",
              "      <th>Sex</th>\n",
              "      <th>Age</th>\n",
              "      <th>SibSp</th>\n",
              "      <th>Parch</th>\n",
              "      <th>Ticket</th>\n",
              "      <th>Fare</th>\n",
              "      <th>Cabin</th>\n",
              "      <th>Embarked</th>\n",
              "    </tr>\n",
              "  </thead>\n",
              "  <tbody>\n",
              "    <tr>\n",
              "      <th>0</th>\n",
              "      <td>1</td>\n",
              "      <td>0</td>\n",
              "      <td>3</td>\n",
              "      <td>Braund, Mr. Owen Harris</td>\n",
              "      <td>male</td>\n",
              "      <td>22.0</td>\n",
              "      <td>1</td>\n",
              "      <td>0</td>\n",
              "      <td>A/5 21171</td>\n",
              "      <td>7.2500</td>\n",
              "      <td>NaN</td>\n",
              "      <td>S</td>\n",
              "    </tr>\n",
              "    <tr>\n",
              "      <th>1</th>\n",
              "      <td>2</td>\n",
              "      <td>1</td>\n",
              "      <td>1</td>\n",
              "      <td>Cumings, Mrs. John Bradley (Florence Briggs Th...</td>\n",
              "      <td>female</td>\n",
              "      <td>38.0</td>\n",
              "      <td>1</td>\n",
              "      <td>0</td>\n",
              "      <td>PC 17599</td>\n",
              "      <td>71.2833</td>\n",
              "      <td>C85</td>\n",
              "      <td>C</td>\n",
              "    </tr>\n",
              "    <tr>\n",
              "      <th>2</th>\n",
              "      <td>3</td>\n",
              "      <td>1</td>\n",
              "      <td>3</td>\n",
              "      <td>Heikkinen, Miss. Laina</td>\n",
              "      <td>female</td>\n",
              "      <td>26.0</td>\n",
              "      <td>0</td>\n",
              "      <td>0</td>\n",
              "      <td>STON/O2. 3101282</td>\n",
              "      <td>7.9250</td>\n",
              "      <td>NaN</td>\n",
              "      <td>S</td>\n",
              "    </tr>\n",
              "    <tr>\n",
              "      <th>3</th>\n",
              "      <td>4</td>\n",
              "      <td>1</td>\n",
              "      <td>1</td>\n",
              "      <td>Futrelle, Mrs. Jacques Heath (Lily May Peel)</td>\n",
              "      <td>female</td>\n",
              "      <td>35.0</td>\n",
              "      <td>1</td>\n",
              "      <td>0</td>\n",
              "      <td>113803</td>\n",
              "      <td>53.1000</td>\n",
              "      <td>C123</td>\n",
              "      <td>S</td>\n",
              "    </tr>\n",
              "    <tr>\n",
              "      <th>4</th>\n",
              "      <td>5</td>\n",
              "      <td>0</td>\n",
              "      <td>3</td>\n",
              "      <td>Allen, Mr. William Henry</td>\n",
              "      <td>male</td>\n",
              "      <td>35.0</td>\n",
              "      <td>0</td>\n",
              "      <td>0</td>\n",
              "      <td>373450</td>\n",
              "      <td>8.0500</td>\n",
              "      <td>NaN</td>\n",
              "      <td>S</td>\n",
              "    </tr>\n",
              "  </tbody>\n",
              "</table>\n",
              "</div>\n",
              "      <button class=\"colab-df-convert\" onclick=\"convertToInteractive('df-2763362f-2d53-4c38-b532-2067974f9779')\"\n",
              "              title=\"Convert this dataframe to an interactive table.\"\n",
              "              style=\"display:none;\">\n",
              "        \n",
              "  <svg xmlns=\"http://www.w3.org/2000/svg\" height=\"24px\"viewBox=\"0 0 24 24\"\n",
              "       width=\"24px\">\n",
              "    <path d=\"M0 0h24v24H0V0z\" fill=\"none\"/>\n",
              "    <path d=\"M18.56 5.44l.94 2.06.94-2.06 2.06-.94-2.06-.94-.94-2.06-.94 2.06-2.06.94zm-11 1L8.5 8.5l.94-2.06 2.06-.94-2.06-.94L8.5 2.5l-.94 2.06-2.06.94zm10 10l.94 2.06.94-2.06 2.06-.94-2.06-.94-.94-2.06-.94 2.06-2.06.94z\"/><path d=\"M17.41 7.96l-1.37-1.37c-.4-.4-.92-.59-1.43-.59-.52 0-1.04.2-1.43.59L10.3 9.45l-7.72 7.72c-.78.78-.78 2.05 0 2.83L4 21.41c.39.39.9.59 1.41.59.51 0 1.02-.2 1.41-.59l7.78-7.78 2.81-2.81c.8-.78.8-2.07 0-2.86zM5.41 20L4 18.59l7.72-7.72 1.47 1.35L5.41 20z\"/>\n",
              "  </svg>\n",
              "      </button>\n",
              "      \n",
              "  <style>\n",
              "    .colab-df-container {\n",
              "      display:flex;\n",
              "      flex-wrap:wrap;\n",
              "      gap: 12px;\n",
              "    }\n",
              "\n",
              "    .colab-df-convert {\n",
              "      background-color: #E8F0FE;\n",
              "      border: none;\n",
              "      border-radius: 50%;\n",
              "      cursor: pointer;\n",
              "      display: none;\n",
              "      fill: #1967D2;\n",
              "      height: 32px;\n",
              "      padding: 0 0 0 0;\n",
              "      width: 32px;\n",
              "    }\n",
              "\n",
              "    .colab-df-convert:hover {\n",
              "      background-color: #E2EBFA;\n",
              "      box-shadow: 0px 1px 2px rgba(60, 64, 67, 0.3), 0px 1px 3px 1px rgba(60, 64, 67, 0.15);\n",
              "      fill: #174EA6;\n",
              "    }\n",
              "\n",
              "    [theme=dark] .colab-df-convert {\n",
              "      background-color: #3B4455;\n",
              "      fill: #D2E3FC;\n",
              "    }\n",
              "\n",
              "    [theme=dark] .colab-df-convert:hover {\n",
              "      background-color: #434B5C;\n",
              "      box-shadow: 0px 1px 3px 1px rgba(0, 0, 0, 0.15);\n",
              "      filter: drop-shadow(0px 1px 2px rgba(0, 0, 0, 0.3));\n",
              "      fill: #FFFFFF;\n",
              "    }\n",
              "  </style>\n",
              "\n",
              "      <script>\n",
              "        const buttonEl =\n",
              "          document.querySelector('#df-2763362f-2d53-4c38-b532-2067974f9779 button.colab-df-convert');\n",
              "        buttonEl.style.display =\n",
              "          google.colab.kernel.accessAllowed ? 'block' : 'none';\n",
              "\n",
              "        async function convertToInteractive(key) {\n",
              "          const element = document.querySelector('#df-2763362f-2d53-4c38-b532-2067974f9779');\n",
              "          const dataTable =\n",
              "            await google.colab.kernel.invokeFunction('convertToInteractive',\n",
              "                                                     [key], {});\n",
              "          if (!dataTable) return;\n",
              "\n",
              "          const docLinkHtml = 'Like what you see? Visit the ' +\n",
              "            '<a target=\"_blank\" href=https://colab.research.google.com/notebooks/data_table.ipynb>data table notebook</a>'\n",
              "            + ' to learn more about interactive tables.';\n",
              "          element.innerHTML = '';\n",
              "          dataTable['output_type'] = 'display_data';\n",
              "          await google.colab.output.renderOutput(dataTable, element);\n",
              "          const docLink = document.createElement('div');\n",
              "          docLink.innerHTML = docLinkHtml;\n",
              "          element.appendChild(docLink);\n",
              "        }\n",
              "      </script>\n",
              "    </div>\n",
              "  </div>\n",
              "  "
            ]
          },
          "metadata": {},
          "execution_count": 5
        }
      ],
      "source": [
        "# preview the data\n",
        "train_df.head()"
      ]
    },
    {
      "cell_type": "markdown",
      "metadata": {
        "_cell_guid": "97f4e6f8-2fea-46c4-e4e8-b69062ee3d46",
        "_uuid": "c34fa51a38336d97d5f6a184908cca37daebd584",
        "id": "LlZ-74P4nGj_"
      },
      "source": [
        "**Những tính năng nào là loại dữ liệu hỗn hợp?**\n",
        "\n",
        "Dữ liệu số, chữ và số trong cùng một tính năng. Đây là những ứng cử viên cho mục tiêu sửa chữa.\n",
        "\n",
        "- Vé là hỗn hợp của các loại dữ liệu số và chữ số. Cabin là chữ và số.\n",
        "\n",
        "**Những tính năng nào có thể chứa lỗi hoặc lỗi chính tả?**\n",
        "\n",
        "Điều này khó xem xét hơn đối với tập dữ liệu lớn, tuy nhiên, việc xem xét một vài mẫu từ tập dữ liệu nhỏ hơn có thể cho chúng tôi biết ngay những tính năng nào có thể cần sửa.\n",
        "\n",
        "- Tính năng tên có thể chứa lỗi hoặc lỗi đánh máy vì có một số cách được sử dụng để mô tả tên bao gồm tiêu đề, dấu ngoặc tròn và dấu ngoặc kép được sử dụng cho tên thay thế hoặc tên ngắn."
      ]
    },
    {
      "cell_type": "code",
      "execution_count": null,
      "metadata": {
        "_cell_guid": "f6e761c2-e2ff-d300-164c-af257083bb46",
        "_uuid": "3488e80f309d29f5b68bbcfaba8d78da84f4fb7d",
        "collapsed": true,
        "jupyter": {
          "outputs_hidden": true
        },
        "colab": {
          "base_uri": "https://localhost:8080/",
          "height": 206
        },
        "id": "Bc4Yvn-SnGkA",
        "outputId": "2776d9ef-fbcd-47be-a1ad-43e55b5e250d"
      },
      "outputs": [
        {
          "output_type": "execute_result",
          "data": {
            "text/plain": [
              "     PassengerId  Survived  Pclass                                      Name  \\\n",
              "886          887         0       2                     Montvila, Rev. Juozas   \n",
              "887          888         1       1              Graham, Miss. Margaret Edith   \n",
              "888          889         0       3  Johnston, Miss. Catherine Helen \"Carrie\"   \n",
              "889          890         1       1                     Behr, Mr. Karl Howell   \n",
              "890          891         0       3                       Dooley, Mr. Patrick   \n",
              "\n",
              "        Sex   Age  SibSp  Parch      Ticket   Fare Cabin Embarked  \n",
              "886    male  27.0      0      0      211536  13.00   NaN        S  \n",
              "887  female  19.0      0      0      112053  30.00   B42        S  \n",
              "888  female   NaN      1      2  W./C. 6607  23.45   NaN        S  \n",
              "889    male  26.0      0      0      111369  30.00  C148        C  \n",
              "890    male  32.0      0      0      370376   7.75   NaN        Q  "
            ],
            "text/html": [
              "\n",
              "  <div id=\"df-925dd5b2-de62-407d-84d4-5cdcdd45476b\">\n",
              "    <div class=\"colab-df-container\">\n",
              "      <div>\n",
              "<style scoped>\n",
              "    .dataframe tbody tr th:only-of-type {\n",
              "        vertical-align: middle;\n",
              "    }\n",
              "\n",
              "    .dataframe tbody tr th {\n",
              "        vertical-align: top;\n",
              "    }\n",
              "\n",
              "    .dataframe thead th {\n",
              "        text-align: right;\n",
              "    }\n",
              "</style>\n",
              "<table border=\"1\" class=\"dataframe\">\n",
              "  <thead>\n",
              "    <tr style=\"text-align: right;\">\n",
              "      <th></th>\n",
              "      <th>PassengerId</th>\n",
              "      <th>Survived</th>\n",
              "      <th>Pclass</th>\n",
              "      <th>Name</th>\n",
              "      <th>Sex</th>\n",
              "      <th>Age</th>\n",
              "      <th>SibSp</th>\n",
              "      <th>Parch</th>\n",
              "      <th>Ticket</th>\n",
              "      <th>Fare</th>\n",
              "      <th>Cabin</th>\n",
              "      <th>Embarked</th>\n",
              "    </tr>\n",
              "  </thead>\n",
              "  <tbody>\n",
              "    <tr>\n",
              "      <th>886</th>\n",
              "      <td>887</td>\n",
              "      <td>0</td>\n",
              "      <td>2</td>\n",
              "      <td>Montvila, Rev. Juozas</td>\n",
              "      <td>male</td>\n",
              "      <td>27.0</td>\n",
              "      <td>0</td>\n",
              "      <td>0</td>\n",
              "      <td>211536</td>\n",
              "      <td>13.00</td>\n",
              "      <td>NaN</td>\n",
              "      <td>S</td>\n",
              "    </tr>\n",
              "    <tr>\n",
              "      <th>887</th>\n",
              "      <td>888</td>\n",
              "      <td>1</td>\n",
              "      <td>1</td>\n",
              "      <td>Graham, Miss. Margaret Edith</td>\n",
              "      <td>female</td>\n",
              "      <td>19.0</td>\n",
              "      <td>0</td>\n",
              "      <td>0</td>\n",
              "      <td>112053</td>\n",
              "      <td>30.00</td>\n",
              "      <td>B42</td>\n",
              "      <td>S</td>\n",
              "    </tr>\n",
              "    <tr>\n",
              "      <th>888</th>\n",
              "      <td>889</td>\n",
              "      <td>0</td>\n",
              "      <td>3</td>\n",
              "      <td>Johnston, Miss. Catherine Helen \"Carrie\"</td>\n",
              "      <td>female</td>\n",
              "      <td>NaN</td>\n",
              "      <td>1</td>\n",
              "      <td>2</td>\n",
              "      <td>W./C. 6607</td>\n",
              "      <td>23.45</td>\n",
              "      <td>NaN</td>\n",
              "      <td>S</td>\n",
              "    </tr>\n",
              "    <tr>\n",
              "      <th>889</th>\n",
              "      <td>890</td>\n",
              "      <td>1</td>\n",
              "      <td>1</td>\n",
              "      <td>Behr, Mr. Karl Howell</td>\n",
              "      <td>male</td>\n",
              "      <td>26.0</td>\n",
              "      <td>0</td>\n",
              "      <td>0</td>\n",
              "      <td>111369</td>\n",
              "      <td>30.00</td>\n",
              "      <td>C148</td>\n",
              "      <td>C</td>\n",
              "    </tr>\n",
              "    <tr>\n",
              "      <th>890</th>\n",
              "      <td>891</td>\n",
              "      <td>0</td>\n",
              "      <td>3</td>\n",
              "      <td>Dooley, Mr. Patrick</td>\n",
              "      <td>male</td>\n",
              "      <td>32.0</td>\n",
              "      <td>0</td>\n",
              "      <td>0</td>\n",
              "      <td>370376</td>\n",
              "      <td>7.75</td>\n",
              "      <td>NaN</td>\n",
              "      <td>Q</td>\n",
              "    </tr>\n",
              "  </tbody>\n",
              "</table>\n",
              "</div>\n",
              "      <button class=\"colab-df-convert\" onclick=\"convertToInteractive('df-925dd5b2-de62-407d-84d4-5cdcdd45476b')\"\n",
              "              title=\"Convert this dataframe to an interactive table.\"\n",
              "              style=\"display:none;\">\n",
              "        \n",
              "  <svg xmlns=\"http://www.w3.org/2000/svg\" height=\"24px\"viewBox=\"0 0 24 24\"\n",
              "       width=\"24px\">\n",
              "    <path d=\"M0 0h24v24H0V0z\" fill=\"none\"/>\n",
              "    <path d=\"M18.56 5.44l.94 2.06.94-2.06 2.06-.94-2.06-.94-.94-2.06-.94 2.06-2.06.94zm-11 1L8.5 8.5l.94-2.06 2.06-.94-2.06-.94L8.5 2.5l-.94 2.06-2.06.94zm10 10l.94 2.06.94-2.06 2.06-.94-2.06-.94-.94-2.06-.94 2.06-2.06.94z\"/><path d=\"M17.41 7.96l-1.37-1.37c-.4-.4-.92-.59-1.43-.59-.52 0-1.04.2-1.43.59L10.3 9.45l-7.72 7.72c-.78.78-.78 2.05 0 2.83L4 21.41c.39.39.9.59 1.41.59.51 0 1.02-.2 1.41-.59l7.78-7.78 2.81-2.81c.8-.78.8-2.07 0-2.86zM5.41 20L4 18.59l7.72-7.72 1.47 1.35L5.41 20z\"/>\n",
              "  </svg>\n",
              "      </button>\n",
              "      \n",
              "  <style>\n",
              "    .colab-df-container {\n",
              "      display:flex;\n",
              "      flex-wrap:wrap;\n",
              "      gap: 12px;\n",
              "    }\n",
              "\n",
              "    .colab-df-convert {\n",
              "      background-color: #E8F0FE;\n",
              "      border: none;\n",
              "      border-radius: 50%;\n",
              "      cursor: pointer;\n",
              "      display: none;\n",
              "      fill: #1967D2;\n",
              "      height: 32px;\n",
              "      padding: 0 0 0 0;\n",
              "      width: 32px;\n",
              "    }\n",
              "\n",
              "    .colab-df-convert:hover {\n",
              "      background-color: #E2EBFA;\n",
              "      box-shadow: 0px 1px 2px rgba(60, 64, 67, 0.3), 0px 1px 3px 1px rgba(60, 64, 67, 0.15);\n",
              "      fill: #174EA6;\n",
              "    }\n",
              "\n",
              "    [theme=dark] .colab-df-convert {\n",
              "      background-color: #3B4455;\n",
              "      fill: #D2E3FC;\n",
              "    }\n",
              "\n",
              "    [theme=dark] .colab-df-convert:hover {\n",
              "      background-color: #434B5C;\n",
              "      box-shadow: 0px 1px 3px 1px rgba(0, 0, 0, 0.15);\n",
              "      filter: drop-shadow(0px 1px 2px rgba(0, 0, 0, 0.3));\n",
              "      fill: #FFFFFF;\n",
              "    }\n",
              "  </style>\n",
              "\n",
              "      <script>\n",
              "        const buttonEl =\n",
              "          document.querySelector('#df-925dd5b2-de62-407d-84d4-5cdcdd45476b button.colab-df-convert');\n",
              "        buttonEl.style.display =\n",
              "          google.colab.kernel.accessAllowed ? 'block' : 'none';\n",
              "\n",
              "        async function convertToInteractive(key) {\n",
              "          const element = document.querySelector('#df-925dd5b2-de62-407d-84d4-5cdcdd45476b');\n",
              "          const dataTable =\n",
              "            await google.colab.kernel.invokeFunction('convertToInteractive',\n",
              "                                                     [key], {});\n",
              "          if (!dataTable) return;\n",
              "\n",
              "          const docLinkHtml = 'Like what you see? Visit the ' +\n",
              "            '<a target=\"_blank\" href=https://colab.research.google.com/notebooks/data_table.ipynb>data table notebook</a>'\n",
              "            + ' to learn more about interactive tables.';\n",
              "          element.innerHTML = '';\n",
              "          dataTable['output_type'] = 'display_data';\n",
              "          await google.colab.output.renderOutput(dataTable, element);\n",
              "          const docLink = document.createElement('div');\n",
              "          docLink.innerHTML = docLinkHtml;\n",
              "          element.appendChild(docLink);\n",
              "        }\n",
              "      </script>\n",
              "    </div>\n",
              "  </div>\n",
              "  "
            ]
          },
          "metadata": {},
          "execution_count": 6
        }
      ],
      "source": [
        "train_df.tail()"
      ]
    },
    {
      "cell_type": "markdown",
      "metadata": {
        "_cell_guid": "8bfe9610-689a-29b2-26ee-f67cd4719079",
        "_uuid": "699c52b7a8d076ccd5ea5bc5d606313c558a6e8e",
        "id": "JBHK_oMDnGkA"
      },
      "source": [
        "**Tính năng nào chứa giá trị trống, rỗng hoặc rỗng?**\n",
        "\n",
        "Những điều này sẽ yêu cầu sửa chữa.\n",
        "\n",
        "- Cabin > Age > Embarked features chứa một số giá trị null theo thứ tự đó cho tập dữ liệu huấn luyện.\n",
        "- Cabin > Tuổi không đầy đủ trong trường hợp tập dữ liệu thử nghiệm.\n",
        "\n",
        "**Các loại dữ liệu cho các tính năng khác nhau là gì?**\n",
        "\n",
        "Giúp chúng tôi trong quá trình chuyển đổi mục tiêu.\n",
        "\n",
        "- Bảy tính năng là số nguyên hoặc số thực. Sáu trong trường hợp tập dữ liệu thử nghiệm.\n",
        "- Năm đặc điểm là chuỗi (đối tượng)."
      ]
    },
    {
      "cell_type": "code",
      "execution_count": null,
      "metadata": {
        "_cell_guid": "9b805f69-665a-2b2e-f31d-50d87d52865d",
        "_uuid": "817e1cf0ca1cb96c7a28bb81192d92261a8bf427",
        "collapsed": true,
        "jupyter": {
          "outputs_hidden": true
        },
        "colab": {
          "base_uri": "https://localhost:8080/"
        },
        "id": "XWY485JDnGkA",
        "outputId": "64221f3c-ecaf-4666-ede9-1b6bb78de32a"
      },
      "outputs": [
        {
          "output_type": "stream",
          "name": "stdout",
          "text": [
            "<class 'pandas.core.frame.DataFrame'>\n",
            "RangeIndex: 891 entries, 0 to 890\n",
            "Data columns (total 12 columns):\n",
            " #   Column       Non-Null Count  Dtype  \n",
            "---  ------       --------------  -----  \n",
            " 0   PassengerId  891 non-null    int64  \n",
            " 1   Survived     891 non-null    int64  \n",
            " 2   Pclass       891 non-null    int64  \n",
            " 3   Name         891 non-null    object \n",
            " 4   Sex          891 non-null    object \n",
            " 5   Age          714 non-null    float64\n",
            " 6   SibSp        891 non-null    int64  \n",
            " 7   Parch        891 non-null    int64  \n",
            " 8   Ticket       891 non-null    object \n",
            " 9   Fare         891 non-null    float64\n",
            " 10  Cabin        204 non-null    object \n",
            " 11  Embarked     889 non-null    object \n",
            "dtypes: float64(2), int64(5), object(5)\n",
            "memory usage: 83.7+ KB\n",
            "________________________________________\n",
            "<class 'pandas.core.frame.DataFrame'>\n",
            "RangeIndex: 418 entries, 0 to 417\n",
            "Data columns (total 11 columns):\n",
            " #   Column       Non-Null Count  Dtype  \n",
            "---  ------       --------------  -----  \n",
            " 0   PassengerId  418 non-null    int64  \n",
            " 1   Pclass       418 non-null    int64  \n",
            " 2   Name         418 non-null    object \n",
            " 3   Sex          418 non-null    object \n",
            " 4   Age          332 non-null    float64\n",
            " 5   SibSp        418 non-null    int64  \n",
            " 6   Parch        418 non-null    int64  \n",
            " 7   Ticket       418 non-null    object \n",
            " 8   Fare         417 non-null    float64\n",
            " 9   Cabin        91 non-null     object \n",
            " 10  Embarked     418 non-null    object \n",
            "dtypes: float64(2), int64(4), object(5)\n",
            "memory usage: 36.0+ KB\n"
          ]
        }
      ],
      "source": [
        "train_df.info()\n",
        "print('_'*40)\n",
        "test_df.info()"
      ]
    },
    {
      "cell_type": "markdown",
      "metadata": {
        "_cell_guid": "859102e1-10df-d451-2649-2d4571e5f082",
        "_uuid": "2b7c205bf25979e3242762bfebb0e3eb2fd63010",
        "id": "ttgllFPMnGkB"
      },
      "source": [
        "**Sự phân bố của các giá trị tính năng số trên các mẫu là gì?**\n",
        "\n",
        "Điều này giúp chúng tôi xác định, trong số những hiểu biết ban đầu khác, tập dữ liệu đào tạo của miền vấn đề thực tế có tính đại diện như thế nào.\n",
        "\n",
        "- Tổng số mẫu là 891 hoặc 40% số lượng hành khách thực tế trên tàu Titanic (2.224).\n",
        "- Sống sót là một tính năng phân loại có giá trị 0 hoặc 1.\n",
        "- Khoảng 38% mẫu sống sót đại diện cho tỷ lệ sống sót thực tế là 32%.\n",
        "- Phần lớn hành khách (>75%) không đi cùng cha mẹ, con cái.\n",
        "- Gần 30% hành khách có anh chị em và/hoặc vợ/chồng trên máy bay.\n",
        "- Giá vé thay đổi đáng kể với ít hành khách (<1%) trả cao tới $512.\n",
        "- Ít hành khách là người cao tuổi (<1%) trong độ tuổi 65-80."
      ]
    },
    {
      "cell_type": "code",
      "execution_count": null,
      "metadata": {
        "_cell_guid": "58e387fe-86e4-e068-8307-70e37fe3f37b",
        "_uuid": "380251a1c1e0b89147d321968dc739b6cc0eecf2",
        "collapsed": true,
        "jupyter": {
          "outputs_hidden": true
        },
        "colab": {
          "base_uri": "https://localhost:8080/",
          "height": 300
        },
        "id": "9QE7dvF0nGkB",
        "outputId": "73c8cffa-be5c-41aa-c929-db6e5dd296f9"
      },
      "outputs": [
        {
          "output_type": "execute_result",
          "data": {
            "text/plain": [
              "       PassengerId    Survived      Pclass         Age       SibSp  \\\n",
              "count   891.000000  891.000000  891.000000  714.000000  891.000000   \n",
              "mean    446.000000    0.383838    2.308642   29.699118    0.523008   \n",
              "std     257.353842    0.486592    0.836071   14.526497    1.102743   \n",
              "min       1.000000    0.000000    1.000000    0.420000    0.000000   \n",
              "25%     223.500000    0.000000    2.000000   20.125000    0.000000   \n",
              "50%     446.000000    0.000000    3.000000   28.000000    0.000000   \n",
              "75%     668.500000    1.000000    3.000000   38.000000    1.000000   \n",
              "max     891.000000    1.000000    3.000000   80.000000    8.000000   \n",
              "\n",
              "            Parch        Fare  \n",
              "count  891.000000  891.000000  \n",
              "mean     0.381594   32.204208  \n",
              "std      0.806057   49.693429  \n",
              "min      0.000000    0.000000  \n",
              "25%      0.000000    7.910400  \n",
              "50%      0.000000   14.454200  \n",
              "75%      0.000000   31.000000  \n",
              "max      6.000000  512.329200  "
            ],
            "text/html": [
              "\n",
              "  <div id=\"df-889dc8c0-eb19-459d-a7ba-5f46186c682d\">\n",
              "    <div class=\"colab-df-container\">\n",
              "      <div>\n",
              "<style scoped>\n",
              "    .dataframe tbody tr th:only-of-type {\n",
              "        vertical-align: middle;\n",
              "    }\n",
              "\n",
              "    .dataframe tbody tr th {\n",
              "        vertical-align: top;\n",
              "    }\n",
              "\n",
              "    .dataframe thead th {\n",
              "        text-align: right;\n",
              "    }\n",
              "</style>\n",
              "<table border=\"1\" class=\"dataframe\">\n",
              "  <thead>\n",
              "    <tr style=\"text-align: right;\">\n",
              "      <th></th>\n",
              "      <th>PassengerId</th>\n",
              "      <th>Survived</th>\n",
              "      <th>Pclass</th>\n",
              "      <th>Age</th>\n",
              "      <th>SibSp</th>\n",
              "      <th>Parch</th>\n",
              "      <th>Fare</th>\n",
              "    </tr>\n",
              "  </thead>\n",
              "  <tbody>\n",
              "    <tr>\n",
              "      <th>count</th>\n",
              "      <td>891.000000</td>\n",
              "      <td>891.000000</td>\n",
              "      <td>891.000000</td>\n",
              "      <td>714.000000</td>\n",
              "      <td>891.000000</td>\n",
              "      <td>891.000000</td>\n",
              "      <td>891.000000</td>\n",
              "    </tr>\n",
              "    <tr>\n",
              "      <th>mean</th>\n",
              "      <td>446.000000</td>\n",
              "      <td>0.383838</td>\n",
              "      <td>2.308642</td>\n",
              "      <td>29.699118</td>\n",
              "      <td>0.523008</td>\n",
              "      <td>0.381594</td>\n",
              "      <td>32.204208</td>\n",
              "    </tr>\n",
              "    <tr>\n",
              "      <th>std</th>\n",
              "      <td>257.353842</td>\n",
              "      <td>0.486592</td>\n",
              "      <td>0.836071</td>\n",
              "      <td>14.526497</td>\n",
              "      <td>1.102743</td>\n",
              "      <td>0.806057</td>\n",
              "      <td>49.693429</td>\n",
              "    </tr>\n",
              "    <tr>\n",
              "      <th>min</th>\n",
              "      <td>1.000000</td>\n",
              "      <td>0.000000</td>\n",
              "      <td>1.000000</td>\n",
              "      <td>0.420000</td>\n",
              "      <td>0.000000</td>\n",
              "      <td>0.000000</td>\n",
              "      <td>0.000000</td>\n",
              "    </tr>\n",
              "    <tr>\n",
              "      <th>25%</th>\n",
              "      <td>223.500000</td>\n",
              "      <td>0.000000</td>\n",
              "      <td>2.000000</td>\n",
              "      <td>20.125000</td>\n",
              "      <td>0.000000</td>\n",
              "      <td>0.000000</td>\n",
              "      <td>7.910400</td>\n",
              "    </tr>\n",
              "    <tr>\n",
              "      <th>50%</th>\n",
              "      <td>446.000000</td>\n",
              "      <td>0.000000</td>\n",
              "      <td>3.000000</td>\n",
              "      <td>28.000000</td>\n",
              "      <td>0.000000</td>\n",
              "      <td>0.000000</td>\n",
              "      <td>14.454200</td>\n",
              "    </tr>\n",
              "    <tr>\n",
              "      <th>75%</th>\n",
              "      <td>668.500000</td>\n",
              "      <td>1.000000</td>\n",
              "      <td>3.000000</td>\n",
              "      <td>38.000000</td>\n",
              "      <td>1.000000</td>\n",
              "      <td>0.000000</td>\n",
              "      <td>31.000000</td>\n",
              "    </tr>\n",
              "    <tr>\n",
              "      <th>max</th>\n",
              "      <td>891.000000</td>\n",
              "      <td>1.000000</td>\n",
              "      <td>3.000000</td>\n",
              "      <td>80.000000</td>\n",
              "      <td>8.000000</td>\n",
              "      <td>6.000000</td>\n",
              "      <td>512.329200</td>\n",
              "    </tr>\n",
              "  </tbody>\n",
              "</table>\n",
              "</div>\n",
              "      <button class=\"colab-df-convert\" onclick=\"convertToInteractive('df-889dc8c0-eb19-459d-a7ba-5f46186c682d')\"\n",
              "              title=\"Convert this dataframe to an interactive table.\"\n",
              "              style=\"display:none;\">\n",
              "        \n",
              "  <svg xmlns=\"http://www.w3.org/2000/svg\" height=\"24px\"viewBox=\"0 0 24 24\"\n",
              "       width=\"24px\">\n",
              "    <path d=\"M0 0h24v24H0V0z\" fill=\"none\"/>\n",
              "    <path d=\"M18.56 5.44l.94 2.06.94-2.06 2.06-.94-2.06-.94-.94-2.06-.94 2.06-2.06.94zm-11 1L8.5 8.5l.94-2.06 2.06-.94-2.06-.94L8.5 2.5l-.94 2.06-2.06.94zm10 10l.94 2.06.94-2.06 2.06-.94-2.06-.94-.94-2.06-.94 2.06-2.06.94z\"/><path d=\"M17.41 7.96l-1.37-1.37c-.4-.4-.92-.59-1.43-.59-.52 0-1.04.2-1.43.59L10.3 9.45l-7.72 7.72c-.78.78-.78 2.05 0 2.83L4 21.41c.39.39.9.59 1.41.59.51 0 1.02-.2 1.41-.59l7.78-7.78 2.81-2.81c.8-.78.8-2.07 0-2.86zM5.41 20L4 18.59l7.72-7.72 1.47 1.35L5.41 20z\"/>\n",
              "  </svg>\n",
              "      </button>\n",
              "      \n",
              "  <style>\n",
              "    .colab-df-container {\n",
              "      display:flex;\n",
              "      flex-wrap:wrap;\n",
              "      gap: 12px;\n",
              "    }\n",
              "\n",
              "    .colab-df-convert {\n",
              "      background-color: #E8F0FE;\n",
              "      border: none;\n",
              "      border-radius: 50%;\n",
              "      cursor: pointer;\n",
              "      display: none;\n",
              "      fill: #1967D2;\n",
              "      height: 32px;\n",
              "      padding: 0 0 0 0;\n",
              "      width: 32px;\n",
              "    }\n",
              "\n",
              "    .colab-df-convert:hover {\n",
              "      background-color: #E2EBFA;\n",
              "      box-shadow: 0px 1px 2px rgba(60, 64, 67, 0.3), 0px 1px 3px 1px rgba(60, 64, 67, 0.15);\n",
              "      fill: #174EA6;\n",
              "    }\n",
              "\n",
              "    [theme=dark] .colab-df-convert {\n",
              "      background-color: #3B4455;\n",
              "      fill: #D2E3FC;\n",
              "    }\n",
              "\n",
              "    [theme=dark] .colab-df-convert:hover {\n",
              "      background-color: #434B5C;\n",
              "      box-shadow: 0px 1px 3px 1px rgba(0, 0, 0, 0.15);\n",
              "      filter: drop-shadow(0px 1px 2px rgba(0, 0, 0, 0.3));\n",
              "      fill: #FFFFFF;\n",
              "    }\n",
              "  </style>\n",
              "\n",
              "      <script>\n",
              "        const buttonEl =\n",
              "          document.querySelector('#df-889dc8c0-eb19-459d-a7ba-5f46186c682d button.colab-df-convert');\n",
              "        buttonEl.style.display =\n",
              "          google.colab.kernel.accessAllowed ? 'block' : 'none';\n",
              "\n",
              "        async function convertToInteractive(key) {\n",
              "          const element = document.querySelector('#df-889dc8c0-eb19-459d-a7ba-5f46186c682d');\n",
              "          const dataTable =\n",
              "            await google.colab.kernel.invokeFunction('convertToInteractive',\n",
              "                                                     [key], {});\n",
              "          if (!dataTable) return;\n",
              "\n",
              "          const docLinkHtml = 'Like what you see? Visit the ' +\n",
              "            '<a target=\"_blank\" href=https://colab.research.google.com/notebooks/data_table.ipynb>data table notebook</a>'\n",
              "            + ' to learn more about interactive tables.';\n",
              "          element.innerHTML = '';\n",
              "          dataTable['output_type'] = 'display_data';\n",
              "          await google.colab.output.renderOutput(dataTable, element);\n",
              "          const docLink = document.createElement('div');\n",
              "          docLink.innerHTML = docLinkHtml;\n",
              "          element.appendChild(docLink);\n",
              "        }\n",
              "      </script>\n",
              "    </div>\n",
              "  </div>\n",
              "  "
            ]
          },
          "metadata": {},
          "execution_count": 8
        }
      ],
      "source": [
        "train_df.describe()\n",
        "# Review survived rate using `percentiles=[.61, .62]` knowing our problem description mentions 38% survival rate.\n",
        "# Review Parch distribution using `percentiles=[.75, .8]`\n",
        "# SibSp distribution `[.68, .69]`\n",
        "# Age and Fare `[.1, .2, .3, .4, .5, .6, .7, .8, .9, .99]`"
      ]
    },
    {
      "cell_type": "markdown",
      "metadata": {
        "_cell_guid": "5462bc60-258c-76bf-0a73-9adc00a2f493",
        "_uuid": "33bbd1709db622978c0c5879e7c5532d4734ade0",
        "id": "1kzQs7_CnGkB"
      },
      "source": [
        "**Sự phân bố của các tính năng phân loại là gì?**\n",
        "\n",
        "- Tên là duy nhất trên tập dữ liệu (count=unique=891)\n",
        "- Biến giới tính ở hai giá trị có thể với 65% là nam (top=nam, freq=577/count=891).\n",
        "- Các giá trị cabin có một số giá trị trùng lặp trên các mẫu. Ngoài ra, một số hành khách đã chia sẻ một cabin.\n",
        "- Embarked nhận ba giá trị có thể. Cổng S được hầu hết hành khách sử dụng (top=S)\n",
        "- Tính năng vé có tỷ lệ giá trị trùng lặp cao (22%) (duy nhất=681)."
      ]
    },
    {
      "cell_type": "code",
      "execution_count": null,
      "metadata": {
        "_cell_guid": "8066b378-1964-92e8-1352-dcac934c6af3",
        "_uuid": "daa8663f577f9c1a478496cf14fe363570457191",
        "collapsed": true,
        "jupyter": {
          "outputs_hidden": true
        },
        "colab": {
          "base_uri": "https://localhost:8080/",
          "height": 175
        },
        "id": "N3CV-v50nGkB",
        "outputId": "89c3018b-73d8-4a99-d4a5-65d2755aed76"
      },
      "outputs": [
        {
          "output_type": "execute_result",
          "data": {
            "text/plain": [
              "                           Name   Sex  Ticket    Cabin Embarked\n",
              "count                       891   891     891      204      889\n",
              "unique                      891     2     681      147        3\n",
              "top     Braund, Mr. Owen Harris  male  347082  B96 B98        S\n",
              "freq                          1   577       7        4      644"
            ],
            "text/html": [
              "\n",
              "  <div id=\"df-f1f83f48-53c1-4072-a25c-2f377240ed0b\">\n",
              "    <div class=\"colab-df-container\">\n",
              "      <div>\n",
              "<style scoped>\n",
              "    .dataframe tbody tr th:only-of-type {\n",
              "        vertical-align: middle;\n",
              "    }\n",
              "\n",
              "    .dataframe tbody tr th {\n",
              "        vertical-align: top;\n",
              "    }\n",
              "\n",
              "    .dataframe thead th {\n",
              "        text-align: right;\n",
              "    }\n",
              "</style>\n",
              "<table border=\"1\" class=\"dataframe\">\n",
              "  <thead>\n",
              "    <tr style=\"text-align: right;\">\n",
              "      <th></th>\n",
              "      <th>Name</th>\n",
              "      <th>Sex</th>\n",
              "      <th>Ticket</th>\n",
              "      <th>Cabin</th>\n",
              "      <th>Embarked</th>\n",
              "    </tr>\n",
              "  </thead>\n",
              "  <tbody>\n",
              "    <tr>\n",
              "      <th>count</th>\n",
              "      <td>891</td>\n",
              "      <td>891</td>\n",
              "      <td>891</td>\n",
              "      <td>204</td>\n",
              "      <td>889</td>\n",
              "    </tr>\n",
              "    <tr>\n",
              "      <th>unique</th>\n",
              "      <td>891</td>\n",
              "      <td>2</td>\n",
              "      <td>681</td>\n",
              "      <td>147</td>\n",
              "      <td>3</td>\n",
              "    </tr>\n",
              "    <tr>\n",
              "      <th>top</th>\n",
              "      <td>Braund, Mr. Owen Harris</td>\n",
              "      <td>male</td>\n",
              "      <td>347082</td>\n",
              "      <td>B96 B98</td>\n",
              "      <td>S</td>\n",
              "    </tr>\n",
              "    <tr>\n",
              "      <th>freq</th>\n",
              "      <td>1</td>\n",
              "      <td>577</td>\n",
              "      <td>7</td>\n",
              "      <td>4</td>\n",
              "      <td>644</td>\n",
              "    </tr>\n",
              "  </tbody>\n",
              "</table>\n",
              "</div>\n",
              "      <button class=\"colab-df-convert\" onclick=\"convertToInteractive('df-f1f83f48-53c1-4072-a25c-2f377240ed0b')\"\n",
              "              title=\"Convert this dataframe to an interactive table.\"\n",
              "              style=\"display:none;\">\n",
              "        \n",
              "  <svg xmlns=\"http://www.w3.org/2000/svg\" height=\"24px\"viewBox=\"0 0 24 24\"\n",
              "       width=\"24px\">\n",
              "    <path d=\"M0 0h24v24H0V0z\" fill=\"none\"/>\n",
              "    <path d=\"M18.56 5.44l.94 2.06.94-2.06 2.06-.94-2.06-.94-.94-2.06-.94 2.06-2.06.94zm-11 1L8.5 8.5l.94-2.06 2.06-.94-2.06-.94L8.5 2.5l-.94 2.06-2.06.94zm10 10l.94 2.06.94-2.06 2.06-.94-2.06-.94-.94-2.06-.94 2.06-2.06.94z\"/><path d=\"M17.41 7.96l-1.37-1.37c-.4-.4-.92-.59-1.43-.59-.52 0-1.04.2-1.43.59L10.3 9.45l-7.72 7.72c-.78.78-.78 2.05 0 2.83L4 21.41c.39.39.9.59 1.41.59.51 0 1.02-.2 1.41-.59l7.78-7.78 2.81-2.81c.8-.78.8-2.07 0-2.86zM5.41 20L4 18.59l7.72-7.72 1.47 1.35L5.41 20z\"/>\n",
              "  </svg>\n",
              "      </button>\n",
              "      \n",
              "  <style>\n",
              "    .colab-df-container {\n",
              "      display:flex;\n",
              "      flex-wrap:wrap;\n",
              "      gap: 12px;\n",
              "    }\n",
              "\n",
              "    .colab-df-convert {\n",
              "      background-color: #E8F0FE;\n",
              "      border: none;\n",
              "      border-radius: 50%;\n",
              "      cursor: pointer;\n",
              "      display: none;\n",
              "      fill: #1967D2;\n",
              "      height: 32px;\n",
              "      padding: 0 0 0 0;\n",
              "      width: 32px;\n",
              "    }\n",
              "\n",
              "    .colab-df-convert:hover {\n",
              "      background-color: #E2EBFA;\n",
              "      box-shadow: 0px 1px 2px rgba(60, 64, 67, 0.3), 0px 1px 3px 1px rgba(60, 64, 67, 0.15);\n",
              "      fill: #174EA6;\n",
              "    }\n",
              "\n",
              "    [theme=dark] .colab-df-convert {\n",
              "      background-color: #3B4455;\n",
              "      fill: #D2E3FC;\n",
              "    }\n",
              "\n",
              "    [theme=dark] .colab-df-convert:hover {\n",
              "      background-color: #434B5C;\n",
              "      box-shadow: 0px 1px 3px 1px rgba(0, 0, 0, 0.15);\n",
              "      filter: drop-shadow(0px 1px 2px rgba(0, 0, 0, 0.3));\n",
              "      fill: #FFFFFF;\n",
              "    }\n",
              "  </style>\n",
              "\n",
              "      <script>\n",
              "        const buttonEl =\n",
              "          document.querySelector('#df-f1f83f48-53c1-4072-a25c-2f377240ed0b button.colab-df-convert');\n",
              "        buttonEl.style.display =\n",
              "          google.colab.kernel.accessAllowed ? 'block' : 'none';\n",
              "\n",
              "        async function convertToInteractive(key) {\n",
              "          const element = document.querySelector('#df-f1f83f48-53c1-4072-a25c-2f377240ed0b');\n",
              "          const dataTable =\n",
              "            await google.colab.kernel.invokeFunction('convertToInteractive',\n",
              "                                                     [key], {});\n",
              "          if (!dataTable) return;\n",
              "\n",
              "          const docLinkHtml = 'Like what you see? Visit the ' +\n",
              "            '<a target=\"_blank\" href=https://colab.research.google.com/notebooks/data_table.ipynb>data table notebook</a>'\n",
              "            + ' to learn more about interactive tables.';\n",
              "          element.innerHTML = '';\n",
              "          dataTable['output_type'] = 'display_data';\n",
              "          await google.colab.output.renderOutput(dataTable, element);\n",
              "          const docLink = document.createElement('div');\n",
              "          docLink.innerHTML = docLinkHtml;\n",
              "          element.appendChild(docLink);\n",
              "        }\n",
              "      </script>\n",
              "    </div>\n",
              "  </div>\n",
              "  "
            ]
          },
          "metadata": {},
          "execution_count": 9
        }
      ],
      "source": [
        "train_df.describe(include=['O'])"
      ]
    },
    {
      "cell_type": "markdown",
      "metadata": {
        "_cell_guid": "2cb22b88-937d-6f14-8b06-ea3361357889",
        "_uuid": "c1d35ebd89a0cf7d7b409470bbb9ecaffd2a9680",
        "id": "LC11suQonGkC"
      },
      "source": [
        "### Giả định dựa trên phân tích dữ liệu\n",
        "\n",
        "Chúng tôi đi đến các giả định sau đây dựa trên phân tích dữ liệu được thực hiện cho đến nay. Chúng tôi có thể xác thực thêm các giả định này trước khi thực hiện các hành động thích hợp.\n",
        "\n",
        "**Tương quan.**\n",
        "\n",
        "Chúng tôi muốn biết mức độ tương quan của mỗi tính năng với Sự sống còn. Chúng tôi muốn thực hiện điều này sớm trong dự án của mình và khớp các mối tương quan nhanh này với các mối tương quan được mô hình hóa sau này trong dự án.\n",
        "\n",
        "**Đang hoàn thành.**\n",
        "\n",
        "1. Chúng tôi có thể muốn hoàn thành tính năng Tuổi vì nó chắc chắn có liên quan đến sự sống còn.\n",
        "2. Chúng tôi có thể muốn hoàn thành tính năng Bắt đầu vì nó cũng có thể tương quan với khả năng sinh tồn hoặc một tính năng quan trọng khác.\n",
        "\n",
        "**Đính chính.**\n",
        "\n",
        "1. Tính năng vé có thể bị loại bỏ khỏi phân tích của chúng tôi vì nó chứa tỷ lệ trùng lặp cao (22%) và có thể không có mối tương quan giữa Vé và khả năng sống sót.\n",
        "2. Tính năng cabin có thể bị loại bỏ vì tính năng này chưa hoàn chỉnh hoặc chứa nhiều giá trị null cả trong tập dữ liệu huấn luyện và kiểm tra.\n",
        "3. PasbahId có thể bị xóa khỏi tập dữ liệu huấn luyện vì nó không góp phần vào sự tồn tại.\n",
        "4. Tên tính năng tương đối không chuẩn, có thể không đóng góp trực tiếp vào việc sinh tồn nên có thể bị drop.\n",
        "\n",
        "**Đang tạo.**\n",
        "\n",
        "1. Chúng tôi có thể muốn tạo một tính năng mới gọi là Gia đình dựa trên Parch và SibSp để có được tổng số thành viên gia đình trên tàu.\n",
        "2. Chúng tôi có thể muốn thiết kế tính năng Tên để trích xuất Tiêu đề dưới dạng một tính năng mới.\n",
        "3. Chúng tôi có thể muốn tạo tính năng mới cho các Nhóm tuổi. Điều này biến một tính năng số liên tục thành một tính năng phân loại thứ tự.\n",
        "4. Chúng tôi cũng có thể muốn tạo một tính năng Phạm vi giá vé nếu nó giúp phân tích của chúng tôi.\n",
        "\n",
        "**Phân loại.**\n",
        "\n",
        "Chúng tôi cũng có thể thêm vào các giả định của mình dựa trên mô tả vấn đề đã lưu ý trước đó.\n",
        "\n",
        "1. Phụ nữ (Giới tính=nữ) có nhiều khả năng sống sót hơn.\n",
        "2. Trẻ em (Tuổi <?) có nhiều khả năng sống sót hơn.\n",
        "3. Hành khách hạng trên (Pclass=1) có nhiều khả năng sống sót hơn."
      ]
    },
    {
      "cell_type": "markdown",
      "metadata": {
        "_cell_guid": "6db63a30-1d86-266e-2799-dded03c45816",
        "_uuid": "946ee6ca01a3e4eecfa373ca00f88042b683e2ad",
        "id": "8MSoNVZInGkC"
      },
      "source": [
        "## Phân tích bằng cách xoay các tính năng\n",
        "\n",
        "Để xác nhận một số quan sát và giả định của chúng tôi, chúng tôi có thể nhanh chóng phân tích mối tương quan giữa các tính năng của mình bằng cách xoay các tính năng với nhau. Chúng tôi chỉ có thể làm như vậy ở giai đoạn này cho các tính năng không có bất kỳ giá trị trống nào. Cũng hợp lý khi chỉ làm như vậy đối với các tính năng thuộc loại phân loại (Giới tính), thứ tự (Pclass) hoặc rời rạc (SibSp, Parch).\n",
        "\n",
        "- **Pclass** Chúng tôi quan sát thấy mối tương quan đáng kể (>0,5) giữa Pclass=1 và Survived (phân loại #3). Chúng tôi quyết định đưa tính năng này vào mô hình của mình.\n",
        "- **Giới tính** Chúng tôi xác nhận quan sát trong quá trình xác định vấn đề rằng Giới tính=nữ có tỷ lệ sống sót rất cao ở mức 74% (phân loại #1).\n",
        "- **SibSp và Parch** Các tính năng này không có mối tương quan với các giá trị nhất định. Tốt nhất có thể lấy một tính năng hoặc một tập hợp các tính năng từ các tính năng riêng lẻ này (tạo số 1)."
      ]
    },
    {
      "cell_type": "code",
      "execution_count": null,
      "metadata": {
        "_cell_guid": "0964832a-a4be-2d6f-a89e-63526389cee9",
        "_uuid": "97a845528ce9f76e85055a4bb9e97c27091f6aa1",
        "collapsed": true,
        "jupyter": {
          "outputs_hidden": true
        },
        "colab": {
          "base_uri": "https://localhost:8080/",
          "height": 143
        },
        "id": "WfNC1JzDnGkC",
        "outputId": "85a49044-a0f1-47fa-e391-0cadc062af58"
      },
      "outputs": [
        {
          "output_type": "execute_result",
          "data": {
            "text/plain": [
              "   Pclass  Survived\n",
              "0       1  0.629630\n",
              "1       2  0.472826\n",
              "2       3  0.242363"
            ],
            "text/html": [
              "\n",
              "  <div id=\"df-ccbc611c-545e-491d-bd25-ac9791d09c12\">\n",
              "    <div class=\"colab-df-container\">\n",
              "      <div>\n",
              "<style scoped>\n",
              "    .dataframe tbody tr th:only-of-type {\n",
              "        vertical-align: middle;\n",
              "    }\n",
              "\n",
              "    .dataframe tbody tr th {\n",
              "        vertical-align: top;\n",
              "    }\n",
              "\n",
              "    .dataframe thead th {\n",
              "        text-align: right;\n",
              "    }\n",
              "</style>\n",
              "<table border=\"1\" class=\"dataframe\">\n",
              "  <thead>\n",
              "    <tr style=\"text-align: right;\">\n",
              "      <th></th>\n",
              "      <th>Pclass</th>\n",
              "      <th>Survived</th>\n",
              "    </tr>\n",
              "  </thead>\n",
              "  <tbody>\n",
              "    <tr>\n",
              "      <th>0</th>\n",
              "      <td>1</td>\n",
              "      <td>0.629630</td>\n",
              "    </tr>\n",
              "    <tr>\n",
              "      <th>1</th>\n",
              "      <td>2</td>\n",
              "      <td>0.472826</td>\n",
              "    </tr>\n",
              "    <tr>\n",
              "      <th>2</th>\n",
              "      <td>3</td>\n",
              "      <td>0.242363</td>\n",
              "    </tr>\n",
              "  </tbody>\n",
              "</table>\n",
              "</div>\n",
              "      <button class=\"colab-df-convert\" onclick=\"convertToInteractive('df-ccbc611c-545e-491d-bd25-ac9791d09c12')\"\n",
              "              title=\"Convert this dataframe to an interactive table.\"\n",
              "              style=\"display:none;\">\n",
              "        \n",
              "  <svg xmlns=\"http://www.w3.org/2000/svg\" height=\"24px\"viewBox=\"0 0 24 24\"\n",
              "       width=\"24px\">\n",
              "    <path d=\"M0 0h24v24H0V0z\" fill=\"none\"/>\n",
              "    <path d=\"M18.56 5.44l.94 2.06.94-2.06 2.06-.94-2.06-.94-.94-2.06-.94 2.06-2.06.94zm-11 1L8.5 8.5l.94-2.06 2.06-.94-2.06-.94L8.5 2.5l-.94 2.06-2.06.94zm10 10l.94 2.06.94-2.06 2.06-.94-2.06-.94-.94-2.06-.94 2.06-2.06.94z\"/><path d=\"M17.41 7.96l-1.37-1.37c-.4-.4-.92-.59-1.43-.59-.52 0-1.04.2-1.43.59L10.3 9.45l-7.72 7.72c-.78.78-.78 2.05 0 2.83L4 21.41c.39.39.9.59 1.41.59.51 0 1.02-.2 1.41-.59l7.78-7.78 2.81-2.81c.8-.78.8-2.07 0-2.86zM5.41 20L4 18.59l7.72-7.72 1.47 1.35L5.41 20z\"/>\n",
              "  </svg>\n",
              "      </button>\n",
              "      \n",
              "  <style>\n",
              "    .colab-df-container {\n",
              "      display:flex;\n",
              "      flex-wrap:wrap;\n",
              "      gap: 12px;\n",
              "    }\n",
              "\n",
              "    .colab-df-convert {\n",
              "      background-color: #E8F0FE;\n",
              "      border: none;\n",
              "      border-radius: 50%;\n",
              "      cursor: pointer;\n",
              "      display: none;\n",
              "      fill: #1967D2;\n",
              "      height: 32px;\n",
              "      padding: 0 0 0 0;\n",
              "      width: 32px;\n",
              "    }\n",
              "\n",
              "    .colab-df-convert:hover {\n",
              "      background-color: #E2EBFA;\n",
              "      box-shadow: 0px 1px 2px rgba(60, 64, 67, 0.3), 0px 1px 3px 1px rgba(60, 64, 67, 0.15);\n",
              "      fill: #174EA6;\n",
              "    }\n",
              "\n",
              "    [theme=dark] .colab-df-convert {\n",
              "      background-color: #3B4455;\n",
              "      fill: #D2E3FC;\n",
              "    }\n",
              "\n",
              "    [theme=dark] .colab-df-convert:hover {\n",
              "      background-color: #434B5C;\n",
              "      box-shadow: 0px 1px 3px 1px rgba(0, 0, 0, 0.15);\n",
              "      filter: drop-shadow(0px 1px 2px rgba(0, 0, 0, 0.3));\n",
              "      fill: #FFFFFF;\n",
              "    }\n",
              "  </style>\n",
              "\n",
              "      <script>\n",
              "        const buttonEl =\n",
              "          document.querySelector('#df-ccbc611c-545e-491d-bd25-ac9791d09c12 button.colab-df-convert');\n",
              "        buttonEl.style.display =\n",
              "          google.colab.kernel.accessAllowed ? 'block' : 'none';\n",
              "\n",
              "        async function convertToInteractive(key) {\n",
              "          const element = document.querySelector('#df-ccbc611c-545e-491d-bd25-ac9791d09c12');\n",
              "          const dataTable =\n",
              "            await google.colab.kernel.invokeFunction('convertToInteractive',\n",
              "                                                     [key], {});\n",
              "          if (!dataTable) return;\n",
              "\n",
              "          const docLinkHtml = 'Like what you see? Visit the ' +\n",
              "            '<a target=\"_blank\" href=https://colab.research.google.com/notebooks/data_table.ipynb>data table notebook</a>'\n",
              "            + ' to learn more about interactive tables.';\n",
              "          element.innerHTML = '';\n",
              "          dataTable['output_type'] = 'display_data';\n",
              "          await google.colab.output.renderOutput(dataTable, element);\n",
              "          const docLink = document.createElement('div');\n",
              "          docLink.innerHTML = docLinkHtml;\n",
              "          element.appendChild(docLink);\n",
              "        }\n",
              "      </script>\n",
              "    </div>\n",
              "  </div>\n",
              "  "
            ]
          },
          "metadata": {},
          "execution_count": 10
        }
      ],
      "source": [
        "train_df[['Pclass', 'Survived']].groupby(['Pclass'], as_index=False).mean().sort_values(by='Survived', ascending=False)"
      ]
    },
    {
      "cell_type": "code",
      "execution_count": null,
      "metadata": {
        "_cell_guid": "68908ba6-bfe9-5b31-cfde-6987fc0fbe9a",
        "_uuid": "00a2f2bca094c5984e6a232c730c8b232e7e20bb",
        "collapsed": true,
        "jupyter": {
          "outputs_hidden": true
        },
        "colab": {
          "base_uri": "https://localhost:8080/",
          "height": 112
        },
        "id": "TsdrBTJGnGkC",
        "outputId": "5157805c-afb0-4970-9b1d-c2b59e692b46"
      },
      "outputs": [
        {
          "output_type": "execute_result",
          "data": {
            "text/plain": [
              "      Sex  Survived\n",
              "0  female  0.742038\n",
              "1    male  0.188908"
            ],
            "text/html": [
              "\n",
              "  <div id=\"df-9f213547-fff1-4bca-93d3-af79436e85f7\">\n",
              "    <div class=\"colab-df-container\">\n",
              "      <div>\n",
              "<style scoped>\n",
              "    .dataframe tbody tr th:only-of-type {\n",
              "        vertical-align: middle;\n",
              "    }\n",
              "\n",
              "    .dataframe tbody tr th {\n",
              "        vertical-align: top;\n",
              "    }\n",
              "\n",
              "    .dataframe thead th {\n",
              "        text-align: right;\n",
              "    }\n",
              "</style>\n",
              "<table border=\"1\" class=\"dataframe\">\n",
              "  <thead>\n",
              "    <tr style=\"text-align: right;\">\n",
              "      <th></th>\n",
              "      <th>Sex</th>\n",
              "      <th>Survived</th>\n",
              "    </tr>\n",
              "  </thead>\n",
              "  <tbody>\n",
              "    <tr>\n",
              "      <th>0</th>\n",
              "      <td>female</td>\n",
              "      <td>0.742038</td>\n",
              "    </tr>\n",
              "    <tr>\n",
              "      <th>1</th>\n",
              "      <td>male</td>\n",
              "      <td>0.188908</td>\n",
              "    </tr>\n",
              "  </tbody>\n",
              "</table>\n",
              "</div>\n",
              "      <button class=\"colab-df-convert\" onclick=\"convertToInteractive('df-9f213547-fff1-4bca-93d3-af79436e85f7')\"\n",
              "              title=\"Convert this dataframe to an interactive table.\"\n",
              "              style=\"display:none;\">\n",
              "        \n",
              "  <svg xmlns=\"http://www.w3.org/2000/svg\" height=\"24px\"viewBox=\"0 0 24 24\"\n",
              "       width=\"24px\">\n",
              "    <path d=\"M0 0h24v24H0V0z\" fill=\"none\"/>\n",
              "    <path d=\"M18.56 5.44l.94 2.06.94-2.06 2.06-.94-2.06-.94-.94-2.06-.94 2.06-2.06.94zm-11 1L8.5 8.5l.94-2.06 2.06-.94-2.06-.94L8.5 2.5l-.94 2.06-2.06.94zm10 10l.94 2.06.94-2.06 2.06-.94-2.06-.94-.94-2.06-.94 2.06-2.06.94z\"/><path d=\"M17.41 7.96l-1.37-1.37c-.4-.4-.92-.59-1.43-.59-.52 0-1.04.2-1.43.59L10.3 9.45l-7.72 7.72c-.78.78-.78 2.05 0 2.83L4 21.41c.39.39.9.59 1.41.59.51 0 1.02-.2 1.41-.59l7.78-7.78 2.81-2.81c.8-.78.8-2.07 0-2.86zM5.41 20L4 18.59l7.72-7.72 1.47 1.35L5.41 20z\"/>\n",
              "  </svg>\n",
              "      </button>\n",
              "      \n",
              "  <style>\n",
              "    .colab-df-container {\n",
              "      display:flex;\n",
              "      flex-wrap:wrap;\n",
              "      gap: 12px;\n",
              "    }\n",
              "\n",
              "    .colab-df-convert {\n",
              "      background-color: #E8F0FE;\n",
              "      border: none;\n",
              "      border-radius: 50%;\n",
              "      cursor: pointer;\n",
              "      display: none;\n",
              "      fill: #1967D2;\n",
              "      height: 32px;\n",
              "      padding: 0 0 0 0;\n",
              "      width: 32px;\n",
              "    }\n",
              "\n",
              "    .colab-df-convert:hover {\n",
              "      background-color: #E2EBFA;\n",
              "      box-shadow: 0px 1px 2px rgba(60, 64, 67, 0.3), 0px 1px 3px 1px rgba(60, 64, 67, 0.15);\n",
              "      fill: #174EA6;\n",
              "    }\n",
              "\n",
              "    [theme=dark] .colab-df-convert {\n",
              "      background-color: #3B4455;\n",
              "      fill: #D2E3FC;\n",
              "    }\n",
              "\n",
              "    [theme=dark] .colab-df-convert:hover {\n",
              "      background-color: #434B5C;\n",
              "      box-shadow: 0px 1px 3px 1px rgba(0, 0, 0, 0.15);\n",
              "      filter: drop-shadow(0px 1px 2px rgba(0, 0, 0, 0.3));\n",
              "      fill: #FFFFFF;\n",
              "    }\n",
              "  </style>\n",
              "\n",
              "      <script>\n",
              "        const buttonEl =\n",
              "          document.querySelector('#df-9f213547-fff1-4bca-93d3-af79436e85f7 button.colab-df-convert');\n",
              "        buttonEl.style.display =\n",
              "          google.colab.kernel.accessAllowed ? 'block' : 'none';\n",
              "\n",
              "        async function convertToInteractive(key) {\n",
              "          const element = document.querySelector('#df-9f213547-fff1-4bca-93d3-af79436e85f7');\n",
              "          const dataTable =\n",
              "            await google.colab.kernel.invokeFunction('convertToInteractive',\n",
              "                                                     [key], {});\n",
              "          if (!dataTable) return;\n",
              "\n",
              "          const docLinkHtml = 'Like what you see? Visit the ' +\n",
              "            '<a target=\"_blank\" href=https://colab.research.google.com/notebooks/data_table.ipynb>data table notebook</a>'\n",
              "            + ' to learn more about interactive tables.';\n",
              "          element.innerHTML = '';\n",
              "          dataTable['output_type'] = 'display_data';\n",
              "          await google.colab.output.renderOutput(dataTable, element);\n",
              "          const docLink = document.createElement('div');\n",
              "          docLink.innerHTML = docLinkHtml;\n",
              "          element.appendChild(docLink);\n",
              "        }\n",
              "      </script>\n",
              "    </div>\n",
              "  </div>\n",
              "  "
            ]
          },
          "metadata": {},
          "execution_count": 11
        }
      ],
      "source": [
        "train_df[[\"Sex\", \"Survived\"]].groupby(['Sex'], as_index=False).mean().sort_values(by='Survived', ascending=False)"
      ]
    },
    {
      "cell_type": "code",
      "execution_count": null,
      "metadata": {
        "_cell_guid": "01c06927-c5a6-342a-5aa8-2e486ec3fd7c",
        "_uuid": "a8f7a16c54417dcd86fc48aeef0c4b240d47d71b",
        "collapsed": true,
        "jupyter": {
          "outputs_hidden": true
        },
        "colab": {
          "base_uri": "https://localhost:8080/",
          "height": 269
        },
        "id": "SCSKVgI9nGkD",
        "outputId": "54217c41-5532-48c1-d434-1b5b5093d171"
      },
      "outputs": [
        {
          "output_type": "execute_result",
          "data": {
            "text/plain": [
              "   SibSp  Survived\n",
              "1      1  0.535885\n",
              "2      2  0.464286\n",
              "0      0  0.345395\n",
              "3      3  0.250000\n",
              "4      4  0.166667\n",
              "5      5  0.000000\n",
              "6      8  0.000000"
            ],
            "text/html": [
              "\n",
              "  <div id=\"df-b73783de-8ed1-4db2-8e8d-08ced6ce3329\">\n",
              "    <div class=\"colab-df-container\">\n",
              "      <div>\n",
              "<style scoped>\n",
              "    .dataframe tbody tr th:only-of-type {\n",
              "        vertical-align: middle;\n",
              "    }\n",
              "\n",
              "    .dataframe tbody tr th {\n",
              "        vertical-align: top;\n",
              "    }\n",
              "\n",
              "    .dataframe thead th {\n",
              "        text-align: right;\n",
              "    }\n",
              "</style>\n",
              "<table border=\"1\" class=\"dataframe\">\n",
              "  <thead>\n",
              "    <tr style=\"text-align: right;\">\n",
              "      <th></th>\n",
              "      <th>SibSp</th>\n",
              "      <th>Survived</th>\n",
              "    </tr>\n",
              "  </thead>\n",
              "  <tbody>\n",
              "    <tr>\n",
              "      <th>1</th>\n",
              "      <td>1</td>\n",
              "      <td>0.535885</td>\n",
              "    </tr>\n",
              "    <tr>\n",
              "      <th>2</th>\n",
              "      <td>2</td>\n",
              "      <td>0.464286</td>\n",
              "    </tr>\n",
              "    <tr>\n",
              "      <th>0</th>\n",
              "      <td>0</td>\n",
              "      <td>0.345395</td>\n",
              "    </tr>\n",
              "    <tr>\n",
              "      <th>3</th>\n",
              "      <td>3</td>\n",
              "      <td>0.250000</td>\n",
              "    </tr>\n",
              "    <tr>\n",
              "      <th>4</th>\n",
              "      <td>4</td>\n",
              "      <td>0.166667</td>\n",
              "    </tr>\n",
              "    <tr>\n",
              "      <th>5</th>\n",
              "      <td>5</td>\n",
              "      <td>0.000000</td>\n",
              "    </tr>\n",
              "    <tr>\n",
              "      <th>6</th>\n",
              "      <td>8</td>\n",
              "      <td>0.000000</td>\n",
              "    </tr>\n",
              "  </tbody>\n",
              "</table>\n",
              "</div>\n",
              "      <button class=\"colab-df-convert\" onclick=\"convertToInteractive('df-b73783de-8ed1-4db2-8e8d-08ced6ce3329')\"\n",
              "              title=\"Convert this dataframe to an interactive table.\"\n",
              "              style=\"display:none;\">\n",
              "        \n",
              "  <svg xmlns=\"http://www.w3.org/2000/svg\" height=\"24px\"viewBox=\"0 0 24 24\"\n",
              "       width=\"24px\">\n",
              "    <path d=\"M0 0h24v24H0V0z\" fill=\"none\"/>\n",
              "    <path d=\"M18.56 5.44l.94 2.06.94-2.06 2.06-.94-2.06-.94-.94-2.06-.94 2.06-2.06.94zm-11 1L8.5 8.5l.94-2.06 2.06-.94-2.06-.94L8.5 2.5l-.94 2.06-2.06.94zm10 10l.94 2.06.94-2.06 2.06-.94-2.06-.94-.94-2.06-.94 2.06-2.06.94z\"/><path d=\"M17.41 7.96l-1.37-1.37c-.4-.4-.92-.59-1.43-.59-.52 0-1.04.2-1.43.59L10.3 9.45l-7.72 7.72c-.78.78-.78 2.05 0 2.83L4 21.41c.39.39.9.59 1.41.59.51 0 1.02-.2 1.41-.59l7.78-7.78 2.81-2.81c.8-.78.8-2.07 0-2.86zM5.41 20L4 18.59l7.72-7.72 1.47 1.35L5.41 20z\"/>\n",
              "  </svg>\n",
              "      </button>\n",
              "      \n",
              "  <style>\n",
              "    .colab-df-container {\n",
              "      display:flex;\n",
              "      flex-wrap:wrap;\n",
              "      gap: 12px;\n",
              "    }\n",
              "\n",
              "    .colab-df-convert {\n",
              "      background-color: #E8F0FE;\n",
              "      border: none;\n",
              "      border-radius: 50%;\n",
              "      cursor: pointer;\n",
              "      display: none;\n",
              "      fill: #1967D2;\n",
              "      height: 32px;\n",
              "      padding: 0 0 0 0;\n",
              "      width: 32px;\n",
              "    }\n",
              "\n",
              "    .colab-df-convert:hover {\n",
              "      background-color: #E2EBFA;\n",
              "      box-shadow: 0px 1px 2px rgba(60, 64, 67, 0.3), 0px 1px 3px 1px rgba(60, 64, 67, 0.15);\n",
              "      fill: #174EA6;\n",
              "    }\n",
              "\n",
              "    [theme=dark] .colab-df-convert {\n",
              "      background-color: #3B4455;\n",
              "      fill: #D2E3FC;\n",
              "    }\n",
              "\n",
              "    [theme=dark] .colab-df-convert:hover {\n",
              "      background-color: #434B5C;\n",
              "      box-shadow: 0px 1px 3px 1px rgba(0, 0, 0, 0.15);\n",
              "      filter: drop-shadow(0px 1px 2px rgba(0, 0, 0, 0.3));\n",
              "      fill: #FFFFFF;\n",
              "    }\n",
              "  </style>\n",
              "\n",
              "      <script>\n",
              "        const buttonEl =\n",
              "          document.querySelector('#df-b73783de-8ed1-4db2-8e8d-08ced6ce3329 button.colab-df-convert');\n",
              "        buttonEl.style.display =\n",
              "          google.colab.kernel.accessAllowed ? 'block' : 'none';\n",
              "\n",
              "        async function convertToInteractive(key) {\n",
              "          const element = document.querySelector('#df-b73783de-8ed1-4db2-8e8d-08ced6ce3329');\n",
              "          const dataTable =\n",
              "            await google.colab.kernel.invokeFunction('convertToInteractive',\n",
              "                                                     [key], {});\n",
              "          if (!dataTable) return;\n",
              "\n",
              "          const docLinkHtml = 'Like what you see? Visit the ' +\n",
              "            '<a target=\"_blank\" href=https://colab.research.google.com/notebooks/data_table.ipynb>data table notebook</a>'\n",
              "            + ' to learn more about interactive tables.';\n",
              "          element.innerHTML = '';\n",
              "          dataTable['output_type'] = 'display_data';\n",
              "          await google.colab.output.renderOutput(dataTable, element);\n",
              "          const docLink = document.createElement('div');\n",
              "          docLink.innerHTML = docLinkHtml;\n",
              "          element.appendChild(docLink);\n",
              "        }\n",
              "      </script>\n",
              "    </div>\n",
              "  </div>\n",
              "  "
            ]
          },
          "metadata": {},
          "execution_count": 12
        }
      ],
      "source": [
        "train_df[[\"SibSp\", \"Survived\"]].groupby(['SibSp'], as_index=False).mean().sort_values(by='Survived', ascending=False)"
      ]
    },
    {
      "cell_type": "code",
      "execution_count": null,
      "metadata": {
        "_cell_guid": "e686f98b-a8c9-68f8-36a4-d4598638bbd5",
        "_uuid": "5d953a6779b00b7f3794757dec8744a03162c8fd",
        "collapsed": true,
        "jupyter": {
          "outputs_hidden": true
        },
        "colab": {
          "base_uri": "https://localhost:8080/",
          "height": 269
        },
        "id": "A5pgusjgnGkD",
        "outputId": "67e25601-be81-419d-819f-8041f6394627"
      },
      "outputs": [
        {
          "output_type": "execute_result",
          "data": {
            "text/plain": [
              "   Parch  Survived\n",
              "3      3  0.600000\n",
              "1      1  0.550847\n",
              "2      2  0.500000\n",
              "0      0  0.343658\n",
              "5      5  0.200000\n",
              "4      4  0.000000\n",
              "6      6  0.000000"
            ],
            "text/html": [
              "\n",
              "  <div id=\"df-b1c51f4d-b416-423d-8902-759033874e0b\">\n",
              "    <div class=\"colab-df-container\">\n",
              "      <div>\n",
              "<style scoped>\n",
              "    .dataframe tbody tr th:only-of-type {\n",
              "        vertical-align: middle;\n",
              "    }\n",
              "\n",
              "    .dataframe tbody tr th {\n",
              "        vertical-align: top;\n",
              "    }\n",
              "\n",
              "    .dataframe thead th {\n",
              "        text-align: right;\n",
              "    }\n",
              "</style>\n",
              "<table border=\"1\" class=\"dataframe\">\n",
              "  <thead>\n",
              "    <tr style=\"text-align: right;\">\n",
              "      <th></th>\n",
              "      <th>Parch</th>\n",
              "      <th>Survived</th>\n",
              "    </tr>\n",
              "  </thead>\n",
              "  <tbody>\n",
              "    <tr>\n",
              "      <th>3</th>\n",
              "      <td>3</td>\n",
              "      <td>0.600000</td>\n",
              "    </tr>\n",
              "    <tr>\n",
              "      <th>1</th>\n",
              "      <td>1</td>\n",
              "      <td>0.550847</td>\n",
              "    </tr>\n",
              "    <tr>\n",
              "      <th>2</th>\n",
              "      <td>2</td>\n",
              "      <td>0.500000</td>\n",
              "    </tr>\n",
              "    <tr>\n",
              "      <th>0</th>\n",
              "      <td>0</td>\n",
              "      <td>0.343658</td>\n",
              "    </tr>\n",
              "    <tr>\n",
              "      <th>5</th>\n",
              "      <td>5</td>\n",
              "      <td>0.200000</td>\n",
              "    </tr>\n",
              "    <tr>\n",
              "      <th>4</th>\n",
              "      <td>4</td>\n",
              "      <td>0.000000</td>\n",
              "    </tr>\n",
              "    <tr>\n",
              "      <th>6</th>\n",
              "      <td>6</td>\n",
              "      <td>0.000000</td>\n",
              "    </tr>\n",
              "  </tbody>\n",
              "</table>\n",
              "</div>\n",
              "      <button class=\"colab-df-convert\" onclick=\"convertToInteractive('df-b1c51f4d-b416-423d-8902-759033874e0b')\"\n",
              "              title=\"Convert this dataframe to an interactive table.\"\n",
              "              style=\"display:none;\">\n",
              "        \n",
              "  <svg xmlns=\"http://www.w3.org/2000/svg\" height=\"24px\"viewBox=\"0 0 24 24\"\n",
              "       width=\"24px\">\n",
              "    <path d=\"M0 0h24v24H0V0z\" fill=\"none\"/>\n",
              "    <path d=\"M18.56 5.44l.94 2.06.94-2.06 2.06-.94-2.06-.94-.94-2.06-.94 2.06-2.06.94zm-11 1L8.5 8.5l.94-2.06 2.06-.94-2.06-.94L8.5 2.5l-.94 2.06-2.06.94zm10 10l.94 2.06.94-2.06 2.06-.94-2.06-.94-.94-2.06-.94 2.06-2.06.94z\"/><path d=\"M17.41 7.96l-1.37-1.37c-.4-.4-.92-.59-1.43-.59-.52 0-1.04.2-1.43.59L10.3 9.45l-7.72 7.72c-.78.78-.78 2.05 0 2.83L4 21.41c.39.39.9.59 1.41.59.51 0 1.02-.2 1.41-.59l7.78-7.78 2.81-2.81c.8-.78.8-2.07 0-2.86zM5.41 20L4 18.59l7.72-7.72 1.47 1.35L5.41 20z\"/>\n",
              "  </svg>\n",
              "      </button>\n",
              "      \n",
              "  <style>\n",
              "    .colab-df-container {\n",
              "      display:flex;\n",
              "      flex-wrap:wrap;\n",
              "      gap: 12px;\n",
              "    }\n",
              "\n",
              "    .colab-df-convert {\n",
              "      background-color: #E8F0FE;\n",
              "      border: none;\n",
              "      border-radius: 50%;\n",
              "      cursor: pointer;\n",
              "      display: none;\n",
              "      fill: #1967D2;\n",
              "      height: 32px;\n",
              "      padding: 0 0 0 0;\n",
              "      width: 32px;\n",
              "    }\n",
              "\n",
              "    .colab-df-convert:hover {\n",
              "      background-color: #E2EBFA;\n",
              "      box-shadow: 0px 1px 2px rgba(60, 64, 67, 0.3), 0px 1px 3px 1px rgba(60, 64, 67, 0.15);\n",
              "      fill: #174EA6;\n",
              "    }\n",
              "\n",
              "    [theme=dark] .colab-df-convert {\n",
              "      background-color: #3B4455;\n",
              "      fill: #D2E3FC;\n",
              "    }\n",
              "\n",
              "    [theme=dark] .colab-df-convert:hover {\n",
              "      background-color: #434B5C;\n",
              "      box-shadow: 0px 1px 3px 1px rgba(0, 0, 0, 0.15);\n",
              "      filter: drop-shadow(0px 1px 2px rgba(0, 0, 0, 0.3));\n",
              "      fill: #FFFFFF;\n",
              "    }\n",
              "  </style>\n",
              "\n",
              "      <script>\n",
              "        const buttonEl =\n",
              "          document.querySelector('#df-b1c51f4d-b416-423d-8902-759033874e0b button.colab-df-convert');\n",
              "        buttonEl.style.display =\n",
              "          google.colab.kernel.accessAllowed ? 'block' : 'none';\n",
              "\n",
              "        async function convertToInteractive(key) {\n",
              "          const element = document.querySelector('#df-b1c51f4d-b416-423d-8902-759033874e0b');\n",
              "          const dataTable =\n",
              "            await google.colab.kernel.invokeFunction('convertToInteractive',\n",
              "                                                     [key], {});\n",
              "          if (!dataTable) return;\n",
              "\n",
              "          const docLinkHtml = 'Like what you see? Visit the ' +\n",
              "            '<a target=\"_blank\" href=https://colab.research.google.com/notebooks/data_table.ipynb>data table notebook</a>'\n",
              "            + ' to learn more about interactive tables.';\n",
              "          element.innerHTML = '';\n",
              "          dataTable['output_type'] = 'display_data';\n",
              "          await google.colab.output.renderOutput(dataTable, element);\n",
              "          const docLink = document.createElement('div');\n",
              "          docLink.innerHTML = docLinkHtml;\n",
              "          element.appendChild(docLink);\n",
              "        }\n",
              "      </script>\n",
              "    </div>\n",
              "  </div>\n",
              "  "
            ]
          },
          "metadata": {},
          "execution_count": 13
        }
      ],
      "source": [
        "train_df[[\"Parch\", \"Survived\"]].groupby(['Parch'], as_index=False).mean().sort_values(by='Survived', ascending=False)"
      ]
    },
    {
      "cell_type": "markdown",
      "metadata": {
        "_cell_guid": "0d43550e-9eff-3859-3568-8856570eff76",
        "_uuid": "5c6204d01f5a9040cf0bb7c678686ae48daa201f",
        "id": "PPh4WZ_knGkD"
      },
      "source": [
        "## Phân tích bằng cách trực quan hóa dữ liệu\n",
        "\n",
        "Bây giờ chúng tôi có thể tiếp tục xác nhận một số giả định của mình bằng cách sử dụng trực quan hóa để phân tích dữ liệu.\n",
        "\n",
        "### Các tính năng số tương quan\n",
        "\n",
        "Hãy để chúng tôi bắt đầu bằng cách tìm hiểu mối tương quan giữa các tính năng số và mục tiêu giải pháp của chúng tôi (Sống sót).\n",
        "\n",
        "Biểu đồ biểu đồ rất hữu ích để phân tích các biến số liên tục như Tuổi trong đó dải hoặc phạm vi sẽ giúp xác định các mẫu hữu ích. Biểu đồ có thể biểu thị phân phối mẫu bằng cách sử dụng các ngăn được xác định tự động hoặc các dải có khoảng cách bằng nhau. Điều này giúp chúng tôi trả lời các câu hỏi liên quan đến các nhóm cụ thể (Trẻ sơ sinh có tỷ lệ sống tốt hơn không?)\n",
        "\n",
        "Lưu ý rằng trục x trong trực quan hóa biểu đồ biểu thị số lượng mẫu hoặc hành khách.\n",
        "\n",
        "**Quan sát.**\n",
        "\n",
        "- Trẻ sơ sinh (Tuổi <=4) có tỷ lệ sống sót cao.\n",
        "- Hành khách lớn tuổi nhất (Tuổi = 80) sống sót.\n",
        "- Một số lớn 15-25 tuổi không qua khỏi.\n",
        "- Hầu hết hành khách ở độ tuổi 15-35.\n",
        "\n",
        "**Quyết định.**\n",
        "\n",
        "Phân tích đơn giản này xác nhận các giả định của chúng tôi là quyết định cho các giai đoạn quy trình công việc tiếp theo.\n",
        "\n",
        "- Chúng ta nên xem xét Độ tuổi (phân loại giả định số 2) trong quá trình đào tạo mô hình của mình.\n",
        "- Hoàn thành tính năng Tuổi cho các giá trị null (hoàn thành #1).\n",
        "- Chúng ta nên lập nhóm theo độ tuổi (tạo #3)."
      ]
    },
    {
      "cell_type": "code",
      "execution_count": null,
      "metadata": {
        "_cell_guid": "50294eac-263a-af78-cb7e-3778eb9ad41f",
        "_uuid": "d3a1fa63e9dd4f8a810086530a6363c94b36d030",
        "collapsed": true,
        "jupyter": {
          "outputs_hidden": true
        },
        "colab": {
          "base_uri": "https://localhost:8080/",
          "height": 242
        },
        "id": "Iu1PDAWJnGkD",
        "outputId": "f56eb4b8-8149-40c5-c65e-01e03b0db3d4"
      },
      "outputs": [
        {
          "output_type": "execute_result",
          "data": {
            "text/plain": [
              "<seaborn.axisgrid.FacetGrid at 0x7faf8f47ea60>"
            ]
          },
          "metadata": {},
          "execution_count": 14
        },
        {
          "output_type": "display_data",
          "data": {
            "text/plain": [
              "<Figure size 432x216 with 2 Axes>"
            ],
            "image/png": "[encoded data removed]"
          },
          "metadata": {
            "needs_background": "light"
          }
        }
      ],
      "source": [
        "g = sns.FacetGrid(train_df, col='Survived')\n",
        "g.map(plt.hist, 'Age', bins=20)"
      ]
    },
    {
      "cell_type": "markdown",
      "metadata": {
        "_cell_guid": "87096158-4017-9213-7225-a19aea67a800",
        "_uuid": "892259f68c2ecf64fd258965cff1ecfe77dd73a9",
        "id": "pBPHjo1rnGkE"
      },
      "source": [
        "### Các tính năng số và thứ tự tương quan\n",
        "\n",
        "Chúng ta có thể kết hợp nhiều tính năng để xác định mối tương quan bằng một biểu đồ duy nhất. Điều này có thể được thực hiện với các tính năng số và phân loại có giá trị số.\n",
        "\n",
        "**Quan sát.**\n",
        "\n",
        "- Pclass=3 có nhiều hành khách nhất, tuy nhiên hầu hết đều không sống sót. Xác nhận giả định phân loại #2 của chúng tôi.\n",
        "- Hành khách là trẻ sơ sinh ở hạng P=2 và Pclass=3 hầu hết đều sống sót. Tiếp tục đủ điều kiện cho giả định phân loại #2 của chúng tôi.\n",
        "- Hầu hết hành khách trong hạng P=1 đều sống sót. Xác nhận giả định phân loại #3 của chúng tôi.\n",
        "- Hạng P khác nhau về phân bố Độ tuổi của hành khách.\n",
        "\n",
        "**Quyết định.**\n",
        "\n",
        "- Xem xét Pclass để đào tạo người mẫu."
      ]
    },
    {
      "cell_type": "code",
      "execution_count": null,
      "metadata": {
        "_cell_guid": "916fdc6b-0190-9267-1ea9-907a3d87330d",
        "_uuid": "4f5bcfa97c8a72f8b413c786954f3a68e135e05a",
        "collapsed": true,
        "jupyter": {
          "outputs_hidden": true
        },
        "colab": {
          "base_uri": "https://localhost:8080/",
          "height": 540
        },
        "id": "4Jqr2p7tnGkE",
        "outputId": "5f7fd301-c41f-4f82-a8a2-b5146bc5a39e"
      },
      "outputs": [
        {
          "output_type": "stream",
          "name": "stderr",
          "text": [
            "/usr/local/lib/python3.8/dist-packages/seaborn/axisgrid.py:337: UserWarning: The `size` parameter has been renamed to `height`; please update your code.\n",
            "  warnings.warn(msg, UserWarning)\n"
          ]
        },
        {
          "output_type": "display_data",
          "data": {
            "text/plain": [
              "<Figure size 514.88x475.2 with 6 Axes>"
            ],
            "image/png": "[encoded data removed]"
          },
          "metadata": {
            "needs_background": "light"
          }
        }
      ],
      "source": [
        "# grid = sns.FacetGrid(train_df, col='Pclass', hue='Survived')\n",
        "grid = sns.FacetGrid(train_df, col='Survived', row='Pclass', size=2.2, aspect=1.6)\n",
        "grid.map(plt.hist, 'Age', alpha=.5, bins=20)\n",
        "grid.add_legend();"
      ]
    },
    {
      "cell_type": "markdown",
      "metadata": {
        "_cell_guid": "36f5a7c0-c55c-f76f-fdf8-945a32a68cb0",
        "_uuid": "892ab7ee88b1b1c5f1ac987884fa31e111bb0507",
        "id": "9emw149UnGkE"
      },
      "source": [
        "### Các tính năng phân loại tương quan\n",
        "\n",
        "Bây giờ chúng ta có thể tương quan các tính năng phân loại với mục tiêu giải pháp của mình.\n",
        "\n",
        "**Quan sát.**\n",
        "\n",
        "- Hành khách nữ có tỷ lệ sống sót tốt hơn nhiều so với nam giới. Xác nhận phân loại (#1).\n",
        "- Ngoại lệ ở Embarked=C nơi con đực có tỷ lệ sống sót cao hơn. Đây có thể là mối tương quan giữa Pclass và Embarked và đến lượt Pclass và Survived, không nhất thiết là mối tương quan trực tiếp giữa Embarked và Survived.\n",
        "- Con đực có tỷ lệ sống tốt hơn ở Pclass=3 khi so sánh với Pclass=2 đối với cổng C và Q. Đang hoàn thành (#2).\n",
        "- Các cảng lên tàu có tỷ lệ sống sót khác nhau đối với Pclass=3 và giữa các hành khách nam. Tương quan (#1).\n",
        "\n",
        "**Quyết định.**\n",
        "\n",
        "- Thêm tính năng Giới tính vào đào tạo người mẫu.\n",
        "- Hoàn thiện và thêm tính năng Embarked vào đào tạo người mẫu."
      ]
    },
    {
      "cell_type": "code",
      "execution_count": null,
      "metadata": {
        "_cell_guid": "db57aabd-0e26-9ff9-9ebd-56d401cdf6e8",
        "_uuid": "c0e1f01b3f58e8f31b938b0e5eb1733132edc8ad",
        "collapsed": true,
        "jupyter": {
          "outputs_hidden": true
        },
        "colab": {
          "base_uri": "https://localhost:8080/",
          "height": 626
        },
        "id": "Dmz_1__LnGkE",
        "outputId": "46a92ce9-ff54-47e8-a781-7087f0a0f3cf"
      },
      "outputs": [
        {
          "output_type": "stream",
          "name": "stderr",
          "text": [
            "/usr/local/lib/python3.8/dist-packages/seaborn/axisgrid.py:337: UserWarning: The `size` parameter has been renamed to `height`; please update your code.\n",
            "  warnings.warn(msg, UserWarning)\n",
            "/usr/local/lib/python3.8/dist-packages/seaborn/axisgrid.py:670: UserWarning: Using the pointplot function without specifying `order` is likely to produce an incorrect plot.\n",
            "  warnings.warn(warning)\n",
            "/usr/local/lib/python3.8/dist-packages/seaborn/axisgrid.py:675: UserWarning: Using the pointplot function without specifying `hue_order` is likely to produce an incorrect plot.\n",
            "  warnings.warn(warning)\n"
          ]
        },
        {
          "output_type": "execute_result",
          "data": {
            "text/plain": [
              "<seaborn.axisgrid.FacetGrid at 0x7faf8c2d3f70>"
            ]
          },
          "metadata": {},
          "execution_count": 16
        },
        {
          "output_type": "display_data",
          "data": {
            "text/plain": [
              "<Figure size 323.94x475.2 with 3 Axes>"
            ],
            "image/png": "[encoded data removed]"
          },
          "metadata": {
            "needs_background": "light"
          }
        }
      ],
      "source": [
        "# grid = sns.FacetGrid(train_df, col='Embarked')\n",
        "grid = sns.FacetGrid(train_df, row='Embarked', size=2.2, aspect=1.6)\n",
        "grid.map(sns.pointplot, 'Pclass', 'Survived', 'Sex', palette='deep')\n",
        "grid.add_legend()"
      ]
    },
    {
      "cell_type": "markdown",
      "metadata": {
        "_cell_guid": "6b3f73f4-4600-c1ce-34e0-bd7d9eeb074a",
        "_uuid": "fd824f937dcb80edd4117a2927cc0d7f99d934b8",
        "id": "LD8IfWFJnGkE"
      },
      "source": [
        "### Các tính năng phân loại và số tương quan\n",
        "\n",
        "Chúng tôi cũng có thể muốn tương quan các tính năng phân loại (với các giá trị không phải là số) và các tính năng số. Chúng ta có thể xem xét tương quan Đã lên đường (Không phải là số), Giới tính (Không phải là số), Giá vé (Số liên tục), với Survived (Số là số).\n",
        "\n",
        "**Quan sát.**\n",
        "\n",
        "- Hành khách trả tiền vé cao hơn có khả năng sống sót tốt hơn. Xác nhận giả định của chúng tôi về việc tạo (#4) phạm vi giá vé.\n",
        "- Cảng cập bến tương quan với tỷ lệ sống sót. Xác nhận tương quan (#1) và hoàn thành (#2).\n",
        "\n",
        "**Quyết định.**\n",
        "\n",
        "- Xem xét tính năng Giá vé theo dải."
      ]
    },
    {
      "cell_type": "code",
      "execution_count": null,
      "metadata": {
        "_cell_guid": "a21f66ac-c30d-f429-cc64-1da5460d16a9",
        "_uuid": "c8fd535ac1bc90127369027c2101dbc939db118e",
        "collapsed": true,
        "jupyter": {
          "outputs_hidden": true
        },
        "id": "7bCsivVLnGkF"
      },
      "outputs": [],
      "source": [
        "# grid = sns.FacetGrid(train_df, col='Embarked', hue='Survived', palette={0: 'k', 1: 'w'})\n",
        "grid = sns.FacetGrid(train_df, row='Embarked', col='Survived', size=2.2, aspect=1.6)\n",
        "grid.map(sns.barplot, 'Sex', 'Fare', alpha=.5, ci=None)\n",
        "grid.add_legend()"
      ]
    },
    {
      "cell_type": "markdown",
      "metadata": {
        "_cell_guid": "cfac6291-33cc-506e-e548-6cad9408623d",
        "_uuid": "73a9111a8dc2a6b8b6c78ef628b6cae2a63fc33f",
        "id": "Kqd_8r28nGkF"
      },
      "source": [
        "## Sắp xếp dữ liệu\n",
        "\n",
        "Chúng tôi đã thu thập một số giả định và quyết định liên quan đến bộ dữ liệu và yêu cầu giải pháp của chúng tôi. Cho đến nay, chúng tôi không phải thay đổi một tính năng hoặc giá trị nào để đạt được những điều này. Bây giờ chúng ta hãy thực hiện các quyết định và giả định của mình để điều chỉnh, tạo và hoàn thành các mục tiêu.\n",
        "\n",
        "### Sửa bằng cách loại bỏ các tính năng\n",
        "\n",
        "Đây là một mục tiêu khởi đầu tốt để thực hiện. Bằng cách loại bỏ các tính năng, chúng tôi đang xử lý ít điểm dữ liệu hơn. Tăng tốc máy tính xách tay của chúng tôi và giảm bớt phân tích.\n",
        "\n",
        "Dựa trên các giả định và quyết định của chúng tôi, chúng tôi muốn loại bỏ các tính năng của Cabin (sửa #2) và Vé (sửa #1).\n",
        "\n",
        "Lưu ý rằng nếu có thể, chúng tôi thực hiện các thao tác trên cả tập dữ liệu huấn luyện và kiểm tra cùng nhau để duy trì tính nhất quán."
      ]
    },
    {
      "cell_type": "code",
      "execution_count": null,
      "metadata": {
        "_cell_guid": "da057efe-88f0-bf49-917b-bb2fec418ed9",
        "_uuid": "e328d9882affedcfc4c167aa5bb1ac132547558c",
        "collapsed": true,
        "jupyter": {
          "outputs_hidden": true
        },
        "id": "HI69yMpenGkF"
      },
      "outputs": [],
      "source": [
        "print(\"Before\", train_df.shape, test_df.shape, combine[0].shape, combine[1].shape)\n",
        "\n",
        "train_df = train_df.drop(['Ticket', 'Cabin'], axis=1)\n",
        "test_df = test_df.drop(['Ticket', 'Cabin'], axis=1)\n",
        "combine = [train_df, test_df]\n",
        "\n",
        "\"After\", train_df.shape, test_df.shape, combine[0].shape, combine[1].shape"
      ]
    },
    {
      "cell_type": "markdown",
      "metadata": {
        "_cell_guid": "6b3a1216-64b6-7fe2-50bc-e89cc964a41c",
        "_uuid": "21d5c47ee69f8fbef967f6f41d736b5d4eb6596f",
        "id": "yeCbKTesnGkF"
      },
      "source": [
        "### Tạo tính năng mới trích xuất từ tính năng hiện có\n",
        "\n",
        "Chúng tôi muốn phân tích xem tính năng Tên có thể được thiết kế để trích xuất tiêu đề và kiểm tra mối tương quan giữa tiêu đề và sự tồn tại hay không, trước khi loại bỏ các tính năng Tên và PasbahId.\n",
        "\n",
        "Trong đoạn mã sau, chúng tôi trích xuất tính năng Tiêu đề bằng cách sử dụng các biểu thức chính quy. Mẫu RegEx `(\\w+\\.)` khớp với từ đầu tiên kết thúc bằng ký tự dấu chấm trong tính năng Tên. Cờ `expand=False` trả về một DataFrame.\n",
        "\n",
        "**Quan sát.**\n",
        "\n",
        "Khi chúng tôi vẽ tiêu đề, tuổi và sống sót, chúng tôi lưu ý các quan sát sau.\n",
        "\n",
        "- Hầu hết các tiêu đề ban nhạc Nhóm tuổi chính xác. Ví dụ: Danh hiệu chính có Tuổi trung bình là 5 năm.\n",
        "- Tỷ lệ sống sót giữa các nhóm Tuổi Danh hiệu khác nhau một chút.\n",
        "- Một số tiêu đề hầu hết còn tồn tại (Mme, Lady, Sir) hoặc không (Don, Rev, Jonkheer).\n",
        "\n",
        "**Phán quyết.**\n",
        "\n",
        "- Chúng tôi quyết định giữ lại tính năng Tiêu đề mới để đào tạo người mẫu."
      ]
    },
    {
      "cell_type": "code",
      "execution_count": null,
      "metadata": {
        "_cell_guid": "df7f0cd4-992c-4a79-fb19-bf6f0c024d4b",
        "_uuid": "c916644bd151f3dc8fca900f656d415b4c55e2bc",
        "collapsed": true,
        "jupyter": {
          "outputs_hidden": true
        },
        "id": "8KbnKkyOnGkF"
      },
      "outputs": [],
      "source": [
        "for dataset in combine:\n",
        "    dataset['Title'] = dataset.Name.str.extract(' ([A-Za-z]+)\\.', expand=False)\n",
        "\n",
        "pd.crosstab(train_df['Title'], train_df['Sex'])"
      ]
    },
    {
      "cell_type": "markdown",
      "metadata": {
        "_cell_guid": "908c08a6-3395-19a5-0cd7-13341054012a",
        "_uuid": "f766d512ea5bfe60b5eb7a816f482f2ab688fd2f",
        "id": "QEdFdAhznGkG"
      },
      "source": [
        "Chúng ta có thể thay thế nhiều tiêu đề bằng một tên phổ biến hơn hoặc phân loại chúng là `Hiếm`."
      ]
    },
    {
      "cell_type": "code",
      "execution_count": null,
      "metadata": {
        "_cell_guid": "553f56d7-002a-ee63-21a4-c0efad10cfe9",
        "_uuid": "b8cd938fba61fb4e226c77521b012f4bb8aa01d0",
        "collapsed": true,
        "jupyter": {
          "outputs_hidden": true
        },
        "id": "I4A5k8_ZnGkG"
      },
      "outputs": [],
      "source": [
        "for dataset in combine:\n",
        "    dataset['Title'] = dataset['Title'].replace(['Lady', 'Countess','Capt', 'Col',\\\n",
        " \t'Don', 'Dr', 'Major', 'Rev', 'Sir', 'Jonkheer', 'Dona'], 'Rare')\n",
        "\n",
        "    dataset['Title'] = dataset['Title'].replace('Mlle', 'Miss')\n",
        "    dataset['Title'] = dataset['Title'].replace('Ms', 'Miss')\n",
        "    dataset['Title'] = dataset['Title'].replace('Mme', 'Mrs')\n",
        "\n",
        "train_df[['Title', 'Survived']].groupby(['Title'], as_index=False).mean()"
      ]
    },
    {
      "cell_type": "markdown",
      "metadata": {
        "_cell_guid": "6d46be9a-812a-f334-73b9-56ed912c9eca",
        "_uuid": "de245fe76474d46995a5acc31b905b8aaa5893f6",
        "id": "JM_qyj1lnGkG"
      },
      "source": [
        "Chúng tôi có thể chuyển đổi các tiêu đề phân loại thành thứ tự."
      ]
    },
    {
      "cell_type": "code",
      "execution_count": null,
      "metadata": {
        "_cell_guid": "67444ebc-4d11-bac1-74a6-059133b6e2e8",
        "_uuid": "e805ad52f0514497b67c3726104ba46d361eb92c",
        "collapsed": true,
        "jupyter": {
          "outputs_hidden": true
        },
        "id": "Q6BMvYgtnGkG"
      },
      "outputs": [],
      "source": [
        "title_mapping = {\"Mr\": 1, \"Miss\": 2, \"Mrs\": 3, \"Master\": 4, \"Rare\": 5}\n",
        "for dataset in combine:\n",
        "    dataset['Title'] = dataset['Title'].map(title_mapping)\n",
        "    dataset['Title'] = dataset['Title'].fillna(0)\n",
        "\n",
        "train_df.head()"
      ]
    },
    {
      "cell_type": "markdown",
      "metadata": {
        "_cell_guid": "f27bb974-a3d7-07a1-f7e4-876f6da87e62",
        "_uuid": "5fefaa1b37c537dda164c87a757fe705a99815d9",
        "id": "TXDNXzc7nGkG"
      },
      "source": [
        "Giờ đây, chúng ta có thể bỏ tính năng Tên khỏi tập dữ liệu huấn luyện và thử nghiệm một cách an toàn. Chúng tôi cũng không cần tính năng PasbahId trong tập dữ liệu đào tạo."
      ]
    },
    {
      "cell_type": "code",
      "execution_count": null,
      "metadata": {
        "_cell_guid": "9d61dded-5ff0-5018-7580-aecb4ea17506",
        "_uuid": "1da299cf2ffd399fd5b37d74fb40665d16ba5347",
        "collapsed": true,
        "jupyter": {
          "outputs_hidden": true
        },
        "id": "dsgpQhf4nGkG"
      },
      "outputs": [],
      "source": [
        "train_df = train_df.drop(['Name', 'PassengerId'], axis=1)\n",
        "test_df = test_df.drop(['Name'], axis=1)\n",
        "combine = [train_df, test_df]\n",
        "train_df.shape, test_df.shape"
      ]
    },
    {
      "cell_type": "markdown",
      "metadata": {
        "_cell_guid": "2c8e84bb-196d-bd4a-4df9-f5213561b5d3",
        "_uuid": "a1ac66c79b279d94860e66996d3d8dba801a6d9a",
        "id": "Sxa1XkHVnGkH"
      },
      "source": [
        "### Chuyển đổi một tính năng phân loại\n",
        "\n",
        "Bây giờ chúng ta có thể chuyển đổi các tính năng chứa chuỗi thành giá trị số. Điều này được yêu cầu bởi hầu hết các thuật toán mô hình. Làm như vậy cũng sẽ giúp chúng tôi đạt được mục tiêu hoàn thành tính năng.\n",
        "\n",
        "Chúng ta hãy bắt đầu bằng cách chuyển đổi tính năng Giới tính thành một tính năng mới gọi là Giới tính trong đó nữ=1 và nam=0."
      ]
    },
    {
      "cell_type": "code",
      "execution_count": null,
      "metadata": {
        "_cell_guid": "c20c1df2-157c-e5a0-3e24-15a828095c96",
        "_uuid": "840498eaee7baaca228499b0a5652da9d4edaf37",
        "collapsed": true,
        "jupyter": {
          "outputs_hidden": true
        },
        "id": "BQfdYdSfnGkH"
      },
      "outputs": [],
      "source": [
        "for dataset in combine:\n",
        "    dataset['Sex'] = dataset['Sex'].map( {'female': 1, 'male': 0} ).astype(int)\n",
        "\n",
        "train_df.head()"
      ]
    },
    {
      "cell_type": "markdown",
      "metadata": {
        "_cell_guid": "d72cb29e-5034-1597-b459-83a9640d3d3a",
        "_uuid": "6da8bfe6c832f4bd2aa1312bdd6b8b4af48a012e",
        "id": "M527EM-OnGkH"
      },
      "source": [
        "### Hoàn thành một tính năng số liên tục\n",
        "\n",
        "Bây giờ chúng ta nên bắt đầu ước tính và hoàn thành các tính năng có giá trị bị thiếu hoặc không. Đầu tiên chúng ta sẽ làm điều này cho tính năng Age.\n",
        "\n",
        "Chúng ta có thể xem xét ba phương pháp để hoàn thành một tính năng liên tục số.\n",
        "\n",
        "1. Một cách đơn giản là tạo các số ngẫu nhiên giữa giá trị trung bình và [độ lệch chuẩn](https://en.wikipedia.org/wiki/Standard_deviation).\n",
        "\n",
        "2. Cách chính xác hơn để đoán các giá trị còn thiếu là sử dụng các tính năng tương quan khác. Trong trường hợp của chúng tôi, chúng tôi lưu ý mối tương quan giữa Tuổi, Giới tính và Lớp học. Đoán giá trị Độ tuổi bằng cách sử dụng giá trị [trung vị](https://en.wikipedia.org/wiki/Median) cho Độ tuổi trên các nhóm kết hợp tính năng Giới tính và Lớp Pclass. Vì vậy, Tuổi trung bình cho Pclass=1 và Giới tính=0, Pclass=1 và Giới tính=1, v.v...\n",
        "\n",
        "3. Kết hợp phương pháp 1 và 2. Vì vậy, thay vì đoán giá trị tuổi dựa trên trung vị, hãy sử dụng các số ngẫu nhiên giữa giá trị trung bình và độ lệch chuẩn, dựa trên các tập hợp Pclass và Giới tính.\n",
        "\n",
        "Phương pháp 1 và 3 sẽ đưa nhiễu ngẫu nhiên vào các mô hình của chúng ta. Kết quả từ nhiều lần thực hiện có thể khác nhau. Chúng tôi sẽ thích phương pháp 2 hơn."
      ]
    },
    {
      "cell_type": "code",
      "execution_count": null,
      "metadata": {
        "_cell_guid": "c311c43d-6554-3b52-8ef8-533ca08b2f68",
        "_uuid": "345038c8dd1bac9a9bc5e2cfee13fcc1f833eee0",
        "collapsed": true,
        "jupyter": {
          "outputs_hidden": true
        },
        "id": "ZGPpway0nGkH"
      },
      "outputs": [],
      "source": [
        "# grid = sns.FacetGrid(train_df, col='Pclass', hue='Gender')\n",
        "grid = sns.FacetGrid(train_df, row='Pclass', col='Sex', size=2.2, aspect=1.6)\n",
        "grid.map(plt.hist, 'Age', alpha=.5, bins=20)\n",
        "grid.add_legend()"
      ]
    },
    {
      "cell_type": "markdown",
      "metadata": {
        "_cell_guid": "a4f166f9-f5f9-1819-66c3-d89dd5b0d8ff",
        "_uuid": "6b22ac53d95c7979d5f4580bd5fd29d27155c347",
        "id": "bmlauyXGnGkI"
      },
      "source": [
        "Chúng ta hãy bắt đầu bằng cách chuẩn bị một mảng trống để chứa các giá trị Tuổi được đoán dựa trên các kết hợp Pclass x Giới tính."
      ]
    },
    {
      "cell_type": "code",
      "execution_count": null,
      "metadata": {
        "_cell_guid": "9299523c-dcf1-fb00-e52f-e2fb860a3920",
        "_uuid": "24a0971daa4cbc3aa700bae42e68c17ce9f3a6e2",
        "collapsed": true,
        "jupyter": {
          "outputs_hidden": true
        },
        "id": "A2ZUjLPJnGkI"
      },
      "outputs": [],
      "source": [
        "guess_ages = np.zeros((2,3))\n",
        "guess_ages"
      ]
    },
    {
      "cell_type": "markdown",
      "metadata": {
        "_cell_guid": "ec9fed37-16b1-5518-4fa8-0a7f579dbc82",
        "_uuid": "8acd90569767b544f055d573bbbb8f6012853385",
        "id": "JAgN7uZYnGkJ"
      },
      "source": [
        "Bây giờ, chúng tôi lặp lại Giới tính (0 hoặc 1) và Pclass (1, 2, 3) để tính các giá trị được đoán của Tuổi cho sáu kết hợp."
      ]
    },
    {
      "cell_type": "code",
      "execution_count": null,
      "metadata": {
        "_cell_guid": "a4015dfa-a0ab-65bc-0cbe-efecf1eb2569",
        "_uuid": "31198f0ad0dbbb74290ebe135abffa994b8f58f3",
        "collapsed": true,
        "jupyter": {
          "outputs_hidden": true
        },
        "id": "jv_DFhZ5nGkJ"
      },
      "outputs": [],
      "source": [
        "for dataset in combine:\n",
        "    for i in range(0, 2):\n",
        "        for j in range(0, 3):\n",
        "            guess_df = dataset[(dataset['Sex'] == i) & \\\n",
        "                                  (dataset['Pclass'] == j+1)]['Age'].dropna()\n",
        "\n",
        "            # age_mean = guess_df.mean()\n",
        "            # age_std = guess_df.std()\n",
        "            # age_guess = rnd.uniform(age_mean - age_std, age_mean + age_std)\n",
        "\n",
        "            age_guess = guess_df.median()\n",
        "\n",
        "            # Convert random age float to nearest .5 age\n",
        "            guess_ages[i,j] = int( age_guess/0.5 + 0.5 ) * 0.5\n",
        "\n",
        "    for i in range(0, 2):\n",
        "        for j in range(0, 3):\n",
        "            dataset.loc[ (dataset.Age.isnull()) & (dataset.Sex == i) & (dataset.Pclass == j+1),\\\n",
        "                    'Age'] = guess_ages[i,j]\n",
        "\n",
        "    dataset['Age'] = dataset['Age'].astype(int)\n",
        "\n",
        "train_df.head()"
      ]
    },
    {
      "cell_type": "markdown",
      "metadata": {
        "_cell_guid": "dbe0a8bf-40bc-c581-e10e-76f07b3b71d4",
        "_uuid": "e7c52b44b703f28e4b6f4ddba67ab65f40274550",
        "id": "-PSn4gWfnGkJ"
      },
      "source": [
        "Hãy để chúng tôi tạo các dải Tuổi và xác định mối tương quan với Survived."
      ]
    },
    {
      "cell_type": "code",
      "execution_count": null,
      "metadata": {
        "_cell_guid": "725d1c84-6323-9d70-5812-baf9994d3aa1",
        "_uuid": "5c8b4cbb302f439ef0d6278dcfbdafd952675353",
        "collapsed": true,
        "jupyter": {
          "outputs_hidden": true
        },
        "id": "VHwTBxfTnGkJ"
      },
      "outputs": [],
      "source": [
        "train_df['AgeBand'] = pd.cut(train_df['Age'], 5)\n",
        "train_df[['AgeBand', 'Survived']].groupby(['AgeBand'], as_index=False).mean().sort_values(by='AgeBand', ascending=True)"
      ]
    },
    {
      "cell_type": "markdown",
      "metadata": {
        "_cell_guid": "ba4be3a0-e524-9c57-fbec-c8ecc5cde5c6",
        "_uuid": "856392dd415ac14ab74a885a37d068fc7a58f3a5",
        "id": "3y8tOffQnGkJ"
      },
      "source": [
        "Hãy để chúng tôi thay thế Tuổi bằng thứ tự dựa trên các dải này."
      ]
    },
    {
      "cell_type": "code",
      "execution_count": null,
      "metadata": {
        "_cell_guid": "797b986d-2c45-a9ee-e5b5-088de817c8b2",
        "_uuid": "ee13831345f389db407c178f66c19cc8331445b0",
        "collapsed": true,
        "jupyter": {
          "outputs_hidden": true
        },
        "id": "DJYHPQrbnGkJ"
      },
      "outputs": [],
      "source": [
        "for dataset in combine:\n",
        "    dataset.loc[ dataset['Age'] <= 16, 'Age'] = 0\n",
        "    dataset.loc[(dataset['Age'] > 16) & (dataset['Age'] <= 32), 'Age'] = 1\n",
        "    dataset.loc[(dataset['Age'] > 32) & (dataset['Age'] <= 48), 'Age'] = 2\n",
        "    dataset.loc[(dataset['Age'] > 48) & (dataset['Age'] <= 64), 'Age'] = 3\n",
        "    dataset.loc[ dataset['Age'] > 64, 'Age']\n",
        "train_df.head()"
      ]
    },
    {
      "cell_type": "markdown",
      "metadata": {
        "_cell_guid": "004568b6-dd9a-ff89-43d5-13d4e9370b1d",
        "_uuid": "8e3fbc95e0fd6600e28347567416d3f0d77a24cc",
        "id": "ORS9FwZqnGkK"
      },
      "source": [
        "Chúng tôi không thể xóa tính năng AgeBand."
      ]
    },
    {
      "cell_type": "code",
      "execution_count": null,
      "metadata": {
        "_cell_guid": "875e55d4-51b0-5061-b72c-8a23946133a3",
        "_uuid": "1ea01ccc4a24e8951556d97c990aa0136da19721",
        "collapsed": true,
        "jupyter": {
          "outputs_hidden": true
        },
        "id": "Hrov9TP2nGkK"
      },
      "outputs": [],
      "source": [
        "train_df = train_df.drop(['AgeBand'], axis=1)\n",
        "combine = [train_df, test_df]\n",
        "train_df.head()"
      ]
    },
    {
      "cell_type": "markdown",
      "metadata": {
        "_cell_guid": "1c237b76-d7ac-098f-0156-480a838a64a9",
        "_uuid": "e3d4a2040c053fbd0486c8cfc4fec3224bd3ebb3",
        "id": "zg_pJAH-nGkK"
      },
      "source": [
        "### Tạo tính năng mới kết hợp các tính năng hiện có\n",
        "\n",
        "Chúng tôi có thể tạo một tính năng mới cho FamilySize kết hợp Parch và SibSp. Điều này sẽ cho phép chúng tôi loại bỏ Parch và SibSp khỏi bộ dữ liệu của mình."
      ]
    },
    {
      "cell_type": "code",
      "execution_count": null,
      "metadata": {
        "_cell_guid": "7e6c04ed-cfaa-3139-4378-574fd095d6ba",
        "_uuid": "33d1236ce4a8ab888b9fac2d5af1c78d174b32c7",
        "collapsed": true,
        "jupyter": {
          "outputs_hidden": true
        },
        "id": "GWYRG8OpnGkK"
      },
      "outputs": [],
      "source": [
        "for dataset in combine:\n",
        "    dataset['FamilySize'] = dataset['SibSp'] + dataset['Parch'] + 1\n",
        "\n",
        "train_df[['FamilySize', 'Survived']].groupby(['FamilySize'], as_index=False).mean().sort_values(by='Survived', ascending=False)"
      ]
    },
    {
      "cell_type": "markdown",
      "metadata": {
        "_cell_guid": "842188e6-acf8-2476-ccec-9e3451e4fa86",
        "_uuid": "67f8e4474cd1ecf4261c153ce8b40ea23cf659e4",
        "id": "Xys_QZZ1nGkK"
      },
      "source": [
        "Chúng ta có thể tạo một tính năng khác gọi là IsAlone."
      ]
    },
    {
      "cell_type": "code",
      "execution_count": null,
      "metadata": {
        "_cell_guid": "5c778c69-a9ae-1b6b-44fe-a0898d07be7a",
        "_uuid": "3b8db81cc3513b088c6bcd9cd1938156fe77992f",
        "collapsed": true,
        "jupyter": {
          "outputs_hidden": true
        },
        "id": "7VA-DYiMnGkK"
      },
      "outputs": [],
      "source": [
        "for dataset in combine:\n",
        "    dataset['IsAlone'] = 0\n",
        "    dataset.loc[dataset['FamilySize'] == 1, 'IsAlone'] = 1\n",
        "\n",
        "train_df[['IsAlone', 'Survived']].groupby(['IsAlone'], as_index=False).mean()"
      ]
    },
    {
      "cell_type": "markdown",
      "metadata": {
        "_cell_guid": "e6b87c09-e7b2-f098-5b04-4360080d26bc",
        "_uuid": "3da4204b2c78faa54a94bbad78a8aa85fbf90c87",
        "id": "uClvDCiBnGkK"
      },
      "source": [
        "Chúng ta hãy bỏ các tính năng Parch, SibSp và FamilySize để ủng hộ IsAlone."
      ]
    },
    {
      "cell_type": "code",
      "execution_count": null,
      "metadata": {
        "_cell_guid": "74ee56a6-7357-f3bc-b605-6c41f8aa6566",
        "_uuid": "1e3479690ef7cd8ee10538d4f39d7117246887f0",
        "collapsed": true,
        "jupyter": {
          "outputs_hidden": true
        },
        "id": "VMjbiFXRnGkL"
      },
      "outputs": [],
      "source": [
        "train_df = train_df.drop(['Parch', 'SibSp', 'FamilySize'], axis=1)\n",
        "test_df = test_df.drop(['Parch', 'SibSp', 'FamilySize'], axis=1)\n",
        "combine = [train_df, test_df]\n",
        "\n",
        "train_df.head()"
      ]
    },
    {
      "cell_type": "markdown",
      "metadata": {
        "_cell_guid": "f890b730-b1fe-919e-fb07-352fbd7edd44",
        "_uuid": "71b800ed96407eba05220f76a1288366a22ec887",
        "id": "lY2qjiZ0nGkL"
      },
      "source": [
        "Chúng tôi cũng có thể tạo một tính năng nhân tạo kết hợp Pclass và Age."
      ]
    },
    {
      "cell_type": "code",
      "execution_count": null,
      "metadata": {
        "_cell_guid": "305402aa-1ea1-c245-c367-056eef8fe453",
        "_uuid": "aac2c5340c06210a8b0199e15461e9049fbf2cff",
        "collapsed": true,
        "jupyter": {
          "outputs_hidden": true
        },
        "id": "8r12LyhVnGkL"
      },
      "outputs": [],
      "source": [
        "for dataset in combine:\n",
        "    dataset['Age*Class'] = dataset.Age * dataset.Pclass\n",
        "\n",
        "train_df.loc[:, ['Age*Class', 'Age', 'Pclass']].head(10)"
      ]
    },
    {
      "cell_type": "markdown",
      "metadata": {
        "_cell_guid": "13292c1b-020d-d9aa-525c-941331bb996a",
        "_uuid": "8264cc5676db8cd3e0b3e3f078cbaa74fd585a3c",
        "id": "rjj7v727nGkL"
      },
      "source": [
        "### Hoàn thành một tính năng phân loại\n",
        "\n",
        "Tính năng lên tàu lấy các giá trị S, Q, C dựa trên cảng lên tàu. Tập dữ liệu đào tạo của chúng tôi có hai giá trị bị thiếu. Chúng tôi chỉ cần điền vào những điều này với sự xuất hiện phổ biến nhất."
      ]
    },
    {
      "cell_type": "code",
      "execution_count": null,
      "metadata": {
        "_cell_guid": "bf351113-9b7f-ef56-7211-e8dd00665b18",
        "_uuid": "1e3f8af166f60a1b3125a6b046eff5fff02d63cf",
        "collapsed": true,
        "jupyter": {
          "outputs_hidden": true
        },
        "id": "hj4jkIMonGkL"
      },
      "outputs": [],
      "source": [
        "freq_port = train_df.Embarked.dropna().mode()[0]\n",
        "freq_port"
      ]
    },
    {
      "cell_type": "code",
      "execution_count": null,
      "metadata": {
        "_cell_guid": "51c21fcc-f066-cd80-18c8-3d140be6cbae",
        "_uuid": "d85b5575fb45f25749298641f6a0a38803e1ff22",
        "collapsed": true,
        "jupyter": {
          "outputs_hidden": true
        },
        "id": "yU9tJyb2nGkL"
      },
      "outputs": [],
      "source": [
        "for dataset in combine:\n",
        "    dataset['Embarked'] = dataset['Embarked'].fillna(freq_port)\n",
        "\n",
        "train_df[['Embarked', 'Survived']].groupby(['Embarked'], as_index=False).mean().sort_values(by='Survived', ascending=False)"
      ]
    },
    {
      "cell_type": "markdown",
      "metadata": {
        "_cell_guid": "f6acf7b2-0db3-e583-de50-7e14b495de34",
        "_uuid": "d8830e997995145314328b6218b5606df04499b0",
        "id": "SWtbYTSUnGkL"
      },
      "source": [
        "### Chuyển đổi tính năng phân loại thành số\n",
        "\n",
        "Giờ đây, chúng tôi có thể chuyển đổi tính năng EmbarkedFill bằng cách tạo tính năng Cổng số mới."
      ]
    },
    {
      "cell_type": "code",
      "execution_count": null,
      "metadata": {
        "_cell_guid": "89a91d76-2cc0-9bbb-c5c5-3c9ecae33c66",
        "_uuid": "e480a1ef145de0b023821134896391d568a6f4f9",
        "collapsed": true,
        "jupyter": {
          "outputs_hidden": true
        },
        "id": "MJaKviZXnGkM"
      },
      "outputs": [],
      "source": [
        "for dataset in combine:\n",
        "    dataset['Embarked'] = dataset['Embarked'].map( {'S': 0, 'C': 1, 'Q': 2} ).astype(int)\n",
        "\n",
        "train_df.head()"
      ]
    },
    {
      "cell_type": "markdown",
      "metadata": {
        "_cell_guid": "e3dfc817-e1c1-a274-a111-62c1c814cecf",
        "_uuid": "d79834ebc4ab9d48ed404584711475dbf8611b91",
        "id": "Zh1DNbz6nGkM"
      },
      "source": [
        "### Hoàn thành và chuyển đổi nhanh một tính năng số\n",
        "\n",
        "Giờ đây, chúng tôi có thể hoàn thành tính năng Giá vé cho một giá trị bị thiếu duy nhất trong tập dữ liệu thử nghiệm bằng cách sử dụng chế độ để nhận giá trị xảy ra thường xuyên nhất cho tính năng này. Chúng tôi làm điều này trong một dòng mã.\n",
        "\n",
        "Lưu ý rằng chúng tôi không tạo một tính năng mới trung gian hoặc thực hiện bất kỳ phân tích nào khác về mối tương quan để đoán tính năng bị thiếu vì chúng tôi chỉ thay thế một giá trị duy nhất. Mục tiêu hoàn thành đạt được yêu cầu mong muốn để thuật toán mô hình hoạt động trên các giá trị khác null.\n",
        "\n",
        "Chúng tôi cũng có thể muốn làm tròn giá vé đến hai chữ số thập phân vì nó đại diện cho tiền tệ."
      ]
    },
    {
      "cell_type": "code",
      "execution_count": null,
      "metadata": {
        "_cell_guid": "3600cb86-cf5f-d87b-1b33-638dc8db1564",
        "_uuid": "aacb62f3526072a84795a178bd59222378bab180",
        "collapsed": true,
        "jupyter": {
          "outputs_hidden": true
        },
        "id": "Aa8Ort31nGkM"
      },
      "outputs": [],
      "source": [
        "test_df['Fare'].fillna(test_df['Fare'].dropna().median(), inplace=True)\n",
        "test_df.head()"
      ]
    },
    {
      "cell_type": "markdown",
      "metadata": {
        "_cell_guid": "4b816bc7-d1fb-c02b-ed1d-ee34b819497d",
        "_uuid": "3466d98e83899d8b38a36ede794c68c5656f48e6",
        "id": "Ew4Y6qHVnGkM"
      },
      "source": [
        "Chúng tôi không thể tạo FareBand."
      ]
    },
    {
      "cell_type": "code",
      "execution_count": null,
      "metadata": {
        "_cell_guid": "0e9018b1-ced5-9999-8ce1-258a0952cbf2",
        "_uuid": "b9a78f6b4c72520d4ad99d2c89c84c591216098d",
        "collapsed": true,
        "jupyter": {
          "outputs_hidden": true
        },
        "id": "0xtZRmEcnGkM"
      },
      "outputs": [],
      "source": [
        "train_df['FareBand'] = pd.qcut(train_df['Fare'], 4)\n",
        "train_df[['FareBand', 'Survived']].groupby(['FareBand'], as_index=False).mean().sort_values(by='FareBand', ascending=True)"
      ]
    },
    {
      "cell_type": "markdown",
      "metadata": {
        "_cell_guid": "d65901a5-3684-6869-e904-5f1a7cce8a6d",
        "_uuid": "89400fba71af02d09ff07adf399fb36ac4913db6",
        "id": "itfqLcoMnGkM"
      },
      "source": [
        "Chuyển đổi tính năng Giá vé thành các giá trị thứ tự dựa trên FareBand."
      ]
    },
    {
      "cell_type": "code",
      "execution_count": null,
      "metadata": {
        "_cell_guid": "385f217a-4e00-76dc-1570-1de4eec0c29c",
        "_uuid": "640f305061ec4221a45ba250f8d54bb391035a57",
        "collapsed": true,
        "jupyter": {
          "outputs_hidden": true
        },
        "id": "Ra1vRuTenGkN"
      },
      "outputs": [],
      "source": [
        "for dataset in combine:\n",
        "    dataset.loc[ dataset['Fare'] <= 7.91, 'Fare'] = 0\n",
        "    dataset.loc[(dataset['Fare'] > 7.91) & (dataset['Fare'] <= 14.454), 'Fare'] = 1\n",
        "    dataset.loc[(dataset['Fare'] > 14.454) & (dataset['Fare'] <= 31), 'Fare']   = 2\n",
        "    dataset.loc[ dataset['Fare'] > 31, 'Fare'] = 3\n",
        "    dataset['Fare'] = dataset['Fare'].astype(int)\n",
        "\n",
        "train_df = train_df.drop(['FareBand'], axis=1)\n",
        "combine = [train_df, test_df]\n",
        "\n",
        "train_df.head(10)"
      ]
    },
    {
      "cell_type": "markdown",
      "metadata": {
        "_cell_guid": "27272bb9-3c64-4f9a-4a3b-54f02e1c8289",
        "_uuid": "531994ed95a3002d1759ceb74d9396db706a41e2",
        "id": "b6XFJQd8nGkN"
      },
      "source": [
        "And the test dataset."
      ]
    },
    {
      "cell_type": "code",
      "execution_count": null,
      "metadata": {
        "_cell_guid": "d2334d33-4fe5-964d-beac-6aa620066e15",
        "_uuid": "8453cecad81fcc44de3f4e4e4c3ce6afa977740d",
        "collapsed": true,
        "jupyter": {
          "outputs_hidden": true
        },
        "id": "DSSD-KVnnGkN"
      },
      "outputs": [],
      "source": [
        "test_df.head(10)"
      ]
    },
    {
      "cell_type": "markdown",
      "metadata": {
        "_cell_guid": "69783c08-c8cc-a6ca-2a9a-5e75581c6d31",
        "_uuid": "a55f20dd6654610ff2d66c1bf3e4c6c73dcef9e5",
        "id": "9WiJ4kZNnGkN"
      },
      "source": [
        "## Lập mô hình, dự đoán và giải quyết\n",
        "\n",
        "Bây giờ chúng tôi đã sẵn sàng để đào tạo một mô hình và dự đoán giải pháp cần thiết. Có hơn 60 thuật toán lập mô hình dự đoán để lựa chọn. Chúng ta phải hiểu loại vấn đề và yêu cầu giải pháp để thu hẹp thành một số mô hình chọn lọc mà chúng ta có thể đánh giá. Vấn đề của chúng tôi là một vấn đề phân loại và hồi quy. Chúng tôi muốn xác định mối quan hệ giữa đầu ra (Sống sót hay không) với các biến hoặc tính năng khác (Giới tính, Độ tuổi, Cổng ...). Chúng tôi cũng đang thực hiện một hạng mục học máy được gọi là học có giám sát khi chúng tôi đang đào tạo mô hình của mình bằng một tập dữ liệu nhất định. Với hai tiêu chí này - Học có giám sát cộng với Phân loại và Hồi quy, chúng ta có thể thu hẹp lựa chọn mô hình của mình thành một số ít. Bao gồm các:\n",
        "\n",
        "- Hồi quy logistic\n",
        "- KNN hoặc k-Hàng xóm gần nhất\n",
        "- Hỗ trợ máy Vector\n",
        "- Bộ phân loại Naive Bayes\n",
        "- Cây quyết định\n",
        "- Khu rừng ngẫu nhiên\n",
        "- Nhận thức\n",
        "- Mạng lưới thần kinh nhân tạo\n",
        "- RVM hoặc Máy Vector liên quan"
      ]
    },
    {
      "cell_type": "code",
      "execution_count": null,
      "metadata": {
        "_cell_guid": "0acf54f9-6cf5-24b5-72d9-29b30052823a",
        "_uuid": "04d2235855f40cffd81f76b977a500fceaae87ad",
        "collapsed": true,
        "jupyter": {
          "outputs_hidden": true
        },
        "id": "MOzV92odnGkN"
      },
      "outputs": [],
      "source": [
        "X_train = train_df.drop(\"Survived\", axis=1)\n",
        "Y_train = train_df[\"Survived\"]\n",
        "X_test  = test_df.drop(\"PassengerId\", axis=1).copy()\n",
        "X_train.shape, Y_train.shape, X_test.shape"
      ]
    },
    {
      "cell_type": "markdown",
      "metadata": {
        "_cell_guid": "579bc004-926a-bcfe-e9bb-c8df83356876",
        "_uuid": "782903c09ec9ee4b6f3e03f7c8b5a62c00461deb",
        "id": "otSabg94nGkN"
      },
      "source": [
        "Hồi quy logistic là một mô hình hữu ích để chạy sớm trong quy trình làm việc. Hồi quy logistic đo lường mối quan hệ giữa biến phụ thuộc phân loại (tính năng) và một hoặc nhiều biến độc lập (tính năng) bằng cách ước tính xác suất sử dụng hàm logistic, là phân phối logistic tích lũy. Tham khảo [Wikipedia](https://en.wikipedia.org/wiki/Logistic_regression).\n",
        "\n",
        "Lưu ý điểm tin cậy do mô hình tạo ra dựa trên tập dữ liệu đào tạo của chúng tôi."
      ]
    },
    {
      "cell_type": "code",
      "execution_count": null,
      "metadata": {
        "_cell_guid": "0edd9322-db0b-9c37-172d-a3a4f8dec229",
        "_uuid": "a649b9c53f4c7b40694f60f5c8dc14ec5ef519ec",
        "collapsed": true,
        "jupyter": {
          "outputs_hidden": true
        },
        "id": "BAdsOp0inGkN"
      },
      "outputs": [],
      "source": [
        "# Logistic Regression\n",
        "\n",
        "logreg = LogisticRegression()\n",
        "logreg.fit(X_train, Y_train)\n",
        "Y_pred = logreg.predict(X_test)\n",
        "acc_log = round(logreg.score(X_train, Y_train) * 100, 2)\n",
        "acc_log"
      ]
    },
    {
      "cell_type": "markdown",
      "metadata": {
        "_cell_guid": "3af439ae-1f04-9236-cdc2-ec8170a0d4ee",
        "_uuid": "180e27c96c821656a84889f73986c6ddfff51ed3",
        "id": "-RRBeiuOnGkO"
      },
      "source": [
        "Chúng tôi có thể sử dụng Hồi quy logistic để xác thực các giả định và quyết định của mình đối với các mục tiêu tạo và hoàn thành tính năng. Điều này có thể được thực hiện bằng cách tính hệ số của các tính năng trong hàm quyết định.\n",
        "\n",
        "Các hệ số dương làm tăng tỷ lệ cược log của phản hồi (và do đó làm tăng xác suất) và các hệ số âm làm giảm tỷ lệ cược log của phản hồi (và do đó làm giảm xác suất).\n",
        "\n",
        "- Giới tính là hệ số tích cực cao nhất, có nghĩa là khi giá trị Giới tính tăng (nam: 0 đến nữ: 1) thì xác suất Sống sót=1 tăng nhiều nhất.\n",
        "- Ngược lại khi Pclass tăng thì xác suất Sống sót=1 giảm nhiều nhất.\n",
        "- Bằng cách này, Age*Class là một tính năng nhân tạo tốt để lập mô hình vì nó có mối tương quan tiêu cực cao thứ hai với Survived.\n",
        "- Tiêu đề cũng là tương quan tích cực cao thứ hai."
      ]
    },
    {
      "cell_type": "code",
      "execution_count": null,
      "metadata": {
        "_cell_guid": "e545d5aa-4767-7a41-5799-a4c5e529ce72",
        "_uuid": "6e6f58053fae405fc93d312fc999f3904e708dbe",
        "collapsed": true,
        "jupyter": {
          "outputs_hidden": true
        },
        "id": "8NaDKdw1nGkO"
      },
      "outputs": [],
      "source": [
        "coeff_df = pd.DataFrame(train_df.columns.delete(0))\n",
        "coeff_df.columns = ['Feature']\n",
        "coeff_df[\"Correlation\"] = pd.Series(logreg.coef_[0])\n",
        "\n",
        "coeff_df.sort_values(by='Correlation', ascending=False)"
      ]
    },
    {
      "cell_type": "markdown",
      "metadata": {
        "_cell_guid": "ac041064-1693-8584-156b-66674117e4d0",
        "_uuid": "ccba9ac0a9c3c648ef9bc778977ab99066ab3945",
        "id": "mXqV8zAHnGkO"
      },
      "source": [
        "Tiếp theo, chúng tôi lập mô hình bằng cách sử dụng Máy vectơ hỗ trợ, đây là mô hình học tập được giám sát với các thuật toán học tập liên quan để phân tích dữ liệu được sử dụng để phân loại và phân tích hồi quy. Đưa ra một tập hợp các mẫu đào tạo, mỗi mẫu được đánh dấu là thuộc về một hoặc một trong số **hai danh mục**, thuật toán đào tạo SVM xây dựng một mô hình gán các mẫu thử nghiệm mới cho danh mục này hoặc danh mục khác, biến nó thành một nhị phân phi xác suất phân loại tuyến tính. Tham khảo [Wikipedia](https://en.wikipedia.org/wiki/Support_vector_machine).\n",
        "\n",
        "Lưu ý rằng mô hình tạo ra điểm tin cậy cao hơn mô hình Hồi quy hậu cần."
      ]
    },
    {
      "cell_type": "code",
      "execution_count": null,
      "metadata": {
        "_cell_guid": "7a63bf04-a410-9c81-5310-bdef7963298f",
        "_uuid": "60039d5377da49f1aa9ac4a924331328bd69add1",
        "collapsed": true,
        "jupyter": {
          "outputs_hidden": true
        },
        "id": "L3h-ZpK4nGkO"
      },
      "outputs": [],
      "source": [
        "# Support Vector Machines\n",
        "\n",
        "svc = SVC()\n",
        "svc.fit(X_train, Y_train)\n",
        "Y_pred = svc.predict(X_test)\n",
        "acc_svc = round(svc.score(X_train, Y_train) * 100, 2)\n",
        "acc_svc"
      ]
    },
    {
      "cell_type": "markdown",
      "metadata": {
        "_cell_guid": "172a6286-d495-5ac4-1a9c-5b77b74ca6d2",
        "_uuid": "bb3ed027c45664148b61e3aa5e2ca8111aac8793",
        "id": "Ka9mYvtwnGkO"
      },
      "source": [
        "Trong nhận dạng mẫu, thuật toán k-Láng giềng gần nhất (hay gọi tắt là k-NN) là một phương pháp phi tham số được sử dụng để phân loại và hồi quy. Một mẫu được phân loại theo đa số phiếu bầu của các hàng xóm của nó, với mẫu được gán cho lớp phổ biến nhất trong số k hàng xóm gần nhất của nó (k là một số nguyên dương, thường nhỏ). Nếu k = 1, thì đối tượng được gán đơn giản vào lớp của hàng xóm gần nhất đó. Tham khảo [Wikipedia](https://en.wikipedia.org/wiki/K-nearest_neighbors_algorithm).\n",
        "\n",
        "Điểm tin cậy KNN tốt hơn Logistics Regression nhưng kém hơn SVM."
      ]
    },
    {
      "cell_type": "code",
      "execution_count": null,
      "metadata": {
        "_cell_guid": "ca14ae53-f05e-eb73-201c-064d7c3ed610",
        "_uuid": "54d86cd45703d459d452f89572771deaa8877999",
        "collapsed": true,
        "jupyter": {
          "outputs_hidden": true
        },
        "id": "a7UFoh6unGkO"
      },
      "outputs": [],
      "source": [
        "knn = KNeighborsClassifier(n_neighbors = 3)\n",
        "knn.fit(X_train, Y_train)\n",
        "Y_pred = knn.predict(X_test)\n",
        "acc_knn = round(knn.score(X_train, Y_train) * 100, 2)\n",
        "acc_knn"
      ]
    },
    {
      "cell_type": "markdown",
      "metadata": {
        "_cell_guid": "810f723d-2313-8dfd-e3e2-26673b9caa90",
        "_uuid": "1535f18113f851e480cd53e0c612dc05835690f3",
        "id": "ZhRHyR51nGkP"
      },
      "source": [
        "Trong học máy, bộ phân loại Bayes ngây thơ là một họ các bộ phân loại xác suất đơn giản dựa trên việc áp dụng định lý Bayes với các giả định độc lập (ngây thơ) mạnh mẽ giữa các tính năng. Bộ phân loại Naive Bayes có khả năng mở rộng cao, yêu cầu một số tham số tuyến tính trong số lượng biến (đặc trưng) trong một vấn đề học tập. Tham khảo [Wikipedia](https://en.wikipedia.org/wiki/Naive_Bayes_classifier).\n",
        "\n",
        "Điểm tin cậy do mô hình tạo ra là thấp nhất trong số các mô hình được đánh giá cho đến nay."
      ]
    },
    {
      "cell_type": "code",
      "execution_count": null,
      "metadata": {
        "_cell_guid": "50378071-7043-ed8d-a782-70c947520dae",
        "_uuid": "723c835c29e8727bc9bad4b564731f2ca98025d0",
        "collapsed": true,
        "jupyter": {
          "outputs_hidden": true
        },
        "id": "JmUsj18nnGkP"
      },
      "outputs": [],
      "source": [
        "# Gaussian Naive Bayes\n",
        "\n",
        "gaussian = GaussianNB()\n",
        "gaussian.fit(X_train, Y_train)\n",
        "Y_pred = gaussian.predict(X_test)\n",
        "acc_gaussian = round(gaussian.score(X_train, Y_train) * 100, 2)\n",
        "acc_gaussian"
      ]
    },
    {
      "cell_type": "markdown",
      "metadata": {
        "_cell_guid": "1e286e19-b714-385a-fcfa-8cf5ec19956a",
        "_uuid": "df148bf93e11c9ec2c97162d5c0c0605b75d9334",
        "id": "g1qzWdZ-nGkP"
      },
      "source": [
        "Perceptron là một thuật toán để học có giám sát các bộ phân loại nhị phân (các hàm có thể quyết định liệu đầu vào, được biểu thị bằng một vectơ số, có thuộc về một số lớp cụ thể hay không). Nó là một loại trình phân loại tuyến tính, tức là thuật toán phân loại đưa ra dự đoán của nó dựa trên hàm dự đoán tuyến tính kết hợp một tập hợp các trọng số với vectơ đặc trưng. Thuật toán cho phép học trực tuyến, trong đó nó xử lý từng phần tử trong tập huấn luyện. Tham khảo [Wikipedia](https://en.wikipedia.org/wiki/Perceptron)."
      ]
    },
    {
      "cell_type": "code",
      "execution_count": null,
      "metadata": {
        "_cell_guid": "ccc22a86-b7cb-c2dd-74bd-53b218d6ed0d",
        "_uuid": "c19d08949f9c3a26931e28adedc848b4deaa8ab6",
        "collapsed": true,
        "jupyter": {
          "outputs_hidden": true
        },
        "id": "AgnHTeBTnGkP"
      },
      "outputs": [],
      "source": [
        "# Perceptron\n",
        "\n",
        "perceptron = Perceptron()\n",
        "perceptron.fit(X_train, Y_train)\n",
        "Y_pred = perceptron.predict(X_test)\n",
        "acc_perceptron = round(perceptron.score(X_train, Y_train) * 100, 2)\n",
        "acc_perceptron"
      ]
    },
    {
      "cell_type": "code",
      "execution_count": null,
      "metadata": {
        "_cell_guid": "a4d56857-9432-55bb-14c0-52ebeb64d198",
        "_uuid": "52ea4f44dd626448dd2199cb284b592670b1394b",
        "collapsed": true,
        "jupyter": {
          "outputs_hidden": true
        },
        "id": "S_oUwpZ5nGkP"
      },
      "outputs": [],
      "source": [
        "# Linear SVC\n",
        "\n",
        "linear_svc = LinearSVC()\n",
        "linear_svc.fit(X_train, Y_train)\n",
        "Y_pred = linear_svc.predict(X_test)\n",
        "acc_linear_svc = round(linear_svc.score(X_train, Y_train) * 100, 2)\n",
        "acc_linear_svc"
      ]
    },
    {
      "cell_type": "code",
      "execution_count": null,
      "metadata": {
        "_cell_guid": "dc98ed72-3aeb-861f-804d-b6e3d178bf4b",
        "_uuid": "3a016c1f24da59c85648204302d61ea15920e740",
        "collapsed": true,
        "jupyter": {
          "outputs_hidden": true
        },
        "id": "0ZrSB0c-nGkP"
      },
      "outputs": [],
      "source": [
        "# Stochastic Gradient Descent\n",
        "\n",
        "sgd = SGDClassifier()\n",
        "sgd.fit(X_train, Y_train)\n",
        "Y_pred = sgd.predict(X_test)\n",
        "acc_sgd = round(sgd.score(X_train, Y_train) * 100, 2)\n",
        "acc_sgd"
      ]
    },
    {
      "cell_type": "markdown",
      "metadata": {
        "_cell_guid": "bae7f8d7-9da0-f4fd-bdb1-d97e719a18d7",
        "_uuid": "1c70e99920ae34adce03aaef38d61e2b83ff6a9c",
        "id": "mA5M1cZBnGkP"
      },
      "source": [
        "Mô hình này sử dụng cây quyết định làm mô hình dự đoán ánh xạ các đặc điểm (nhánh cây) để đưa ra kết luận về giá trị mục tiêu (lá cây). Các mô hình cây trong đó biến mục tiêu có thể nhận một tập hợp hữu hạn các giá trị được gọi là cây phân loại; trong các cấu trúc cây này, các lá biểu thị các nhãn lớp và các nhánh biểu thị các liên kết của các đặc trưng dẫn đến các nhãn lớp đó. Cây quyết định trong đó biến mục tiêu có thể nhận các giá trị liên tục (thường là số thực) được gọi là cây hồi quy. Tham khảo [Wikipedia](https://en.wikipedia.org/wiki/Decision_tree_learning).\n",
        "\n",
        "Điểm tin cậy của mô hình là cao nhất trong số các mô hình được đánh giá cho đến nay."
      ]
    },
    {
      "cell_type": "code",
      "execution_count": null,
      "metadata": {
        "_cell_guid": "dd85f2b7-ace2-0306-b4ec-79c68cd3fea0",
        "_uuid": "1f94308b23b934123c03067e84027b507b989e52",
        "collapsed": true,
        "jupyter": {
          "outputs_hidden": true
        },
        "id": "QaGG-oRnnGkQ"
      },
      "outputs": [],
      "source": [
        "# Decision Tree\n",
        "\n",
        "decision_tree = DecisionTreeClassifier()\n",
        "decision_tree.fit(X_train, Y_train)\n",
        "Y_pred = decision_tree.predict(X_test)\n",
        "acc_decision_tree = round(decision_tree.score(X_train, Y_train) * 100, 2)\n",
        "acc_decision_tree"
      ]
    },
    {
      "cell_type": "markdown",
      "metadata": {
        "_cell_guid": "85693668-0cd5-4319-7768-eddb62d2b7d0",
        "_uuid": "24f4e46f202a858076be91752170cad52aa9aefa",
        "id": "y9tbdNgVnGkQ"
      },
      "source": [
        "Mô hình Rừng ngẫu nhiên tiếp theo là một trong những mô hình phổ biến nhất. Rừng ngẫu nhiên hoặc rừng quyết định ngẫu nhiên là một phương pháp học tập đồng bộ để phân loại, hồi quy và các nhiệm vụ khác, hoạt động bằng cách xây dựng vô số cây quyết định (n_estimators=100) tại thời điểm đào tạo và xuất ra lớp là chế độ của các lớp (phân loại) hoặc dự đoán trung bình (hồi quy) của từng cây riêng lẻ. Tham khảo [Wikipedia](https://en.wikipedia.org/wiki/Random_forest).\n",
        "\n",
        "Điểm tin cậy của mô hình là cao nhất trong số các mô hình được đánh giá cho đến nay. Chúng tôi quyết định sử dụng đầu ra của mô hình này (Y_pred) để tạo kết quả gửi cho cuộc thi của chúng tôi."
      ]
    },
    {
      "cell_type": "code",
      "execution_count": null,
      "metadata": {
        "_cell_guid": "f0694a8e-b618-8ed9-6f0d-8c6fba2c4567",
        "_uuid": "483c647d2759a2703d20785a44f51b6dee47d0db",
        "collapsed": true,
        "jupyter": {
          "outputs_hidden": true
        },
        "id": "M3xmP1ZFnGkQ"
      },
      "outputs": [],
      "source": [
        "# Random Forest\n",
        "\n",
        "random_forest = RandomForestClassifier(n_estimators=100)\n",
        "random_forest.fit(X_train, Y_train)\n",
        "Y_pred = random_forest.predict(X_test)\n",
        "random_forest.score(X_train, Y_train)\n",
        "acc_random_forest = round(random_forest.score(X_train, Y_train) * 100, 2)\n",
        "acc_random_forest"
      ]
    },
    {
      "cell_type": "markdown",
      "metadata": {
        "_cell_guid": "f6c9eef8-83dd-581c-2d8e-ce932fe3a44d",
        "_uuid": "2c1428d022430ea594af983a433757e11b47c50c",
        "id": "udTjxQZsnGkQ"
      },
      "source": [
        "### Đánh giá mô hình\n",
        "\n",
        "Bây giờ chúng ta có thể xếp hạng đánh giá của mình về tất cả các mô hình để chọn mô hình tốt nhất cho vấn đề của mình. Mặc dù cả Cây quyết định và Rừng ngẫu nhiên đều có điểm số như nhau, nhưng chúng tôi chọn sử dụng Rừng ngẫu nhiên vì chúng khắc phục thói quen khớp quá mức của cây quyết định với tập huấn luyện của chúng."
      ]
    },
    {
      "cell_type": "code",
      "execution_count": null,
      "metadata": {
        "_cell_guid": "1f3cebe0-31af-70b2-1ce4-0fd406bcdfc6",
        "_uuid": "06a52babe50e0dd837b553c78fc73872168e1c7d",
        "collapsed": true,
        "jupyter": {
          "outputs_hidden": true
        },
        "id": "3o__tCiinGkQ"
      },
      "outputs": [],
      "source": [
        "models = pd.DataFrame({\n",
        "    'Model': ['Support Vector Machines', 'KNN', 'Logistic Regression',\n",
        "              'Random Forest', 'Naive Bayes', 'Perceptron',\n",
        "              'Stochastic Gradient Decent', 'Linear SVC',\n",
        "              'Decision Tree'],\n",
        "    'Score': [acc_svc, acc_knn, acc_log,\n",
        "              acc_random_forest, acc_gaussian, acc_perceptron,\n",
        "              acc_sgd, acc_linear_svc, acc_decision_tree]})\n",
        "models.sort_values(by='Score', ascending=False)"
      ]
    },
    {
      "cell_type": "code",
      "execution_count": null,
      "metadata": {
        "_cell_guid": "28854d36-051f-3ef0-5535-fa5ba6a9bef7",
        "_uuid": "82b31ea933b3026bd038a8370d651efdcdb3e4d7",
        "collapsed": true,
        "jupyter": {
          "outputs_hidden": true
        },
        "id": "5ybkO5gDnGkR"
      },
      "outputs": [],
      "source": [
        "submission = pd.DataFrame({\n",
        "        \"PassengerId\": test_df[\"PassengerId\"],\n",
        "        \"Survived\": Y_pred\n",
        "    })\n",
        "# submission.to_csv('../output/submission.csv', index=False)"
      ]
    },
    {
      "cell_type": "markdown",
      "metadata": {
        "_cell_guid": "fcfc8d9f-e955-cf70-5843-1fb764c54699",
        "_uuid": "0523a03b329df58c33ed672e5fb6cd2c9af1cae3",
        "id": "lBIjuGRsnGkR"
      },
      "source": [
        "Việc chúng tôi gửi đến trang web cuộc thi Kaggle dẫn đến việc ghi được 3.883 trong số 6.082 mục dự thi. Kết quả này mang tính biểu thị trong khi cuộc thi đang diễn ra. Kết quả này chỉ chiếm một phần của tập dữ liệu đệ trình. Không tệ cho nỗ lực đầu tiên của chúng tôi. Mọi đề xuất để cải thiện điểm số của chúng tôi đều được hoan nghênh nhất."
      ]
    },
    {
      "cell_type": "markdown",
      "metadata": {
        "_cell_guid": "aeec9210-f9d8-cd7c-c4cf-a87376d5f693",
        "_uuid": "cdae56d6adbfb15ff9c491c645ae46e2c91d75ce",
        "id": "5KMxTa1mnGkR"
      },
      "source": [
        "## References\n",
        "\n",
        "This notebook has been created based on great work done solving the Titanic competition and other sources.\n",
        "\n",
        "- [A journey through Titanic](https://www.kaggle.com/omarelgabry/titanic/a-journey-through-titanic)\n",
        "- [Getting Started with Pandas: Kaggle's Titanic Competition](https://www.kaggle.com/c/titanic/details/getting-started-with-random-forests)\n",
        "- [Titanic Best Working Classifier](https://www.kaggle.com/sinakhorami/titanic/titanic-best-working-classifier)"
      ]
    }
  ],
  "metadata": {
    "_change_revision": 0,
    "_is_fork": false,
    "kernelspec": {
      "display_name": "Python 3",
      "language": "python",
      "name": "python3"
    },
    "language_info": {
      "codemirror_mode": {
        "name": "ipython",
        "version": 3
      },
      "file_extension": ".py",
      "mimetype": "text/x-python",
      "name": "python",
      "nbconvert_exporter": "python",
      "pygments_lexer": "ipython3",
      "version": "3.6.6"
    },
    "colab": {
      "provenance": []
    }
  },
  "nbformat": 4,
  "nbformat_minor": 0
}