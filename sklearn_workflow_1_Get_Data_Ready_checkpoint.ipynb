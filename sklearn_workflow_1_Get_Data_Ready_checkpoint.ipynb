{
  "nbformat": 4,
  "nbformat_minor": 5,
  "metadata": {
    "kernelspec": {
      "display_name": "Python 3",
      "language": "python",
      "name": "python3"
    },
    "language_info": {
      "codemirror_mode": {
        "name": "ipython",
        "version": 3
      },
      "file_extension": ".py",
      "mimetype": "text/x-python",
      "name": "python",
      "nbconvert_exporter": "python",
      "pygments_lexer": "ipython3",
      "version": "3.9.2"
    },
    "colab": {
      "provenance": []
    }
  },
  "cells": [
    {
      "cell_type": "markdown",
      "metadata": {
        "id": "sublime-register"
      },
      "source": [
        "# Introduction to Scikit-Learn (sklearn)\n",
        "\n",
        "This notebook demonstates some of the most useful functions of the Sklearn Lib\n",
        "\n",
        "Cover:\n",
        "\n",
        "0. End-to_end Scikit-Learn Workflow\n",
        "1. Getting Data Ready\n",
        "2. Choose the right estimator/algorithm for our problems\n",
        "3. Fit the model/algorithm and use it to make predictions on our data\n",
        "4. Evaluation a model\n",
        "5. Improve a model\n",
        "6. Save and load a trained model\n",
        "7. Put it all together!"
      ],
      "id": "sublime-register"
    },
    {
      "cell_type": "markdown",
      "metadata": {
        "id": "raising-nutrition"
      },
      "source": [
        "## 0. An end-to-end scikit-learn workflow"
      ],
      "id": "raising-nutrition"
    },
    {
      "cell_type": "code",
      "metadata": {
        "id": "annoying-macedonia"
      },
      "source": [
        "# 1. Get the data ready\n",
        "\n",
        "# Standard import\n",
        "import pandas as pd\n",
        "import numpy as np\n",
        "import matplotlib.pyplot as plt\n",
        "\n",
        "%matplotlib inline"
      ],
      "id": "annoying-macedonia",
      "execution_count": null,
      "outputs": []
    },
    {
      "cell_type": "code",
      "metadata": {
        "colab": {
          "base_uri": "https://localhost:8080/",
          "height": 206
        },
        "id": "abroad-prediction",
        "outputId": "8125a0fc-5832-49ea-f2c8-d83c61bd2f5d"
      },
      "source": [
        "heart_disease = pd.read_csv(\"./data/heart-disease.csv\")\n",
        "heart_disease.head()"
      ],
      "id": "abroad-prediction",
      "execution_count": null,
      "outputs": [
        {
          "output_type": "execute_result",
          "data": {
            "text/html": [
              "<div>\n",
              "<style scoped>\n",
              "    .dataframe tbody tr th:only-of-type {\n",
              "        vertical-align: middle;\n",
              "    }\n",
              "\n",
              "    .dataframe tbody tr th {\n",
              "        vertical-align: top;\n",
              "    }\n",
              "\n",
              "    .dataframe thead th {\n",
              "        text-align: right;\n",
              "    }\n",
              "</style>\n",
              "<table border=\"1\" class=\"dataframe\">\n",
              "  <thead>\n",
              "    <tr style=\"text-align: right;\">\n",
              "      <th></th>\n",
              "      <th>age</th>\n",
              "      <th>sex</th>\n",
              "      <th>cp</th>\n",
              "      <th>trestbps</th>\n",
              "      <th>chol</th>\n",
              "      <th>fbs</th>\n",
              "      <th>restecg</th>\n",
              "      <th>thalach</th>\n",
              "      <th>exang</th>\n",
              "      <th>oldpeak</th>\n",
              "      <th>slope</th>\n",
              "      <th>ca</th>\n",
              "      <th>thal</th>\n",
              "      <th>target</th>\n",
              "    </tr>\n",
              "  </thead>\n",
              "  <tbody>\n",
              "    <tr>\n",
              "      <th>0</th>\n",
              "      <td>63</td>\n",
              "      <td>1</td>\n",
              "      <td>3</td>\n",
              "      <td>145</td>\n",
              "      <td>233</td>\n",
              "      <td>1</td>\n",
              "      <td>0</td>\n",
              "      <td>150</td>\n",
              "      <td>0</td>\n",
              "      <td>2.3</td>\n",
              "      <td>0</td>\n",
              "      <td>0</td>\n",
              "      <td>1</td>\n",
              "      <td>1</td>\n",
              "    </tr>\n",
              "    <tr>\n",
              "      <th>1</th>\n",
              "      <td>37</td>\n",
              "      <td>1</td>\n",
              "      <td>2</td>\n",
              "      <td>130</td>\n",
              "      <td>250</td>\n",
              "      <td>0</td>\n",
              "      <td>1</td>\n",
              "      <td>187</td>\n",
              "      <td>0</td>\n",
              "      <td>3.5</td>\n",
              "      <td>0</td>\n",
              "      <td>0</td>\n",
              "      <td>2</td>\n",
              "      <td>1</td>\n",
              "    </tr>\n",
              "    <tr>\n",
              "      <th>2</th>\n",
              "      <td>41</td>\n",
              "      <td>0</td>\n",
              "      <td>1</td>\n",
              "      <td>130</td>\n",
              "      <td>204</td>\n",
              "      <td>0</td>\n",
              "      <td>0</td>\n",
              "      <td>172</td>\n",
              "      <td>0</td>\n",
              "      <td>1.4</td>\n",
              "      <td>2</td>\n",
              "      <td>0</td>\n",
              "      <td>2</td>\n",
              "      <td>1</td>\n",
              "    </tr>\n",
              "    <tr>\n",
              "      <th>3</th>\n",
              "      <td>56</td>\n",
              "      <td>1</td>\n",
              "      <td>1</td>\n",
              "      <td>120</td>\n",
              "      <td>236</td>\n",
              "      <td>0</td>\n",
              "      <td>1</td>\n",
              "      <td>178</td>\n",
              "      <td>0</td>\n",
              "      <td>0.8</td>\n",
              "      <td>2</td>\n",
              "      <td>0</td>\n",
              "      <td>2</td>\n",
              "      <td>1</td>\n",
              "    </tr>\n",
              "    <tr>\n",
              "      <th>4</th>\n",
              "      <td>57</td>\n",
              "      <td>0</td>\n",
              "      <td>0</td>\n",
              "      <td>120</td>\n",
              "      <td>354</td>\n",
              "      <td>0</td>\n",
              "      <td>1</td>\n",
              "      <td>163</td>\n",
              "      <td>1</td>\n",
              "      <td>0.6</td>\n",
              "      <td>2</td>\n",
              "      <td>0</td>\n",
              "      <td>2</td>\n",
              "      <td>1</td>\n",
              "    </tr>\n",
              "  </tbody>\n",
              "</table>\n",
              "</div>"
            ],
            "text/plain": [
              "   age  sex  cp  trestbps  chol  fbs  ...  exang  oldpeak  slope  ca  thal  target\n",
              "0   63    1   3       145   233    1  ...      0      2.3      0   0     1       1\n",
              "1   37    1   2       130   250    0  ...      0      3.5      0   0     2       1\n",
              "2   41    0   1       130   204    0  ...      0      1.4      2   0     2       1\n",
              "3   56    1   1       120   236    0  ...      0      0.8      2   0     2       1\n",
              "4   57    0   0       120   354    0  ...      1      0.6      2   0     2       1\n",
              "\n",
              "[5 rows x 14 columns]"
            ]
          },
          "metadata": {},
          "execution_count": 2
        }
      ]
    },
    {
      "cell_type": "markdown",
      "metadata": {
        "id": "greenhouse-ticket"
      },
      "source": [
        "## 1. Getting Data Ready:\n",
        "\n",
        "Three main thins we have to do:\n",
        "1. Split the data into features and labels (Usually `X` and `y`)\n",
        "2. Filling (also called imputing) or disregarding missing values\n",
        "3. Converting non-numerical values to numerical values (a.k.a. feature encoding)"
      ],
      "id": "greenhouse-ticket"
    },
    {
      "cell_type": "code",
      "metadata": {
        "id": "prescription-vertical"
      },
      "source": [
        "# Create X (features matrix)\n",
        "X = heart_disease.drop(\"target\", axis = 1) # Remove 'target' column\n",
        "\n",
        "# Create y (lables)\n",
        "y = heart_disease[\"target\"]"
      ],
      "id": "prescription-vertical",
      "execution_count": null,
      "outputs": []
    },
    {
      "cell_type": "code",
      "metadata": {
        "id": "scenic-baking"
      },
      "source": [
        "# Split the data into training and test sets\n",
        "from sklearn.model_selection import train_test_split\n",
        "\n",
        "X_train, X_test, y_train, y_test = train_test_split(X,y, test_size=0.2)"
      ],
      "id": "scenic-baking",
      "execution_count": null,
      "outputs": []
    },
    {
      "cell_type": "code",
      "metadata": {
        "colab": {
          "base_uri": "https://localhost:8080/"
        },
        "id": "raising-gibraltar",
        "outputId": "23597d7c-bb38-4aec-cccb-de8b4385cb44"
      },
      "source": [
        "X_train.shape, X_test.shape, y_train.shape, y_test.shape"
      ],
      "id": "raising-gibraltar",
      "execution_count": null,
      "outputs": [
        {
          "output_type": "execute_result",
          "data": {
            "text/plain": [
              "((242, 13), (61, 13), (242,), (61,))"
            ]
          },
          "metadata": {},
          "execution_count": 5
        }
      ]
    },
    {
      "cell_type": "code",
      "metadata": {
        "colab": {
          "base_uri": "https://localhost:8080/"
        },
        "id": "historic-sarah",
        "outputId": "111894c0-dd05-4aef-8bb2-af34c840d89a"
      },
      "source": [
        "# 2. Chose the right model and hyper-parameters\n",
        "\n",
        "from sklearn.ensemble import RandomForestClassifier\n",
        "\n",
        "clf = RandomForestClassifier() #clf = classifer\n",
        "\n",
        "# We'll keep the default hyper-parametters\n",
        "clf.get_params()"
      ],
      "id": "historic-sarah",
      "execution_count": null,
      "outputs": [
        {
          "output_type": "execute_result",
          "data": {
            "text/plain": [
              "{'bootstrap': True,\n",
              " 'ccp_alpha': 0.0,\n",
              " 'class_weight': None,\n",
              " 'criterion': 'gini',\n",
              " 'max_depth': None,\n",
              " 'max_features': 'auto',\n",
              " 'max_leaf_nodes': None,\n",
              " 'max_samples': None,\n",
              " 'min_impurity_decrease': 0.0,\n",
              " 'min_samples_leaf': 1,\n",
              " 'min_samples_split': 2,\n",
              " 'min_weight_fraction_leaf': 0.0,\n",
              " 'n_estimators': 100,\n",
              " 'n_jobs': None,\n",
              " 'oob_score': False,\n",
              " 'random_state': None,\n",
              " 'verbose': 0,\n",
              " 'warm_start': False}"
            ]
          },
          "metadata": {},
          "execution_count": 6
        }
      ]
    },
    {
      "cell_type": "code",
      "metadata": {
        "id": "saving-malpractice"
      },
      "source": [
        "# import warnings\n",
        "# # warnings.filterwarnings(\"ignore\") # to ignore the warning\n",
        "# # warnings.filterwarnings(\"default\")"
      ],
      "id": "saving-malpractice",
      "execution_count": null,
      "outputs": []
    },
    {
      "cell_type": "code",
      "metadata": {
        "id": "suburban-congo"
      },
      "source": [
        "# 3. Fit the model to the training data\n",
        "\n",
        "clf.fit(X_train, y_train);"
      ],
      "id": "suburban-congo",
      "execution_count": null,
      "outputs": []
    },
    {
      "cell_type": "code",
      "metadata": {
        "id": "comic-hydrogen"
      },
      "source": [],
      "id": "comic-hydrogen",
      "execution_count": null,
      "outputs": []
    },
    {
      "cell_type": "code",
      "metadata": {
        "colab": {
          "base_uri": "https://localhost:8080/"
        },
        "id": "impressive-israel",
        "outputId": "cf6108a3-d91e-43ac-ff5c-984d8529cfc6"
      },
      "source": [
        "# Make a prediction\n",
        "y_preds = clf.predict(X_test)\n",
        "y_preds"
      ],
      "id": "impressive-israel",
      "execution_count": null,
      "outputs": [
        {
          "output_type": "execute_result",
          "data": {
            "text/plain": [
              "array([1, 1, 0, 1, 0, 0, 0, 0, 0, 1, 1, 1, 1, 1, 1, 0, 1, 1, 1, 0, 1, 0,\n",
              "       0, 0, 0, 1, 1, 1, 1, 0, 0, 1, 1, 0, 0, 0, 1, 0, 1, 0, 1, 0, 1, 1,\n",
              "       1, 1, 0, 1, 1, 0, 1, 0, 0, 1, 0, 0, 1, 1, 1, 1, 1])"
            ]
          },
          "metadata": {},
          "execution_count": 9
        }
      ]
    },
    {
      "cell_type": "code",
      "metadata": {
        "colab": {
          "base_uri": "https://localhost:8080/"
        },
        "id": "pointed-valentine",
        "outputId": "4812e574-ed2a-49c7-e630-2ff18fc83f34"
      },
      "source": [
        "# 4. Evaludate the model on the training data and test data\n",
        "clf.score(X_test, y_test)"
      ],
      "id": "pointed-valentine",
      "execution_count": null,
      "outputs": [
        {
          "output_type": "execute_result",
          "data": {
            "text/plain": [
              "0.7868852459016393"
            ]
          },
          "metadata": {},
          "execution_count": 10
        }
      ]
    },
    {
      "cell_type": "code",
      "metadata": {
        "colab": {
          "base_uri": "https://localhost:8080/"
        },
        "id": "realistic-hartford",
        "outputId": "bf76bc88-3373-46f2-ea2e-3715fe901a1d"
      },
      "source": [
        "clf.score(X_train, y_train)"
      ],
      "id": "realistic-hartford",
      "execution_count": null,
      "outputs": [
        {
          "output_type": "execute_result",
          "data": {
            "text/plain": [
              "1.0"
            ]
          },
          "metadata": {},
          "execution_count": 11
        }
      ]
    },
    {
      "cell_type": "code",
      "metadata": {
        "colab": {
          "base_uri": "https://localhost:8080/"
        },
        "id": "typical-cinema",
        "outputId": "454044ea-a0b3-4f60-84a5-f9f4c1f7f317"
      },
      "source": [
        "from sklearn.metrics import classification_report, confusion_matrix, accuracy_score\n",
        "\n",
        "print(classification_report(y_test, y_preds))"
      ],
      "id": "typical-cinema",
      "execution_count": null,
      "outputs": [
        {
          "output_type": "stream",
          "name": "stdout",
          "text": [
            "              precision    recall  f1-score   support\n",
            "\n",
            "           0       0.77      0.74      0.75        27\n",
            "           1       0.80      0.82      0.81        34\n",
            "\n",
            "    accuracy                           0.79        61\n",
            "   macro avg       0.78      0.78      0.78        61\n",
            "weighted avg       0.79      0.79      0.79        61\n",
            "\n"
          ]
        }
      ]
    },
    {
      "cell_type": "code",
      "metadata": {
        "colab": {
          "base_uri": "https://localhost:8080/"
        },
        "id": "ancient-broad",
        "outputId": "2621579d-ebed-4107-f537-1b2b11a4d791"
      },
      "source": [
        "confusion_matrix(y_test, y_preds)"
      ],
      "id": "ancient-broad",
      "execution_count": null,
      "outputs": [
        {
          "output_type": "execute_result",
          "data": {
            "text/plain": [
              "array([[20,  7],\n",
              "       [ 6, 28]])"
            ]
          },
          "metadata": {},
          "execution_count": 13
        }
      ]
    },
    {
      "cell_type": "code",
      "metadata": {
        "colab": {
          "base_uri": "https://localhost:8080/"
        },
        "id": "disabled-richardson",
        "outputId": "c8f758ca-4d25-4c4d-a86d-d87d36811099"
      },
      "source": [
        "accuracy_score(y_test, y_preds)"
      ],
      "id": "disabled-richardson",
      "execution_count": null,
      "outputs": [
        {
          "output_type": "execute_result",
          "data": {
            "text/plain": [
              "0.7868852459016393"
            ]
          },
          "metadata": {},
          "execution_count": 14
        }
      ]
    },
    {
      "cell_type": "code",
      "metadata": {
        "colab": {
          "base_uri": "https://localhost:8080/"
        },
        "id": "vietnamese-liechtenstein",
        "outputId": "04f0ac8f-d9bb-4b07-b654-d57811616a2c"
      },
      "source": [
        "# 5. Improve a model\n",
        "# Try different amount of n_estimators\n",
        "\n",
        "np.random.seed(42)\n",
        "\n",
        "for i in range(10,100, 10):\n",
        "    print(f\"Trying model with {i} estimators...\")\n",
        "    clf = RandomForestClassifier(n_estimators=i)\n",
        "    clf.fit(X_train, y_train);\n",
        "    print(f\"Model accuracy on test set: {clf.score(X_test, y_test)*100:2f}\")\n",
        "    print(\"\")"
      ],
      "id": "vietnamese-liechtenstein",
      "execution_count": null,
      "outputs": [
        {
          "output_type": "stream",
          "name": "stdout",
          "text": [
            "Trying model with 10 estimators...\n",
            "Model accuracy on test set: 78.688525\n",
            "\n",
            "Trying model with 20 estimators...\n",
            "Model accuracy on test set: 77.049180\n",
            "\n",
            "Trying model with 30 estimators...\n",
            "Model accuracy on test set: 75.409836\n",
            "\n",
            "Trying model with 40 estimators...\n",
            "Model accuracy on test set: 75.409836\n",
            "\n",
            "Trying model with 50 estimators...\n",
            "Model accuracy on test set: 80.327869\n",
            "\n",
            "Trying model with 60 estimators...\n",
            "Model accuracy on test set: 80.327869\n",
            "\n",
            "Trying model with 70 estimators...\n",
            "Model accuracy on test set: 81.967213\n",
            "\n",
            "Trying model with 80 estimators...\n",
            "Model accuracy on test set: 80.327869\n",
            "\n",
            "Trying model with 90 estimators...\n",
            "Model accuracy on test set: 81.967213\n",
            "\n"
          ]
        }
      ]
    },
    {
      "cell_type": "code",
      "metadata": {
        "id": "viral-links"
      },
      "source": [
        "# 6. Save a model and load it\n",
        "\n",
        "import pickle\n",
        "pickle.dump(clf, open(\"random_forest_model_1.pkl\", \"wb\"))"
      ],
      "id": "viral-links",
      "execution_count": null,
      "outputs": []
    },
    {
      "cell_type": "code",
      "metadata": {
        "id": "transparent-peter"
      },
      "source": [
        "loaded_model = pickle.load(open(\"random_forest_model_1.pkl\", \"rb\"))"
      ],
      "id": "transparent-peter",
      "execution_count": null,
      "outputs": []
    },
    {
      "cell_type": "code",
      "metadata": {
        "colab": {
          "base_uri": "https://localhost:8080/"
        },
        "id": "arranged-default",
        "outputId": "d4cbff42-8c1e-49d9-970c-ba4675ab24dc"
      },
      "source": [
        "loaded_model.score(X_test, y_test)"
      ],
      "id": "arranged-default",
      "execution_count": null,
      "outputs": [
        {
          "output_type": "execute_result",
          "data": {
            "text/plain": [
              "0.819672131147541"
            ]
          },
          "metadata": {},
          "execution_count": 19
        }
      ]
    },
    {
      "cell_type": "markdown",
      "metadata": {
        "id": "bound-accordance"
      },
      "source": [],
      "id": "bound-accordance"
    },
    {
      "cell_type": "code",
      "metadata": {
        "id": "complex-camera"
      },
      "source": [],
      "id": "complex-camera",
      "execution_count": null,
      "outputs": []
    }
  ]
}