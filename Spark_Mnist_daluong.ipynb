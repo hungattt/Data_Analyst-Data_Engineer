{
  "nbformat": 4,
  "nbformat_minor": 0,
  "metadata": {
    "colab": {
      "provenance": []
    },
    "kernelspec": {
      "display_name": "Python 3",
      "name": "python3"
    },
    "language_info": {
      "name": "python"
    }
  },
  "cells": [
    {
      "cell_type": "code",
      "metadata": {
        "colab": {
          "base_uri": "https://localhost:8080/"
        },
        "id": "YG-P5owvKdVM",
        "outputId": "53a0a137-a552-453c-8e7c-248876d4cc15"
      },
      "source": [
        "!pip install pyspark\n",
        "!pip install pyspark[sql]"
      ],
      "execution_count": null,
      "outputs": [
        {
          "output_type": "stream",
          "text": [
            "Collecting pyspark\n",
            "\u001b[?25l  Downloading https://files.pythonhosted.org/packages/89/db/e18cfd78e408de957821ec5ca56de1250645b05f8523d169803d8df35a64/pyspark-3.1.2.tar.gz (212.4MB)\n",
            "\u001b[K     |████████████████████████████████| 212.4MB 69kB/s \n",
            "\u001b[?25hCollecting py4j==0.10.9\n",
            "\u001b[?25l  Downloading https://files.pythonhosted.org/packages/9e/b6/6a4fb90cd235dc8e265a6a2067f2a2c99f0d91787f06aca4bcf7c23f3f80/py4j-0.10.9-py2.py3-none-any.whl (198kB)\n",
            "\u001b[K     |████████████████████████████████| 204kB 42.0MB/s \n",
            "\u001b[?25hBuilding wheels for collected packages: pyspark\n",
            "  Building wheel for pyspark (setup.py) ... \u001b[?25l\u001b[?25hdone\n",
            "  Created wheel for pyspark: filename=pyspark-3.1.2-py2.py3-none-any.whl size=212880768 sha256=a0c5852ab8b8dae20a95d0675ac3363decc9eae195b6337d6703ab7acf16ceed\n",
            "  Stored in directory: /root/.cache/pip/wheels/40/1b/2c/30f43be2627857ab80062bef1527c0128f7b4070b6b2d02139\n",
            "Successfully built pyspark\n",
            "Installing collected packages: py4j, pyspark\n",
            "Successfully installed py4j-0.10.9 pyspark-3.1.2\n",
            "Requirement already satisfied: pyspark[sql] in /usr/local/lib/python3.7/dist-packages (3.1.2)\n",
            "Requirement already satisfied: py4j==0.10.9 in /usr/local/lib/python3.7/dist-packages (from pyspark[sql]) (0.10.9)\n",
            "Requirement already satisfied: pandas>=0.23.2; extra == \"sql\" in /usr/local/lib/python3.7/dist-packages (from pyspark[sql]) (1.1.5)\n",
            "Requirement already satisfied: pyarrow>=1.0.0; extra == \"sql\" in /usr/local/lib/python3.7/dist-packages (from pyspark[sql]) (3.0.0)\n",
            "Requirement already satisfied: pytz>=2017.2 in /usr/local/lib/python3.7/dist-packages (from pandas>=0.23.2; extra == \"sql\"->pyspark[sql]) (2018.9)\n",
            "Requirement already satisfied: python-dateutil>=2.7.3 in /usr/local/lib/python3.7/dist-packages (from pandas>=0.23.2; extra == \"sql\"->pyspark[sql]) (2.8.1)\n",
            "Requirement already satisfied: numpy>=1.15.4 in /usr/local/lib/python3.7/dist-packages (from pandas>=0.23.2; extra == \"sql\"->pyspark[sql]) (1.19.5)\n",
            "Requirement already satisfied: six>=1.5 in /usr/local/lib/python3.7/dist-packages (from python-dateutil>=2.7.3->pandas>=0.23.2; extra == \"sql\"->pyspark[sql]) (1.15.0)\n"
          ],
          "name": "stdout"
        }
      ]
    },
    {
      "cell_type": "code",
      "metadata": {
        "id": "pq5Jav6pKrcn"
      },
      "source": [
        "import csv\n",
        "import numpy as np\n",
        "import math\n",
        "from pyspark.sql import SparkSession\n",
        "from pyspark import SparkContext\n",
        "from pyspark.sql import SQLContext\n",
        "from datetime import datetime, date\n",
        "import pandas as pd\n",
        "from pyspark.sql import Row\n",
        "import cv2\n",
        "import matplotlib.pyplot as plt\n",
        "from time import clock\n",
        "from threading import Thread\n",
        "from multiprocessing.pool import ThreadPool"
      ],
      "execution_count": null,
      "outputs": []
    },
    {
      "cell_type": "code",
      "metadata": {
        "id": "0Un3JOEiKuum"
      },
      "source": [
        "def loadData():\n",
        "\n",
        "    img = cv2.imread('012345678910.png', 0)\n",
        "    # plt.imshow(img)\n",
        "    cells = [np.hsplit(row, 100) for row in np.vsplit(img, 50)]  # hsp:cot  vs vsp:dong => Cat tung anh nho\n",
        "    x = np.array(cells)\n",
        "    # print(type(x))\n",
        "    # print (x.shape)\n",
        "    data = x[:, :100].reshape(-1, 400).astype(np.float32)  # [:,:50] Lay 50 so dau tien\n",
        "    # print(data.shape)\n",
        "    data=pd.DataFrame(data)\n",
        "    # print(type(data))\n",
        "    k = 0\n",
        "    list = []\n",
        "    for i in range(1, 5001):\n",
        "        list.append(k)\n",
        "        if i % 500 == 0:\n",
        "            k = k + 1\n",
        "    # print(list)\n",
        "    list = np.array(list)\n",
        "    list.reshape(5000, -1)\n",
        "    list = pd.DataFrame(list)\n",
        "    data[\"400\"] = list\n",
        "    data=np.array(data)\n",
        "    spark = SparkSession.builder.getOrCreate()\n",
        "    sc = SparkContext.getOrCreate()\n",
        "    distData = sc.parallelize(data)\n",
        "    trainSet =distData.collect()\n",
        "    testSet =distData.take(26)\n",
        "    trainSet=(np.array(trainSet)).tolist()\n",
        "    testSet=(np.array(testSet)).tolist()\n",
        "    # print ('ve sau :',type (testSet))\n",
        "\n",
        "    return trainSet, testSet"
      ],
      "execution_count": null,
      "outputs": []
    },
    {
      "cell_type": "code",
      "metadata": {
        "id": "5HojSFLqK8P2"
      },
      "source": [
        "def loadData1():\n",
        "\n",
        "    img = cv2.imread('012345678910.png', 0)\n",
        "    # plt.imshow(img)\n",
        "    cells = [np.hsplit(row, 100) for row in np.vsplit(img, 50)]  # hsp:cot  vs vsp:dong => Cat tung anh nho\n",
        "    x = np.array(cells)\n",
        "    # print(type(x))\n",
        "    # print (x.shape)\n",
        "    data = x[:, :100].reshape(-1, 400).astype(np.float32)  # [:,:50] Lay 50 so dau tien\n",
        "    # print(data.shape)\n",
        "    data=pd.DataFrame(data)\n",
        "    # print(type(data))\n",
        "    k = 0\n",
        "    list = []\n",
        "    for i in range(1, 5001):\n",
        "        list.append(k)\n",
        "        if i % 500 == 0:\n",
        "            k = k + 1\n",
        "    # print(list)\n",
        "    list = np.array(list)\n",
        "    list.reshape(5000, -1)\n",
        "    list = pd.DataFrame(list)\n",
        "    data[\"400\"] = list\n",
        "    data=np.array(data)\n",
        "    spark = SparkSession.builder.getOrCreate()\n",
        "    sc = SparkContext.getOrCreate()\n",
        "    distData = sc.parallelize(data)\n",
        "    trainSet1 =distData.collect()\n",
        "    testSet1 =distData.take(13)\n",
        "    trainSet1=(np.array(trainSet1)).tolist()\n",
        "    testSet1=(np.array(testSet1)).tolist()\n",
        "    # print ('ve sau :',type (testSet))\n",
        "\n",
        "    return trainSet1, testSet1"
      ],
      "execution_count": null,
      "outputs": []
    },
    {
      "cell_type": "code",
      "metadata": {
        "id": "w60mAmh-LOr7"
      },
      "source": [
        "def calcDistancs(pointA, pointB, numOfFeature=400):\n",
        "\n",
        "    tmp = 0\n",
        "    for i in range(numOfFeature):\n",
        "        tmp += (float(pointA[i]) - float(pointB[i])) ** 2\n",
        "\n",
        "    return math.sqrt(tmp)"
      ],
      "execution_count": null,
      "outputs": []
    },
    {
      "cell_type": "code",
      "metadata": {
        "id": "VnalBTHDLQuq"
      },
      "source": [
        "def kNearestNeighbor(trainSet, point, k):\n",
        "\n",
        "    distances = []\n",
        "    for item in trainSet:\n",
        "        distances.append({\n",
        "            \"label\": item[-1],\n",
        "            \"value\": calcDistancs(item, point)\n",
        "        })\n",
        "    distances.sort(key=lambda x: x[\"value\"])\n",
        "    labels = [item[\"label\"] for item in distances]\n",
        "    return labels[:k]"
      ],
      "execution_count": null,
      "outputs": []
    },
    {
      "cell_type": "code",
      "metadata": {
        "id": "HHiPgiYpLVF_"
      },
      "source": [
        "def findMostOccur(arr):\n",
        "\n",
        "    labels = set(arr)\n",
        "    ans = \"\"\n",
        "    maxOccur = 0\n",
        "    for label in labels:\n",
        "        num = arr.count(label)\n",
        "        if num > maxOccur:\n",
        "            maxOccur = num\n",
        "            ans = label\n",
        "\n",
        "\n",
        "    return ans"
      ],
      "execution_count": null,
      "outputs": []
    },
    {
      "cell_type": "code",
      "metadata": {
        "id": "2PvHscvbLXU7"
      },
      "source": [
        "# if __name__ == \"__main__\":\n",
        "def thucthi(x):\n",
        "\n",
        "    trainSet, testSet = x\n",
        "    numOfRightAnwser = 0\n",
        "    for item in testSet:\n",
        "        knn = kNearestNeighbor(trainSet, item, 5)\n",
        "        answer = findMostOccur(knn)\n",
        "        numOfRightAnwser += item[-1] == answer\n",
        "        print(\"label: {} -> predicted: {}\".format(item[-1], answer))\n",
        "    print(\"Accuracy\", numOfRightAnwser/len(testSet))\n",
        ""
      ],
      "execution_count": null,
      "outputs": []
    },
    {
      "cell_type": "code",
      "metadata": {
        "colab": {
          "base_uri": "https://localhost:8080/"
        },
        "id": "psNISIX2LeuR",
        "outputId": "b1e8ae17-6d92-44ed-9670-fdc6120f8b66"
      },
      "source": [
        "from multiprocessing import Pool\n",
        "if __name__ == \"__main__\":\n",
        "    start1=clock()\n",
        "    with Pool(15) as p:\n",
        "        print(p.map(thucthi, [loadData()]))\n",
        "\n",
        "    # with ThreadPool(5) as p:\n",
        "    #     print(p.map(thucthi, [loadData()]))\n",
        "\n",
        "    # pool = ThreadPool(5)\n",
        "    # print(pool.map(thucthi, [loadData(),loadData1()]))\n",
        "    end1=clock()\n",
        "    duration1=end1-start1\n",
        "    print (\"duration can tinh la :\", duration1)"
      ],
      "execution_count": null,
      "outputs": [
        {
          "output_type": "stream",
          "text": [
            "/usr/local/lib/python3.7/dist-packages/ipykernel_launcher.py:3: DeprecationWarning: time.clock has been deprecated in Python 3.3 and will be removed from Python 3.8: use time.perf_counter or time.process_time instead\n",
            "  This is separate from the ipykernel package so we can avoid doing imports until\n"
          ],
          "name": "stderr"
        },
        {
          "output_type": "stream",
          "text": [
            "label: 0.0 -> predicted: 0.0\n",
            "label: 0.0 -> predicted: 0.0\n",
            "label: 0.0 -> predicted: 0.0\n",
            "label: 0.0 -> predicted: 0.0\n",
            "label: 0.0 -> predicted: 0.0\n",
            "label: 0.0 -> predicted: 0.0\n",
            "label: 0.0 -> predicted: 0.0\n",
            "label: 0.0 -> predicted: 0.0\n",
            "label: 0.0 -> predicted: 0.0\n",
            "label: 0.0 -> predicted: 0.0\n",
            "label: 0.0 -> predicted: 0.0\n",
            "label: 0.0 -> predicted: 0.0\n",
            "label: 0.0 -> predicted: 0.0\n",
            "label: 0.0 -> predicted: 0.0\n",
            "label: 0.0 -> predicted: 0.0\n",
            "label: 0.0 -> predicted: 0.0\n",
            "label: 0.0 -> predicted: 0.0\n",
            "label: 0.0 -> predicted: 0.0\n",
            "label: 0.0 -> predicted: 0.0\n",
            "label: 0.0 -> predicted: 0.0\n",
            "label: 0.0 -> predicted: 0.0\n",
            "label: 0.0 -> predicted: 0.0\n",
            "label: 0.0 -> predicted: 0.0\n",
            "label: 0.0 -> predicted: 0.0\n",
            "label: 0.0 -> predicted: 0.0\n",
            "label: 0.0 -> predicted: 0.0\n",
            "Accuracy 1.0\n",
            "[None]\n",
            "duration can tinh la : 0.9597410000000082\n"
          ],
          "name": "stdout"
        },
        {
          "output_type": "stream",
          "text": [
            "/usr/local/lib/python3.7/dist-packages/ipykernel_launcher.py:12: DeprecationWarning: time.clock has been deprecated in Python 3.3 and will be removed from Python 3.8: use time.perf_counter or time.process_time instead\n",
            "  if sys.path[0] == '':\n"
          ],
          "name": "stderr"
        }
      ]
    }
  ]
}