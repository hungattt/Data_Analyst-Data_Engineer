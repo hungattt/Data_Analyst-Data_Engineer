{
  "nbformat": 4,
  "nbformat_minor": 0,
  "metadata": {
    "kernelspec": {
      "display_name": "Python 3",
      "language": "python",
      "name": "python3"
    },
    "language_info": {
      "codemirror_mode": {
        "name": "ipython",
        "version": 3
      },
      "file_extension": ".py",
      "mimetype": "text/x-python",
      "name": "python",
      "nbconvert_exporter": "python",
      "pygments_lexer": "ipython3",
      "version": "3.8.5"
    },
    "colab": {
      "provenance": []
    }
  },
  "cells": [
    {
      "cell_type": "markdown",
      "metadata": {
        "id": "6mCXQ_CJGMzN"
      },
      "source": [
        "![rmotr](https://user-images.githubusercontent.com/7065401/52071918-bda15380-2562-11e9-828c-7f95297e4a82.png)\n",
        "<hr style=\"margin-bottom: 40px;\">\n",
        "\n",
        "# NumPy exercises\n"
      ]
    },
    {
      "cell_type": "code",
      "metadata": {
        "colab": {
          "base_uri": "https://localhost:8080/"
        },
        "id": "pNpaoiwkGMzS",
        "outputId": "d9618f57-b81d-499c-cd4c-e7f56b5f9e7c"
      },
      "source": [
        "# Import the numpy package under the name np\n",
        "import numpy as np\n",
        "\n",
        "# Print the numpy version and the configuration\n",
        "print(np.__version__)"
      ],
      "execution_count": null,
      "outputs": [
        {
          "output_type": "stream",
          "name": "stdout",
          "text": [
            "1.19.5\n"
          ]
        }
      ]
    },
    {
      "cell_type": "markdown",
      "metadata": {
        "id": "XaUAexO7GMzU"
      },
      "source": [
        "![purple-divider](https://user-images.githubusercontent.com/7065401/52071927-c1cd7100-2562-11e9-908a-dde91ba14e59.png)\n",
        "\n",
        "## Array creation"
      ]
    },
    {
      "cell_type": "markdown",
      "metadata": {
        "id": "H0IdYQqgGMzV"
      },
      "source": [
        "### Create a numpy array of size 10, filled with zeros."
      ]
    },
    {
      "cell_type": "code",
      "metadata": {
        "colab": {
          "base_uri": "https://localhost:8080/"
        },
        "id": "g70fGtqjGMzW",
        "outputId": "415d56f7-1ed2-4c5b-af58-acf81652b900"
      },
      "source": [
        "# your code goes here\n",
        "np.zeros(10)\n"
      ],
      "execution_count": null,
      "outputs": [
        {
          "output_type": "execute_result",
          "data": {
            "text/plain": [
              "array([0., 0., 0., 0., 0., 0., 0., 0., 0., 0.])"
            ]
          },
          "metadata": {},
          "execution_count": 2
        }
      ]
    },
    {
      "cell_type": "code",
      "metadata": {
        "cell_type": "solution",
        "colab": {
          "base_uri": "https://localhost:8080/"
        },
        "id": "wiAI62mVGMzZ",
        "outputId": "653cf888-2c4b-4b3c-fa0f-507eed1aaa5e"
      },
      "source": [
        "#np.array([0] * 10)\n",
        "np.zeros(10)"
      ],
      "execution_count": null,
      "outputs": [
        {
          "output_type": "execute_result",
          "data": {
            "text/plain": [
              "array([0., 0., 0., 0., 0., 0., 0., 0., 0., 0.])"
            ]
          },
          "metadata": {},
          "execution_count": 3
        }
      ]
    },
    {
      "cell_type": "markdown",
      "metadata": {
        "id": "8rkYTQDlGMza"
      },
      "source": [
        "![green-divider](https://user-images.githubusercontent.com/7065401/52071924-c003ad80-2562-11e9-8297-1c6595f8a7ff.png)\n",
        "\n",
        "### Create a numpy array with values ranging from 10 to 49"
      ]
    },
    {
      "cell_type": "code",
      "metadata": {
        "colab": {
          "base_uri": "https://localhost:8080/"
        },
        "id": "6EAQFpCMGMzb",
        "outputId": "7015bd7f-9086-4cc3-91ac-a2d7c24111bd"
      },
      "source": [
        "# your code goes here\n",
        "np.arange(10,50)"
      ],
      "execution_count": null,
      "outputs": [
        {
          "output_type": "execute_result",
          "data": {
            "text/plain": [
              "array([10, 11, 12, 13, 14, 15, 16, 17, 18, 19, 20, 21, 22, 23, 24, 25, 26,\n",
              "       27, 28, 29, 30, 31, 32, 33, 34, 35, 36, 37, 38, 39, 40, 41, 42, 43,\n",
              "       44, 45, 46, 47, 48, 49])"
            ]
          },
          "metadata": {},
          "execution_count": 4
        }
      ]
    },
    {
      "cell_type": "code",
      "metadata": {
        "cell_type": "solution",
        "colab": {
          "base_uri": "https://localhost:8080/"
        },
        "id": "A2vYAsMgGMzc",
        "outputId": "c51d8316-52dc-4591-844c-47a118733a19"
      },
      "source": [
        "np.arange(10,50)"
      ],
      "execution_count": null,
      "outputs": [
        {
          "output_type": "execute_result",
          "data": {
            "text/plain": [
              "array([10, 11, 12, 13, 14, 15, 16, 17, 18, 19, 20, 21, 22, 23, 24, 25, 26,\n",
              "       27, 28, 29, 30, 31, 32, 33, 34, 35, 36, 37, 38, 39, 40, 41, 42, 43,\n",
              "       44, 45, 46, 47, 48, 49])"
            ]
          },
          "metadata": {},
          "execution_count": 5
        }
      ]
    },
    {
      "cell_type": "markdown",
      "metadata": {
        "id": "IsGarF56GMzc"
      },
      "source": [
        "![green-divider](https://user-images.githubusercontent.com/7065401/52071924-c003ad80-2562-11e9-8297-1c6595f8a7ff.png)\n",
        "\n",
        "### Create a numpy matrix of 2*2 integers, filled with ones."
      ]
    },
    {
      "cell_type": "code",
      "metadata": {
        "colab": {
          "base_uri": "https://localhost:8080/"
        },
        "id": "leoDwovrGMzd",
        "outputId": "029d2ca6-f259-46d5-bdb5-e9134793288d"
      },
      "source": [
        "# your code goes here\n",
        "np.ones([2,2], dtype=np.int)\n"
      ],
      "execution_count": null,
      "outputs": [
        {
          "output_type": "execute_result",
          "data": {
            "text/plain": [
              "array([[1, 1],\n",
              "       [1, 1]])"
            ]
          },
          "metadata": {},
          "execution_count": 6
        }
      ]
    },
    {
      "cell_type": "code",
      "metadata": {
        "cell_type": "solution",
        "colab": {
          "base_uri": "https://localhost:8080/"
        },
        "id": "Rcr0F9YVGMzd",
        "outputId": "25cc0ce5-ef36-44db-b68b-604738e6ff4b"
      },
      "source": [
        "np.ones([2,2], dtype=np.int)"
      ],
      "execution_count": null,
      "outputs": [
        {
          "output_type": "execute_result",
          "data": {
            "text/plain": [
              "array([[1, 1],\n",
              "       [1, 1]])"
            ]
          },
          "metadata": {},
          "execution_count": 7
        }
      ]
    },
    {
      "cell_type": "markdown",
      "metadata": {
        "id": "ASzTnoFZGMze"
      },
      "source": [
        "![green-divider](https://user-images.githubusercontent.com/7065401/52071924-c003ad80-2562-11e9-8297-1c6595f8a7ff.png)\n",
        "\n",
        "### Create a numpy matrix of 3*2 float numbers, filled with ones."
      ]
    },
    {
      "cell_type": "code",
      "metadata": {
        "colab": {
          "base_uri": "https://localhost:8080/"
        },
        "id": "5OQHpJoHGMze",
        "outputId": "5db4dcf8-2098-4615-c92f-fbd0d52ad3de"
      },
      "source": [
        "# your code goes here\n",
        "np.ones([3,2], dtype=np.float)\n"
      ],
      "execution_count": null,
      "outputs": [
        {
          "output_type": "execute_result",
          "data": {
            "text/plain": [
              "array([[1., 1.],\n",
              "       [1., 1.],\n",
              "       [1., 1.]])"
            ]
          },
          "metadata": {},
          "execution_count": 8
        }
      ]
    },
    {
      "cell_type": "code",
      "metadata": {
        "cell_type": "solution",
        "colab": {
          "base_uri": "https://localhost:8080/"
        },
        "id": "prp4NB-aGMzf",
        "outputId": "019375e4-15c0-4bc6-e041-343df2ec8175"
      },
      "source": [
        "np.ones([3,2], dtype=np.float)"
      ],
      "execution_count": null,
      "outputs": [
        {
          "output_type": "execute_result",
          "data": {
            "text/plain": [
              "array([[1., 1.],\n",
              "       [1., 1.],\n",
              "       [1., 1.]])"
            ]
          },
          "metadata": {},
          "execution_count": 9
        }
      ]
    },
    {
      "cell_type": "markdown",
      "metadata": {
        "id": "FPzWHB_AGMzf"
      },
      "source": [
        "![green-divider](https://user-images.githubusercontent.com/7065401/52071924-c003ad80-2562-11e9-8297-1c6595f8a7ff.png)\n",
        "\n",
        "### Given the X numpy array, create a new numpy array with the same shape and type as X, filled with ones."
      ]
    },
    {
      "cell_type": "code",
      "metadata": {
        "id": "XMAduSttGMzf"
      },
      "source": [
        "# your code goes here\n"
      ],
      "execution_count": null,
      "outputs": []
    },
    {
      "cell_type": "code",
      "metadata": {
        "cell_type": "solution",
        "colab": {
          "base_uri": "https://localhost:8080/"
        },
        "id": "WOLga6nTGMzg",
        "outputId": "45bbb922-8cad-4e47-b824-fe68e392620b"
      },
      "source": [
        "X = np.arange(4, dtype=np.int)\n",
        "\n",
        "np.ones_like(X)"
      ],
      "execution_count": null,
      "outputs": [
        {
          "output_type": "execute_result",
          "data": {
            "text/plain": [
              "array([1, 1, 1, 1])"
            ]
          },
          "metadata": {},
          "execution_count": 10
        }
      ]
    },
    {
      "cell_type": "markdown",
      "metadata": {
        "id": "4IqrVaOKGMzg"
      },
      "source": [
        "![green-divider](https://user-images.githubusercontent.com/7065401/52071924-c003ad80-2562-11e9-8297-1c6595f8a7ff.png)\n",
        "\n",
        "### Given the X numpy matrix, create a new numpy matrix with the same shape and type as X, filled with zeros."
      ]
    },
    {
      "cell_type": "code",
      "metadata": {
        "id": "S3qoT_FcGMzg"
      },
      "source": [
        "# your code goes here\n"
      ],
      "execution_count": null,
      "outputs": []
    },
    {
      "cell_type": "code",
      "metadata": {
        "cell_type": "solution",
        "colab": {
          "base_uri": "https://localhost:8080/"
        },
        "id": "M8qxe9oRGMzh",
        "outputId": "e8078b6d-6968-4681-dab1-7fa2d8e680be"
      },
      "source": [
        "X = np.array([[1,2,3], [4,5,6]], dtype=np.int)\n",
        "\n",
        "np.zeros_like(X)"
      ],
      "execution_count": null,
      "outputs": [
        {
          "output_type": "execute_result",
          "data": {
            "text/plain": [
              "array([[0, 0, 0],\n",
              "       [0, 0, 0]])"
            ]
          },
          "metadata": {},
          "execution_count": 11
        }
      ]
    },
    {
      "cell_type": "markdown",
      "metadata": {
        "id": "6dxUCPzeGMzh"
      },
      "source": [
        "![green-divider](https://user-images.githubusercontent.com/7065401/52071924-c003ad80-2562-11e9-8297-1c6595f8a7ff.png)\n",
        "\n",
        "### Create a numpy matrix of 4*4 integers, filled with fives."
      ]
    },
    {
      "cell_type": "code",
      "metadata": {
        "id": "--7UnEkNGMzh"
      },
      "source": [
        "# your code goes here\n"
      ],
      "execution_count": null,
      "outputs": []
    },
    {
      "cell_type": "code",
      "metadata": {
        "cell_type": "solution",
        "colab": {
          "base_uri": "https://localhost:8080/"
        },
        "id": "R9ElNPpNGMzh",
        "outputId": "dede98bf-8153-408a-fd4c-96f9d23465ac"
      },
      "source": [
        "np.ones([4,4], dtype=np.int) * 5"
      ],
      "execution_count": null,
      "outputs": [
        {
          "output_type": "execute_result",
          "data": {
            "text/plain": [
              "array([[5, 5, 5, 5],\n",
              "       [5, 5, 5, 5],\n",
              "       [5, 5, 5, 5],\n",
              "       [5, 5, 5, 5]])"
            ]
          },
          "metadata": {},
          "execution_count": 12
        }
      ]
    },
    {
      "cell_type": "markdown",
      "metadata": {
        "id": "2WFylAyOGMzi"
      },
      "source": [
        "![green-divider](https://user-images.githubusercontent.com/7065401/52071924-c003ad80-2562-11e9-8297-1c6595f8a7ff.png)\n",
        "\n",
        "### Given the X numpy matrix, create a new numpy matrix with the same shape and type as X, filled with sevens."
      ]
    },
    {
      "cell_type": "code",
      "metadata": {
        "id": "7142asZgGMzi"
      },
      "source": [
        "# your code goes here\n"
      ],
      "execution_count": null,
      "outputs": []
    },
    {
      "cell_type": "code",
      "metadata": {
        "cell_type": "solution",
        "colab": {
          "base_uri": "https://localhost:8080/"
        },
        "id": "30LFenlFGMzi",
        "outputId": "c367da88-a9f2-46c7-9bab-32e96388e427"
      },
      "source": [
        "X = np.array([[2,3], [6,2]], dtype=np.int)\n",
        "\n",
        "np.ones_like(X) * 7"
      ],
      "execution_count": null,
      "outputs": [
        {
          "output_type": "execute_result",
          "data": {
            "text/plain": [
              "array([[7, 7],\n",
              "       [7, 7]])"
            ]
          },
          "metadata": {},
          "execution_count": 13
        }
      ]
    },
    {
      "cell_type": "markdown",
      "metadata": {
        "id": "gFBy8lImGMzi"
      },
      "source": [
        "![green-divider](https://user-images.githubusercontent.com/7065401/52071924-c003ad80-2562-11e9-8297-1c6595f8a7ff.png)\n",
        "\n",
        "### Create a 3*3 identity numpy matrix with ones on the diagonal and zeros elsewhere."
      ]
    },
    {
      "cell_type": "code",
      "metadata": {
        "id": "nfDQ3nNAGMzi"
      },
      "source": [
        "# your code goes here"
      ],
      "execution_count": null,
      "outputs": []
    },
    {
      "cell_type": "code",
      "metadata": {
        "cell_type": "solution",
        "colab": {
          "base_uri": "https://localhost:8080/"
        },
        "id": "xh0ZC1gjGMzj",
        "outputId": "ab73730f-2031-40d4-b96a-9f0242be3888"
      },
      "source": [
        "#np.eye(3)\n",
        "np.identity(3)"
      ],
      "execution_count": null,
      "outputs": [
        {
          "output_type": "execute_result",
          "data": {
            "text/plain": [
              "array([[1., 0., 0.],\n",
              "       [0., 1., 0.],\n",
              "       [0., 0., 1.]])"
            ]
          },
          "metadata": {},
          "execution_count": 14
        }
      ]
    },
    {
      "cell_type": "markdown",
      "metadata": {
        "id": "S-lkqDZoGMzj"
      },
      "source": [
        "![green-divider](https://user-images.githubusercontent.com/7065401/52071924-c003ad80-2562-11e9-8297-1c6595f8a7ff.png)\n",
        "\n",
        "### Create a numpy array, filled with 3 random integer values between 1 and 10."
      ]
    },
    {
      "cell_type": "code",
      "metadata": {
        "colab": {
          "base_uri": "https://localhost:8080/"
        },
        "id": "9QbMuNafGMzj",
        "outputId": "49336eeb-2683-4ef4-ad45-8d64449fee51"
      },
      "source": [
        "# your code goes here\n",
        "np.random.randint(10, size=3)\n"
      ],
      "execution_count": null,
      "outputs": [
        {
          "output_type": "execute_result",
          "data": {
            "text/plain": [
              "array([7, 6, 6])"
            ]
          },
          "metadata": {},
          "execution_count": 15
        }
      ]
    },
    {
      "cell_type": "code",
      "metadata": {
        "cell_type": "solution",
        "colab": {
          "base_uri": "https://localhost:8080/"
        },
        "id": "n7feiBAkGMzj",
        "outputId": "95e29aee-3881-4b28-fd16-8e7dad8f4171"
      },
      "source": [
        "np.random.randint(10, size=3)"
      ],
      "execution_count": null,
      "outputs": [
        {
          "output_type": "execute_result",
          "data": {
            "text/plain": [
              "array([7, 3, 0])"
            ]
          },
          "metadata": {},
          "execution_count": 16
        }
      ]
    },
    {
      "cell_type": "markdown",
      "metadata": {
        "id": "scAF3T33GMzk"
      },
      "source": [
        "![green-divider](https://user-images.githubusercontent.com/7065401/52071924-c003ad80-2562-11e9-8297-1c6595f8a7ff.png)\n",
        "\n",
        "### Create a 3\\*3\\*3 numpy matrix, filled with random float values."
      ]
    },
    {
      "cell_type": "code",
      "metadata": {
        "colab": {
          "base_uri": "https://localhost:8080/"
        },
        "id": "95nIZj8SGMzk",
        "outputId": "8bcf6388-42bd-40d9-c255-ecdd48786928"
      },
      "source": [
        "# your code goes here\n",
        "np.random.random((3,3,3))\n"
      ],
      "execution_count": null,
      "outputs": [
        {
          "output_type": "execute_result",
          "data": {
            "text/plain": [
              "array([[[0.69735995, 0.83626099, 0.51865043],\n",
              "        [0.54721154, 0.80168775, 0.99442427],\n",
              "        [0.30211209, 0.19186849, 0.93201899]],\n",
              "\n",
              "       [[0.88574919, 0.65471553, 0.27077903],\n",
              "        [0.33468486, 0.07807737, 0.96045709],\n",
              "        [0.81511971, 0.19554792, 0.78597939]],\n",
              "\n",
              "       [[0.52358018, 0.03674518, 0.68555218],\n",
              "        [0.21223354, 0.18158087, 0.38604415],\n",
              "        [0.09045225, 0.61390048, 0.99888678]]])"
            ]
          },
          "metadata": {},
          "execution_count": 17
        }
      ]
    },
    {
      "cell_type": "code",
      "metadata": {
        "cell_type": "solution",
        "colab": {
          "base_uri": "https://localhost:8080/"
        },
        "id": "9ldgmr7tGMzk",
        "outputId": "72c555d5-652d-48f1-e9ac-5173a3851f10"
      },
      "source": [
        "#np.random.random((3,3,3))\n",
        "np.random.randn(3,3,3) # 0 to 1 floats"
      ],
      "execution_count": null,
      "outputs": [
        {
          "output_type": "execute_result",
          "data": {
            "text/plain": [
              "array([[[-0.29058913,  0.1433336 ,  0.49198421],\n",
              "        [ 0.19988597,  1.67289446,  0.16145492],\n",
              "        [-1.54085947, -1.95413981, -0.01570479]],\n",
              "\n",
              "       [[ 0.77849855,  0.27930006, -0.96166878],\n",
              "        [ 0.0613926 ,  0.0038595 , -1.53520642],\n",
              "        [ 1.30107042,  0.2531163 , -0.1648769 ]],\n",
              "\n",
              "       [[ 0.32125473, -0.54261996,  1.58091881],\n",
              "        [-0.59892649, -1.98103367,  0.41161012],\n",
              "        [-0.11590163, -0.02394839,  0.31953761]]])"
            ]
          },
          "metadata": {},
          "execution_count": 18
        }
      ]
    },
    {
      "cell_type": "markdown",
      "metadata": {
        "id": "MhBFhsSVGMzk"
      },
      "source": [
        "![green-divider](https://user-images.githubusercontent.com/7065401/52071924-c003ad80-2562-11e9-8297-1c6595f8a7ff.png)\n",
        "\n",
        "### Given the X python list convert it to an Y numpy array"
      ]
    },
    {
      "cell_type": "code",
      "metadata": {
        "id": "fH2jrImpGMzk"
      },
      "source": [
        "# your code goes here\n"
      ],
      "execution_count": null,
      "outputs": []
    },
    {
      "cell_type": "code",
      "metadata": {
        "cell_type": "solution",
        "colab": {
          "base_uri": "https://localhost:8080/"
        },
        "id": "1f9bRqzBGMzl",
        "outputId": "f70ca227-02b2-457c-8ffc-f1b9e71c1f45"
      },
      "source": [
        "X = [1, 2, 3]\n",
        "print(X, type(X))\n",
        "\n",
        "Y = np.array(X)\n",
        "print(Y, type(Y)) # different type"
      ],
      "execution_count": null,
      "outputs": [
        {
          "output_type": "stream",
          "name": "stdout",
          "text": [
            "[1, 2, 3] <class 'list'>\n",
            "[1 2 3] <class 'numpy.ndarray'>\n"
          ]
        }
      ]
    },
    {
      "cell_type": "markdown",
      "metadata": {
        "id": "w-OvSFrTGMzl"
      },
      "source": [
        "![green-divider](https://user-images.githubusercontent.com/7065401/52071924-c003ad80-2562-11e9-8297-1c6595f8a7ff.png)\n",
        "\n",
        "### Given the X numpy array, make a copy and store it on Y."
      ]
    },
    {
      "cell_type": "code",
      "metadata": {
        "id": "j6H6bzqWGMzl"
      },
      "source": [
        "# your code goes here\n"
      ],
      "execution_count": null,
      "outputs": []
    },
    {
      "cell_type": "code",
      "metadata": {
        "cell_type": "solution",
        "colab": {
          "base_uri": "https://localhost:8080/"
        },
        "id": "eJtsIRfdGMzl",
        "outputId": "c6e6ee4f-224c-456b-811c-8302c01140e1"
      },
      "source": [
        "X = np.array([5,2,3], dtype=np.int)\n",
        "print(X, id(X))\n",
        "\n",
        "Y = np.copy(X)\n",
        "print(Y, id(Y)) # different id"
      ],
      "execution_count": null,
      "outputs": [
        {
          "output_type": "stream",
          "name": "stdout",
          "text": [
            "[5 2 3] 139802419043984\n",
            "[5 2 3] 139802419043584\n"
          ]
        }
      ]
    },
    {
      "cell_type": "markdown",
      "metadata": {
        "id": "kn7qndPfGMzl"
      },
      "source": [
        "![green-divider](https://user-images.githubusercontent.com/7065401/52071924-c003ad80-2562-11e9-8297-1c6595f8a7ff.png)\n",
        "\n",
        "### Create a numpy array with numbers from 1 to 10"
      ]
    },
    {
      "cell_type": "code",
      "metadata": {
        "id": "uZtdlqLPGMzl"
      },
      "source": [
        "# your code goes here\n"
      ],
      "execution_count": null,
      "outputs": []
    },
    {
      "cell_type": "code",
      "metadata": {
        "cell_type": "solution",
        "colab": {
          "base_uri": "https://localhost:8080/"
        },
        "id": "TKRxtTHEGMzm",
        "outputId": "9e855849-2d50-44bb-a5e1-2611d46c449d"
      },
      "source": [
        "np.arange(1, 11)"
      ],
      "execution_count": null,
      "outputs": [
        {
          "output_type": "execute_result",
          "data": {
            "text/plain": [
              "array([ 1,  2,  3,  4,  5,  6,  7,  8,  9, 10])"
            ]
          },
          "metadata": {},
          "execution_count": 21
        }
      ]
    },
    {
      "cell_type": "markdown",
      "metadata": {
        "id": "9JTgoKpuGMzm"
      },
      "source": [
        "![green-divider](https://user-images.githubusercontent.com/7065401/52071924-c003ad80-2562-11e9-8297-1c6595f8a7ff.png)\n",
        "\n",
        "### Create a numpy array with the odd numbers between 1 to 10"
      ]
    },
    {
      "cell_type": "code",
      "metadata": {
        "id": "B-6mG0dfGMzm"
      },
      "source": [
        "# your code goes here\n"
      ],
      "execution_count": null,
      "outputs": []
    },
    {
      "cell_type": "code",
      "metadata": {
        "cell_type": "solution",
        "colab": {
          "base_uri": "https://localhost:8080/"
        },
        "id": "141i4djYGMzm",
        "outputId": "9d7b3d04-d441-4dcf-8932-5c217e3e3363"
      },
      "source": [
        "np.arange(1, 11, 2)"
      ],
      "execution_count": null,
      "outputs": [
        {
          "output_type": "execute_result",
          "data": {
            "text/plain": [
              "array([1, 3, 5, 7, 9])"
            ]
          },
          "metadata": {},
          "execution_count": 22
        }
      ]
    },
    {
      "cell_type": "markdown",
      "metadata": {
        "id": "r1JnIciLGMzm"
      },
      "source": [
        "![green-divider](https://user-images.githubusercontent.com/7065401/52071924-c003ad80-2562-11e9-8297-1c6595f8a7ff.png)\n",
        "\n",
        "### Create a numpy array with numbers from 1 to 10, in descending order."
      ]
    },
    {
      "cell_type": "code",
      "metadata": {
        "id": "eN7wzwJCGMzm"
      },
      "source": [
        "# your code goes here\n"
      ],
      "execution_count": null,
      "outputs": []
    },
    {
      "cell_type": "code",
      "metadata": {
        "cell_type": "solution",
        "colab": {
          "base_uri": "https://localhost:8080/"
        },
        "id": "1dtAlj3RGMzn",
        "outputId": "efca1e6b-d599-4808-aa3f-9ef89b9314cf"
      },
      "source": [
        "np.arange(1, 11)[::-1]"
      ],
      "execution_count": null,
      "outputs": [
        {
          "output_type": "execute_result",
          "data": {
            "text/plain": [
              "array([10,  9,  8,  7,  6,  5,  4,  3,  2,  1])"
            ]
          },
          "metadata": {},
          "execution_count": 23
        }
      ]
    },
    {
      "cell_type": "markdown",
      "metadata": {
        "id": "IOvmyQgpGMzn"
      },
      "source": [
        "![green-divider](https://user-images.githubusercontent.com/7065401/52071924-c003ad80-2562-11e9-8297-1c6595f8a7ff.png)\n",
        "\n",
        "### Create a 3*3 numpy matrix, filled with values ranging from 0 to 8"
      ]
    },
    {
      "cell_type": "code",
      "metadata": {
        "id": "IMfNK8-_GMzo"
      },
      "source": [
        "# your code goes here\n"
      ],
      "execution_count": null,
      "outputs": []
    },
    {
      "cell_type": "code",
      "metadata": {
        "cell_type": "solution",
        "colab": {
          "base_uri": "https://localhost:8080/"
        },
        "id": "4s-T9XuVGMzo",
        "outputId": "7d5ed6af-781f-4bd1-a3de-cec7504c40d3"
      },
      "source": [
        "np.arange(9).reshape(3,3)"
      ],
      "execution_count": null,
      "outputs": [
        {
          "output_type": "execute_result",
          "data": {
            "text/plain": [
              "array([[0, 1, 2],\n",
              "       [3, 4, 5],\n",
              "       [6, 7, 8]])"
            ]
          },
          "metadata": {},
          "execution_count": 24
        }
      ]
    },
    {
      "cell_type": "markdown",
      "metadata": {
        "id": "imUkq713GMzo"
      },
      "source": [
        "![green-divider](https://user-images.githubusercontent.com/7065401/52071924-c003ad80-2562-11e9-8297-1c6595f8a7ff.png)\n",
        "\n",
        "### Show the memory size of the given Z numpy matrix"
      ]
    },
    {
      "cell_type": "code",
      "metadata": {
        "id": "vaQVk0qMGMzp"
      },
      "source": [
        "# your code goes here\n"
      ],
      "execution_count": null,
      "outputs": []
    },
    {
      "cell_type": "code",
      "metadata": {
        "cell_type": "solution",
        "scrolled": true,
        "colab": {
          "base_uri": "https://localhost:8080/"
        },
        "id": "8W7CN6GBGMzp",
        "outputId": "a442ae3b-6171-466b-9e96-7534ec5c985a"
      },
      "source": [
        "Z = np.zeros((10,10))\n",
        "\n",
        "print(\"%d bytes\" % (Z.size * Z.itemsize))"
      ],
      "execution_count": null,
      "outputs": [
        {
          "output_type": "stream",
          "name": "stdout",
          "text": [
            "800 bytes\n"
          ]
        }
      ]
    },
    {
      "cell_type": "markdown",
      "metadata": {
        "id": "P2nhiqrNGMzp"
      },
      "source": [
        "![purple-divider](https://user-images.githubusercontent.com/7065401/52071927-c1cd7100-2562-11e9-908a-dde91ba14e59.png)\n",
        "\n",
        "## Array indexation\n"
      ]
    },
    {
      "cell_type": "markdown",
      "metadata": {
        "id": "0veIXwxLGMzp"
      },
      "source": [
        "### Given the X numpy array, show it's first element"
      ]
    },
    {
      "cell_type": "code",
      "metadata": {
        "id": "9PPxr22yGMzp"
      },
      "source": [
        "# your code goes here\n"
      ],
      "execution_count": null,
      "outputs": []
    },
    {
      "cell_type": "code",
      "metadata": {
        "cell_type": "solution",
        "colab": {
          "base_uri": "https://localhost:8080/",
          "height": 35
        },
        "id": "kRzyf6vfGMzp",
        "outputId": "a955d088-a00f-4bd6-c3f3-055bdd3a02bb"
      },
      "source": [
        "X = np.array(['A','B','C','D','E'])\n",
        "\n",
        "X[0]"
      ],
      "execution_count": null,
      "outputs": [
        {
          "output_type": "execute_result",
          "data": {
            "application/vnd.google.colaboratory.intrinsic+json": {
              "type": "string"
            },
            "text/plain": [
              "'A'"
            ]
          },
          "metadata": {},
          "execution_count": 26
        }
      ]
    },
    {
      "cell_type": "markdown",
      "metadata": {
        "id": "W_0MSgpWGMzq"
      },
      "source": [
        "![green-divider](https://user-images.githubusercontent.com/7065401/52071924-c003ad80-2562-11e9-8297-1c6595f8a7ff.png)\n",
        "\n",
        "### Given the X numpy array, show it's last element"
      ]
    },
    {
      "cell_type": "code",
      "metadata": {
        "id": "F2Gm6fTbGMzq"
      },
      "source": [
        "# your code goes here\n"
      ],
      "execution_count": null,
      "outputs": []
    },
    {
      "cell_type": "code",
      "metadata": {
        "cell_type": "solution",
        "colab": {
          "base_uri": "https://localhost:8080/",
          "height": 35
        },
        "id": "Q43EtTI0GMzq",
        "outputId": "6c1541cb-1f31-449f-e63a-6192e8c57b16"
      },
      "source": [
        "X = np.array(['A','B','C','D','E'])\n",
        "\n",
        "#X[len(X)-1]\n",
        "X[-1]"
      ],
      "execution_count": null,
      "outputs": [
        {
          "output_type": "execute_result",
          "data": {
            "application/vnd.google.colaboratory.intrinsic+json": {
              "type": "string"
            },
            "text/plain": [
              "'E'"
            ]
          },
          "metadata": {},
          "execution_count": 27
        }
      ]
    },
    {
      "cell_type": "markdown",
      "metadata": {
        "id": "JahdgXp5GMzq"
      },
      "source": [
        "![green-divider](https://user-images.githubusercontent.com/7065401/52071924-c003ad80-2562-11e9-8297-1c6595f8a7ff.png)\n",
        "\n",
        "### Given the X numpy array, show it's first three elements"
      ]
    },
    {
      "cell_type": "code",
      "metadata": {
        "id": "pNdeNoUKGMzq"
      },
      "source": [
        "# your code goes here\n"
      ],
      "execution_count": null,
      "outputs": []
    },
    {
      "cell_type": "code",
      "metadata": {
        "cell_type": "solution",
        "colab": {
          "base_uri": "https://localhost:8080/"
        },
        "id": "ehPaLHpcGMzq",
        "outputId": "83f30850-c278-49a9-9207-a1acef4794e1"
      },
      "source": [
        "X = np.array(['A','B','C','D','E'])\n",
        "\n",
        "X[0:3] # remember! elements start at zero index"
      ],
      "execution_count": null,
      "outputs": [
        {
          "output_type": "execute_result",
          "data": {
            "text/plain": [
              "array(['A', 'B', 'C'], dtype='<U1')"
            ]
          },
          "metadata": {},
          "execution_count": 28
        }
      ]
    },
    {
      "cell_type": "markdown",
      "metadata": {
        "id": "DnUyyaWgGMzq"
      },
      "source": [
        "![green-divider](https://user-images.githubusercontent.com/7065401/52071924-c003ad80-2562-11e9-8297-1c6595f8a7ff.png)\n",
        "\n",
        "### Given the X numpy array, show all middle elements"
      ]
    },
    {
      "cell_type": "code",
      "metadata": {
        "id": "zZII7dWNGMzq"
      },
      "source": [
        "# your code goes here\n"
      ],
      "execution_count": null,
      "outputs": []
    },
    {
      "cell_type": "code",
      "metadata": {
        "cell_type": "solution",
        "colab": {
          "base_uri": "https://localhost:8080/"
        },
        "id": "rGHW_1mqGMzr",
        "outputId": "c542b96f-0bbb-44bb-c679-827857e37a97"
      },
      "source": [
        "X = np.array(['A','B','C','D','E'])\n",
        "\n",
        "X[1:-1]"
      ],
      "execution_count": null,
      "outputs": [
        {
          "output_type": "execute_result",
          "data": {
            "text/plain": [
              "array(['B', 'C', 'D'], dtype='<U1')"
            ]
          },
          "metadata": {},
          "execution_count": 29
        }
      ]
    },
    {
      "cell_type": "markdown",
      "metadata": {
        "id": "sC5SWJjxGMzr"
      },
      "source": [
        "![green-divider](https://user-images.githubusercontent.com/7065401/52071924-c003ad80-2562-11e9-8297-1c6595f8a7ff.png)\n",
        "\n",
        "### Given the X numpy array, show the elements in reverse position"
      ]
    },
    {
      "cell_type": "code",
      "metadata": {
        "id": "I1g2patrGMzr"
      },
      "source": [
        "# your code goes here\n"
      ],
      "execution_count": null,
      "outputs": []
    },
    {
      "cell_type": "code",
      "metadata": {
        "cell_type": "solution",
        "colab": {
          "base_uri": "https://localhost:8080/"
        },
        "id": "ib5coJ7qGMzr",
        "outputId": "6b3c14fb-cb7a-402d-9099-cf3e6b60ec57"
      },
      "source": [
        "X = np.array(['A','B','C','D','E'])\n",
        "\n",
        "X[::-1]"
      ],
      "execution_count": null,
      "outputs": [
        {
          "output_type": "execute_result",
          "data": {
            "text/plain": [
              "array(['E', 'D', 'C', 'B', 'A'], dtype='<U1')"
            ]
          },
          "metadata": {},
          "execution_count": 30
        }
      ]
    },
    {
      "cell_type": "markdown",
      "metadata": {
        "id": "wh-aDIq5GMzr"
      },
      "source": [
        "![green-divider](https://user-images.githubusercontent.com/7065401/52071924-c003ad80-2562-11e9-8297-1c6595f8a7ff.png)\n",
        "\n",
        "### Given the X numpy array, show the elements in an odd position"
      ]
    },
    {
      "cell_type": "code",
      "metadata": {
        "id": "7GSwQiCjGMzr"
      },
      "source": [
        "# your code goes here\n"
      ],
      "execution_count": null,
      "outputs": []
    },
    {
      "cell_type": "code",
      "metadata": {
        "cell_type": "solution",
        "colab": {
          "base_uri": "https://localhost:8080/"
        },
        "id": "HemiFr4GGMzr",
        "outputId": "60dc0b47-57f5-47bf-bcd6-b29d62681750"
      },
      "source": [
        "X = np.array(['A','B','C','D','E'])\n",
        "\n",
        "#X[[0, 2, -1]]\n",
        "X[::2]"
      ],
      "execution_count": null,
      "outputs": [
        {
          "output_type": "execute_result",
          "data": {
            "text/plain": [
              "array(['A', 'C', 'E'], dtype='<U1')"
            ]
          },
          "metadata": {},
          "execution_count": 31
        }
      ]
    },
    {
      "cell_type": "markdown",
      "metadata": {
        "id": "IDg6KVDRGMzs"
      },
      "source": [
        "![green-divider](https://user-images.githubusercontent.com/7065401/52071924-c003ad80-2562-11e9-8297-1c6595f8a7ff.png)\n",
        "\n",
        "### Given the X numpy matrix, show the first row elements"
      ]
    },
    {
      "cell_type": "code",
      "metadata": {
        "id": "8CMhAtvMGMzs"
      },
      "source": [
        "# your code goes here\n"
      ],
      "execution_count": null,
      "outputs": []
    },
    {
      "cell_type": "code",
      "metadata": {
        "cell_type": "solution",
        "colab": {
          "base_uri": "https://localhost:8080/"
        },
        "id": "A29FjOOHGMzs",
        "outputId": "8abe00a6-b1f0-4971-819d-20dbb61b2d5e"
      },
      "source": [
        "X = np.array([\n",
        "    [1,   2,  3,  4],\n",
        "    [5,   6,  7,  8],\n",
        "    [9,  10, 11, 12],\n",
        "    [13, 14, 15, 16]\n",
        "])\n",
        "\n",
        "X[0]"
      ],
      "execution_count": null,
      "outputs": [
        {
          "output_type": "execute_result",
          "data": {
            "text/plain": [
              "array([1, 2, 3, 4])"
            ]
          },
          "metadata": {},
          "execution_count": 32
        }
      ]
    },
    {
      "cell_type": "markdown",
      "metadata": {
        "id": "QwW6IcciGMzs"
      },
      "source": [
        "![green-divider](https://user-images.githubusercontent.com/7065401/52071924-c003ad80-2562-11e9-8297-1c6595f8a7ff.png)\n",
        "\n",
        "### Given the X numpy matrix, show the last row elements"
      ]
    },
    {
      "cell_type": "code",
      "metadata": {
        "id": "mPO9VrCVGMzs"
      },
      "source": [
        "# your code goes here\n"
      ],
      "execution_count": null,
      "outputs": []
    },
    {
      "cell_type": "code",
      "metadata": {
        "cell_type": "solution",
        "colab": {
          "base_uri": "https://localhost:8080/"
        },
        "id": "kx8IB_FVGMzs",
        "outputId": "86f47a86-11e9-455c-d97c-f46ac58b8aa3"
      },
      "source": [
        "X = np.array([\n",
        "    [1,   2,  3,  4],\n",
        "    [5,   6,  7,  8],\n",
        "    [9,  10, 11, 12],\n",
        "    [13, 14, 15, 16]\n",
        "])\n",
        "\n",
        "X[-1]"
      ],
      "execution_count": null,
      "outputs": [
        {
          "output_type": "execute_result",
          "data": {
            "text/plain": [
              "array([13, 14, 15, 16])"
            ]
          },
          "metadata": {},
          "execution_count": 33
        }
      ]
    },
    {
      "cell_type": "markdown",
      "metadata": {
        "id": "FE4GxGpCGMzs"
      },
      "source": [
        "![green-divider](https://user-images.githubusercontent.com/7065401/52071924-c003ad80-2562-11e9-8297-1c6595f8a7ff.png)\n",
        "\n",
        "### Given the X numpy matrix, show the first element on first row"
      ]
    },
    {
      "cell_type": "code",
      "metadata": {
        "id": "ncLLwgJ4GMzs"
      },
      "source": [
        "# your code goes here\n"
      ],
      "execution_count": null,
      "outputs": []
    },
    {
      "cell_type": "code",
      "metadata": {
        "cell_type": "solution",
        "colab": {
          "base_uri": "https://localhost:8080/"
        },
        "id": "_ZMsUTDpGMzt",
        "outputId": "977b6e3a-de9f-432b-a880-9d813cfbbb14"
      },
      "source": [
        "X = np.array([\n",
        "    [1,   2,  3,  4],\n",
        "    [5,   6,  7,  8],\n",
        "    [9,  10, 11, 12],\n",
        "    [13, 14, 15, 16]\n",
        "])\n",
        "\n",
        "#X[0][0]\n",
        "X[0, 0]"
      ],
      "execution_count": null,
      "outputs": [
        {
          "output_type": "execute_result",
          "data": {
            "text/plain": [
              "1"
            ]
          },
          "metadata": {},
          "execution_count": 34
        }
      ]
    },
    {
      "cell_type": "markdown",
      "metadata": {
        "id": "FtEBUHRIGMzt"
      },
      "source": [
        "![green-divider](https://user-images.githubusercontent.com/7065401/52071924-c003ad80-2562-11e9-8297-1c6595f8a7ff.png)\n",
        "\n",
        "### Given the X numpy matrix, show the last element on last row"
      ]
    },
    {
      "cell_type": "code",
      "metadata": {
        "id": "7TFOlVcMGMzt"
      },
      "source": [
        "# your code goes here\n"
      ],
      "execution_count": null,
      "outputs": []
    },
    {
      "cell_type": "code",
      "metadata": {
        "cell_type": "solution",
        "colab": {
          "base_uri": "https://localhost:8080/"
        },
        "id": "3fBvGYBAGMzt",
        "outputId": "7fe8d278-4fb2-4671-aafd-5397475a7a07"
      },
      "source": [
        "X = np.array([\n",
        "    [1,   2,  3,  4],\n",
        "    [5,   6,  7,  8],\n",
        "    [9,  10, 11, 12],\n",
        "    [13, 14, 15, 16]\n",
        "])\n",
        "\n",
        "#X[-1][-1]\n",
        "X[-1, -1]"
      ],
      "execution_count": null,
      "outputs": [
        {
          "output_type": "execute_result",
          "data": {
            "text/plain": [
              "16"
            ]
          },
          "metadata": {},
          "execution_count": 35
        }
      ]
    },
    {
      "cell_type": "markdown",
      "metadata": {
        "id": "HvyuFPdQGMzt"
      },
      "source": [
        "![green-divider](https://user-images.githubusercontent.com/7065401/52071924-c003ad80-2562-11e9-8297-1c6595f8a7ff.png)\n",
        "\n",
        "### Given the X numpy matrix, show the middle row elements"
      ]
    },
    {
      "cell_type": "code",
      "metadata": {
        "id": "69Ma4-2jGMzt"
      },
      "source": [
        "# your code goes here\n"
      ],
      "execution_count": null,
      "outputs": []
    },
    {
      "cell_type": "code",
      "metadata": {
        "cell_type": "solution",
        "colab": {
          "base_uri": "https://localhost:8080/"
        },
        "id": "rCJDh1acGMzt",
        "outputId": "09ba0dca-af35-4312-f589-9daf366ad3f0"
      },
      "source": [
        "X = np.array([\n",
        "    [1,   2,  3,  4],\n",
        "    [5,   6,  7,  8],\n",
        "    [9,  10, 11, 12],\n",
        "    [13, 14, 15, 16]\n",
        "])\n",
        "\n",
        "#X[1:-1][1:-1] wrong!\n",
        "X[1:-1, 1:-1]"
      ],
      "execution_count": null,
      "outputs": [
        {
          "output_type": "execute_result",
          "data": {
            "text/plain": [
              "array([[ 6,  7],\n",
              "       [10, 11]])"
            ]
          },
          "metadata": {},
          "execution_count": 36
        }
      ]
    },
    {
      "cell_type": "markdown",
      "metadata": {
        "id": "RI-yNj6xGMzu"
      },
      "source": [
        "![green-divider](https://user-images.githubusercontent.com/7065401/52071924-c003ad80-2562-11e9-8297-1c6595f8a7ff.png)\n",
        "\n",
        "### Given the X numpy matrix, show the first two elements on the first two rows"
      ]
    },
    {
      "cell_type": "code",
      "metadata": {
        "id": "3yyPBxByGMzu"
      },
      "source": [
        "# your code goes here\n"
      ],
      "execution_count": null,
      "outputs": []
    },
    {
      "cell_type": "code",
      "metadata": {
        "cell_type": "solution",
        "id": "oCp7pDufGMzu"
      },
      "source": [
        "X = np.array([\n",
        "    [1,   2,  3,  4],\n",
        "    [5,   6,  7,  8],\n",
        "    [9,  10, 11, 12],\n",
        "    [13, 14, 15, 16]\n",
        "])\n",
        "\n",
        "#X[:2][:2] wrong!\n",
        "#X[0:2, 0:2]\n",
        "X[:2, :2]"
      ],
      "execution_count": null,
      "outputs": []
    },
    {
      "cell_type": "markdown",
      "metadata": {
        "id": "ySewDUqBGMzu"
      },
      "source": [
        "![green-divider](https://user-images.githubusercontent.com/7065401/52071924-c003ad80-2562-11e9-8297-1c6595f8a7ff.png)\n",
        "\n",
        "### Given the X numpy matrix, show the last two elements on the last two rows"
      ]
    },
    {
      "cell_type": "code",
      "metadata": {
        "id": "r0nhiTxRGMzu"
      },
      "source": [
        "# your code goes here\n"
      ],
      "execution_count": null,
      "outputs": []
    },
    {
      "cell_type": "code",
      "metadata": {
        "cell_type": "solution",
        "colab": {
          "base_uri": "https://localhost:8080/"
        },
        "id": "5tScLEGUGMzu",
        "outputId": "5a7c6c2c-cd95-4227-cdab-b40b0002185e"
      },
      "source": [
        "X = np.array([\n",
        "    [1,   2,  3,  4],\n",
        "    [5,   6,  7,  8],\n",
        "    [9,  10, 11, 12],\n",
        "    [13, 14, 15, 16]\n",
        "])\n",
        "\n",
        "X[2:, 2:]"
      ],
      "execution_count": null,
      "outputs": [
        {
          "output_type": "execute_result",
          "data": {
            "text/plain": [
              "array([[11, 12],\n",
              "       [15, 16]])"
            ]
          },
          "metadata": {},
          "execution_count": 38
        }
      ]
    },
    {
      "cell_type": "markdown",
      "metadata": {
        "id": "UPDv38prGMzu"
      },
      "source": [
        "![purple-divider](https://user-images.githubusercontent.com/7065401/52071927-c1cd7100-2562-11e9-908a-dde91ba14e59.png)\n",
        "\n",
        "## Array manipulation\n"
      ]
    },
    {
      "cell_type": "markdown",
      "metadata": {
        "id": "PfCc9XxIGMzu"
      },
      "source": [
        "### Convert the given integer numpy array to float"
      ]
    },
    {
      "cell_type": "code",
      "metadata": {
        "id": "TkZyIX9AGMzv"
      },
      "source": [
        "# your code goes here\n"
      ],
      "execution_count": null,
      "outputs": []
    },
    {
      "cell_type": "code",
      "metadata": {
        "cell_type": "solution",
        "colab": {
          "base_uri": "https://localhost:8080/"
        },
        "id": "QIuZW-inGMzv",
        "outputId": "bfede0ef-693b-4d45-d3cb-81cc906aebf6"
      },
      "source": [
        "X = [-5, -3, 0, 10, 40]\n",
        "\n",
        "np.array(X, np.float)"
      ],
      "execution_count": null,
      "outputs": [
        {
          "output_type": "execute_result",
          "data": {
            "text/plain": [
              "array([-5., -3.,  0., 10., 40.])"
            ]
          },
          "metadata": {},
          "execution_count": 39
        }
      ]
    },
    {
      "cell_type": "markdown",
      "metadata": {
        "id": "7xkMf4SDGMzv"
      },
      "source": [
        "![green-divider](https://user-images.githubusercontent.com/7065401/52071924-c003ad80-2562-11e9-8297-1c6595f8a7ff.png)\n",
        "\n",
        "### Reverse the given numpy array (first element becomes last)"
      ]
    },
    {
      "cell_type": "code",
      "metadata": {
        "id": "UmWYve1VGMzv"
      },
      "source": [
        "# your code goes here\n"
      ],
      "execution_count": null,
      "outputs": []
    },
    {
      "cell_type": "code",
      "metadata": {
        "cell_type": "solution",
        "colab": {
          "base_uri": "https://localhost:8080/"
        },
        "id": "bBbJL9OsGMzv",
        "outputId": "bdb289f2-f7e1-4bde-c705-4c5da06d5328"
      },
      "source": [
        "X = [-5, -3, 0, 10, 40]\n",
        "\n",
        "X[::-1]"
      ],
      "execution_count": null,
      "outputs": [
        {
          "output_type": "execute_result",
          "data": {
            "text/plain": [
              "[40, 10, 0, -3, -5]"
            ]
          },
          "metadata": {},
          "execution_count": 40
        }
      ]
    },
    {
      "cell_type": "markdown",
      "metadata": {
        "id": "hBPhVZsoGMzw"
      },
      "source": [
        "![green-divider](https://user-images.githubusercontent.com/7065401/52071924-c003ad80-2562-11e9-8297-1c6595f8a7ff.png)\n",
        "\n",
        "### Order (sort) the given numpy array"
      ]
    },
    {
      "cell_type": "code",
      "metadata": {
        "id": "c-ltgICiGMzw"
      },
      "source": [
        "# your code goes here\n"
      ],
      "execution_count": null,
      "outputs": []
    },
    {
      "cell_type": "code",
      "metadata": {
        "cell_type": "solution",
        "colab": {
          "base_uri": "https://localhost:8080/"
        },
        "id": "v5OgisSEGMzw",
        "outputId": "ef00741b-08cd-4a13-d95e-b78b56ac8f5a"
      },
      "source": [
        "X = [0, 10, -5, 40, -3]\n",
        "\n",
        "X.sort()\n",
        "X"
      ],
      "execution_count": null,
      "outputs": [
        {
          "output_type": "execute_result",
          "data": {
            "text/plain": [
              "[-5, -3, 0, 10, 40]"
            ]
          },
          "metadata": {},
          "execution_count": 41
        }
      ]
    },
    {
      "cell_type": "markdown",
      "metadata": {
        "id": "jY9MkUnUGMzw"
      },
      "source": [
        "![green-divider](https://user-images.githubusercontent.com/7065401/52071924-c003ad80-2562-11e9-8297-1c6595f8a7ff.png)\n",
        "\n",
        "### Given the X numpy array, set the fifth element equal to 1"
      ]
    },
    {
      "cell_type": "code",
      "metadata": {
        "id": "B-gcTumrGMzw"
      },
      "source": [
        "# your code goes here\n"
      ],
      "execution_count": null,
      "outputs": []
    },
    {
      "cell_type": "code",
      "metadata": {
        "cell_type": "solution",
        "colab": {
          "base_uri": "https://localhost:8080/"
        },
        "id": "z4e3ckcoGMzw",
        "outputId": "3849c917-f2d5-4308-b533-60cf2a0025b2"
      },
      "source": [
        "X = np.zeros(10)\n",
        "\n",
        "X[4] = 1\n",
        "X"
      ],
      "execution_count": null,
      "outputs": [
        {
          "output_type": "execute_result",
          "data": {
            "text/plain": [
              "array([0., 0., 0., 0., 1., 0., 0., 0., 0., 0.])"
            ]
          },
          "metadata": {},
          "execution_count": 42
        }
      ]
    },
    {
      "cell_type": "markdown",
      "metadata": {
        "id": "20u0KyiQGMzw"
      },
      "source": [
        "![green-divider](https://user-images.githubusercontent.com/7065401/52071924-c003ad80-2562-11e9-8297-1c6595f8a7ff.png)\n",
        "\n",
        "### Given the X numpy array, change the 50 with a 40"
      ]
    },
    {
      "cell_type": "code",
      "metadata": {
        "id": "7GwTjnUSGMzx"
      },
      "source": [
        "# your code goes here\n"
      ],
      "execution_count": null,
      "outputs": []
    },
    {
      "cell_type": "code",
      "metadata": {
        "cell_type": "solution",
        "colab": {
          "base_uri": "https://localhost:8080/"
        },
        "id": "yxQVHTy0GMzx",
        "outputId": "8c3f1a8b-e1ae-4cd9-8f6b-7aafe1459539"
      },
      "source": [
        "X = np.array([10, 20, 30, 50])\n",
        "\n",
        "X[3] = 40\n",
        "X"
      ],
      "execution_count": null,
      "outputs": [
        {
          "output_type": "execute_result",
          "data": {
            "text/plain": [
              "array([10, 20, 30, 40])"
            ]
          },
          "metadata": {},
          "execution_count": 43
        }
      ]
    },
    {
      "cell_type": "markdown",
      "metadata": {
        "id": "3-Lnyf3WGMzx"
      },
      "source": [
        "![green-divider](https://user-images.githubusercontent.com/7065401/52071924-c003ad80-2562-11e9-8297-1c6595f8a7ff.png)\n",
        "\n",
        "### Given the X numpy matrix, change the last row with all 1"
      ]
    },
    {
      "cell_type": "code",
      "metadata": {
        "id": "-GIRTLTKGMzx"
      },
      "source": [
        "# your code goes here\n"
      ],
      "execution_count": null,
      "outputs": []
    },
    {
      "cell_type": "code",
      "metadata": {
        "cell_type": "solution",
        "colab": {
          "base_uri": "https://localhost:8080/"
        },
        "id": "2EiNofPlGMzx",
        "outputId": "e809280a-bbd4-4ed1-9fbc-e9f5f8543b11"
      },
      "source": [
        "X = np.array([\n",
        "    [1,   2,  3,  4],\n",
        "    [5,   6,  7,  8],\n",
        "    [9,  10, 11, 12],\n",
        "    [13, 14, 15, 16]\n",
        "])\n",
        "\n",
        "X[-1] = np.array([1, 1, 1, 1])\n",
        "X"
      ],
      "execution_count": null,
      "outputs": [
        {
          "output_type": "execute_result",
          "data": {
            "text/plain": [
              "array([[ 1,  2,  3,  4],\n",
              "       [ 5,  6,  7,  8],\n",
              "       [ 9, 10, 11, 12],\n",
              "       [ 1,  1,  1,  1]])"
            ]
          },
          "metadata": {},
          "execution_count": 44
        }
      ]
    },
    {
      "cell_type": "markdown",
      "metadata": {
        "id": "5mSeXh7iGMzx"
      },
      "source": [
        "![green-divider](https://user-images.githubusercontent.com/7065401/52071924-c003ad80-2562-11e9-8297-1c6595f8a7ff.png)\n",
        "\n",
        "### Given the X numpy matrix, change the last item on the last row with a 0"
      ]
    },
    {
      "cell_type": "code",
      "metadata": {
        "id": "wZMSTSadGMzx"
      },
      "source": [
        "# your code goes here\n"
      ],
      "execution_count": null,
      "outputs": []
    },
    {
      "cell_type": "code",
      "metadata": {
        "cell_type": "solution",
        "colab": {
          "base_uri": "https://localhost:8080/"
        },
        "id": "RSg8IA2IGMzy",
        "outputId": "51e41bca-6b01-48ed-b58f-dceafd89b25d"
      },
      "source": [
        "X = np.array([\n",
        "    [1,   2,  3,  4],\n",
        "    [5,   6,  7,  8],\n",
        "    [9,  10, 11, 12],\n",
        "    [13, 14, 15, 16]\n",
        "])\n",
        "\n",
        "X[-1, -1] = 0\n",
        "X"
      ],
      "execution_count": null,
      "outputs": [
        {
          "output_type": "execute_result",
          "data": {
            "text/plain": [
              "array([[ 1,  2,  3,  4],\n",
              "       [ 5,  6,  7,  8],\n",
              "       [ 9, 10, 11, 12],\n",
              "       [13, 14, 15,  0]])"
            ]
          },
          "metadata": {},
          "execution_count": 45
        }
      ]
    },
    {
      "cell_type": "markdown",
      "metadata": {
        "id": "Os2tVEFcGMzy"
      },
      "source": [
        "![green-divider](https://user-images.githubusercontent.com/7065401/52071924-c003ad80-2562-11e9-8297-1c6595f8a7ff.png)\n",
        "\n",
        "### Given the X numpy matrix, add 5 to every element"
      ]
    },
    {
      "cell_type": "code",
      "metadata": {
        "id": "6HF1PTMaGMzy"
      },
      "source": [
        "# your code goes here\n"
      ],
      "execution_count": null,
      "outputs": []
    },
    {
      "cell_type": "code",
      "metadata": {
        "cell_type": "solution",
        "colab": {
          "base_uri": "https://localhost:8080/"
        },
        "id": "D555XQeNGMzy",
        "outputId": "bdac3e9a-ab62-4ffe-87a7-406aad3c10a7"
      },
      "source": [
        "X = np.array([\n",
        "    [1,   2,  3,  4],\n",
        "    [5,   6,  7,  8],\n",
        "    [9,  10, 11, 12],\n",
        "    [13, 14, 15, 16]\n",
        "])\n",
        "\n",
        "X + 5"
      ],
      "execution_count": null,
      "outputs": [
        {
          "output_type": "execute_result",
          "data": {
            "text/plain": [
              "array([[ 6,  7,  8,  9],\n",
              "       [10, 11, 12, 13],\n",
              "       [14, 15, 16, 17],\n",
              "       [18, 19, 20, 21]])"
            ]
          },
          "metadata": {},
          "execution_count": 46
        }
      ]
    },
    {
      "cell_type": "markdown",
      "metadata": {
        "id": "AJ0lLGPXGMzy"
      },
      "source": [
        "![purple-divider](https://user-images.githubusercontent.com/7065401/52071927-c1cd7100-2562-11e9-908a-dde91ba14e59.png)\n",
        "\n",
        "## Boolean arrays _(also called masks)_\n"
      ]
    },
    {
      "cell_type": "markdown",
      "metadata": {
        "id": "P1-68vnDGMzy"
      },
      "source": [
        "### Given the X numpy array, make a mask showing negative elements"
      ]
    },
    {
      "cell_type": "code",
      "metadata": {
        "id": "reYPtMhHGMzz"
      },
      "source": [
        "# your code goes here\n"
      ],
      "execution_count": null,
      "outputs": []
    },
    {
      "cell_type": "code",
      "metadata": {
        "cell_type": "solution",
        "id": "X11NcCR5GMzz"
      },
      "source": [
        "X = np.array([-1,2,0,-4,5,6,0,0,-9,10])\n",
        "\n",
        "mask = X <= 0\n",
        "mask"
      ],
      "execution_count": null,
      "outputs": []
    },
    {
      "cell_type": "markdown",
      "metadata": {
        "id": "nEk9XN7lGMzz"
      },
      "source": [
        "![green-divider](https://user-images.githubusercontent.com/7065401/52071924-c003ad80-2562-11e9-8297-1c6595f8a7ff.png)\n",
        "\n",
        "### Given the X numpy array, get the negative elements"
      ]
    },
    {
      "cell_type": "code",
      "metadata": {
        "id": "v01SBGJ_GMzz"
      },
      "source": [
        "# your code goes here\n"
      ],
      "execution_count": null,
      "outputs": []
    },
    {
      "cell_type": "code",
      "metadata": {
        "cell_type": "solution",
        "colab": {
          "base_uri": "https://localhost:8080/"
        },
        "id": "-lqqZaC4GMzz",
        "outputId": "df4f4e1b-b82f-4674-bd74-612be659772c"
      },
      "source": [
        "X = np.array([-1, 2, 0, -4, 5, 6, 0, 0, -9, 10])\n",
        "\n",
        "mask = X <= 0\n",
        "X[mask]"
      ],
      "execution_count": null,
      "outputs": [
        {
          "output_type": "execute_result",
          "data": {
            "text/plain": [
              "array([-1,  0, -4,  0,  0, -9])"
            ]
          },
          "metadata": {},
          "execution_count": 48
        }
      ]
    },
    {
      "cell_type": "markdown",
      "metadata": {
        "id": "1RFja12QGMzz"
      },
      "source": [
        "![green-divider](https://user-images.githubusercontent.com/7065401/52071924-c003ad80-2562-11e9-8297-1c6595f8a7ff.png)\n",
        "\n",
        "### Given the X numpy array, get numbers higher than 5"
      ]
    },
    {
      "cell_type": "code",
      "metadata": {
        "id": "Tq0MEmTpGMzz"
      },
      "source": [
        "# your code goes here\n"
      ],
      "execution_count": null,
      "outputs": []
    },
    {
      "cell_type": "code",
      "metadata": {
        "cell_type": "solution",
        "colab": {
          "base_uri": "https://localhost:8080/"
        },
        "id": "XxUSc1ImGMzz",
        "outputId": "8d2544f1-9e40-4fa2-983e-d416beb8c7f2"
      },
      "source": [
        "X = np.array([-1, 2, 0, -4, 5, 6, 0, 0, -9, 10])\n",
        "\n",
        "mask = X > 5\n",
        "X[mask]"
      ],
      "execution_count": null,
      "outputs": [
        {
          "output_type": "execute_result",
          "data": {
            "text/plain": [
              "array([ 6, 10])"
            ]
          },
          "metadata": {},
          "execution_count": 49
        }
      ]
    },
    {
      "cell_type": "markdown",
      "metadata": {
        "id": "dRYYZmYUGMz0"
      },
      "source": [
        "![green-divider](https://user-images.githubusercontent.com/7065401/52071924-c003ad80-2562-11e9-8297-1c6595f8a7ff.png)\n",
        "\n",
        "### Given the X numpy array, get numbers higher than the elements mean"
      ]
    },
    {
      "cell_type": "code",
      "metadata": {
        "id": "fQzhmCF0GMz0"
      },
      "source": [
        "# your code goes here\n"
      ],
      "execution_count": null,
      "outputs": []
    },
    {
      "cell_type": "code",
      "metadata": {
        "cell_type": "solution",
        "colab": {
          "base_uri": "https://localhost:8080/"
        },
        "id": "9Dd0A-c5GMz0",
        "outputId": "efa59cbb-7d67-499f-b0f5-95696d67bee2"
      },
      "source": [
        "X = np.array([-1, 2, 0, -4, 5, 6, 0, 0, -9, 10])\n",
        "\n",
        "mask = X > X.mean()\n",
        "X[mask]"
      ],
      "execution_count": null,
      "outputs": [
        {
          "output_type": "execute_result",
          "data": {
            "text/plain": [
              "array([ 2,  5,  6, 10])"
            ]
          },
          "metadata": {},
          "execution_count": 50
        }
      ]
    },
    {
      "cell_type": "markdown",
      "metadata": {
        "id": "2Tb7TR2uGMz0"
      },
      "source": [
        "![green-divider](https://user-images.githubusercontent.com/7065401/52071924-c003ad80-2562-11e9-8297-1c6595f8a7ff.png)\n",
        "\n",
        "### Given the X numpy array, get numbers equal to 2 or 10"
      ]
    },
    {
      "cell_type": "code",
      "metadata": {
        "id": "Z9HJjkEAGMz0"
      },
      "source": [
        "# your code goes here\n"
      ],
      "execution_count": null,
      "outputs": []
    },
    {
      "cell_type": "code",
      "metadata": {
        "cell_type": "solution",
        "scrolled": true,
        "colab": {
          "base_uri": "https://localhost:8080/"
        },
        "id": "Yi5w2u-DGMz0",
        "outputId": "6c2a9ddb-29ae-4709-d1c9-1d65c48d8067"
      },
      "source": [
        "X = np.array([-1, 2, 0, -4, 5, 6, 0, 0, -9, 10])\n",
        "\n",
        "mask = (X == 2) | (X == 10)\n",
        "X[mask]"
      ],
      "execution_count": null,
      "outputs": [
        {
          "output_type": "execute_result",
          "data": {
            "text/plain": [
              "array([ 2, 10])"
            ]
          },
          "metadata": {},
          "execution_count": 51
        }
      ]
    },
    {
      "cell_type": "markdown",
      "metadata": {
        "id": "udMBvFa-GMz0"
      },
      "source": [
        "![purple-divider](https://user-images.githubusercontent.com/7065401/52071927-c1cd7100-2562-11e9-908a-dde91ba14e59.png)\n",
        "\n",
        "## Logic functions\n"
      ]
    },
    {
      "cell_type": "markdown",
      "metadata": {
        "id": "ZNHFFK2WGMz1"
      },
      "source": [
        "### Given the X numpy array, return True if none of its elements is zero"
      ]
    },
    {
      "cell_type": "code",
      "metadata": {
        "id": "RQdwwL2BGMz1"
      },
      "source": [
        "# your code goes here\n"
      ],
      "execution_count": null,
      "outputs": []
    },
    {
      "cell_type": "code",
      "metadata": {
        "cell_type": "solution",
        "colab": {
          "base_uri": "https://localhost:8080/"
        },
        "id": "IpFU3IXsGMz1",
        "outputId": "a554b621-ad68-485a-a0db-c394ba053f23"
      },
      "source": [
        "X = np.array([-1, 2, 0, -4, 5, 6, 0, 0, -9, 10])\n",
        "\n",
        "X.all()"
      ],
      "execution_count": null,
      "outputs": [
        {
          "output_type": "execute_result",
          "data": {
            "text/plain": [
              "False"
            ]
          },
          "metadata": {},
          "execution_count": 52
        }
      ]
    },
    {
      "cell_type": "markdown",
      "metadata": {
        "id": "9mQAvE4kGMz1"
      },
      "source": [
        "![green-divider](https://user-images.githubusercontent.com/7065401/52071924-c003ad80-2562-11e9-8297-1c6595f8a7ff.png)\n",
        "\n",
        "### Given the X numpy array, return True if any of its elements is zero"
      ]
    },
    {
      "cell_type": "code",
      "metadata": {
        "id": "s3bsyChmGMz1"
      },
      "source": [
        "# your code goes here\n"
      ],
      "execution_count": null,
      "outputs": []
    },
    {
      "cell_type": "code",
      "metadata": {
        "cell_type": "solution",
        "colab": {
          "base_uri": "https://localhost:8080/"
        },
        "id": "Gg-oNPSKGMz1",
        "outputId": "d9edf6f9-3e6b-457f-a1ee-85e0f47d5bc4"
      },
      "source": [
        "X = np.array([-1, 2, 0, -4, 5, 6, 0, 0, -9, 10])\n",
        "\n",
        "X.any()"
      ],
      "execution_count": null,
      "outputs": [
        {
          "output_type": "execute_result",
          "data": {
            "text/plain": [
              "True"
            ]
          },
          "metadata": {},
          "execution_count": 53
        }
      ]
    },
    {
      "cell_type": "markdown",
      "metadata": {
        "id": "puuNV_nxGMz2"
      },
      "source": [
        "![purple-divider](https://user-images.githubusercontent.com/7065401/52071927-c1cd7100-2562-11e9-908a-dde91ba14e59.png)\n",
        "\n",
        "## Summary statistics"
      ]
    },
    {
      "cell_type": "markdown",
      "metadata": {
        "id": "Ab0qh3-CGMz2"
      },
      "source": [
        "### Given the X numpy array, show the sum of its elements"
      ]
    },
    {
      "cell_type": "code",
      "metadata": {
        "id": "gLPVp6TNGMz2"
      },
      "source": [
        "# your code goes here\n"
      ],
      "execution_count": null,
      "outputs": []
    },
    {
      "cell_type": "code",
      "metadata": {
        "cell_type": "solution",
        "colab": {
          "base_uri": "https://localhost:8080/"
        },
        "id": "q8r1UglxGMz2",
        "outputId": "bcc622e7-743f-49cb-cd7e-0aa2ee4689d7"
      },
      "source": [
        "X = np.array([3, 5, 6, 7, 2, 3, 4, 9, 4])\n",
        "\n",
        "#np.sum(X)\n",
        "X.sum()"
      ],
      "execution_count": null,
      "outputs": [
        {
          "output_type": "execute_result",
          "data": {
            "text/plain": [
              "43"
            ]
          },
          "metadata": {},
          "execution_count": 54
        }
      ]
    },
    {
      "cell_type": "markdown",
      "metadata": {
        "id": "7fyFaKyXGMz2"
      },
      "source": [
        "![green-divider](https://user-images.githubusercontent.com/7065401/52071924-c003ad80-2562-11e9-8297-1c6595f8a7ff.png)\n",
        "\n",
        "### Given the X numpy array, show the mean value of its elements"
      ]
    },
    {
      "cell_type": "code",
      "metadata": {
        "id": "DoWBYNS3GMz2"
      },
      "source": [
        "# your code goes here\n"
      ],
      "execution_count": null,
      "outputs": []
    },
    {
      "cell_type": "code",
      "metadata": {
        "cell_type": "solution",
        "colab": {
          "base_uri": "https://localhost:8080/"
        },
        "id": "fat_ZAcTGMz2",
        "outputId": "e5e866d3-f901-4432-b2ca-133d19569400"
      },
      "source": [
        "X = np.array([1, 2, 0, 4, 5, 6, 0, 0, 9, 10])\n",
        "\n",
        "#np.mean(X)\n",
        "X.mean()"
      ],
      "execution_count": null,
      "outputs": [
        {
          "output_type": "execute_result",
          "data": {
            "text/plain": [
              "3.7"
            ]
          },
          "metadata": {},
          "execution_count": 55
        }
      ]
    },
    {
      "cell_type": "markdown",
      "metadata": {
        "id": "G4cWLn_YGMz2"
      },
      "source": [
        "![green-divider](https://user-images.githubusercontent.com/7065401/52071924-c003ad80-2562-11e9-8297-1c6595f8a7ff.png)\n",
        "\n",
        "### Given the X numpy matrix, show the sum of its columns"
      ]
    },
    {
      "cell_type": "code",
      "metadata": {
        "id": "UItfbzoJGMz3"
      },
      "source": [
        "# your code goes here\n"
      ],
      "execution_count": null,
      "outputs": []
    },
    {
      "cell_type": "code",
      "metadata": {
        "cell_type": "solution",
        "colab": {
          "base_uri": "https://localhost:8080/"
        },
        "id": "xxfUSRx_GMz3",
        "outputId": "dbe6bda7-703d-4a53-9326-b9c461940619"
      },
      "source": [
        "X = np.array([\n",
        "    [1,   2,  3,  4],\n",
        "    [5,   6,  7,  8],\n",
        "    [9,  10, 11, 12],\n",
        "    [13, 14, 15, 16]\n",
        "])\n",
        "\n",
        "X.sum(axis=0) # remember: axis=0 columns; axis=1 rows"
      ],
      "execution_count": null,
      "outputs": [
        {
          "output_type": "execute_result",
          "data": {
            "text/plain": [
              "array([28, 32, 36, 40])"
            ]
          },
          "metadata": {},
          "execution_count": 56
        }
      ]
    },
    {
      "cell_type": "markdown",
      "metadata": {
        "id": "Vqh6cnOEGMz3"
      },
      "source": [
        "![green-divider](https://user-images.githubusercontent.com/7065401/52071924-c003ad80-2562-11e9-8297-1c6595f8a7ff.png)\n",
        "\n",
        "### Given the X numpy matrix, show the mean value of its rows"
      ]
    },
    {
      "cell_type": "code",
      "metadata": {
        "id": "KQlwYX0RGMz3"
      },
      "source": [
        "# your code goes here\n"
      ],
      "execution_count": null,
      "outputs": []
    },
    {
      "cell_type": "code",
      "metadata": {
        "cell_type": "solution",
        "colab": {
          "base_uri": "https://localhost:8080/"
        },
        "id": "7Qf9uz5RGMz4",
        "outputId": "c28347e9-a8d5-4ff4-e7e9-9370df589230"
      },
      "source": [
        "X = np.array([\n",
        "    [1,   2,  3,  4],\n",
        "    [5,   6,  7,  8],\n",
        "    [9,  10, 11, 12],\n",
        "    [13, 14, 15, 16]\n",
        "])\n",
        "\n",
        "X.mean(axis=1) # remember: axis=0 columns; axis=1 rows"
      ],
      "execution_count": null,
      "outputs": [
        {
          "output_type": "execute_result",
          "data": {
            "text/plain": [
              "array([ 2.5,  6.5, 10.5, 14.5])"
            ]
          },
          "metadata": {},
          "execution_count": 57
        }
      ]
    },
    {
      "cell_type": "markdown",
      "metadata": {
        "id": "ERfv-z1tGMz6"
      },
      "source": [
        "![green-divider](https://user-images.githubusercontent.com/7065401/52071924-c003ad80-2562-11e9-8297-1c6595f8a7ff.png)\n",
        "\n",
        "### Given the X numpy array, show the max value of its elements"
      ]
    },
    {
      "cell_type": "code",
      "metadata": {
        "id": "qfOxT3PeGMz6"
      },
      "source": [
        "# your code goes here\n"
      ],
      "execution_count": null,
      "outputs": []
    },
    {
      "cell_type": "code",
      "metadata": {
        "cell_type": "solution",
        "colab": {
          "base_uri": "https://localhost:8080/"
        },
        "id": "_fGt5vdBGMz7",
        "outputId": "e058c17a-16f5-4351-884c-ba5d0aa117b7"
      },
      "source": [
        "X = np.array([1, 2, 0, 4, 5, 6, 0, 0, 9, 10])\n",
        "\n",
        "#np.max(X)\n",
        "X.max()"
      ],
      "execution_count": null,
      "outputs": [
        {
          "output_type": "execute_result",
          "data": {
            "text/plain": [
              "10"
            ]
          },
          "metadata": {},
          "execution_count": 58
        }
      ]
    },
    {
      "cell_type": "markdown",
      "metadata": {
        "id": "LfGIKnieGMz7"
      },
      "source": [
        "![purple-divider](https://user-images.githubusercontent.com/7065401/52071927-c1cd7100-2562-11e9-908a-dde91ba14e59.png)"
      ]
    }
  ]
}