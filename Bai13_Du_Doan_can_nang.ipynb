{
  "nbformat": 4,
  "nbformat_minor": 0,
  "metadata": {
    "colab": {
      "provenance": []
    },
    "kernelspec": {
      "name": "python3",
      "display_name": "Python 3"
    },
    "language_info": {
      "name": "python"
    }
  },
  "cells": [
    {
      "cell_type": "code",
      "metadata": {
        "id": "_Uk75kd58SmY"
      },
      "source": [
        "import numpy as np\n",
        "import matplotlib.pyplot as plt"
      ],
      "execution_count": null,
      "outputs": []
    },
    {
      "cell_type": "code",
      "metadata": {
        "id": "EivEbQLy9VBJ"
      },
      "source": [
        "# height (cm)\n",
        "X = np.array([[147],\n",
        "[150],\n",
        "[153],\n",
        "[158],\n",
        "[163],\n",
        "[165],\n",
        "[168], [170], [173], [175], [178], [180], [183]])\n",
        "# weight (kg)\n",
        "y = np.array([49, 50, 51, 54, 58, 59, 60, 62, 63, 64, 66, 67, 68])\n"
      ],
      "execution_count": null,
      "outputs": []
    },
    {
      "cell_type": "code",
      "metadata": {
        "colab": {
          "base_uri": "https://localhost:8080/",
          "height": 300
        },
        "id": "Ldx0h_Xi9cR0",
        "outputId": "c546ce5c-7be8-468e-8796-31c9daf33fe1"
      },
      "source": [
        "# Hiển thị dữ liệu\n",
        "plt.plot(X, y, 'ro')\n",
        "plt.axis([140, 190, 45, 75])\n",
        "plt.xlabel('Height (cm)')\n",
        "plt.ylabel('Weight (kg)')\n",
        "#plt.show()"
      ],
      "execution_count": null,
      "outputs": [
        {
          "output_type": "execute_result",
          "data": {
            "text/plain": [
              "Text(0, 0.5, 'Weight (kg)')"
            ]
          },
          "metadata": {
            "tags": []
          },
          "execution_count": 3
        },
        {
          "output_type": "display_data",
          "data": {
            "image/png": "[encoded data removed]",
            "text/plain": [
              "<Figure size 432x288 with 1 Axes>"
            ]
          },
          "metadata": {
            "tags": [],
            "needs_background": "light"
          }
        }
      ]
    },
    {
      "cell_type": "code",
      "metadata": {
        "colab": {
          "base_uri": "https://localhost:8080/"
        },
        "id": "uRreSRyr9hTF",
        "outputId": "13644f8f-80db-4b9b-8f00-6bf77f990035"
      },
      "source": [
        "#2. Mô hình học máy + hệ số\n",
        "from sklearn import linear_model\n",
        "regr = linear_model.LinearRegression().fit(X, y)\n",
        "w0 = regr.intercept_\n",
        "w1 = regr.coef_\n",
        "print ('w0 = ', w1)\n",
        "print( 'w1 : ', w0)\n"
      ],
      "execution_count": null,
      "outputs": [
        {
          "output_type": "stream",
          "text": [
            "w0 =  [0.55920496]\n",
            "w1 :  -33.73541020580774\n"
          ],
          "name": "stdout"
        }
      ]
    },
    {
      "cell_type": "code",
      "metadata": {
        "colab": {
          "base_uri": "https://localhost:8080/",
          "height": 282
        },
        "id": "oNMXwF-y99uG",
        "outputId": "c34b9023-2962-4a4b-b129-255ee219890d"
      },
      "source": [
        "#tương tự đường thằng y = ax + b\n",
        "# a = w1, b = w0\n",
        "\n",
        "#Vẽ đường thẳng với các hệ số huấn luyện được\n",
        "x0 = np.linspace(145, 185, 2)\n",
        "y0 = w0 + w1*x0\n",
        "print (y0)\n",
        "plt.plot(x0, y0)\n",
        "plt.show()\n"
      ],
      "execution_count": null,
      "outputs": [
        {
          "output_type": "stream",
          "text": [
            "[47.34930928 69.71750775]\n"
          ],
          "name": "stdout"
        },
        {
          "output_type": "display_data",
          "data": {
            "image/png": "[encoded data removed]",
            "text/plain": [
              "<Figure size 432x288 with 1 Axes>"
            ]
          },
          "metadata": {
            "tags": [],
            "needs_background": "light"
          }
        }
      ]
    },
    {
      "cell_type": "code",
      "metadata": {
        "colab": {
          "base_uri": "https://localhost:8080/"
        },
        "id": "Ys9pjO_v-Os_",
        "outputId": "6be8470b-15e6-4d67-d99f-9eb542810d8f"
      },
      "source": [
        "#3. Dự đoán kết quả\n",
        "print ('Người chiều cao 168 cm có cân nặng là: ', regr.predict([[168]]))"
      ],
      "execution_count": null,
      "outputs": [
        {
          "output_type": "stream",
          "text": [
            "Người chiều cao 168 cm có cân nặng là:  [60.2110234]\n"
          ],
          "name": "stdout"
        }
      ]
    }
  ]
}